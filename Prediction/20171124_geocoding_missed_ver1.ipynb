{
 "cells": [
  {
   "cell_type": "markdown",
   "metadata": {},
   "source": [
    "# Geo Coding (緯度経度取得)・最寄駅情報取得を行う"
   ]
  },
  {
   "cell_type": "code",
   "execution_count": 3,
   "metadata": {
    "collapsed": true
   },
   "outputs": [],
   "source": [
    "import pandas as pd\n",
    "import numpy as np\n",
    "import urllib\n",
    "import xml.etree.ElementTree as ET\n",
    "import re\n",
    "import pandas as pd\n",
    "import time\n",
    "import pickle"
   ]
  },
  {
   "cell_type": "markdown",
   "metadata": {},
   "source": [
    "# 脱漏の補充_0~1500"
   ]
  },
  {
   "cell_type": "code",
   "execution_count": 5,
   "metadata": {
    "collapsed": false
   },
   "outputs": [],
   "source": [
    "with open('result_list_missed.pickle', mode='rb') as f:\n",
    "    addresses = pickle.load(f)"
   ]
  },
  {
   "cell_type": "code",
   "execution_count": 6,
   "metadata": {
    "collapsed": false
   },
   "outputs": [],
   "source": [
    "result_list_to_1500_missed = []"
   ]
  },
  {
   "cell_type": "code",
   "execution_count": null,
   "metadata": {
    "collapsed": true
   },
   "outputs": [],
   "source": [
    "serviceurl = 'http://maps.googleapis.com/maps/api/geocode/xml?'\n",
    "\n",
    "for address in addresses[:1500]:\n",
    "    \n",
    "    # Python3 系：urllib.parse.urlencode()\n",
    "    # Python2 系：urllib.urlencode()\n",
    "    url = serviceurl + urllib.parse.urlencode({u'sensor':u'false', u'address': address})\n",
    "    print ('Retrieving', url)\n",
    "    # Python3 系：urllib.request.urlopen()\n",
    "    uh = urllib.request.urlopen(url)\n",
    "    data = uh.read()\n",
    "    tree = ET.fromstring(data)\n",
    "\n",
    "    results = tree.findall('result')\n",
    "    \n",
    "    result_list_missed_to_1500.append(data)\n",
    "    time.sleep(5)\n",
    "    #print ('lat',lat,'lng',lng)\n",
    "    #print (location)\n",
    "\n",
    "    #data_address.longitude[i] = lng\n",
    "    #data_address.latitude[i] = lat"
   ]
  },
  {
   "cell_type": "code",
   "execution_count": 6,
   "metadata": {
    "collapsed": false
   },
   "outputs": [
    {
     "data": {
      "text/plain": [
       "1000"
      ]
     },
     "execution_count": 6,
     "metadata": {},
     "output_type": "execute_result"
    }
   ],
   "source": [
    "len(result_list_to_1500_missed)"
   ]
  },
  {
   "cell_type": "code",
   "execution_count": 7,
   "metadata": {
    "collapsed": false,
    "scrolled": true
   },
   "outputs": [],
   "source": [
    "with open('../../gci_project_storage/result_list_to_1500_missed.pickle', mode='wb') as f:\n",
    "    pickle.dump(result_list_to_1500_missed, f)"
   ]
  },
  {
   "cell_type": "code",
   "execution_count": 4,
   "metadata": {
    "collapsed": false,
    "scrolled": true
   },
   "outputs": [],
   "source": [
    "with open('../../gci_project_storage/result_list_to_1500_missed.pickle', mode='rb') as f:\n",
    "    result_list_to_1500_missed = pickle.load(f)"
   ]
  },
  {
   "cell_type": "code",
   "execution_count": 22,
   "metadata": {
    "collapsed": false
   },
   "outputs": [
    {
     "data": {
      "text/plain": [
       "0"
      ]
     },
     "execution_count": 22,
     "metadata": {},
     "output_type": "execute_result"
    }
   ],
   "source": [
    "get_loc_json = lambda data: ET.fromstring(data).findall('result')[0].find('geometry').find('location') if len(ET.fromstring(data).findall('result'))>0 else None \n",
    "get_lat = lambda data: float(get_loc_json(data).find('lat').text) if get_loc_json(data) != None else None\n",
    "get_lng = lambda data: float(get_loc_json(data).find('lng').text) if get_loc_json(data) != None else None\n",
    "\n",
    "import math\n",
    "sum(pd.Series([get_lat(data) for data in result_list_0_1000[0:1000]]).apply(math.isnan))"
   ]
  },
  {
   "cell_type": "markdown",
   "metadata": {},
   "source": [
    "# 脱漏の補充_0~1500"
   ]
  },
  {
   "cell_type": "code",
   "execution_count": 5,
   "metadata": {
    "collapsed": false
   },
   "outputs": [],
   "source": [
    "with open('result_list_missed.pickle', mode='rb') as f:\n",
    "    addresses = pickle.load(f)"
   ]
  },
  {
   "cell_type": "code",
   "execution_count": 6,
   "metadata": {
    "collapsed": false
   },
   "outputs": [],
   "source": [
    "result_list_from_1500_missed = []"
   ]
  },
  {
   "cell_type": "code",
   "execution_count": null,
   "metadata": {
    "collapsed": true
   },
   "outputs": [],
   "source": [
    "serviceurl = 'http://maps.googleapis.com/maps/api/geocode/xml?'\n",
    "\n",
    "for address in addresses[1500:]:\n",
    "    \n",
    "    # Python3 系：urllib.parse.urlencode()\n",
    "    # Python2 系：urllib.urlencode()\n",
    "    url = serviceurl + urllib.parse.urlencode({u'sensor':u'false', u'address': address})\n",
    "    print ('Retrieving', url)\n",
    "    # Python3 系：urllib.request.urlopen()\n",
    "    uh = urllib.request.urlopen(url)\n",
    "    data = uh.read()\n",
    "    tree = ET.fromstring(data)\n",
    "\n",
    "    results = tree.findall('result')\n",
    "    \n",
    "    result_list_missed_to_1500.append(data)\n",
    "    time.sleep(5)\n",
    "    #print ('lat',lat,'lng',lng)\n",
    "    #print (location)\n",
    "\n",
    "    #data_address.longitude[i] = lng\n",
    "    #data_address.latitude[i] = lat"
   ]
  },
  {
   "cell_type": "code",
   "execution_count": 6,
   "metadata": {
    "collapsed": false
   },
   "outputs": [
    {
     "data": {
      "text/plain": [
       "1000"
      ]
     },
     "execution_count": 6,
     "metadata": {},
     "output_type": "execute_result"
    }
   ],
   "source": [
    "len(result_list_from_1500_missed)"
   ]
  },
  {
   "cell_type": "code",
   "execution_count": 7,
   "metadata": {
    "collapsed": false,
    "scrolled": true
   },
   "outputs": [],
   "source": [
    "with open('../../gci_project_storage/result_list_from_1500_missed.pickle', mode='wb') as f:\n",
    "    pickle.dump(result_list_from_1500_missed, f)"
   ]
  },
  {
   "cell_type": "code",
   "execution_count": 4,
   "metadata": {
    "collapsed": false,
    "scrolled": true
   },
   "outputs": [],
   "source": [
    "with open('../../gci_project_storage/result_list_from_1500_missed.pickle', mode='rb') as f:\n",
    "    result_list_from_1500_missed = pickle.load(f)"
   ]
  },
  {
   "cell_type": "code",
   "execution_count": 22,
   "metadata": {
    "collapsed": false
   },
   "outputs": [
    {
     "data": {
      "text/plain": [
       "0"
      ]
     },
     "execution_count": 22,
     "metadata": {},
     "output_type": "execute_result"
    }
   ],
   "source": [
    "get_loc_json = lambda data: ET.fromstring(data).findall('result')[0].find('geometry').find('location') if len(ET.fromstring(data).findall('result'))>0 else None \n",
    "get_lat = lambda data: float(get_loc_json(data).find('lat').text) if get_loc_json(data) != None else None\n",
    "get_lng = lambda data: float(get_loc_json(data).find('lng').text) if get_loc_json(data) != None else None\n",
    "\n",
    "import math\n",
    "sum(pd.Series([get_lat(data) for data in result_list_from_1500_missed[0:1000]]).apply(math.isnan))"
   ]
  }
 ],
 "metadata": {
  "anaconda-cloud": {},
  "kernelspec": {
   "display_name": "Python [Root]",
   "language": "python",
   "name": "Python [Root]"
  },
  "language_info": {
   "codemirror_mode": {
    "name": "ipython",
    "version": 3
   },
   "file_extension": ".py",
   "mimetype": "text/x-python",
   "name": "python",
   "nbconvert_exporter": "python",
   "pygments_lexer": "ipython3",
   "version": "3.5.2"
  }
 },
 "nbformat": 4,
 "nbformat_minor": 1
}
