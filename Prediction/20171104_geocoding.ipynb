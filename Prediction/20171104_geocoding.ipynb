{
 "cells": [
  {
   "cell_type": "markdown",
   "metadata": {},
   "source": [
    "# Geo Coding (緯度経度取得)・最寄駅情報取得を行う"
   ]
  },
  {
   "cell_type": "code",
   "execution_count": 1,
   "metadata": {
    "collapsed": true
   },
   "outputs": [],
   "source": [
    "import pandas as pd\n",
    "import numpy as np\n",
    "import urllib\n",
    "import xml.etree.ElementTree as ET\n",
    "import re\n",
    "import pandas as pd\n",
    "import pyodbc\n",
    "from sqlalchemy import create_engine\n",
    "import time\n",
    "import pickle"
   ]
  },
  {
   "cell_type": "code",
   "execution_count": 2,
   "metadata": {
    "collapsed": true
   },
   "outputs": [],
   "source": [
    "# データベースの情報\n",
    "server = 'gciteam16.database.windows.net'\n",
    "database = 'mynavi-database'\n",
    "username = 'gciteam16'\n",
    "password = 'Password0'\n",
    "port =1433"
   ]
  },
  {
   "cell_type": "code",
   "execution_count": 3,
   "metadata": {
    "collapsed": true
   },
   "outputs": [],
   "source": [
    "# 接続エンジンの作成\n",
    "engine_config = \"?driver=ODBC+Driver+13+for+SQL+Server?charset=shift-jis\"\n",
    "db_settings = {\n",
    "    \"host\": server,\n",
    "    \"database\": database,\n",
    "    \"user\": username,\n",
    "    \"password\": password,\n",
    "    \"port\":port,\n",
    "    \"config_query\":engine_config\n",
    "}\n",
    "engine = create_engine('mssql+pyodbc://{user}:{password}@{host}:{port}/{database}{config_query}'.format(**db_settings))"
   ]
  },
  {
   "cell_type": "code",
   "execution_count": 4,
   "metadata": {
    "collapsed": false
   },
   "outputs": [
    {
     "data": {
      "text/plain": [
       "'\\n# \\xe3\\x83\\x87\\xe3\\x83\\xbc\\xe3\\x82\\xbf\\xe3\\x81\\xae\\xe8\\xaa\\xad\\xe3\\x81\\xbf\\xe8\\xbe\\xbc\\xe3\\x81\\xbf\\nsql_query = \"SELECT * FROM main_table\"\\ndata = pd.read_sql_query(sql_query, con = engine)\\n'"
      ]
     },
     "execution_count": 4,
     "metadata": {},
     "output_type": "execute_result"
    }
   ],
   "source": [
    "\"\"\"\n",
    "# データの読み込み\n",
    "sql_query = \"SELECT * FROM main_table\"\n",
    "data = pd.read_sql_query(sql_query, con = engine)\n",
    "\"\"\""
   ]
  },
  {
   "cell_type": "code",
   "execution_count": 4,
   "metadata": {
    "collapsed": true
   },
   "outputs": [],
   "source": [
    "# コネクターの作成\n",
    "cnxn = pyodbc.connect('DRIVER={ODBC Driver 13 for SQL Server};SERVER='+server+';DATABASE='+database+';UID='+username+';PWD='+ password)\n",
    "cursor = cnxn.cursor()"
   ]
  },
  {
   "cell_type": "code",
   "execution_count": 5,
   "metadata": {
    "collapsed": false,
    "scrolled": true
   },
   "outputs": [
    {
     "name": "stdout",
     "output_type": "stream",
     "text": [
      "Microsoft SQL Azure (RTM) - 12.0.2000.8 \n",
      "\tAug 29 2017 13:06:11 \n",
      "\tCopyright (C) 2017 Microsoft Corporation\n",
      "\n"
     ]
    }
   ],
   "source": [
    "#Sample select query\n",
    "cursor.execute(\"SELECT @@version;\") \n",
    "row = cursor.fetchone() \n",
    "while row: \n",
    "    print(row[0]) \n",
    "    row = cursor.fetchone()"
   ]
  },
  {
   "cell_type": "code",
   "execution_count": 2,
   "metadata": {
    "collapsed": false
   },
   "outputs": [
    {
     "data": {
      "text/plain": [
       "(46469, 110)"
      ]
     },
     "execution_count": 2,
     "metadata": {},
     "output_type": "execute_result"
    }
   ],
   "source": [
    "# https://drive.google.com/open?id=1lN_XnVuwtxGdZRGPFxnZTVgeG6ehmC8K に上がってるファイルは一発で読める\n",
    "data = pd.read_csv(\"../../gci_project_storage/mynavi_data.csv\", encoding=\"SHIFT-JIS\", sep=\",\")\n",
    "data.shape"
   ]
  },
  {
   "cell_type": "markdown",
   "metadata": {},
   "source": [
    "<h3>目次：</h3><br>\n",
    "・raw_data_table の作成<br>\n",
    "・物件の Master Table の作成<br>\n",
    "・最寄駅情報の抽出<br>\n",
    "・駅の Master Table の作成<br>\n",
    "・物件の Geo Coding<br>\n",
    "・駅の情報を main_table に追加<br>\n"
   ]
  },
  {
   "cell_type": "markdown",
   "metadata": {},
   "source": [
    "<h3>raw_data_table の作成"
   ]
  },
  {
   "cell_type": "code",
   "execution_count": 32,
   "metadata": {
    "collapsed": true
   },
   "outputs": [],
   "source": [
    "table_name = \"raw_data_table\"\n",
    "#data.to_sql(table_name, con=engine, if_exists=\"fail\", index=False)"
   ]
  },
  {
   "cell_type": "markdown",
   "metadata": {},
   "source": [
    "<h3>物件の Master Table の作成"
   ]
  },
  {
   "cell_type": "code",
   "execution_count": 3,
   "metadata": {
    "collapsed": true,
    "scrolled": true
   },
   "outputs": [],
   "source": [
    "addresses = pd.Series(data.address.unique())\n",
    "df_new = pd.DataFrame(index=addresses.index, columns=[\"longitude\",\"latitude\"])\n",
    "df_new = pd.concat([addresses, df_new], axis=1)\n",
    "df_new.columns = [\"address\",\"longitude\",\"latitude\"]\n",
    "df_new.shape\n",
    "data_address = df_new"
   ]
  },
  {
   "cell_type": "code",
   "execution_count": 83,
   "metadata": {
    "collapsed": true
   },
   "outputs": [],
   "source": [
    "table_name = \"address_master\"\n",
    "df_new.to_sql(table_name, con=engine, if_exists=\"fail\", index=False)"
   ]
  },
  {
   "cell_type": "markdown",
   "metadata": {},
   "source": [
    "<h3>物件の Geo Coding"
   ]
  },
  {
   "cell_type": "code",
   "execution_count": 7,
   "metadata": {
    "collapsed": true
   },
   "outputs": [],
   "source": [
    "sql_query = \"SELECT * FROM address_master\"\n",
    "data = pd.read_sql_query(sql_query, con = engine)"
   ]
  },
  {
   "cell_type": "code",
   "execution_count": 5,
   "metadata": {
    "collapsed": false,
    "scrolled": true
   },
   "outputs": [
    {
     "data": {
      "text/plain": [
       "address      object\n",
       "longitude    object\n",
       "latitude     object\n",
       "dtype: object"
      ]
     },
     "execution_count": 5,
     "metadata": {},
     "output_type": "execute_result"
    }
   ],
   "source": [
    "data_address.dtypes"
   ]
  },
  {
   "cell_type": "code",
   "execution_count": 14,
   "metadata": {
    "collapsed": false,
    "scrolled": true
   },
   "outputs": [
    {
     "name": "stdout",
     "output_type": "stream",
     "text": [
      "b'\\xe6\\x9d\\xb1\\xe4\\xba\\xac\\xe9\\x83\\xbd\\xe6\\x96\\x87\\xe4\\xba\\xac\\xe5\\x8c\\xba\\xe6\\x9c\\xac\\xe9\\x83\\xb7\\xef\\xbc\\x94\\xe4\\xb8\\x81\\xe7\\x9b\\xae'\n",
      "http://maps.googleapis.com/maps/api/geocode/xml?sensor=false&address=%E6%9D%B1%E4%BA%AC%E9%83%BD%E6%96%87%E4%BA%AC%E5%8C%BA%E6%9C%AC%E9%83%B7%EF%BC%94%E4%B8%81%E7%9B%AE\n"
     ]
    }
   ],
   "source": [
    "address = data_address.address[0].encode(\"utf-8\")\n",
    "print(address)\n",
    "serviceurl = 'http://maps.googleapis.com/maps/api/geocode/xml?'\n",
    "url = serviceurl + urllib.parse.urlencode({'sensor':'false', 'address': address})\n",
    "print(url)"
   ]
  },
  {
   "cell_type": "markdown",
   "metadata": {},
   "source": [
    "<br><br><br>\n",
    "# 0~1000\n",
    "<br><br><br>"
   ]
  },
  {
   "cell_type": "code",
   "execution_count": 4,
   "metadata": {
    "collapsed": false
   },
   "outputs": [],
   "source": [
    "result_list_0_1000 = []"
   ]
  },
  {
   "cell_type": "code",
   "execution_count": null,
   "metadata": {
    "collapsed": true
   },
   "outputs": [],
   "source": [
    "serviceurl = 'http://maps.googleapis.com/maps/api/geocode/xml?'\n",
    "\n",
    "for i in range(0,1000):\n",
    "    \n",
    "    address = data_address.address[i].encode(\"utf-8\")\n",
    "\n",
    "    # Python3 系：urllib.parse.urlencode()\n",
    "    # Python2 系：urllib.urlencode()\n",
    "    url = serviceurl + urllib.parse.urlencode({u'sensor':u'false', u'address': address})\n",
    "    print ('Retrieving', url)\n",
    "    # Python3 系：urllib.request.urlopen()\n",
    "    uh = urllib.request.urlopen(url)\n",
    "    data = uh.read()\n",
    "    #print ('Retrieved',len(data),'characters')\n",
    "    #print (data)\n",
    "    #print ()\n",
    "    tree = ET.fromstring(data)\n",
    "\n",
    "    results = tree.findall('result')\n",
    "    #lat = float( results[0].find('geometry').find('location').find('lat').text )\n",
    "    #lng = float( results[0].find('geometry').find('location').find('lng').text )\n",
    "    #location = results[0].find('formatted_address').text\n",
    "    \n",
    "    result_list_0_1000.append(data)\n",
    "    time.sleep(3)\n",
    "    #print ('lat',lat,'lng',lng)\n",
    "    #print (location)\n",
    "\n",
    "    #data_address.longitude[i] = lng\n",
    "    #data_address.latitude[i] = lat"
   ]
  },
  {
   "cell_type": "code",
   "execution_count": 6,
   "metadata": {
    "collapsed": false
   },
   "outputs": [
    {
     "data": {
      "text/plain": [
       "1000"
      ]
     },
     "execution_count": 6,
     "metadata": {},
     "output_type": "execute_result"
    }
   ],
   "source": [
    "len(result_list_0_1000)"
   ]
  },
  {
   "cell_type": "code",
   "execution_count": 7,
   "metadata": {
    "collapsed": false,
    "scrolled": true
   },
   "outputs": [],
   "source": [
    "with open('../../gci_project_storage/result_list_0_1000.pickle', mode='wb') as f:\n",
    "#    pickle.dump(result_list_0_1000, f)"
   ]
  },
  {
   "cell_type": "code",
   "execution_count": 21,
   "metadata": {
    "collapsed": false,
    "scrolled": true
   },
   "outputs": [],
   "source": [
    "with open('../../gci_project_storage/result_list_0_1000.pickle', mode='rb') as f:\n",
    "    result_list_0_1000 = pickle.load(f)"
   ]
  },
  {
   "cell_type": "code",
   "execution_count": 22,
   "metadata": {
    "collapsed": false
   },
   "outputs": [
    {
     "data": {
      "text/plain": [
       "0"
      ]
     },
     "execution_count": 22,
     "metadata": {},
     "output_type": "execute_result"
    }
   ],
   "source": [
    "get_loc_json = lambda data: ET.fromstring(data).findall('result')[0].find('geometry').find('location') if len(ET.fromstring(data).findall('result'))>0 else None \n",
    "get_lat = lambda data: float(get_loc_json(data).find('lat').text) if get_loc_json(data) != None else None\n",
    "get_lng = lambda data: float(get_loc_json(data).find('lng').text) if get_loc_json(data) != None else None\n",
    "\n",
    "sum(pd.Series([get_lat(data) for data in result_list_0_1000[0:1000]]) == None)"
   ]
  },
  {
   "cell_type": "markdown",
   "metadata": {},
   "source": [
    "<br><br><br>\n",
    "# 1000~2000\n",
    "<br><br><br>"
   ]
  },
  {
   "cell_type": "code",
   "execution_count": 6,
   "metadata": {
    "collapsed": false
   },
   "outputs": [],
   "source": [
    "result_list_1000_2000 = []"
   ]
  },
  {
   "cell_type": "code",
   "execution_count": null,
   "metadata": {
    "collapsed": true
   },
   "outputs": [],
   "source": [
    "serviceurl = 'http://maps.googleapis.com/maps/api/geocode/xml?'\n",
    "\n",
    "for i in range(1000,2000):\n",
    "    \n",
    "    address = data_address.address[i].encode(\"utf-8\")\n",
    "\n",
    "    # Python3 系：urllib.parse.urlencode()\n",
    "    # Python2 系：urllib.urlencode()\n",
    "    url = serviceurl + urllib.parse.urlencode({u'sensor':u'false', u'address': address})\n",
    "    print ('Retrieving', url)\n",
    "    # Python3 系：urllib.request.urlopen()\n",
    "    uh = urllib.request.urlopen(url)\n",
    "    data = uh.read()\n",
    "    #print ('Retrieved',len(data),'characters')\n",
    "    #print (data)\n",
    "    #print ()\n",
    "    tree = ET.fromstring(data)\n",
    "\n",
    "    results = tree.findall('result')\n",
    "    #lat = float( results[0].find('geometry').find('location').find('lat').text )\n",
    "    #lng = float( results[0].find('geometry').find('location').find('lng').text )\n",
    "    #location = results[0].find('formatted_address').text\n",
    "    \n",
    "    result_list_1000_2000.append(data)\n",
    "    time.sleep(3)\n",
    "    #print ('lat',lat,'lng',lng)\n",
    "    #print (location)\n",
    "\n",
    "    #data_address.longitude[i] = lng\n",
    "    #data_address.latitude[i] = lat"
   ]
  },
  {
   "cell_type": "code",
   "execution_count": 8,
   "metadata": {
    "collapsed": false,
    "scrolled": true
   },
   "outputs": [
    {
     "data": {
      "text/plain": [
       "1000"
      ]
     },
     "execution_count": 8,
     "metadata": {},
     "output_type": "execute_result"
    }
   ],
   "source": [
    "len(result_list_1000_2000)"
   ]
  },
  {
   "cell_type": "code",
   "execution_count": 9,
   "metadata": {
    "collapsed": false,
    "scrolled": true
   },
   "outputs": [],
   "source": [
    "with open('../../gci_project_storage/result_list_1000_2000.pickle', mode='wb') as f:\n",
    "#    pickle.dump(result_list_1000_2000, f)"
   ]
  },
  {
   "cell_type": "code",
   "execution_count": 19,
   "metadata": {
    "collapsed": false,
    "scrolled": true
   },
   "outputs": [],
   "source": [
    "with open('../../gci_project_storage/result_list_1000_2000.pickle', mode='rb') as f:\n",
    "    result_list_1000_2000 = pickle.load(f)"
   ]
  },
  {
   "cell_type": "code",
   "execution_count": 20,
   "metadata": {
    "collapsed": false
   },
   "outputs": [
    {
     "data": {
      "text/plain": [
       "0"
      ]
     },
     "execution_count": 20,
     "metadata": {},
     "output_type": "execute_result"
    }
   ],
   "source": [
    "get_loc_json = lambda data: ET.fromstring(data).findall('result')[0].find('geometry').find('location') if len(ET.fromstring(data).findall('result'))>0 else None \n",
    "get_lat = lambda data: float(get_loc_json(data).find('lat').text) if get_loc_json(data) != None else None\n",
    "get_lng = lambda data: float(get_loc_json(data).find('lng').text) if get_loc_json(data) != None else None\n",
    "\n",
    "sum(pd.Series([get_lat(data) for data in result_list_1000_2000[0:1000]]) == None)"
   ]
  },
  {
   "cell_type": "markdown",
   "metadata": {},
   "source": [
    "# 2000~4000"
   ]
  },
  {
   "cell_type": "code",
   "execution_count": 4,
   "metadata": {
    "collapsed": false
   },
   "outputs": [],
   "source": [
    "result_list_2000_4000 = []"
   ]
  },
  {
   "cell_type": "code",
   "execution_count": null,
   "metadata": {
    "collapsed": true
   },
   "outputs": [],
   "source": [
    "serviceurl = 'http://maps.googleapis.com/maps/api/geocode/xml?'\n",
    "\n",
    "for i in range(2000,4000):\n",
    "    \n",
    "    address = data_address.address[i].encode(\"utf-8\")\n",
    "\n",
    "    # Python3 系：urllib.parse.urlencode()\n",
    "    # Python2 系：urllib.urlencode()\n",
    "    url = serviceurl + urllib.parse.urlencode({u'sensor':u'false', u'address': address})\n",
    "    print ('Retrieving', url)\n",
    "    # Python3 系：urllib.request.urlopen()\n",
    "    uh = urllib.request.urlopen(url)\n",
    "    data = uh.read()\n",
    "    #print ('Retrieved',len(data),'characters')\n",
    "    #print (data)\n",
    "    #print ()\n",
    "    tree = ET.fromstring(data)\n",
    "\n",
    "    results = tree.findall('result')\n",
    "    #lat = float( results[0].find('geometry').find('location').find('lat').text )\n",
    "    #lng = float( results[0].find('geometry').find('location').find('lng').text )\n",
    "    #location = results[0].find('formatted_address').text\n",
    "    \n",
    "    result_list_2000_4000.append(data)\n",
    "    time.sleep(5)\n",
    "    #print ('lat',lat,'lng',lng)\n",
    "    #print (location)\n",
    "\n",
    "    #data_address.longitude[i] = lng\n",
    "    #data_address.latitude[i] = lat"
   ]
  },
  {
   "cell_type": "code",
   "execution_count": 6,
   "metadata": {
    "collapsed": false
   },
   "outputs": [
    {
     "data": {
      "text/plain": [
       "2000"
      ]
     },
     "execution_count": 6,
     "metadata": {},
     "output_type": "execute_result"
    }
   ],
   "source": [
    "len(result_list_2000_4000)"
   ]
  },
  {
   "cell_type": "code",
   "execution_count": 7,
   "metadata": {
    "collapsed": false,
    "scrolled": true
   },
   "outputs": [],
   "source": [
    "with open('../../gci_project_storage/result_list_2000_4000.pickle', mode='wb') as f:\n",
    "    pickle.dump(result_list_2000_4000, f)"
   ]
  },
  {
   "cell_type": "code",
   "execution_count": 15,
   "metadata": {
    "collapsed": false,
    "scrolled": true
   },
   "outputs": [],
   "source": [
    "with open('../../gci_project_storage/result_list_2000_4000.pickle', mode='rb') as f:\n",
    "    result_list_2000_4000 = pickle.load(f)"
   ]
  },
  {
   "cell_type": "code",
   "execution_count": 17,
   "metadata": {
    "collapsed": false
   },
   "outputs": [
    {
     "data": {
      "text/plain": [
       "0"
      ]
     },
     "execution_count": 17,
     "metadata": {},
     "output_type": "execute_result"
    }
   ],
   "source": [
    "get_loc_json = lambda data: ET.fromstring(data).findall('result')[0].find('geometry').find('location') if len(ET.fromstring(data).findall('result'))>0 else None \n",
    "get_lat = lambda data: float(get_loc_json(data).find('lat').text) if get_loc_json(data) != None else None\n",
    "get_lng = lambda data: float(get_loc_json(data).find('lng').text) if get_loc_json(data) != None else None\n",
    "\n",
    "sum(pd.Series([get_lat(data) for data in result_list_2000_4000[0:2000]]) == None)"
   ]
  },
  {
   "cell_type": "markdown",
   "metadata": {},
   "source": [
    "# 4000~6400"
   ]
  },
  {
   "cell_type": "code",
   "execution_count": 5,
   "metadata": {
    "collapsed": false
   },
   "outputs": [],
   "source": [
    "result_list_4000_6400 = []"
   ]
  },
  {
   "cell_type": "code",
   "execution_count": 6,
   "metadata": {
    "collapsed": false
   },
   "outputs": [],
   "source": [
    "serviceurl = 'http://maps.googleapis.com/maps/api/geocode/xml?'\n",
    "\n",
    "for i in range(4000,6400):\n",
    "    \n",
    "    address = data_address.address[i].encode(\"utf-8\")\n",
    "\n",
    "    # Python3 系：urllib.parse.urlencode()\n",
    "    # Python2 系：urllib.urlencode()\n",
    "    url = serviceurl + urllib.parse.urlencode({u'sensor':u'false', u'address': address})\n",
    "    #print ('Retrieving', url)\n",
    "    # Python3 系：urllib.request.urlopen()\n",
    "    uh = urllib.request.urlopen(url)\n",
    "    data = uh.read()\n",
    "    #print ('Retrieved',len(data),'characters')\n",
    "    #print (data)\n",
    "    #print ()\n",
    "    tree = ET.fromstring(data)\n",
    "\n",
    "    results = tree.findall('result')\n",
    "    #lat = float( results[0].find('geometry').find('location').find('lat').text )\n",
    "    #lng = float( results[0].find('geometry').find('location').find('lng').text )\n",
    "    #location = results[0].find('formatted_address').text\n",
    "    \n",
    "    result_list_4000_6400.append(data)\n",
    "    time.sleep(6)\n",
    "    #print ('lat',lat,'lng',lng)\n",
    "    #print (location)\n",
    "\n",
    "    #data_address.longitude[i] = lng\n",
    "    #data_address.latitude[i] = lat"
   ]
  },
  {
   "cell_type": "code",
   "execution_count": 7,
   "metadata": {
    "collapsed": false
   },
   "outputs": [
    {
     "data": {
      "text/plain": [
       "2400"
      ]
     },
     "execution_count": 7,
     "metadata": {},
     "output_type": "execute_result"
    }
   ],
   "source": [
    "len(result_list_4000_6400)"
   ]
  },
  {
   "cell_type": "code",
   "execution_count": 8,
   "metadata": {
    "collapsed": false,
    "scrolled": true
   },
   "outputs": [],
   "source": [
    "with open('../../gci_project_storage/result_list_4000_6400.pickle', mode='wb') as f:\n",
    "#    pickle.dump(result_list_4000_6400, f)"
   ]
  },
  {
   "cell_type": "code",
   "execution_count": 9,
   "metadata": {
    "collapsed": false,
    "scrolled": true
   },
   "outputs": [],
   "source": [
    "with open('../../gci_project_storage/result_list_4000_6400.pickle', mode='rb') as f:\n",
    "    result_list_4000_6400 = pickle.load(f)"
   ]
  },
  {
   "cell_type": "code",
   "execution_count": 14,
   "metadata": {
    "collapsed": false
   },
   "outputs": [
    {
     "data": {
      "text/plain": [
       "0"
      ]
     },
     "execution_count": 14,
     "metadata": {},
     "output_type": "execute_result"
    }
   ],
   "source": [
    "get_loc_json = lambda data: ET.fromstring(data).findall('result')[0].find('geometry').find('location') if len(ET.fromstring(data).findall('result'))>0 else None \n",
    "get_lat = lambda data: float(get_loc_json(data).find('lat').text) if get_loc_json(data) != None else None\n",
    "get_lng = lambda data: float(get_loc_json(data).find('lng').text) if get_loc_json(data) != None else None\n",
    "\n",
    "sum(pd.Series([get_lat(data) for data in result_list_4000_6400[0:2400]]) == None)"
   ]
  },
  {
   "cell_type": "markdown",
   "metadata": {},
   "source": [
    "# 6400~8274"
   ]
  },
  {
   "cell_type": "code",
   "execution_count": null,
   "metadata": {
    "collapsed": false
   },
   "outputs": [],
   "source": [
    "result_list_6400_8274 = []"
   ]
  },
  {
   "cell_type": "code",
   "execution_count": null,
   "metadata": {
    "collapsed": false
   },
   "outputs": [],
   "source": [
    "serviceurl = 'http://maps.googleapis.com/maps/api/geocode/xml?'\n",
    "\n",
    "for i in range(6400,8274):\n",
    "    \n",
    "    address = data_address.address[i].encode(\"utf-8\")\n",
    "\n",
    "    # Python3 系：urllib.parse.urlencode()\n",
    "    # Python2 系：urllib.urlencode()\n",
    "    url = serviceurl + urllib.parse.urlencode({u'sensor':u'false', u'address': address})\n",
    "    #print ('Retrieving', url)\n",
    "    # Python3 系：urllib.request.urlopen()\n",
    "    uh = urllib.request.urlopen(url)\n",
    "    data = uh.read()\n",
    "    #print ('Retrieved',len(data),'characters')\n",
    "    #print (data)\n",
    "    #print ()\n",
    "    tree = ET.fromstring(data)\n",
    "\n",
    "    results = tree.findall('result')\n",
    "    #lat = float( results[0].find('geometry').find('location').find('lat').text )\n",
    "    #lng = float( results[0].find('geometry').find('location').find('lng').text )\n",
    "    #location = results[0].find('formatted_address').text\n",
    "    \n",
    "    result_list_6400_8274.append(data)\n",
    "    time.sleep(6)\n",
    "    #print ('lat',lat,'lng',lng)\n",
    "    #print (location)\n",
    "\n",
    "    #data_address.longitude[i] = lng\n",
    "    #data_address.latitude[i] = lat"
   ]
  },
  {
   "cell_type": "code",
   "execution_count": null,
   "metadata": {
    "collapsed": false
   },
   "outputs": [],
   "source": [
    "len(result_list_6400_8274)"
   ]
  },
  {
   "cell_type": "code",
   "execution_count": null,
   "metadata": {
    "collapsed": false,
    "scrolled": true
   },
   "outputs": [],
   "source": [
    "with open('../../gci_project_storage/result_list_6400_8274.pickle', mode='wb') as f:\n",
    "    pickle.dump(result_list_6400_8274, f)"
   ]
  },
  {
   "cell_type": "code",
   "execution_count": null,
   "metadata": {
    "collapsed": false,
    "scrolled": true
   },
   "outputs": [],
   "source": [
    "with open('../../gci_project_storage/result_list_6400_8274.pickle', mode='rb') as f:\n",
    "    result_list_6400_8274 = pickle.load(f)"
   ]
  },
  {
   "cell_type": "code",
   "execution_count": 14,
   "metadata": {
    "collapsed": false
   },
   "outputs": [
    {
     "data": {
      "text/plain": [
       "0"
      ]
     },
     "execution_count": 14,
     "metadata": {},
     "output_type": "execute_result"
    }
   ],
   "source": [
    "get_loc_json = lambda data: ET.fromstring(data).findall('result')[0].find('geometry').find('location') if len(ET.fromstring(data).findall('result'))>0 else None \n",
    "get_lat = lambda data: float(get_loc_json(data).find('lat').text) if get_loc_json(data) != None else None\n",
    "get_lng = lambda data: float(get_loc_json(data).find('lng').text) if get_loc_json(data) != None else None\n",
    "\n",
    "sum(pd.Series([get_lat(data) for data in result_list_4000_6400[0:2400]]) == None)"
   ]
  },
  {
   "cell_type": "code",
   "execution_count": 46,
   "metadata": {
    "collapsed": false,
    "scrolled": false
   },
   "outputs": [
    {
     "ename": "ProgrammingError",
     "evalue": "('42S22', \"[42S22] [Microsoft][ODBC Driver 13 for SQL Server][SQL Server]Invalid column name '\\xe6\\x9d\\xb1\\xe4\\xba\\xac\\xe9\\x83\\xbd\\xe6\\x96\\x87\\xe4\\xba\\xac\\xe5\\x8c\\xba\\xe6\\x9c\\xac\\xe9\\x83\\xb7\\xef\\xbc\\x94\\xe4\\xb8\\x81\\xe7\\x9b\\xae'. (207) (SQLExecDirectW)\")",
     "output_type": "error",
     "traceback": [
      "\u001b[1;31m---------------------------------------------------------------------------\u001b[0m",
      "\u001b[1;31mProgrammingError\u001b[0m                          Traceback (most recent call last)",
      "\u001b[1;32m<ipython-input-46-dd42407081ee>\u001b[0m in \u001b[0;36m<module>\u001b[1;34m()\u001b[0m\n\u001b[0;32m      8\u001b[0m \u001b[0mquery\u001b[0m \u001b[1;33m=\u001b[0m \u001b[1;34m\"UPDATE address_master SET longitude = {}, latitude = {} WHERE address = \\\"{}\\\";\"\u001b[0m\u001b[1;33m.\u001b[0m\u001b[0mformat\u001b[0m\u001b[1;33m(\u001b[0m\u001b[0mlng\u001b[0m\u001b[1;33m,\u001b[0m\u001b[0mlat\u001b[0m\u001b[1;33m,\u001b[0m\u001b[0maddress\u001b[0m\u001b[1;33m)\u001b[0m\u001b[1;33m\u001b[0m\u001b[0m\n\u001b[0;32m      9\u001b[0m \u001b[1;33m\u001b[0m\u001b[0m\n\u001b[1;32m---> 10\u001b[1;33m \u001b[0mcursor\u001b[0m\u001b[1;33m.\u001b[0m\u001b[0mexecute\u001b[0m\u001b[1;33m(\u001b[0m\u001b[0mquery\u001b[0m\u001b[1;33m)\u001b[0m\u001b[1;33m\u001b[0m\u001b[0m\n\u001b[0m\u001b[0;32m     11\u001b[0m \u001b[0mrow\u001b[0m \u001b[1;33m=\u001b[0m \u001b[0mcursor\u001b[0m\u001b[1;33m.\u001b[0m\u001b[0mfetchone\u001b[0m\u001b[1;33m(\u001b[0m\u001b[1;33m)\u001b[0m\u001b[1;33m\u001b[0m\u001b[0m\n\u001b[0;32m     12\u001b[0m \u001b[1;32mwhile\u001b[0m \u001b[0mrow\u001b[0m\u001b[1;33m:\u001b[0m\u001b[1;33m\u001b[0m\u001b[0m\n",
      "\u001b[1;31mProgrammingError\u001b[0m: ('42S22', \"[42S22] [Microsoft][ODBC Driver 13 for SQL Server][SQL Server]Invalid column name '\\xe6\\x9d\\xb1\\xe4\\xba\\xac\\xe9\\x83\\xbd\\xe6\\x96\\x87\\xe4\\xba\\xac\\xe5\\x8c\\xba\\xe6\\x9c\\xac\\xe9\\x83\\xb7\\xef\\xbc\\x94\\xe4\\xb8\\x81\\xe7\\x9b\\xae'. (207) (SQLExecDirectW)\")"
     ]
    }
   ],
   "source": [
    "#文字化け対策\n",
    "import sys\n",
    "reload(sys)\n",
    "print(sys.getdefaultencoding())\n",
    "sys.setdefaultencoding('utf-8')\n",
    "\n",
    "#query = \"select top 5 * from address_master;\" \n",
    "query = \"UPDATE address_master SET longitude = {}, latitude = {} WHERE address = \\\"{}\\\";\".format(lng,lat,address)\n",
    "\n",
    "cursor.execute(query)\n",
    "row = cursor.fetchone() \n",
    "while row: \n",
    "    print(row[0]) \n",
    "    row = cursor.fetchone()"
   ]
  },
  {
   "cell_type": "code",
   "execution_count": 38,
   "metadata": {
    "collapsed": true
   },
   "outputs": [],
   "source": [
    "address = data.address[0].encode(\"utf-8\")\n",
    "print(address)\n",
    "print(data.address[0].encode(\"utf-8\"))\n",
    "print(\"あいうえお\")"
   ]
  },
  {
   "cell_type": "code",
   "execution_count": 41,
   "metadata": {
    "collapsed": false
   },
   "outputs": [
    {
     "ename": "UnicodeEncodeError",
     "evalue": "'charmap' codec can't encode characters in position 90-100: character maps to <undefined>",
     "output_type": "error",
     "traceback": [
      "\u001b[1;31m---------------------------------------------------------------------------\u001b[0m",
      "\u001b[1;31mUnicodeEncodeError\u001b[0m                        Traceback (most recent call last)",
      "\u001b[1;32m<ipython-input-41-5ed3142c9df5>\u001b[0m in \u001b[0;36m<module>\u001b[1;34m()\u001b[0m\n\u001b[1;32m----> 1\u001b[1;33m \u001b[0mquery\u001b[0m\u001b[1;33m.\u001b[0m\u001b[0mencode\u001b[0m\u001b[1;33m(\u001b[0m\u001b[1;34m\"cp437\"\u001b[0m\u001b[1;33m)\u001b[0m\u001b[1;33m\u001b[0m\u001b[0m\n\u001b[0m",
      "\u001b[1;32mC:\\Anaconda\\lib\\encodings\\cp437.pyc\u001b[0m in \u001b[0;36mencode\u001b[1;34m(self, input, errors)\u001b[0m\n\u001b[0;32m     10\u001b[0m \u001b[1;33m\u001b[0m\u001b[0m\n\u001b[0;32m     11\u001b[0m     \u001b[1;32mdef\u001b[0m \u001b[0mencode\u001b[0m\u001b[1;33m(\u001b[0m\u001b[0mself\u001b[0m\u001b[1;33m,\u001b[0m\u001b[0minput\u001b[0m\u001b[1;33m,\u001b[0m\u001b[0merrors\u001b[0m\u001b[1;33m=\u001b[0m\u001b[1;34m'strict'\u001b[0m\u001b[1;33m)\u001b[0m\u001b[1;33m:\u001b[0m\u001b[1;33m\u001b[0m\u001b[0m\n\u001b[1;32m---> 12\u001b[1;33m         \u001b[1;32mreturn\u001b[0m \u001b[0mcodecs\u001b[0m\u001b[1;33m.\u001b[0m\u001b[0mcharmap_encode\u001b[0m\u001b[1;33m(\u001b[0m\u001b[0minput\u001b[0m\u001b[1;33m,\u001b[0m\u001b[0merrors\u001b[0m\u001b[1;33m,\u001b[0m\u001b[0mencoding_map\u001b[0m\u001b[1;33m)\u001b[0m\u001b[1;33m\u001b[0m\u001b[0m\n\u001b[0m\u001b[0;32m     13\u001b[0m \u001b[1;33m\u001b[0m\u001b[0m\n\u001b[0;32m     14\u001b[0m     \u001b[1;32mdef\u001b[0m \u001b[0mdecode\u001b[0m\u001b[1;33m(\u001b[0m\u001b[0mself\u001b[0m\u001b[1;33m,\u001b[0m\u001b[0minput\u001b[0m\u001b[1;33m,\u001b[0m\u001b[0merrors\u001b[0m\u001b[1;33m=\u001b[0m\u001b[1;34m'strict'\u001b[0m\u001b[1;33m)\u001b[0m\u001b[1;33m:\u001b[0m\u001b[1;33m\u001b[0m\u001b[0m\n",
      "\u001b[1;31mUnicodeEncodeError\u001b[0m: 'charmap' codec can't encode characters in position 90-100: character maps to <undefined>"
     ]
    }
   ],
   "source": [
    "query.encode(\"cp437\")\n"
   ]
  },
  {
   "cell_type": "code",
   "execution_count": 23,
   "metadata": {
    "collapsed": false
   },
   "outputs": [
    {
     "data": {
      "text/plain": [
       "'cp437'"
      ]
     },
     "execution_count": 23,
     "metadata": {},
     "output_type": "execute_result"
    }
   ],
   "source": [
    "sys.stdout.encoding"
   ]
  },
  {
   "cell_type": "markdown",
   "metadata": {},
   "source": [
    "<h3>最寄駅情報の抽出"
   ]
  },
  {
   "cell_type": "code",
   "execution_count": 105,
   "metadata": {
    "collapsed": false,
    "scrolled": true
   },
   "outputs": [
    {
     "name": "stdout",
     "output_type": "stream",
     "text": [
      "# Station : 312\n",
      "# Rental Without Station : 81\n"
     ]
    }
   ],
   "source": [
    "# 駅名と徒歩何分かを取得する関数\n",
    "remove_bracket = lambda text :re.sub(u'\\(.+?\\)','',re.sub(u'（.+?）', '',re.sub(u'「」', '',text))) \n",
    "remove_question_mark = lambda text :re.sub(u'\\?','',text)\n",
    "remove_noise = lambda text:remove_bracket(remove_question_mark(text))\n",
    "remove_dot = lambda text :re.sub(u'・.+?線','',text)#\"・中央線東京駅\"みたいなのを除く\n",
    "\n",
    "get_station_info_0 = lambda text: (\n",
    "    re.findall(u\"線(\\S+?駅).*?徒歩([0-9]+?)分\", remove_noise(text)) \n",
    "    + re.findall(u\"ライン(\\S+?駅).*?徒歩([0-9]+?)分\", remove_noise(text)) \n",
    "    + re.findall(u\"ライナー(\\S+?駅).*?徒歩([0-9]+?)分\", remove_noise(text))\n",
    ")\n",
    "get_station_info = lambda text:{remove_dot(t[0]):int(t[1]) for t in get_station_info_0(text)} if len(get_station_info_0(text)) > 0 else {}\n",
    "get_station_name = lambda text:[remove_dot(t[0]) for t in get_station_info_0(text)] if len(get_station_info_0(text)) > 0 else []\n",
    "station_names = []\n",
    "\n",
    "# 駅の総数を調べる\n",
    "count_no_st = 0\n",
    "for text in data.traffic:\n",
    "    station_names += get_station_name(text)\n",
    "    if(len(get_station_name(text))==0):\n",
    "        count_no_st += 1\n",
    "station_names = pd.Series(pd.Series(station_names).unique())\n",
    "\n",
    "print(\"# Station : {}\".format(len(station_names)))\n",
    "print(\"# Rental Without Station : {}\".format(count_no_st)) #＜-徒歩でなく、バスで移動の物件はNoneが返り値"
   ]
  },
  {
   "cell_type": "code",
   "execution_count": 106,
   "metadata": {
    "collapsed": false
   },
   "outputs": [
    {
     "name": "stdout",
     "output_type": "stream",
     "text": [
      "中央線?御茶ノ水駅?徒歩0分\n",
      "御茶ノ水駅\n"
     ]
    }
   ],
   "source": [
    "print(remove_bracket(data[\"traffic\"][1758]))\n",
    "print(get_station_name(data[\"traffic\"][1758])[0])"
   ]
  },
  {
   "cell_type": "code",
   "execution_count": 108,
   "metadata": {
    "collapsed": false
   },
   "outputs": [
    {
     "data": {
      "text/plain": [
       "Series([], Name: traffic, dtype: object)"
      ]
     },
     "execution_count": 108,
     "metadata": {},
     "output_type": "execute_result"
    }
   ],
   "source": [
    "data.traffic[data.traffic.apply(lambda text: u\"イナー\" in get_station_name(text) )]"
   ]
  },
  {
   "cell_type": "code",
   "execution_count": 109,
   "metadata": {
    "collapsed": false
   },
   "outputs": [
    {
     "name": "stdout",
     "output_type": "stream",
     "text": [
      "山手線日暮里駅?徒歩10分千代田線西日暮里駅?徒歩7分日暮里・舎人ライナー西日暮里(舎人ライナー)駅?徒歩7分\n",
      "日暮里駅\n",
      "西日暮里駅\n",
      "西日暮里駅\n",
      "山手線日暮里駅徒歩10分千代田線西日暮里駅徒歩7分日暮里・舎人ライナー西日暮里駅徒歩7分\n",
      "西日暮里駅\n"
     ]
    }
   ],
   "source": [
    "text = data.traffic[245]\n",
    "print(text)\n",
    "for st_name in get_station_name(text):\n",
    "    print(st_name)\n",
    "# u\"[線(ライン)(ライナー)](\\S+?駅).*?徒歩([0-9]+?)分\"をfindall\n",
    "print(remove_noise(text))\n",
    "print(re.findall(u\"ライナー(.+?駅).*?徒歩([0-9]+?)分\",remove_noise(text))[0][0])"
   ]
  },
  {
   "cell_type": "code",
   "execution_count": 79,
   "metadata": {
    "collapsed": true
   },
   "outputs": [],
   "source": [
    "station_info = data.traffic.apply(get_station_info)"
   ]
  },
  {
   "cell_type": "code",
   "execution_count": 80,
   "metadata": {
    "collapsed": false,
    "scrolled": true
   },
   "outputs": [
    {
     "data": {
      "text/plain": [
       "0    {u'春日駅': 2, u'後楽園駅': 4, u'本郷三丁目駅': 10}\n",
       "1    {u'田端駅': 10, u'千駄木駅': 12, u'本駒込駅': 13}\n",
       "2                 {u'春日駅': 7, u'本郷三丁目駅': 8}\n",
       "3                 {u'新御徒町駅': 9, u'田原町駅': 7}\n",
       "4    {u'田端駅': 10, u'千駄木駅': 12, u'本駒込駅': 13}\n",
       "Name: traffic, dtype: object"
      ]
     },
     "execution_count": 80,
     "metadata": {},
     "output_type": "execute_result"
    }
   ],
   "source": [
    "station_info.head()"
   ]
  },
  {
   "cell_type": "markdown",
   "metadata": {},
   "source": [
    "<h3>駅の Master Table の作成"
   ]
  },
  {
   "cell_type": "code",
   "execution_count": 110,
   "metadata": {
    "collapsed": true
   },
   "outputs": [],
   "source": [
    "station_master = pd.DataFrame({ \n",
    "    'station_name' : station_names,\n",
    "    'altitude' : None,\n",
    "    'latitude' : None\n",
    "})"
   ]
  },
  {
   "cell_type": "code",
   "execution_count": 113,
   "metadata": {
    "collapsed": true,
    "scrolled": false
   },
   "outputs": [],
   "source": [
    "table_name = \"station_master\"\n",
    "station_master.to_sql(table_name, con=engine, if_exists=\"replace\", index=False)"
   ]
  },
  {
   "cell_type": "markdown",
   "metadata": {},
   "source": [
    "<h3>駅の情報を main_table に追加"
   ]
  },
  {
   "cell_type": "code",
   "execution_count": 199,
   "metadata": {
    "collapsed": false
   },
   "outputs": [
    {
     "data": {
      "text/plain": [
       "0     2.0\n",
       "1    10.0\n",
       "2     7.0\n",
       "3     7.0\n",
       "4    10.0\n",
       "Name: traffic, dtype: float64"
      ]
     },
     "execution_count": 199,
     "metadata": {},
     "output_type": "execute_result"
    }
   ],
   "source": [
    "# 一番近くの駅までの所要時間を求める関数（実は使わない）\n",
    "get_min_time_to_st = lambda arg_dict: min(arg_dict.values()) if len(arg_dict)>0 else None\n",
    "station_info.apply(get_min_time_to_st).head()"
   ]
  },
  {
   "cell_type": "code",
   "execution_count": 202,
   "metadata": {
    "collapsed": true
   },
   "outputs": [],
   "source": [
    "# 近くの駅までの所要時間の逆数のデータフレーム（説明変数に使う）\n",
    "df_new = pd.DataFrame(index=data.index, columns=station_names).astype(np.float)\n",
    "\n",
    "# 駅ごとにそれらを求める関数(徒歩0分の場合は、inverse:=2とした)\n",
    "get_inverse_dist_to_st = lambda arg_dict, st_name : (1.0/arg_dict[st_name] if arg_dict[st_name]!=0 else 2) if st_name in arg_dict.keys() else 0"
   ]
  },
  {
   "cell_type": "code",
   "execution_count": 203,
   "metadata": {
    "collapsed": true,
    "scrolled": true
   },
   "outputs": [],
   "source": [
    "for st_name in station_names:\n",
    "    this_st = st_name\n",
    "    get_inverse_dist_to_this_st = lambda arg_dict: get_inverse_dist_to_st(arg_dict ,this_st)\n",
    "    df_new[st_name] = station_info.apply(get_inverse_dist_to_this_st)"
   ]
  },
  {
   "cell_type": "code",
   "execution_count": 214,
   "metadata": {
    "collapsed": false
   },
   "outputs": [
    {
     "data": {
      "text/plain": [
       "[u'traffic',\n",
       " u'address',\n",
       " u'rent',\n",
       " u'area',\n",
       " u'deposit',\n",
       " u'key_money',\n",
       " u'brokerage_fee',\n",
       " u'date',\n",
       " u'layout',\n",
       " u'layout_detail',\n",
       " u'depreciation',\n",
       " u'facility',\n",
       " u'flooring',\n",
       " u'guarantee',\n",
       " u'guarantor',\n",
       " u'insurance',\n",
       " u'renewal_fee',\n",
       " u'administration_fee',\n",
       " u'remark',\n",
       " u'locality',\n",
       " u'buildings_height',\n",
       " u'buildings_undergrand',\n",
       " u'surroundings',\n",
       " u'other_expence',\n",
       " u'parking',\n",
       " u'parking_detail',\n",
       " u'reform',\n",
       " u'status',\n",
       " u'structure',\n",
       " u'transaction_type',\n",
       " u'total_units',\n",
       " u'balcony',\n",
       " u'air_conditioner',\n",
       " u'auto_lock',\n",
       " u'bath_toilet',\n",
       " u'reheating',\n",
       " u'wash_basin',\n",
       " u'washing_machine',\n",
       " u'top_floor',\n",
       " u'corner_room',\n",
       " u'immediate',\n",
       " u'upper',\n",
       " u'shower',\n",
       " u'bath_drier',\n",
       " u'washlet',\n",
       " u'toilet_style',\n",
       " u'bathhouse',\n",
       " u'water_heater',\n",
       " u'system_kitchen',\n",
       " u'counter_kitchen',\n",
       " u'independent_kitchen',\n",
       " u'L_kitchen',\n",
       " u'refrigerator',\n",
       " u'gas_stove',\n",
       " u'IH_stove',\n",
       " u'electric_stove',\n",
       " u'stove_num',\n",
       " u'office',\n",
       " u'instrument',\n",
       " u'togather',\n",
       " u'share',\n",
       " u'foreigner',\n",
       " u'pet',\n",
       " u'elderly_0',\n",
       " u'elderly_1',\n",
       " u'elderly_2',\n",
       " u'company_0',\n",
       " u'company_1',\n",
       " u'company_2',\n",
       " u'single_0',\n",
       " u'single_1',\n",
       " u'single_2',\n",
       " u'student_0',\n",
       " u'student_1',\n",
       " u'student_2',\n",
       " u'male',\n",
       " u'female',\n",
       " u'direction_1',\n",
       " u'direction_2',\n",
       " u'direction_3',\n",
       " u'direction_4',\n",
       " u'direction_5',\n",
       " u'direction_6',\n",
       " u'direction_7',\n",
       " u'direction_8',\n",
       " u'structure_1',\n",
       " u'structure_2',\n",
       " u'structure_3',\n",
       " u'structure_4',\n",
       " u'structure_5',\n",
       " u'structure_6',\n",
       " u'structure_7',\n",
       " u'structure_8',\n",
       " u'structure_9',\n",
       " u'structure_10',\n",
       " u'structure_11',\n",
       " u'status_1',\n",
       " u'status_2',\n",
       " u'status_3',\n",
       " u'status_4',\n",
       " u'transaction_type_1',\n",
       " u'transaction_type_2',\n",
       " u'transaction_type_3',\n",
       " u'transaction_type_4',\n",
       " u'transaction_type_5',\n",
       " u'transaction_type_6',\n",
       " u'bath_style_0',\n",
       " u'bath_style_1',\n",
       " u'bath_style_2',\n",
       " u'url',\n",
       " u'kindergarten',\n",
       " u'elementary_school',\n",
       " u'school',\n",
       " u'convenient_store',\n",
       " u'super_market',\n",
       " u'post_office',\n",
       " u'library',\n",
       " u'drug_store',\n",
       " u'restaurant',\n",
       " u'bank',\n",
       " u'general_hospital',\n",
       " u'hospital',\n",
       " u'park',\n",
       " u'university',\n",
       " u'rental_video',\n",
       " u'cleaning_shop',\n",
       " u'department_store',\n",
       " u'has_K',\n",
       " u'has_L',\n",
       " u'has_D',\n",
       " u'has_S',\n",
       " u'the_number_of_rooms',\n",
       " u'isNull_locality',\n",
       " u'isNull_buildings_height',\n",
       " u'isNull_buildings_undergrand',\n",
       " u'isNull_total_units',\n",
       " u'isNull_balcony',\n",
       " u'isNull_shower',\n",
       " u'isNull_bath_drier',\n",
       " u'isNull_washlet',\n",
       " u'isNull_toilet_style',\n",
       " u'isNull_bathhouse',\n",
       " u'isNull_water_heater',\n",
       " u'isNull_system_kitchen',\n",
       " u'isNull_counter_kitchen',\n",
       " u'isNull_independent_kitchen',\n",
       " u'isNull_L_kitchen',\n",
       " u'isNull_refrigerator',\n",
       " u'isNull_gas_stove',\n",
       " u'isNull_IH_stove',\n",
       " u'isNull_electric_stove',\n",
       " u'isNull_stove_num',\n",
       " u'isNull_office',\n",
       " u'isNull_instrument',\n",
       " u'isNull_togather',\n",
       " u'isNull_share',\n",
       " u'isNull_foreigner',\n",
       " u'isNull_pet',\n",
       " u'isNull_male',\n",
       " u'isNull_female',\n",
       " u'isNull_kindergarten',\n",
       " u'isNull_elementary_school',\n",
       " u'isNull_school',\n",
       " u'isNull_convenient_store',\n",
       " u'isNull_super_market',\n",
       " u'isNull_post_office',\n",
       " u'isNull_library',\n",
       " u'isNull_drug_store',\n",
       " u'isNull_restaurant',\n",
       " u'isNull_bank',\n",
       " u'isNull_general_hospital',\n",
       " u'isNull_hospital',\n",
       " u'isNull_park',\n",
       " u'isNull_university',\n",
       " u'isNull_rental_video',\n",
       " u'isNull_cleaning_shop',\n",
       " u'isNull_department_store',\n",
       " u'isNull_the_number_of_rooms',\n",
       " u'locality_Null_to_Zero',\n",
       " u'buildings_height_Null_to_Zero',\n",
       " u'buildings_undergrand_Null_to_Zero',\n",
       " u'total_units_Null_to_Zero',\n",
       " u'balcony_Null_to_Zero',\n",
       " u'shower_Null_to_Zero',\n",
       " u'bath_drier_Null_to_Zero',\n",
       " u'washlet_Null_to_Zero',\n",
       " u'toilet_style_Null_to_Zero',\n",
       " u'bathhouse_Null_to_Zero',\n",
       " u'water_heater_Null_to_Zero',\n",
       " u'system_kitchen_Null_to_Zero',\n",
       " u'counter_kitchen_Null_to_Zero',\n",
       " u'independent_kitchen_Null_to_Zero',\n",
       " u'L_kitchen_Null_to_Zero',\n",
       " u'refrigerator_Null_to_Zero',\n",
       " u'gas_stove_Null_to_Zero',\n",
       " u'IH_stove_Null_to_Zero',\n",
       " u'electric_stove_Null_to_Zero',\n",
       " u'stove_num_Null_to_Zero',\n",
       " u'office_Null_to_Zero',\n",
       " u'instrument_Null_to_Zero',\n",
       " u'togather_Null_to_Zero',\n",
       " u'share_Null_to_Zero',\n",
       " u'foreigner_Null_to_Zero',\n",
       " u'pet_Null_to_Zero',\n",
       " u'male_Null_to_Zero',\n",
       " u'female_Null_to_Zero',\n",
       " u'kindergarten_Null_to_Zero',\n",
       " u'elementary_school_Null_to_Zero',\n",
       " u'school_Null_to_Zero',\n",
       " u'convenient_store_Null_to_Zero',\n",
       " u'super_market_Null_to_Zero',\n",
       " u'post_office_Null_to_Zero',\n",
       " u'library_Null_to_Zero',\n",
       " u'drug_store_Null_to_Zero',\n",
       " u'restaurant_Null_to_Zero',\n",
       " u'bank_Null_to_Zero',\n",
       " u'general_hospital_Null_to_Zero',\n",
       " u'hospital_Null_to_Zero',\n",
       " u'park_Null_to_Zero',\n",
       " u'university_Null_to_Zero',\n",
       " u'rental_video_Null_to_Zero',\n",
       " u'cleaning_shop_Null_to_Zero',\n",
       " u'department_store_Null_to_Zero',\n",
       " u'the_number_of_rooms_Null_to_Zero',\n",
       " u'altitude',\n",
       " u'latitude']"
      ]
     },
     "execution_count": 214,
     "metadata": {},
     "output_type": "execute_result"
    }
   ],
   "source": [
    "list(data.columns)"
   ]
  },
  {
   "cell_type": "code",
   "execution_count": 63,
   "metadata": {
    "collapsed": true
   },
   "outputs": [
    {
     "name": "stdout",
     "output_type": "stream",
     "text": [
      "inputting \"\" terminates this program\n",
      "Enter location: tokyo\n"
     ]
    },
    {
     "ename": "NameError",
     "evalue": "name 'tokyo' is not defined",
     "output_type": "error",
     "traceback": [
      "\u001b[1;31m---------------------------------------------------------------------------\u001b[0m",
      "\u001b[1;31mNameError\u001b[0m                                 Traceback (most recent call last)",
      "\u001b[1;32m<ipython-input-63-721ee8c7d1c1>\u001b[0m in \u001b[0;36m<module>\u001b[1;34m()\u001b[0m\n\u001b[0;32m      4\u001b[0m \u001b[1;33m\u001b[0m\u001b[0m\n\u001b[0;32m      5\u001b[0m \u001b[1;32mwhile\u001b[0m \u001b[0mTrue\u001b[0m\u001b[1;33m:\u001b[0m\u001b[1;33m\u001b[0m\u001b[0m\n\u001b[1;32m----> 6\u001b[1;33m     \u001b[0maddress\u001b[0m \u001b[1;33m=\u001b[0m \u001b[0minput\u001b[0m\u001b[1;33m(\u001b[0m\u001b[1;34m'Enter location: '\u001b[0m\u001b[1;33m)\u001b[0m\u001b[1;33m\u001b[0m\u001b[0m\n\u001b[0m\u001b[0;32m      7\u001b[0m     \u001b[1;32mif\u001b[0m \u001b[0mlen\u001b[0m\u001b[1;33m(\u001b[0m\u001b[0maddress\u001b[0m\u001b[1;33m)\u001b[0m \u001b[1;33m<\u001b[0m \u001b[1;36m1\u001b[0m \u001b[1;33m:\u001b[0m \u001b[1;32mbreak\u001b[0m\u001b[1;33m\u001b[0m\u001b[0m\n\u001b[0;32m      8\u001b[0m \u001b[1;33m\u001b[0m\u001b[0m\n",
      "\u001b[1;32mC:\\Anaconda\\lib\\site-packages\\ipykernel\\ipkernel.pyc\u001b[0m in \u001b[0;36m<lambda>\u001b[1;34m(prompt)\u001b[0m\n\u001b[0;32m    162\u001b[0m             \u001b[0mself\u001b[0m\u001b[1;33m.\u001b[0m\u001b[0m_sys_eval_input\u001b[0m \u001b[1;33m=\u001b[0m \u001b[0mbuiltin_mod\u001b[0m\u001b[1;33m.\u001b[0m\u001b[0minput\u001b[0m\u001b[1;33m\u001b[0m\u001b[0m\n\u001b[0;32m    163\u001b[0m             \u001b[0mbuiltin_mod\u001b[0m\u001b[1;33m.\u001b[0m\u001b[0mraw_input\u001b[0m \u001b[1;33m=\u001b[0m \u001b[0mself\u001b[0m\u001b[1;33m.\u001b[0m\u001b[0mraw_input\u001b[0m\u001b[1;33m\u001b[0m\u001b[0m\n\u001b[1;32m--> 164\u001b[1;33m             \u001b[0mbuiltin_mod\u001b[0m\u001b[1;33m.\u001b[0m\u001b[0minput\u001b[0m \u001b[1;33m=\u001b[0m \u001b[1;32mlambda\u001b[0m \u001b[0mprompt\u001b[0m\u001b[1;33m=\u001b[0m\u001b[1;34m''\u001b[0m\u001b[1;33m:\u001b[0m \u001b[0meval\u001b[0m\u001b[1;33m(\u001b[0m\u001b[0mself\u001b[0m\u001b[1;33m.\u001b[0m\u001b[0mraw_input\u001b[0m\u001b[1;33m(\u001b[0m\u001b[0mprompt\u001b[0m\u001b[1;33m)\u001b[0m\u001b[1;33m)\u001b[0m\u001b[1;33m\u001b[0m\u001b[0m\n\u001b[0m\u001b[0;32m    165\u001b[0m         \u001b[0mself\u001b[0m\u001b[1;33m.\u001b[0m\u001b[0m_save_getpass\u001b[0m \u001b[1;33m=\u001b[0m \u001b[0mgetpass\u001b[0m\u001b[1;33m.\u001b[0m\u001b[0mgetpass\u001b[0m\u001b[1;33m\u001b[0m\u001b[0m\n\u001b[0;32m    166\u001b[0m         \u001b[0mgetpass\u001b[0m\u001b[1;33m.\u001b[0m\u001b[0mgetpass\u001b[0m \u001b[1;33m=\u001b[0m \u001b[0mself\u001b[0m\u001b[1;33m.\u001b[0m\u001b[0mgetpass\u001b[0m\u001b[1;33m\u001b[0m\u001b[0m\n",
      "\u001b[1;32mC:\\Anaconda\\lib\\site-packages\\ipykernel\\ipkernel.pyc\u001b[0m in \u001b[0;36m<module>\u001b[1;34m()\u001b[0m\n",
      "\u001b[1;31mNameError\u001b[0m: name 'tokyo' is not defined"
     ]
    }
   ],
   "source": [
    "serviceurl = 'http://maps.googleapis.com/maps/api/geocode/xml?'\n",
    "\n",
    "print(\"inputting \\\"\\\" terminates this program\")\n",
    "\n",
    "while True:\n",
    "    address = input('Enter location: ')\n",
    "    if len(address) < 1 : break\n",
    "    \n",
    "    # Python3 系：urllib.parse.urlencode()\n",
    "    url = serviceurl + urllib.urlencode({'sensor':'false', 'address': address})\n",
    "    print ('Retrieving', url)\n",
    "    uh = urllib.request.urlopen(url)\n",
    "    data = uh.read()\n",
    "    print ('Retrieved',len(data),'characters')\n",
    "    print (data)\n",
    "    print ()\n",
    "    tree = ET.fromstring(data)\n",
    "\n",
    "\n",
    "    results = tree.findall('result')\n",
    "    lat = results[0].find('geometry').find('location').find('lat').text\n",
    "    lng = results[0].find('geometry').find('location').find('lng').text\n",
    "    location = results[0].find('formatted_address').text\n",
    "\n",
    "    print ('lat',lat,'lng',lng)\n",
    "    print (location)\n",
    "    "
   ]
  }
 ],
 "metadata": {
  "anaconda-cloud": {},
  "kernelspec": {
   "display_name": "Python [Root]",
   "language": "python",
   "name": "Python [Root]"
  },
  "language_info": {
   "codemirror_mode": {
    "name": "ipython",
    "version": 3
   },
   "file_extension": ".py",
   "mimetype": "text/x-python",
   "name": "python",
   "nbconvert_exporter": "python",
   "pygments_lexer": "ipython3",
   "version": "3.5.2"
  }
 },
 "nbformat": 4,
 "nbformat_minor": 1
}
