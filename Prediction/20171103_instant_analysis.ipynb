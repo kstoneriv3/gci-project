{
 "cells": [
  {
   "cell_type": "code",
   "execution_count": 2,
   "metadata": {
    "collapsed": true
   },
   "outputs": [],
   "source": [
    "import numpy as np\n",
    "import pandas as pd\n",
    "import matplotlib.pyplot as plt\n",
    "import seaborn as sns"
   ]
  },
  {
   "cell_type": "code",
   "execution_count": 3,
   "metadata": {
    "collapsed": false,
    "scrolled": false
   },
   "outputs": [],
   "source": [
    "data = pd.read_csv(\"../../gci_project_storage/mynavi_data.csv\", encoding=\"SHIFT-JIS\")"
   ]
  },
  {
   "cell_type": "code",
   "execution_count": 4,
   "metadata": {
    "collapsed": false
   },
   "outputs": [
    {
     "data": {
      "text/plain": [
       "(46469, 110)"
      ]
     },
     "execution_count": 4,
     "metadata": {},
     "output_type": "execute_result"
    }
   ],
   "source": [
    "data.shape"
   ]
  },
  {
   "cell_type": "code",
   "execution_count": 5,
   "metadata": {
    "collapsed": false
   },
   "outputs": [],
   "source": [
    "#文字列以外の変数でインスタントに分析を抽出\n",
    "non_str_cols = data.columns[data.dtypes!=\"object\"]\n",
    "data_instant = data[non_str_cols]\n",
    "\n",
    "#欠損値の回避\n",
    "data_instant = data_instant[data_instant.columns[data_instant.isnull().sum()<10000]]\n",
    "data_instant = data_instant.dropna()"
   ]
  },
  {
   "cell_type": "markdown",
   "metadata": {},
   "source": [
    "<h3>回帰とランダムフォレストで交差検証でスコア(決定係数)を計算してみる<br>\n",
    "\n",
    "\\begin{eqnarray}\n",
    "R^2 = \n",
    "1-\\frac{RSS}{TSS} \n",
    "\\end{eqnarray}"
   ]
  },
  {
   "cell_type": "code",
   "execution_count": 6,
   "metadata": {
    "collapsed": false
   },
   "outputs": [
    {
     "name": "stdout",
     "output_type": "stream",
     "text": [
      "Before permutation:\n",
      "      area  deposit  key_money  flooring  locality\n",
      "0   19.87    77000      77000         0       2.0\n",
      "5   25.19    90000      90000         1       4.0\n",
      "9   27.54    94000      94000         1       4.0\n",
      "10  27.54    94000      94000         1       4.0 \n",
      "\n",
      "After permutation:\n",
      "         area  deposit  key_money  flooring  locality\n",
      "11037  33.69   130000     130000         1       7.0\n",
      "34528  20.14    57000          0         1       2.0\n",
      "22224  41.83   118000          0         1       1.0\n",
      "45089  39.60    77000          0         0       2.0\n"
     ]
    }
   ],
   "source": [
    "#インスタントな回帰/ランダムフォレスト分析\n",
    "X = data_instant[data_instant.columns[data_instant.columns!=\"rent\"]]\n",
    "y = data_instant.rent\n",
    "\n",
    "# 交差検証に向けてインデックスをランダムに置換\n",
    "print(\"Before permutation:\\n\", X.head(4).iloc[:,:5] ,\"\\n\")\n",
    "X = X.reindex(np.random.permutation(X.index))\n",
    "print(\"After permutation:\\n\", X.head(4).iloc[:,:5])"
   ]
  },
  {
   "cell_type": "code",
   "execution_count": 7,
   "metadata": {
    "collapsed": false
   },
   "outputs": [],
   "source": [
    "from sklearn.linear_model import LinearRegression\n",
    "from sklearn.ensemble import RandomForestRegressor\n",
    "from sklearn.cross_validation import cross_val_score"
   ]
  },
  {
   "cell_type": "code",
   "execution_count": 8,
   "metadata": {
    "collapsed": false
   },
   "outputs": [
    {
     "name": "stdout",
     "output_type": "stream",
     "text": [
      "LinearRegression    \tMean_score:\t [ -9.33392611e-02  -3.08138206e-03  -2.13861701e+02  -1.21018356e+00]\n",
      "RandomForestRegressor    \tMean_score:\t [-0.29556252 -0.3329533  -0.08977756 -3.09308819]\n"
     ]
    }
   ],
   "source": [
    "#交差検証に向けて、model の List を作る\n",
    "models = [\n",
    "    LinearRegression(),\n",
    "    RandomForestRegressor() \n",
    "]\n",
    "#スコアの計算\n",
    "for model in models:\n",
    "    scores = cross_val_score(model, X, y,cv=4)\n",
    "    print(model.__class__.__name__, \"   \\tMean_score:\\t\", scores )"
   ]
  },
  {
   "cell_type": "code",
   "execution_count": 9,
   "metadata": {
    "collapsed": false
   },
   "outputs": [
    {
     "data": {
      "text/plain": [
       "-3.2890495651357652"
      ]
     },
     "execution_count": 9,
     "metadata": {},
     "output_type": "execute_result"
    }
   ],
   "source": [
    "model = models[1]\n",
    "model.fit(X.iloc[:20000,],y.iloc[:20000,])\n",
    "model.score(X.iloc[20000:,],y.iloc[20000:,])"
   ]
  },
  {
   "cell_type": "code",
   "execution_count": 10,
   "metadata": {
    "collapsed": false
   },
   "outputs": [
    {
     "data": {
      "text/plain": [
       "0.70843505059009404"
      ]
     },
     "execution_count": 10,
     "metadata": {},
     "output_type": "execute_result"
    }
   ],
   "source": [
    "model = models[1]\n",
    "model.fit(X,y)\n",
    "model.score(X,y)"
   ]
  },
  {
   "cell_type": "code",
   "execution_count": 11,
   "metadata": {
    "collapsed": false,
    "scrolled": true
   },
   "outputs": [
    {
     "data": {
      "text/html": [
       "<div>\n",
       "<table border=\"1\" class=\"dataframe\">\n",
       "  <thead>\n",
       "    <tr style=\"text-align: right;\">\n",
       "      <th></th>\n",
       "      <th>area</th>\n",
       "      <th>deposit</th>\n",
       "      <th>key_money</th>\n",
       "      <th>flooring</th>\n",
       "      <th>locality</th>\n",
       "      <th>buildings_height</th>\n",
       "      <th>parking</th>\n",
       "      <th>status</th>\n",
       "      <th>structure</th>\n",
       "      <th>transaction_type</th>\n",
       "      <th>...</th>\n",
       "      <th>status_4</th>\n",
       "      <th>transaction_type_1</th>\n",
       "      <th>transaction_type_2</th>\n",
       "      <th>transaction_type_3</th>\n",
       "      <th>transaction_type_4</th>\n",
       "      <th>transaction_type_5</th>\n",
       "      <th>transaction_type_6</th>\n",
       "      <th>bath_style_0</th>\n",
       "      <th>bath_style_1</th>\n",
       "      <th>bath_style_2</th>\n",
       "    </tr>\n",
       "  </thead>\n",
       "  <tbody>\n",
       "    <tr>\n",
       "      <th>11037</th>\n",
       "      <td>33.69</td>\n",
       "      <td>130000</td>\n",
       "      <td>130000</td>\n",
       "      <td>1</td>\n",
       "      <td>7.0</td>\n",
       "      <td>7.0</td>\n",
       "      <td>0</td>\n",
       "      <td>2.0</td>\n",
       "      <td>4</td>\n",
       "      <td>5</td>\n",
       "      <td>...</td>\n",
       "      <td>0</td>\n",
       "      <td>0</td>\n",
       "      <td>0</td>\n",
       "      <td>0</td>\n",
       "      <td>0</td>\n",
       "      <td>1</td>\n",
       "      <td>0</td>\n",
       "      <td>0</td>\n",
       "      <td>0</td>\n",
       "      <td>0</td>\n",
       "    </tr>\n",
       "    <tr>\n",
       "      <th>34528</th>\n",
       "      <td>20.14</td>\n",
       "      <td>57000</td>\n",
       "      <td>0</td>\n",
       "      <td>1</td>\n",
       "      <td>2.0</td>\n",
       "      <td>5.0</td>\n",
       "      <td>0</td>\n",
       "      <td>2.0</td>\n",
       "      <td>4</td>\n",
       "      <td>6</td>\n",
       "      <td>...</td>\n",
       "      <td>0</td>\n",
       "      <td>0</td>\n",
       "      <td>0</td>\n",
       "      <td>0</td>\n",
       "      <td>0</td>\n",
       "      <td>0</td>\n",
       "      <td>1</td>\n",
       "      <td>0</td>\n",
       "      <td>0</td>\n",
       "      <td>1</td>\n",
       "    </tr>\n",
       "    <tr>\n",
       "      <th>22224</th>\n",
       "      <td>41.83</td>\n",
       "      <td>118000</td>\n",
       "      <td>0</td>\n",
       "      <td>1</td>\n",
       "      <td>1.0</td>\n",
       "      <td>4.0</td>\n",
       "      <td>0</td>\n",
       "      <td>2.0</td>\n",
       "      <td>4</td>\n",
       "      <td>1</td>\n",
       "      <td>...</td>\n",
       "      <td>0</td>\n",
       "      <td>1</td>\n",
       "      <td>0</td>\n",
       "      <td>0</td>\n",
       "      <td>0</td>\n",
       "      <td>0</td>\n",
       "      <td>0</td>\n",
       "      <td>0</td>\n",
       "      <td>0</td>\n",
       "      <td>1</td>\n",
       "    </tr>\n",
       "    <tr>\n",
       "      <th>45089</th>\n",
       "      <td>39.60</td>\n",
       "      <td>77000</td>\n",
       "      <td>0</td>\n",
       "      <td>0</td>\n",
       "      <td>2.0</td>\n",
       "      <td>2.0</td>\n",
       "      <td>1</td>\n",
       "      <td>2.0</td>\n",
       "      <td>10</td>\n",
       "      <td>1</td>\n",
       "      <td>...</td>\n",
       "      <td>0</td>\n",
       "      <td>1</td>\n",
       "      <td>0</td>\n",
       "      <td>0</td>\n",
       "      <td>0</td>\n",
       "      <td>0</td>\n",
       "      <td>0</td>\n",
       "      <td>0</td>\n",
       "      <td>0</td>\n",
       "      <td>1</td>\n",
       "    </tr>\n",
       "    <tr>\n",
       "      <th>32087</th>\n",
       "      <td>19.00</td>\n",
       "      <td>118000</td>\n",
       "      <td>118000</td>\n",
       "      <td>1</td>\n",
       "      <td>2.0</td>\n",
       "      <td>2.0</td>\n",
       "      <td>0</td>\n",
       "      <td>2.0</td>\n",
       "      <td>7</td>\n",
       "      <td>6</td>\n",
       "      <td>...</td>\n",
       "      <td>0</td>\n",
       "      <td>0</td>\n",
       "      <td>0</td>\n",
       "      <td>0</td>\n",
       "      <td>0</td>\n",
       "      <td>0</td>\n",
       "      <td>1</td>\n",
       "      <td>0</td>\n",
       "      <td>0</td>\n",
       "      <td>1</td>\n",
       "    </tr>\n",
       "  </tbody>\n",
       "</table>\n",
       "<p>5 rows × 79 columns</p>\n",
       "</div>"
      ],
      "text/plain": [
       "        area  deposit  key_money  flooring  locality  buildings_height  \\\n",
       "11037  33.69   130000     130000         1       7.0               7.0   \n",
       "34528  20.14    57000          0         1       2.0               5.0   \n",
       "22224  41.83   118000          0         1       1.0               4.0   \n",
       "45089  39.60    77000          0         0       2.0               2.0   \n",
       "32087  19.00   118000     118000         1       2.0               2.0   \n",
       "\n",
       "       parking  status  structure  transaction_type      ...       status_4  \\\n",
       "11037        0     2.0          4                 5      ...              0   \n",
       "34528        0     2.0          4                 6      ...              0   \n",
       "22224        0     2.0          4                 1      ...              0   \n",
       "45089        1     2.0         10                 1      ...              0   \n",
       "32087        0     2.0          7                 6      ...              0   \n",
       "\n",
       "       transaction_type_1  transaction_type_2  transaction_type_3  \\\n",
       "11037                   0                   0                   0   \n",
       "34528                   0                   0                   0   \n",
       "22224                   1                   0                   0   \n",
       "45089                   1                   0                   0   \n",
       "32087                   0                   0                   0   \n",
       "\n",
       "       transaction_type_4  transaction_type_5  transaction_type_6  \\\n",
       "11037                   0                   1                   0   \n",
       "34528                   0                   0                   1   \n",
       "22224                   0                   0                   0   \n",
       "45089                   0                   0                   0   \n",
       "32087                   0                   0                   1   \n",
       "\n",
       "       bath_style_0  bath_style_1  bath_style_2  \n",
       "11037             0             0             0  \n",
       "34528             0             0             1  \n",
       "22224             0             0             1  \n",
       "45089             0             0             1  \n",
       "32087             0             0             1  \n",
       "\n",
       "[5 rows x 79 columns]"
      ]
     },
     "execution_count": 11,
     "metadata": {},
     "output_type": "execute_result"
    }
   ],
   "source": [
    "X.iloc[:20000,].head()"
   ]
  },
  {
   "cell_type": "code",
   "execution_count": 12,
   "metadata": {
    "collapsed": false
   },
   "outputs": [],
   "source": [
    "#価格と面積のプロット\n",
    "plt.plot(data.area,data.rent,'o')\n",
    "plt.xlim(0,350)\n",
    "plt.show()"
   ]
  },
  {
   "cell_type": "code",
   "execution_count": null,
   "metadata": {
    "collapsed": true
   },
   "outputs": [],
   "source": []
  }
 ],
 "metadata": {
  "anaconda-cloud": {},
  "kernelspec": {
   "display_name": "Python [Root]",
   "language": "python",
   "name": "Python [Root]"
  },
  "language_info": {
   "codemirror_mode": {
    "name": "ipython",
    "version": 3
   },
   "file_extension": ".py",
   "mimetype": "text/x-python",
   "name": "python",
   "nbconvert_exporter": "python",
   "pygments_lexer": "ipython3",
   "version": "3.5.2"
  }
 },
 "nbformat": 4,
 "nbformat_minor": 0
}
