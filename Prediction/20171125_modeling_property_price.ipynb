{
 "cells": [
  {
   "cell_type": "code",
   "execution_count": 1,
   "metadata": {
    "collapsed": true
   },
   "outputs": [],
   "source": [
    "import pandas as pd\n",
    "import numpy as np\n",
    "import math\n",
    "import pickle\n",
    "from sqlalchemy import create_engine\n",
    "from matplotlib import pyplot as plt"
   ]
  },
  {
   "cell_type": "code",
   "execution_count": 2,
   "metadata": {
    "collapsed": true
   },
   "outputs": [],
   "source": [
    "# データベースの情報\n",
    "server = 'gciteam16.database.windows.net'\n",
    "database = 'mynavi-database'\n",
    "username = 'gciteam16'\n",
    "password = 'Password0'\n",
    "port =1433"
   ]
  },
  {
   "cell_type": "code",
   "execution_count": 3,
   "metadata": {
    "collapsed": true
   },
   "outputs": [],
   "source": [
    "# 接続エンジンの作成\n",
    "engine_config = \"?driver=ODBC+Driver+13+for+SQL+Server?charset=shift-jis\"\n",
    "db_settings = {\n",
    "    \"host\": server,\n",
    "    \"database\": database,\n",
    "    \"user\": username,\n",
    "    \"password\": password,\n",
    "    \"port\":port,\n",
    "    \"config_query\":engine_config\n",
    "}\n",
    "engine = create_engine('mssql+pyodbc://{user}:{password}@{host}:{port}/{database}{config_query}'.format(**db_settings))"
   ]
  },
  {
   "cell_type": "code",
   "execution_count": 4,
   "metadata": {
    "collapsed": true
   },
   "outputs": [],
   "source": [
    "query = \"SELECT * FROM analytical_data_table\"\n",
    "analytical_data = pd.read_sql(query, con=engine)"
   ]
  },
  {
   "cell_type": "code",
   "execution_count": 5,
   "metadata": {
    "collapsed": true
   },
   "outputs": [],
   "source": [
    "#with open('../../gci_project_storage/analytical_data.pickle', mode='rb') as f:\n",
    "#     analytical_data = pickle.load(f)"
   ]
  },
  {
   "cell_type": "markdown",
   "metadata": {},
   "source": [
    "# 分析データの確認"
   ]
  },
  {
   "cell_type": "code",
   "execution_count": 147,
   "metadata": {
    "scrolled": true
   },
   "outputs": [
    {
     "data": {
      "image/png": "[encoded data removed]",
      "text/plain": [
       "<matplotlib.figure.Figure at 0x28c906e2e80>"
      ]
     },
     "metadata": {},
     "output_type": "display_data"
    }
   ],
   "source": [
    "# 場所をプロット\n",
    "plt.scatter(analytical_data.address_lat, analytical_data.address_lng,s=0.2,alpha=0.4)\n",
    "plt.show()"
   ]
  },
  {
   "cell_type": "markdown",
   "metadata": {},
   "source": [
    "<h3>データ整形"
   ]
  },
  {
   "cell_type": "code",
   "execution_count": 5,
   "metadata": {
    "collapsed": true
   },
   "outputs": [],
   "source": [
    "analytical_data = analytical_data.reindex(np.random.permutation(analytical_data.index))"
   ]
  },
  {
   "cell_type": "code",
   "execution_count": 6,
   "metadata": {
    "collapsed": true,
    "scrolled": true
   },
   "outputs": [],
   "source": [
    "X = analytical_data.iloc[:,3:]\n",
    "y = analytical_data.iloc[:,:3].rent"
   ]
  },
  {
   "cell_type": "markdown",
   "metadata": {},
   "source": [
    "<h3>交差検証"
   ]
  },
  {
   "cell_type": "code",
   "execution_count": 7,
   "metadata": {},
   "outputs": [
    {
     "name": "stderr",
     "output_type": "stream",
     "text": [
      "C:\\Anaconda\\envs\\py35\\lib\\site-packages\\sklearn\\cross_validation.py:41: DeprecationWarning: This module was deprecated in version 0.18 in favor of the model_selection module into which all the refactored classes and functions are moved. Also note that the interface of the new CV iterators are different from that of this module. This module will be removed in 0.20.\n",
      "  \"This module will be removed in 0.20.\", DeprecationWarning)\n"
     ]
    }
   ],
   "source": [
    "from sklearn.linear_model import LinearRegression\n",
    "from sklearn.linear_model import Lasso\n",
    "from sklearn.linear_model import Ridge\n",
    "from sklearn.ensemble import RandomForestRegressor\n",
    "from sklearn.svm import LinearSVR\n",
    "from sklearn.cross_validation import cross_val_score\n",
    "\n",
    "models = [\n",
    "    LinearRegression()\n",
    "    ,Lasso(alpha=0.05)\n",
    "    ,Lasso(alpha=0.1)\n",
    "    ,Lasso(alpha=0.2)\n",
    "    ,Ridge(alpha=0.05)\n",
    "    ,Ridge(alpha=0.1)\n",
    "    ,Ridge(alpha=0.2)\n",
    "    ,RandomForestRegressor(n_estimators=100)\n",
    "    ,LinearSVR()\n",
    "    ]"
   ]
  },
  {
   "cell_type": "code",
   "execution_count": 156,
   "metadata": {
    "scrolled": true
   },
   "outputs": [
    {
     "name": "stdout",
     "output_type": "stream",
     "text": [
      "LinearRegression    \tscores:\t [ 0.78194568  0.80491104  0.81293948  0.83214763]\n",
      "Lasso    \tscores:\t [ 0.71108627  0.73030789  0.76724052  0.76814043]\n",
      "Lasso    \tscores:\t [ 0.70000653  0.71853667  0.76049695  0.75916611]\n",
      "Lasso    \tscores:\t [ 0.69082459  0.70501728  0.75517947  0.75018223]\n",
      "Ridge    \tscores:\t [ 0.78211344  0.80556406  0.81276457  0.83494342]\n",
      "Ridge    \tscores:\t [ 0.78214145  0.80565627  0.81216862  0.83617512]\n",
      "Ridge    \tscores:\t [ 0.78210725  0.80561932  0.8111891   0.83771443]\n",
      "RandomForestRegressor    \tscores:\t [ 0.86531195  0.8586472   0.94215341  0.94436866]\n",
      "LinearSVR    \tscores:\t [ 0.68507747  0.71285068  0.73260475  0.75586104]\n"
     ]
    }
   ],
   "source": [
    "for model in models:\n",
    "    scores = cross_val_score(model, X, y,cv=4)\n",
    "    print(model.__class__.__name__, \"   \\tscores:\\t\", scores )"
   ]
  },
  {
   "cell_type": "markdown",
   "metadata": {},
   "source": [
    "<h3>重要度を確認"
   ]
  },
  {
   "cell_type": "code",
   "execution_count": 157,
   "metadata": {
    "scrolled": true
   },
   "outputs": [
    {
     "data": {
      "text/plain": [
       "RandomForestRegressor(bootstrap=True, criterion='mse', max_depth=None,\n",
       "           max_features='auto', max_leaf_nodes=None,\n",
       "           min_impurity_decrease=0.0, min_impurity_split=None,\n",
       "           min_samples_leaf=1, min_samples_split=2,\n",
       "           min_weight_fraction_leaf=0.0, n_estimators=200, n_jobs=1,\n",
       "           oob_score=False, random_state=None, verbose=0, warm_start=False)"
      ]
     },
     "execution_count": 157,
     "metadata": {},
     "output_type": "execute_result"
    }
   ],
   "source": [
    "model_r = RandomForestRegressor(n_estimators=200)\n",
    "model_r.fit(X,y)"
   ]
  },
  {
   "cell_type": "code",
   "execution_count": 273,
   "metadata": {},
   "outputs": [
    {
     "name": "stdout",
     "output_type": "stream",
     "text": [
      "駅の重要度合計： 0.0668912492262\n",
      "間取りの重要度合計： 0.0013211907461\n",
      "area                                7.223198e-01\n",
      "address_lat                         5.000768e-02\n",
      "year_built                          4.205656e-02\n",
      "address_lng                         3.268858e-02\n",
      "auto_lock                           2.242833e-02\n",
      "渋谷駅                                 2.176416e-02\n",
      "buildings_height_Null_to_Zero       9.735601e-03\n",
      "恵比寿駅                                8.978834e-03\n",
      "refrigerator_Null_to_Zero           7.050143e-03\n",
      "表参道駅                                5.743465e-03\n",
      "total_units_Null_to_Zero            4.873921e-03\n",
      "locality_Null_to_Zero               4.341902e-03\n",
      "代々木公園駅                              4.103995e-03\n",
      "明治神宮前駅                              3.038036e-03\n",
      "bath_drier_Null_to_Zero             2.848468e-03\n",
      "原宿駅                                 1.977428e-03\n",
      "structure                           1.837844e-03\n",
      "代々木八幡駅                              1.637615e-03\n",
      "北参道駅                                1.587095e-03\n",
      "top_floor                           1.583000e-03\n",
      "stove_num_Null_to_Zero              1.456052e-03\n",
      "structure_4                         1.432200e-03\n",
      "代官山駅                                1.233981e-03\n",
      "the_number_of_rooms_Null_to_Zero    1.165165e-03\n",
      "the_number_of_rooms                 1.146308e-03\n",
      "千歳烏山駅                               1.136227e-03\n",
      "counter_kitchen_Null_to_Zero        1.032822e-03\n",
      "参宮橋駅                                8.998703e-04\n",
      "immediate                           8.927806e-04\n",
      "flooring                            8.920006e-04\n",
      "                                        ...     \n",
      "飛鳥山駅                                6.845331e-08\n",
      "御嶽山駅                                4.553261e-08\n",
      "淡路町駅                                3.855163e-08\n",
      "信濃町駅                                2.715075e-08\n",
      "熊野前駅                                2.561647e-08\n",
      "isNull_office                       2.478934e-08\n",
      "宮ノ前駅                                2.300611e-08\n",
      "西新宿駅                                1.285048e-08\n",
      "中野駅                                 9.006295e-09\n",
      "新井薬師前駅                              7.895540e-09\n",
      "西永福駅                                7.865886e-09\n",
      "高円寺駅                                6.852395e-09\n",
      "押上駅                                 6.341594e-09\n",
      "西新井駅                                5.079577e-09\n",
      "阿佐ケ谷駅                               4.971795e-09\n",
      "井の頭公園駅                              4.741955e-09\n",
      "office_Null_to_Zero                 3.449074e-09\n",
      "structure_6                         1.623082e-09\n",
      "牛込柳町駅                               1.251041e-09\n",
      "北千住駅                                2.606044e-10\n",
      "和泉多摩川駅                              1.840172e-10\n",
      "戸田公園駅                               1.115167e-10\n",
      "人形町駅                                0.000000e+00\n",
      "has_K                               0.000000e+00\n",
      "浜町駅                                 0.000000e+00\n",
      "has_L                               0.000000e+00\n",
      "has_D                               0.000000e+00\n",
      "has_S                               0.000000e+00\n",
      "isNull_the_number_of_rooms          0.000000e+00\n",
      "structure_8                         0.000000e+00\n",
      "Length: 432, dtype: float64\n"
     ]
    }
   ],
   "source": [
    "importance = pd.Series(model_r.feature_importances_,index=X.columns)\n",
    "print(\"駅の重要度合計：\",importance[145:].sum())\n",
    "print(\"間取りの重要度合計：\",importance[50:55].sum())\n",
    "print(importance.sort_values(ascending=False))"
   ]
  },
  {
   "cell_type": "markdown",
   "metadata": {},
   "source": [
    "<h3>緯度経度で決定木どれだけ精度出せるか確認"
   ]
  },
  {
   "cell_type": "code",
   "execution_count": 83,
   "metadata": {
    "scrolled": true
   },
   "outputs": [
    {
     "name": "stdout",
     "output_type": "stream",
     "text": [
      "0.251574482003\n"
     ]
    }
   ],
   "source": [
    "from sklearn.tree import DecisionTreeRegressor\n",
    "X_place = analytical_data[[\"address_lat\",\"address_lng\"]]\n",
    "model_toy = DecisionTreeRegressor()\n",
    "model_toy.fit(X_place.iloc[:20000,:],y[:20000])\n",
    "print(model_toy.score(X_place.iloc[20000:,:],y[20000:]))"
   ]
  },
  {
   "cell_type": "markdown",
   "metadata": {},
   "source": [
    "<h3>最も高い駅を見つける"
   ]
  },
  {
   "cell_type": "code",
   "execution_count": 163,
   "metadata": {
    "scrolled": true
   },
   "outputs": [
    {
     "name": "stdout",
     "output_type": "stream",
     "text": [
      "表参道駅      50.882314\n",
      "明治神宮前駅    33.629521\n",
      "代々木公園駅    32.165754\n",
      "広尾駅       27.795953\n",
      "恵比寿駅      16.995465\n",
      "渋谷駅       13.489225\n",
      "富士見ケ丘駅    11.618275\n",
      "飯田橋駅       9.405590\n",
      "参宮橋駅       8.027077\n",
      "代官山駅       7.988365\n",
      "dtype: float64\n"
     ]
    }
   ],
   "source": [
    "model_toy2 = Ridge(alpha=0.1)\n",
    "model_toy2.fit(X,y)\n",
    "coefficients = pd.Series(model_toy2.coef_,index=X.columns)[145:].sort_values(ascending=False)\n",
    "print(coefficients[:10])"
   ]
  },
  {
   "cell_type": "markdown",
   "metadata": {},
   "source": [
    "<h3>残差の可視化"
   ]
  },
  {
   "cell_type": "code",
   "execution_count": 200,
   "metadata": {
    "scrolled": false
   },
   "outputs": [
    {
     "data": {
      "image/png": "[encoded data removed]",
      "text/plain": [
       "<matplotlib.figure.Figure at 0x28c928f15c0>"
      ]
     },
     "metadata": {},
     "output_type": "display_data"
    }
   ],
   "source": [
    "plt.figure(figsize=(15,5))\n",
    "plt.subplot(1,2,1)\n",
    "#model_r_20000 = RandomForestRegressor(n_estimators=300)\n",
    "#model_r_20000.fit(X.iloc[:20000,:],y[:20000])\n",
    "#y_pred_20000 = model_r_20000.predict(X.iloc[20000:,:])\n",
    "plt.scatter(x=y[20000:],y=y_pred_20000,s=0.1,alpha=0.2)\n",
    "plt.xlim(0,40)\n",
    "plt.ylim(0,40)\n",
    "plt.xlabel(\"rent\")\n",
    "plt.ylabel(\"predicted rent\")\n",
    "plt.plot([0,40],[0,40],c=\"black\",linewidth=0.3)\n",
    "plt.subplot(1,2,2)\n",
    "plt.hist((y_pred_20000/y[20000:]-1)*100, bins=range(-60,60))\n",
    "plt.xlim(-60,60)\n",
    "plt.xlabel(\"percentage of error\")\n",
    "plt.show()"
   ]
  },
  {
   "cell_type": "markdown",
   "metadata": {
    "collapsed": true
   },
   "source": [
    "<h3>お買い得物件の検索"
   ]
  },
  {
   "cell_type": "code",
   "execution_count": 271,
   "metadata": {
    "scrolled": true
   },
   "outputs": [
    {
     "name": "stdout",
     "output_type": "stream",
     "text": [
      "割高な物件の平均価格 10.985770781340044\n",
      "割安な物件の平均価格 9.280634367628437\n"
     ]
    }
   ],
   "source": [
    "print(\"割高な物件の平均価格\",y[20000:][(y[20000:]-y_pred_20000)>0].mean())\n",
    "print(\"割安な物件の平均価格\",y[20000:][(y[20000:]-y_pred_20000)<0].mean())"
   ]
  },
  {
   "cell_type": "code",
   "execution_count": 268,
   "metadata": {},
   "outputs": [
    {
     "data": {
      "text/plain": [
       "1.3142825712401214"
      ]
     },
     "execution_count": 268,
     "metadata": {},
     "output_type": "execute_result"
    }
   ],
   "source": [
    "(y[20000:]-y_pred_20000).var()**(1/2)"
   ]
  },
  {
   "cell_type": "code",
   "execution_count": 201,
   "metadata": {
    "collapsed": true
   },
   "outputs": [],
   "source": [
    "percentage_price_pred = 100*(y_pred_20000/y[20000:]).sort_values(ascending=False)"
   ]
  },
  {
   "cell_type": "code",
   "execution_count": 272,
   "metadata": {},
   "outputs": [
    {
     "name": "stdout",
     "output_type": "stream",
     "text": [
      "割高な物件\n",
      "https://chintai.mynavi.jp/tokyo/116/room2500008925.html 17.3 万円　相場の 280.510215112 ％の価格！\n",
      "https://chintai.mynavi.jp/tokyo/116/room608500007811.html 14.9 万円　相場の 220.408767042 ％の価格！\n",
      "https://chintai.mynavi.jp/tokyo/112/room3395500002811.html 32.5 万円　相場の 170.403900939 ％の価格！\n",
      "https://chintai.mynavi.jp/tokyo/112/room4372600003328.html 32.5 万円　相場の 168.451969592 ％の価格！\n",
      "https://chintai.mynavi.jp/tokyo/112/room2526200000307.html 70.0 万円　相場の 161.678251042 ％の価格！\n",
      "https://chintai.mynavi.jp/tokyo/116/room3400008925.html 15.0 万円　相場の 153.38730294 ％の価格！\n",
      "https://chintai.mynavi.jp/tokyo/116/room715500004190.html 13.7 万円　相場の 151.59394952 ％の価格！\n",
      "https://chintai.mynavi.jp/tokyo/120/room143600004373.html 25.0 万円　相場の 149.929533119 ％の価格！\n",
      "https://chintai.mynavi.jp/tokyo/113/room562000000205.html 62.0 万円　相場の 149.551586453 ％の価格！\n",
      "https://chintai.mynavi.jp/tokyo/112/room998300004243.html 60.0 万円　相場の 148.9585316 ％の価格！\n",
      "https://chintai.mynavi.jp/tokyo/120/room135000007258.html 9.0 万円　相場の 148.805423131 ％の価格！\n",
      "https://chintai.mynavi.jp/tokyo/113/room522300007836.html 11.5 万円　相場の 148.530196835 ％の価格！\n",
      "https://chintai.mynavi.jp/tokyo/116/room693000004190.html 26.4 万円　相場の 148.2951673 ％の価格！\n",
      "https://chintai.mynavi.jp/tokyo/116/room83400002658.html 14.5 万円　相場の 146.72153265 ％の価格！\n",
      "https://chintai.mynavi.jp/tokyo/105/room706000007059.html 19.8 万円　相場の 145.720383681 ％の価格！\n",
      "https://chintai.mynavi.jp/tokyo/113/room3000008085.html 24.0 万円　相場の 145.0530854 ％の価格！\n",
      "https://chintai.mynavi.jp/tokyo/105/room20200007809.html 23.0 万円　相場の 144.711730039 ％の価格！\n",
      "https://chintai.mynavi.jp/tokyo/105/room752800007001.html 33.5 万円　相場の 144.641777727 ％の価格！\n",
      "https://chintai.mynavi.jp/tokyo/112/room3349400003326.html 25.5 万円　相場の 144.099547358 ％の価格！\n",
      "https://chintai.mynavi.jp/tokyo/117/room1393000004156.html 10.4 万円　相場の 142.095914742 ％の価格！\n",
      "https://chintai.mynavi.jp/tokyo/117/room1419800005023.html 10.4 万円　相場の 142.095914742 ％の価格！\n",
      "https://chintai.mynavi.jp/tokyo/120/room176700007258.html 11.2 万円　相場の 141.244719087 ％の価格！\n",
      "https://chintai.mynavi.jp/tokyo/119/room25000008949.html 13.5 万円　相場の 141.174010039 ％の価格！\n",
      "https://chintai.mynavi.jp/tokyo/105/room702400008108.html 29.0 万円　相場の 140.917616646 ％の価格！\n",
      "https://chintai.mynavi.jp/tokyo/116/room709200008108.html 38.0 万円　相場の 140.876399496 ％の価格！\n",
      "https://chintai.mynavi.jp/tokyo/112/room59500007011.html 7.2 万円　相場の 140.826704916 ％の価格！\n",
      "https://chintai.mynavi.jp/tokyo/116/room668400004242.html 37.0 万円　相場の 140.710091576 ％の価格！\n",
      "https://chintai.mynavi.jp/tokyo/120/room26200007687.html 20.0 万円　相場の 140.169885902 ％の価格！\n",
      "https://chintai.mynavi.jp/tokyo/120/room412700004225.html 22.0 万円　相場の 139.851545466 ％の価格！\n",
      "https://chintai.mynavi.jp/tokyo/116/room8969700000487.html 19.0 万円　相場の 138.669261647 ％の価格！\n",
      "https://chintai.mynavi.jp/tokyo/105/room20100007809.html 22.0 万円　相場の 138.667114884 ％の価格！\n",
      "https://chintai.mynavi.jp/tokyo/113/room35400008062.html 175.0 万円　相場の 138.148806 ％の価格！\n",
      "https://chintai.mynavi.jp/tokyo/112/room6100008863.html 39.0 万円　相場の 137.960147205 ％の価格！\n",
      "https://chintai.mynavi.jp/tokyo/113/room3134000004089.html 30.4 万円　相場の 137.434259106 ％の価格！\n",
      "https://chintai.mynavi.jp/tokyo/112/room550000004242.html 38.0 万円　相場の 137.326234129 ％の価格！\n",
      "https://chintai.mynavi.jp/tokyo/113/room124200007132.html 8.2 万円　相場の 137.296705995 ％の価格！\n",
      "https://chintai.mynavi.jp/tokyo/112/room3266600000478.html 8.3 万円　相場の 137.020222864 ％の価格！\n",
      "https://chintai.mynavi.jp/tokyo/113/room10687000000492.html 63.0 万円　相場の 136.782075035 ％の価格！\n",
      "https://chintai.mynavi.jp/tokyo/116/room541500004190.html 11.0 万円　相場の 136.738253977 ％の価格！\n",
      "https://chintai.mynavi.jp/tokyo/120/room2193900000331.html 12.8 万円　相場の 136.603760161 ％の価格！\n",
      "https://chintai.mynavi.jp/tokyo/113/room3297000005354.html 9.1 万円　相場の 136.473660584 ％の価格！\n",
      "https://chintai.mynavi.jp/tokyo/117/room532300007798.html 15.0 万円　相場の 135.707715738 ％の価格！\n",
      "https://chintai.mynavi.jp/tokyo/112/room2726700000359.html 15.0 万円　相場の 135.685210312 ％の価格！\n",
      "https://chintai.mynavi.jp/tokyo/112/room2084800000260.html 9.0 万円　相場の 134.851663171 ％の価格！\n",
      "https://chintai.mynavi.jp/tokyo/112/room182000003812.html 9.5 万円　相場の 134.745402109 ％の価格！\n",
      "https://chintai.mynavi.jp/tokyo/112/room133900007293.html 6.0 万円　相場の 134.61466552 ％の価格！\n",
      "https://chintai.mynavi.jp/tokyo/112/room19300007857.html 9.8 万円　相場の 134.587037529 ％の価格！\n",
      "https://chintai.mynavi.jp/tokyo/113/room3322100005354.html 11.88 万円　相場の 134.416510149 ％の価格！\n",
      "https://chintai.mynavi.jp/tokyo/113/room180600007905.html 10.8 万円　相場の 133.911965282 ％の価格！\n",
      "https://chintai.mynavi.jp/tokyo/113/room9764000000528.html 12.9 万円　相場の 133.761924513 ％の価格！\n",
      "お買い得物件\n",
      "https://chintai.mynavi.jp/tokyo/112/room47800008104.html 9.8 万円　相場の 30.7860495216 ％の価格！\n",
      "https://chintai.mynavi.jp/tokyo/119/room568100006897.html 5.5 万円　相場の 37.1953363811 ％の価格！\n",
      "https://chintai.mynavi.jp/tokyo/112/room529200001055.html 9.2 万円　相場の 44.6162998215 ％の価格！\n",
      "https://chintai.mynavi.jp/tokyo/116/room6383100000513.html 2.6 万円　相場の 61.132710755 ％の価格！\n",
      "https://chintai.mynavi.jp/tokyo/120/room463800006897.html 4.4 万円　相場の 62.0621561898 ％の価格！\n",
      "https://chintai.mynavi.jp/tokyo/105/room802600006441.html 3.8 万円　相場の 62.0691908138 ％の価格！\n",
      "https://chintai.mynavi.jp/tokyo/105/room3500007750.html 3.4 万円　相場の 62.1124442282 ％の価格！\n",
      "https://chintai.mynavi.jp/tokyo/120/room153900007258.html 3.0 万円　相場の 63.3753723303 ％の価格！\n",
      "https://chintai.mynavi.jp/tokyo/112/room768500005661.html 3.0 万円　相場の 64.9025200206 ％の価格！\n",
      "https://chintai.mynavi.jp/tokyo/106/room43400007267.html 4.7 万円　相場の 66.1245392386 ％の価格！\n",
      "https://chintai.mynavi.jp/tokyo/120/room1461700000312.html 3.0 万円　相場の 66.1472879612 ％の価格！\n",
      "https://chintai.mynavi.jp/tokyo/106/room16400008958.html 8.0 万円　相場の 66.3166620613 ％の価格！\n",
      "https://chintai.mynavi.jp/tokyo/120/room10400005684.html 3.3 万円　相場の 67.1027213881 ％の価格！\n",
      "https://chintai.mynavi.jp/tokyo/112/room1824500000315.html 6.7 万円　相場の 67.5584834633 ％の価格！\n",
      "https://chintai.mynavi.jp/tokyo/120/room43600007826.html 2.6 万円　相場の 68.0323531635 ％の価格！\n",
      "https://chintai.mynavi.jp/tokyo/112/room1705100000315.html 6.7 万円　相場の 69.3103448276 ％の価格！\n",
      "https://chintai.mynavi.jp/tokyo/119/room18300008949.html 7.0 万円　相場の 70.058381985 ％の価格！\n",
      "https://chintai.mynavi.jp/tokyo/119/room4585700000762.html 4.2 万円　相場の 70.3572585238 ％の価格！\n",
      "https://chintai.mynavi.jp/tokyo/117/room1695800000448.html 3.3 万円　相場の 70.4 ％の価格！\n",
      "https://chintai.mynavi.jp/tokyo/120/room7200008962.html 3.5 万円　相場の 70.6785137318 ％の価格！\n",
      "https://chintai.mynavi.jp/tokyo/116/room112800003782.html 3.7 万円　相場の 70.9050421789 ％の価格！\n",
      "https://chintai.mynavi.jp/tokyo/112/room22100008962.html 4.5 万円　相場の 71.1275026344 ％の価格！\n",
      "https://chintai.mynavi.jp/tokyo/112/room1870200000356.html 6.5 万円　相場の 71.2354789216 ％の価格！\n",
      "https://chintai.mynavi.jp/tokyo/116/room111700008944.html 7.0 万円　相場の 71.3073005093 ％の価格！\n",
      "https://chintai.mynavi.jp/tokyo/120/room43800007826.html 2.8 万円　相場の 71.5679341575 ％の価格！\n",
      "https://chintai.mynavi.jp/tokyo/119/room79900006316.html 3.7 万円　相場の 72.1013316012 ％の価格！\n",
      "https://chintai.mynavi.jp/tokyo/120/room66000008965.html 3.2 万円　相場の 73.0299042243 ％の価格！\n",
      "https://chintai.mynavi.jp/tokyo/113/room6765700001322.html 9.5 万円　相場の 73.262898126 ％の価格！\n",
      "https://chintai.mynavi.jp/tokyo/116/room2300002658.html 4.7 万円　相場の 73.3248394394 ％の価格！\n",
      "https://chintai.mynavi.jp/tokyo/117/room3910200000272.html 2.45 万円　相場の 73.4864050151 ％の価格！\n",
      "https://chintai.mynavi.jp/tokyo/117/room240700008408.html 5.7 万円　相場の 73.8565196735 ％の価格！\n",
      "https://chintai.mynavi.jp/tokyo/105/room104800007322.html 4.2 万円　相場の 73.9545121056 ％の価格！\n",
      "https://chintai.mynavi.jp/tokyo/117/room480700007798.html 8.5 万円　相場の 73.9730796008 ％の価格！\n",
      "https://chintai.mynavi.jp/tokyo/120/room67000008387.html 2.7 万円　相場の 74.0050508193 ％の価格！\n"
     ]
    }
   ],
   "source": [
    "index_bad_price = percentage_price_pred.sort_values(ascending=True).index\n",
    "print(\"割高な物件\")\n",
    "for i in index_bad_price[0:50]:\n",
    "    print(list(analytical_data.url[X.index==i])[0]\n",
    "          ,list(analytical_data.rent[X.index==i])[0]\n",
    "          ,\"万円　相場の\"\n",
    "          ,(y[i]/model_r_20000.predict(X[X.index==i])[0])*100\n",
    "          ,\"％の価格！\")\n",
    "index_good_price = percentage_price_pred.sort_values(ascending=False).index\n",
    "print(\"お買い得物件\")\n",
    "for i in index_good_price[0:50]:\n",
    "    if list(analytical_data.rent[X.index==i])[0]<10:\n",
    "        print(list(analytical_data.url[X.index==i])[0]\n",
    "              ,list(analytical_data.rent[X.index==i])[0]\n",
    "              ,\"万円　相場の\"\n",
    "              ,(y[i]/model_r_20000.predict(X[X.index==i])[0])*100\n",
    "              ,\"％の価格！\")"
   ]
  },
  {
   "cell_type": "code",
   "execution_count": 260,
   "metadata": {},
   "outputs": [
    {
     "data": {
      "text/plain": [
       "1999.5950598802394"
      ]
     },
     "execution_count": 260,
     "metadata": {},
     "output_type": "execute_result"
    }
   ],
   "source": [
    "analytical_data.year_built.mean()"
   ]
  },
  {
   "cell_type": "code",
   "execution_count": 253,
   "metadata": {
    "collapsed": true
   },
   "outputs": [],
   "source": [
    "import urllib\n",
    "import re\n",
    "import time\n",
    "\n",
    "def is_404(url):\n",
    "    time.sleep(3)\n",
    "    try:\n",
    "        uh = urllib.request.urlopen(url)\n",
    "        return False\n",
    "    except urllib.error.HTTPError as err:\n",
    "        if err.code == 404:\n",
    "            return True\n",
    "        else:\n",
    "            raise"
   ]
  },
  {
   "cell_type": "code",
   "execution_count": 257,
   "metadata": {
    "collapsed": true
   },
   "outputs": [],
   "source": [
    "good_404 = \"割安物件は、100件中{}件が、掲載終了\".format(analytical_data.url[index_good_price[:100]].apply(is_404).sum())\n",
    "bad_404 = \"割高物件は、100件中{}件が、掲載終了\".format(analytical_data.url[index_bad_price[:100]].apply(is_404).sum())"
   ]
  },
  {
   "cell_type": "code",
   "execution_count": 258,
   "metadata": {
    "scrolled": true
   },
   "outputs": [
    {
     "name": "stdout",
     "output_type": "stream",
     "text": [
      "割安物件は、100件中55件が、掲載終了\n",
      "割高物件は、100件中50件が、掲載終了\n"
     ]
    }
   ],
   "source": [
    "print(good_404)\n",
    "print(bad_404)"
   ]
  },
  {
   "cell_type": "markdown",
   "metadata": {},
   "source": [
    "<h3>実装用の予測モデルの作成"
   ]
  },
  {
   "cell_type": "code",
   "execution_count": 8,
   "metadata": {
    "collapsed": true
   },
   "outputs": [],
   "source": [
    "X_avoid_0_to_7682 = X.iloc[pd.Series(range(7682,30728)),:]\n",
    "X_avoid_7682_to_15364 = X.iloc[pd.Series(list(range(0,7682))+list(range(15364,30728))),:]\n",
    "X_avoid_15364_to_23046 = X.iloc[pd.Series(list(range(0,15364))+list(range(23046,30728))),:]\n",
    "X_avoid_23046_to_30728 = X.iloc[pd.Series(range(0,23046)),:]\n",
    "\n",
    "y_avoid_0_to_7682 = y[pd.Series(range(7682,30728))]\n",
    "y_avoid_7682_to_15364 = y[pd.Series(list(range(0,7682))+list(range(15364,30728)))]\n",
    "y_avoid_15364_to_23046 = y[pd.Series(list(range(0,15364))+list(range(23046,30728)))]\n",
    "y_avoid_23046_to_30728 = y[pd.Series(range(0,23046))]\n",
    "\n",
    "RF_avoid_0_to_7682 = RandomForestRegressor(n_estimators=100).fit(X_avoid_0_to_7682,y_avoid_0_to_7682)\n",
    "RF_avoid_7682_to_15364 = RandomForestRegressor(n_estimators=100).fit(X_avoid_7682_to_15364,y_avoid_7682_to_15364)\n",
    "RF_avoid_15364_to_23046 = RandomForestRegressor(n_estimators=100).fit(X_avoid_15364_to_23046,y_avoid_15364_to_23046)\n",
    "RF_avoid_23046_to_30728 = RandomForestRegressor(n_estimators=100).fit(X_avoid_23046_to_30728,y_avoid_23046_to_30728)\n",
    "RF_whole_data = RandomForestRegressor(n_estimators=100).fit(X,y)\n",
    "RF_models = {\n",
    "    \"RF_avoid_0_to_7682\":RF_avoid_0_to_7682\n",
    "    ,\"RF_avoid_7682_to_15364\":RF_avoid_7682_to_15364\n",
    "    ,\"RF_avoid_15364_to_23046\":RF_avoid_15364_to_23046\n",
    "    ,\"RF_avoid_23046_to_30728\":RF_avoid_23046_to_30728\n",
    "    ,\"RF_whole_data\":RF_whole_data\n",
    "}"
   ]
  },
  {
   "cell_type": "code",
   "execution_count": 9,
   "metadata": {
    "collapsed": true
   },
   "outputs": [],
   "source": [
    "with open('../../gci_project_storage/RF_models.pickle', mode='wb') as f:\n",
    "     pickle.dump(RF_models, f)"
   ]
  },
  {
   "cell_type": "code",
   "execution_count": 10,
   "metadata": {
    "collapsed": true
   },
   "outputs": [],
   "source": [
    "train_data_urls = analytical_data.url"
   ]
  },
  {
   "cell_type": "code",
   "execution_count": 11,
   "metadata": {
    "collapsed": true
   },
   "outputs": [],
   "source": [
    "with open('../../gci_project_storage/train_data_urls.pickle', mode='wb') as f:\n",
    "     pickle.dump(train_data_urls, f)"
   ]
  },
  {
   "cell_type": "code",
   "execution_count": 25,
   "metadata": {},
   "outputs": [
    {
     "name": "stdout",
     "output_type": "stream",
     "text": [
      "fin.\n"
     ]
    }
   ],
   "source": [
    "print(\"fin.\")"
   ]
  },
  {
   "cell_type": "code",
   "execution_count": null,
   "metadata": {
    "collapsed": true
   },
   "outputs": [],
   "source": []
  }
 ],
 "metadata": {
  "kernelspec": {
   "display_name": "Python [conda env:py35]",
   "language": "python",
   "name": "conda-env-py35-py"
  },
  "language_info": {
   "codemirror_mode": {
    "name": "ipython",
    "version": 3
   },
   "file_extension": ".py",
   "mimetype": "text/x-python",
   "name": "python",
   "nbconvert_exporter": "python",
   "pygments_lexer": "ipython3",
   "version": "3.5.4"
  }
 },
 "nbformat": 4,
 "nbformat_minor": 2
}
