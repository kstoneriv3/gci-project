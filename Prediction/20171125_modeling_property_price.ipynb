{
 "cells": [
  {
   "cell_type": "code",
   "execution_count": 1,
   "metadata": {
    "collapsed": true
   },
   "outputs": [],
   "source": [
    "import pandas as pd\n",
    "import numpy as np\n",
    "import math\n",
    "import pickle\n",
    "from sqlalchemy import create_engine\n",
    "from matplotlib import pyplot as plt"
   ]
  },
  {
   "cell_type": "code",
   "execution_count": 2,
   "metadata": {
    "collapsed": true
   },
   "outputs": [],
   "source": [
    "# データベースの情報\n",
    "server = 'gciteam16.database.windows.net'\n",
    "database = 'mynavi-database'\n",
    "username = 'gciteam16'\n",
    "password = 'Password0'\n",
    "port =1433"
   ]
  },
  {
   "cell_type": "code",
   "execution_count": 36,
   "metadata": {
    "collapsed": true
   },
   "outputs": [],
   "source": [
    "# 接続エンジンの作成\n",
    "engine_config = \"?driver=ODBC+Driver+13+for+SQL+Server?charset=shift-jis\"\n",
    "db_settings = {\n",
    "    \"host\": server,\n",
    "    \"database\": database,\n",
    "    \"user\": username,\n",
    "    \"password\": password,\n",
    "    \"port\":port,\n",
    "    \"config_query\":engine_config\n",
    "}\n",
    "engine = create_engine('mssql+pyodbc://{user}:{password}@{host}:{port}/{database}{config_query}'.format(**db_settings))"
   ]
  },
  {
   "cell_type": "code",
   "execution_count": 37,
   "metadata": {
    "collapsed": true
   },
   "outputs": [],
   "source": [
    "query = \"SELECT * FROM analytical_data_table\"\n",
    "analytical_data = pd.read_sql(query, con=engine)"
   ]
  },
  {
   "cell_type": "code",
   "execution_count": 5,
   "metadata": {
    "collapsed": true
   },
   "outputs": [],
   "source": [
    "#with open('../../gci_project_storage/analytical_data.pickle', mode='rb') as f:\n",
    "#     analytical_data = pickle.load(f)"
   ]
  },
  {
   "cell_type": "markdown",
   "metadata": {},
   "source": [
    "<h3>データ整形"
   ]
  },
  {
   "cell_type": "code",
   "execution_count": 38,
   "metadata": {
    "collapsed": true
   },
   "outputs": [],
   "source": [
    "analytical_data = analytical_data.reindex(np.random.permutation(analytical_data.index)).reset_index().drop(\"index\", axis=1)"
   ]
  },
  {
   "cell_type": "code",
   "execution_count": 40,
   "metadata": {
    "collapsed": true,
    "scrolled": true
   },
   "outputs": [],
   "source": [
    "X = analytical_data.iloc[:,3:]\n",
    "y = analytical_data.iloc[:,:3].rent"
   ]
  },
  {
   "cell_type": "markdown",
   "metadata": {},
   "source": [
    "<h3>交差検証"
   ]
  },
  {
   "cell_type": "code",
   "execution_count": 41,
   "metadata": {
    "collapsed": true
   },
   "outputs": [],
   "source": [
    "from sklearn.linear_model import LinearRegression\n",
    "from sklearn.linear_model import Lasso\n",
    "from sklearn.linear_model import Ridge\n",
    "from sklearn.ensemble import RandomForestRegressor\n",
    "from sklearn.svm import LinearSVR\n",
    "from sklearn.cross_validation import cross_val_score\n",
    "\n",
    "models = [\n",
    "    LinearRegression()\n",
    "    ,Lasso(alpha=0.05)\n",
    "    ,Lasso(alpha=0.1)\n",
    "    ,Lasso(alpha=0.2)\n",
    "    ,Ridge(alpha=0.05)\n",
    "    ,Ridge(alpha=0.1)\n",
    "    ,Ridge(alpha=0.2)\n",
    "    ,RandomForestRegressor(n_estimators=100)\n",
    "    ,LinearSVR()\n",
    "    ]"
   ]
  },
  {
   "cell_type": "code",
   "execution_count": 42,
   "metadata": {
    "collapsed": false,
    "scrolled": true
   },
   "outputs": [
    {
     "name": "stdout",
     "output_type": "stream",
     "text": [
      "LinearRegression    \tscores:\t [ 0.8259293   0.81132257  0.79806772  0.81508043]\n",
      "Lasso    \tscores:\t [ 0.76089462  0.73632422  0.72861668  0.74755066]\n",
      "Lasso    \tscores:\t [ 0.74995429  0.72756404  0.71710381  0.73673429]\n",
      "Lasso    \tscores:\t [ 0.73849682  0.71875901  0.70555761  0.72539117]\n",
      "Ridge    \tscores:\t [ 0.82632788  0.81230204  0.79839565  0.81533149]\n",
      "Ridge    \tscores:\t [ 0.82643048  0.81277925  0.79826195  0.81548445]\n",
      "Ridge    \tscores:\t [ 0.82652902  0.81343975  0.79787005  0.81561597]\n",
      "RandomForestRegressor    \tscores:\t [ 0.91949457  0.94745353  0.8926265   0.89545373]\n",
      "LinearSVR    \tscores:\t [ 0.68721351  0.71183894  0.65497792  0.70256031]\n"
     ]
    }
   ],
   "source": [
    "for model in models:\n",
    "    scores = cross_val_score(model, X, y,cv=4)\n",
    "    print(model.__class__.__name__, \"   \\tscores:\\t\", scores )"
   ]
  },
  {
   "cell_type": "markdown",
   "metadata": {},
   "source": [
    "<h3>重要度を確認"
   ]
  },
  {
   "cell_type": "code",
   "execution_count": 11,
   "metadata": {
    "collapsed": false,
    "scrolled": true
   },
   "outputs": [
    {
     "data": {
      "text/plain": [
       "RandomForestRegressor(bootstrap=True, criterion='mse', max_depth=None,\n",
       "           max_features='auto', max_leaf_nodes=None,\n",
       "           min_impurity_decrease=0.0, min_impurity_split=None,\n",
       "           min_samples_leaf=1, min_samples_split=2,\n",
       "           min_weight_fraction_leaf=0.0, n_estimators=200, n_jobs=1,\n",
       "           oob_score=False, random_state=None, verbose=0, warm_start=False)"
      ]
     },
     "execution_count": 11,
     "metadata": {},
     "output_type": "execute_result"
    }
   ],
   "source": [
    "model_r = RandomForestRegressor(n_estimators=200)\n",
    "model_r.fit(X,y)"
   ]
  },
  {
   "cell_type": "code",
   "execution_count": 43,
   "metadata": {
    "collapsed": true
   },
   "outputs": [
    {
     "name": "stdout",
     "output_type": "stream",
     "text": [
      "駅の重要度合計： 0.0669732362887\n",
      "間取りの重要度合計： 0.311722132423\n",
      "area :\t 0.4261165283486308\n",
      "has_L :\t 0.30914701313633175\n",
      "address_lat :\t 0.04694327670973324\n",
      "year_built :\t 0.03750599009119652\n",
      "address_lng :\t 0.03320010484610684\n",
      "渋谷駅 :\t 0.01788831160728957\n",
      "auto_lock :\t 0.01390787638167863\n",
      "恵比寿駅 :\t 0.012327879331843221\n",
      "buildings_height_Null_to_Zero :\t 0.011029344149469586\n",
      "refrigerator_Null_to_Zero :\t 0.008806424857957821\n",
      "表参道駅 :\t 0.006439957537741597\n",
      "locality_Null_to_Zero :\t 0.004366138456783898\n",
      "total_units_Null_to_Zero :\t 0.004087091805645205\n",
      "代々木公園駅 :\t 0.0038177857091991237\n",
      "明治神宮前駅 :\t 0.0031288123502052696\n",
      "bath_drier_Null_to_Zero :\t 0.0027552054771722173\n",
      "原宿駅 :\t 0.002275854348493336\n",
      "代々木八幡駅 :\t 0.0015744508580821709\n",
      "the_number_of_rooms :\t 0.0014548916277310432\n",
      "the_number_of_rooms_Null_to_Zero :\t 0.001447474816480895\n",
      "top_floor :\t 0.001442319788134346\n",
      "代官山駅 :\t 0.0014172254686672337\n",
      "stove_num_Null_to_Zero :\t 0.0012953630288683076\n",
      "代々木駅 :\t 0.001188564317237567\n",
      "structure :\t 0.001184070268810826\n",
      "structure_4 :\t 0.001142566734592472\n",
      "flooring :\t 0.0011208648849664962\n",
      "千歳烏山駅 :\t 0.0010702972432084109\n",
      "北参道駅 :\t 0.000979522246809654\n",
      "参宮橋駅 :\t 0.0009165767280740324\n",
      "広尾駅 :\t 0.0008940669337925626\n",
      "wash_basin :\t 0.0008913623103992264\n",
      "super_market_Null_to_Zero :\t 0.0008746885755574153\n",
      "immediate :\t 0.000840094200167972\n",
      "has_S :\t 0.0008381533945281108\n",
      "transaction_type_1 :\t 0.0008136036586533878\n",
      "代々木上原駅 :\t 0.0007824372182819848\n",
      "counter_kitchen_Null_to_Zero :\t 0.000663036530954709\n",
      "reheating :\t 0.0006547321458939245\n",
      "transaction_type_6 :\t 0.0006464936116070343\n",
      "isNull_foreigner :\t 0.0006339842931122583\n",
      "convenient_store_Null_to_Zero :\t 0.0006247700152339343\n",
      "upper :\t 0.0006008371834764895\n",
      "駒沢大学駅 :\t 0.0005960416230864027\n",
      "electric_stove_Null_to_Zero :\t 0.0005812452982430015\n",
      "buildings_undergrand_Null_to_Zero :\t 0.0005787118590665061\n",
      "南新宿駅 :\t 0.0005623490241486432\n",
      "direction_5 :\t 0.000554581525065836\n",
      "isNull_total_units :\t 0.0005356293361735646\n",
      "system_kitchen_Null_to_Zero :\t 0.0005312321716398548\n",
      "direction_6 :\t 0.000528587799661305\n",
      "direction_4 :\t 0.0005242889038143232\n",
      "washing_machine :\t 0.0005031283441239405\n",
      "corner_room :\t 0.0005021804167971419\n",
      "bath_toilet :\t 0.00045053853225079097\n",
      "direction_2 :\t 0.00045053845281664047\n",
      "drug_store_Null_to_Zero :\t 0.00045042509867031217\n",
      "elementary_school_Null_to_Zero :\t 0.00044646463898610197\n",
      "isNull_togather :\t 0.00044229362626217397\n",
      "school_Null_to_Zero :\t 0.00042641136997615054\n",
      "parking :\t 0.0004254226161564519\n",
      "washlet_Null_to_Zero :\t 0.0004081559135113706\n",
      "balcony_Null_to_Zero :\t 0.0003933412446504125\n",
      "toilet_style_Null_to_Zero :\t 0.000389934244553071\n",
      "bathhouse_Null_to_Zero :\t 0.0003667093584701135\n",
      "isNull_buildings_undergrand :\t 0.000347626105781428\n",
      "foreigner_Null_to_Zero :\t 0.00034640654266413396\n",
      "池袋駅 :\t 0.0003322436826827116\n",
      "shower_Null_to_Zero :\t 0.0003304666817382868\n",
      "成城学園前駅 :\t 0.0003259035478726484\n",
      "飯田橋駅 :\t 0.00032408882795367246\n",
      "structure_10 :\t 0.00030855910174857736\n",
      "江戸川橋駅 :\t 0.00030061343483457213\n",
      "IH_stove_Null_to_Zero :\t 0.0002939514372207248\n",
      "water_heater_Null_to_Zero :\t 0.0002899910216402806\n",
      "御茶ノ水駅 :\t 0.0002886487375243251\n",
      "等々力駅 :\t 0.0002801315958425361\n",
      "三軒茶屋駅 :\t 0.00027977141911522565\n",
      "東北沢駅 :\t 0.0002703991824436494\n",
      "上野毛駅 :\t 0.0002693448491926012\n",
      "direction_1 :\t 0.00026594712154574845\n",
      "用賀駅 :\t 0.00026367965972798996\n",
      "gas_stove_Null_to_Zero :\t 0.00025926030046641855\n",
      "direction_7 :\t 0.0002544980508159223\n",
      "status_2 :\t 0.0002510178415816132\n",
      "togather_Null_to_Zero :\t 0.0002506980511736245\n",
      "茗荷谷駅 :\t 0.00024154989354281374\n",
      "direction_3 :\t 0.0002406606640616414\n",
      "park_Null_to_Zero :\t 0.00023856224131592164\n",
      "isNull_super_market :\t 0.00022292994967629314\n",
      "bath_style_2 :\t 0.0002222159967534186\n",
      "二子玉川駅 :\t 0.00021955985093520137\n",
      "status_1 :\t 0.000218533377868389\n",
      "transaction_type_3 :\t 0.00021483860309921544\n",
      "下北沢駅 :\t 0.00020132532877192695\n",
      "祖師ケ谷大蔵駅 :\t 0.00019565788797183187\n",
      "isNull_drug_store :\t 0.000192738981674207\n",
      "isNull_balcony :\t 0.0001891135631905606\n",
      "桜新町駅 :\t 0.00018807826426587096\n",
      "direction_8 :\t 0.00018735634961824967\n",
      "幡ケ谷駅 :\t 0.00017939835556460163\n",
      "神楽坂駅 :\t 0.0001786633881794786\n",
      "isNull_locality :\t 0.00016918524793971994\n",
      "structure_5 :\t 0.00016860928012670169\n",
      "後楽園駅 :\t 0.00016124502261434688\n",
      "air_conditioner :\t 0.00014888801600903266\n",
      "駒込駅 :\t 0.00014731300111580067\n",
      "kindergarten_Null_to_Zero :\t 0.0001434832744466463\n",
      "初台駅 :\t 0.00013541048060947356\n",
      "千石駅 :\t 0.00013428645381599044\n",
      "経堂駅 :\t 0.00013363919308189407\n",
      "本郷三丁目駅 :\t 0.00012510109862789515\n",
      "神泉駅 :\t 0.00012401634820188197\n",
      "hospital_Null_to_Zero :\t 0.00012346663551861717\n",
      "巣鴨駅 :\t 0.0001222780264681962\n",
      "入谷駅 :\t 0.00012189129200121576\n",
      "structure_9 :\t 0.00012078426320126795\n",
      "春日駅 :\t 0.00012017710726981479\n",
      "三ノ輪駅 :\t 0.00011979570763853402\n",
      "structure_11 :\t 0.00011831032721503135\n",
      "東池袋駅 :\t 0.0001181977677303983\n",
      "has_D :\t 0.00011288901690274179\n",
      "structure_7 :\t 0.00010845497248367005\n",
      "has_K :\t 0.00010773954898106697\n",
      "蔵前駅 :\t 0.00010710298393023223\n",
      "post_office_Null_to_Zero :\t 0.00010675106260448569\n",
      "isNull_pet :\t 0.00010598396219460979\n",
      "isNull_buildings_height :\t 0.00010468962394028163\n",
      "千歳船橋駅 :\t 0.00010058523635497936\n",
      "鶯谷駅 :\t 9.870889480767483e-05\n",
      "自由が丘駅 :\t 9.789714627955816e-05\n",
      "isNull_share :\t 9.694645736251532e-05\n",
      "isNull_instrument :\t 9.507915343174072e-05\n",
      "尾山台駅 :\t 9.130956714606263e-05\n",
      "喜多見駅 :\t 9.028854708702003e-05\n",
      "本駒込駅 :\t 9.020372679307695e-05\n",
      "池ノ上駅 :\t 8.903797858032163e-05\n",
      "学芸大学駅 :\t 8.848102765504791e-05\n",
      "status_3 :\t 8.579313335047005e-05\n",
      "isNull_convenient_store :\t 8.575716358812398e-05\n",
      "新御徒町駅 :\t 8.551571267582068e-05\n",
      "水道橋駅 :\t 8.512689869511768e-05\n",
      "石神井公園駅 :\t 8.484946304446448e-05\n",
      "赤羽駅 :\t 8.418851130085116e-05\n",
      "independent_kitchen_Null_to_Zero :\t 8.369634230229359e-05\n",
      "isNull_school :\t 8.20889389550721e-05\n",
      "目白駅 :\t 8.065111589163815e-05\n",
      "白山駅 :\t 8.051544591183114e-05\n",
      "大泉学園駅 :\t 7.815385188041074e-05\n",
      "isNull_elementary_school :\t 7.629013595535817e-05\n",
      "池尻大橋駅 :\t 7.612451578914659e-05\n",
      "椎名町駅 :\t 7.439696016373404e-05\n",
      "isNull_kindergarten :\t 7.31233606487586e-05\n",
      "大塚駅 :\t 7.130556834968266e-05\n",
      "新大塚駅 :\t 6.900356965627311e-05\n",
      "bank_Null_to_Zero :\t 6.760412370671719e-05\n",
      "上野駅 :\t 6.45397413299982e-05\n",
      "東十条駅 :\t 6.344796261769998e-05\n",
      "西太子堂駅 :\t 6.239231145913913e-05\n",
      "練馬駅 :\t 6.152877918221269e-05\n",
      "千駄木駅 :\t 6.038430838469506e-05\n",
      "isNull_park :\t 6.023318128445125e-05\n",
      "王子神谷駅 :\t 5.917985305352179e-05\n",
      "根津駅 :\t 5.8546228824585824e-05\n",
      "平和台駅 :\t 5.849627898841193e-05\n",
      "中目黒駅 :\t 5.8466456904511424e-05\n",
      "八幡山駅 :\t 5.6132229526831315e-05\n",
      "general_hospital_Null_to_Zero :\t 5.600784861930416e-05\n",
      "湯島駅 :\t 5.501003396798031e-05\n",
      "L_kitchen_Null_to_Zero :\t 5.4707298887788464e-05\n",
      "isNull_post_office :\t 5.357673359299713e-05\n",
      "restaurant_Null_to_Zero :\t 5.338507814223083e-05\n",
      "小竹向原駅 :\t 5.080832400317622e-05\n",
      "板橋駅 :\t 5.034487399876152e-05\n",
      "駒場東大前駅 :\t 5.002689446046419e-05\n",
      "東大前駅 :\t 4.8547719121904014e-05\n",
      "西ケ原駅 :\t 4.613409835886098e-05\n",
      "status_4 :\t 4.575919659912932e-05\n",
      "つつじケ丘駅 :\t 4.570104781765738e-05\n",
      "稲荷町駅 :\t 4.563374499934979e-05\n",
      "新宿駅 :\t 4.5121437606276266e-05\n",
      "isNull_hospital :\t 4.4735681222691244e-05\n",
      "笹塚駅 :\t 4.412498688262495e-05\n",
      "芦花公園駅 :\t 4.4086066034913666e-05\n",
      "浅草駅 :\t 4.401180014955509e-05\n",
      "桜台駅 :\t 4.314111183523299e-05\n",
      "西巣鴨駅 :\t 4.2902538821865425e-05\n",
      "護国寺駅 :\t 4.2547780760687986e-05\n",
      "田端駅 :\t 4.230894620082165e-05\n",
      "豪徳寺駅 :\t 4.2295594255541186e-05\n",
      "都立大学駅 :\t 4.092503609854863e-05\n",
      "若林駅 :\t 3.9454038969939735e-05\n",
      "要町駅 :\t 3.916655234204637e-05\n",
      "仲御徒町駅 :\t 3.8998233755241056e-05\n",
      "中村橋駅 :\t 3.86264955685623e-05\n",
      "田原町駅 :\t 3.794577752119198e-05\n",
      "西新宿五丁目駅 :\t 3.7787252496545735e-05\n",
      "祐天寺駅 :\t 3.767848606438482e-05\n",
      "松原駅 :\t 3.763234951223305e-05\n",
      "練馬春日町駅 :\t 3.7330622780395346e-05\n",
      "isNull_bath_drier :\t 3.690254496757522e-05\n",
      "十条駅 :\t 3.597161887695585e-05\n",
      "isNull_restaurant :\t 3.596364168857832e-05\n",
      "光が丘駅 :\t 3.576538723920654e-05\n",
      "isNull_general_hospital :\t 3.280798058361535e-05\n",
      "練馬高野台駅 :\t 3.267779719122511e-05\n",
      "university_Null_to_Zero :\t 3.214350889442416e-05\n",
      "北池袋駅 :\t 3.125974023091302e-05\n",
      "九品仏駅 :\t 3.0715620533189076e-05\n",
      "江古田駅 :\t 3.0231213379596174e-05\n",
      "代田橋駅 :\t 3.0202804207048767e-05\n",
      "新代田駅 :\t 3.0136575587751826e-05\n",
      "雑司が谷駅 :\t 2.9398523298180794e-05\n",
      "王子駅 :\t 2.9018467245123877e-05\n",
      "保谷駅 :\t 2.810281421892885e-05\n",
      "赤羽岩淵駅 :\t 2.7831479373254635e-05\n",
      "東武練馬駅 :\t 2.7134863762143944e-05\n",
      "isNull_bank :\t 2.7072276448997548e-05\n",
      "地下鉄成増駅 :\t 2.6738933237935657e-05\n",
      "isNull_library :\t 2.6554105900505792e-05\n",
      "宮の坂駅 :\t 2.6471718542967745e-05\n",
      "仙川駅 :\t 2.6271177296081905e-05\n",
      "新桜台駅 :\t 2.5999878512820866e-05\n",
      "上板橋駅 :\t 2.5858618805153784e-05\n",
      "浅草橋駅 :\t 2.5716702564973696e-05\n",
      "御徒町駅 :\t 2.5418590742029495e-05\n",
      "豊島園駅 :\t 2.5364922428513025e-05\n",
      "library_Null_to_Zero :\t 2.5034013242816994e-05\n",
      "上町駅 :\t 2.4917809222197357e-05\n",
      "目黒駅 :\t 2.4699336915013173e-05\n",
      "千川駅 :\t 2.469733071094604e-05\n",
      "高田馬場駅 :\t 2.4696332053310275e-05\n",
      "isNull_IH_stove :\t 2.4297902862876057e-05\n",
      "明大前駅 :\t 2.4180673608958416e-05\n",
      "日暮里駅 :\t 2.402408923754592e-05\n",
      "志茂駅 :\t 2.364787470244436e-05\n",
      "西日暮里駅 :\t 2.351235325678293e-05\n",
      "梅ケ丘駅 :\t 2.348292094302714e-05\n",
      "世田谷駅 :\t 2.3453835678341753e-05\n",
      "外苑前駅 :\t 2.3307241418667974e-05\n",
      "世田谷代田駅 :\t 2.3289589833318743e-05\n",
      "地下鉄赤塚駅 :\t 2.3199010337128064e-05\n",
      "富士見台駅 :\t 2.2782269039680843e-05\n",
      "氷川台駅 :\t 2.2715564960390904e-05\n",
      "武蔵関駅 :\t 2.2565587026340482e-05\n",
      "department_store_Null_to_Zero :\t 2.221785072175503e-05\n",
      "東長崎駅 :\t 2.2214765697164467e-05\n",
      "下高井戸駅 :\t 2.1412403017392287e-05\n",
      "成増駅 :\t 2.121829559902428e-05\n",
      "山下駅 :\t 2.097887705519257e-05\n",
      "松陰神社前駅 :\t 1.9728743077853885e-05\n",
      "千駄ケ谷駅 :\t 1.972319978735602e-05\n",
      "isNull_shower :\t 1.9112914068089688e-05\n",
      "上中里駅 :\t 1.8839000527765176e-05\n",
      "本蓮沼駅 :\t 1.8695915782698697e-05\n",
      "isNull_department_store :\t 1.8435304337252724e-05\n",
      "新江古田駅 :\t 1.8431086766460628e-05\n",
      "isNull_toilet_style :\t 1.8339721649757758e-05\n",
      "東松原駅 :\t 1.8023976687593052e-05\n",
      "pet_Null_to_Zero :\t 1.7927219881229262e-05\n",
      "奥沢駅 :\t 1.773931127159481e-05\n",
      "isNull_L_kitchen :\t 1.7439465236823215e-05\n",
      "板橋本町駅 :\t 1.6717290100725563e-05\n",
      "isNull_university :\t 1.65742893025583e-05\n",
      "緑が丘駅 :\t 1.6106799559755635e-05\n",
      "isNull_bathhouse :\t 1.6040558547994662e-05\n",
      "石川台駅 :\t 1.56838579187963e-05\n",
      "秋葉原駅 :\t 1.5630777637706667e-05\n",
      "上井草駅 :\t 1.56176736898594e-05\n",
      "isNull_system_kitchen :\t 1.5219255395317788e-05\n",
      "isNull_electric_stove :\t 1.5214541182502373e-05\n",
      "下板橋駅 :\t 1.5116285229209138e-05\n",
      "isNull_water_heater :\t 1.4964093208132116e-05\n",
      "二子新地駅 :\t 1.4882161068349954e-05\n",
      "isNull_stove_num :\t 1.4792428597469225e-05\n",
      "isNull_washlet :\t 1.468078966070142e-05\n",
      "transaction_type_4 :\t 1.4567828475910657e-05\n",
      "isNull_refrigerator :\t 1.456268652398728e-05\n",
      "isNull_gas_stove :\t 1.4399109532055018e-05\n",
      "下落合駅 :\t 1.3786408391030759e-05\n",
      "中野新橋駅 :\t 1.3762045632003138e-05\n",
      "尾久駅 :\t 1.347789501674449e-05\n",
      "isNull_counter_kitchen :\t 1.3392821846343963e-05\n",
      "雪が谷大塚駅 :\t 1.258001075333488e-05\n",
      "上石神井駅 :\t 1.242310365732076e-05\n",
      "rental_video_Null_to_Zero :\t 1.234680780707088e-05\n",
      "isNull_independent_kitchen :\t 1.1995983090449644e-05\n",
      "isNull_rental_video :\t 1.1931276808344966e-05\n",
      "落合南長崎駅 :\t 1.1917384935325363e-05\n",
      "末広町駅 :\t 1.1762258508392193e-05\n",
      "赤土小学校前駅 :\t 1.1704646702012052e-05\n",
      "share_Null_to_Zero :\t 1.0704461200576696e-05\n",
      "instrument_Null_to_Zero :\t 1.051358555271887e-05\n",
      "structure_1 :\t 1.0283847163207938e-05\n",
      "板橋区役所前駅 :\t 1.0278837916426633e-05\n",
      "吉祥寺駅 :\t 1.0192245735243033e-05\n",
      "桜上水駅 :\t 1.017044977233506e-05\n",
      "新板橋駅 :\t 9.80599834714565e-06\n",
      "大山駅 :\t 9.680534217752426e-06\n",
      "南千住駅 :\t 9.34304358883438e-06\n",
      "bath_style_0 :\t 9.165757822686781e-06\n",
      "蓮根駅 :\t 8.729885985724636e-06\n",
      "下赤塚駅 :\t 8.679503391267053e-06\n",
      "上野広小路駅 :\t 8.41191806477791e-06\n",
      "新庚申塚駅 :\t 8.241417402348892e-06\n",
      "三ノ輪橋駅 :\t 8.05815718666121e-06\n",
      "都立家政駅 :\t 7.434539223810182e-06\n",
      "久我山駅 :\t 7.074095422088557e-06\n",
      "白金台駅 :\t 6.983508315446444e-06\n",
      "ときわ台駅 :\t 6.859987993323905e-06\n",
      "transaction_type_2 :\t 6.8139848050464514e-06\n",
      "西高島平駅 :\t 6.801170574730637e-06\n",
      "鷺ノ宮駅 :\t 6.5018008910755495e-06\n",
      "志村三丁目駅 :\t 6.036213169894246e-06\n",
      "中板橋駅 :\t 5.840203084041559e-06\n",
      "東伏見駅 :\t 5.787451945693066e-06\n",
      "田園調布駅 :\t 5.736919753291197e-06\n",
      "東池袋四丁目駅 :\t 5.469568910600282e-06\n",
      "快速南千住駅 :\t 5.167737693177096e-06\n",
      "北赤羽駅 :\t 5.124010910709632e-06\n",
      "西台駅 :\t 5.117223803240519e-06\n",
      "transaction_type_5 :\t 5.059404726429444e-06\n",
      "上北沢駅 :\t 4.661882359862502e-06\n",
      "志村坂上駅 :\t 4.466464821415005e-06\n",
      "新宿三丁目駅 :\t 4.450503589128731e-06\n",
      "高島平駅 :\t 4.254024762026952e-06\n",
      "狛江駅 :\t 4.009728475289778e-06\n",
      "早稲田駅 :\t 3.729719956540729e-06\n",
      "浮間舟渡駅 :\t 3.7268181427297646e-06\n",
      "武蔵小山駅 :\t 3.725915135416845e-06\n",
      "isNull_female :\t 3.663066174861608e-06\n",
      "両国駅 :\t 3.5874952438029836e-06\n",
      "上野御徒町駅 :\t 3.3131006330374073e-06\n",
      "female_Null_to_Zero :\t 3.235809370194647e-06\n",
      "西ケ原四丁目駅 :\t 3.224232866499562e-06\n",
      "structure_3 :\t 3.212235243408518e-06\n",
      "方南町駅 :\t 3.143907143788883e-06\n",
      "大岡山駅 :\t 3.0889685677956604e-06\n",
      "野方駅 :\t 3.025356131722181e-06\n",
      "馬喰町駅 :\t 2.850897617526697e-06\n",
      "鬼子母神前駅 :\t 2.8137621987394195e-06\n",
      "多摩川駅 :\t 2.738439692768108e-06\n",
      "梶原駅 :\t 2.706178737887662e-06\n",
      "不動前駅 :\t 2.580737935244218e-06\n",
      "isNull_cleaning_shop :\t 2.5549367876247474e-06\n",
      "和光市駅 :\t 2.4653858913901657e-06\n",
      "荻窪駅 :\t 2.2866097959302704e-06\n",
      "快速上野駅 :\t 2.1584584112071264e-06\n",
      "快速日暮里駅 :\t 2.1535714617758146e-06\n",
      "井荻駅 :\t 2.108527554214232e-06\n",
      "西小山駅 :\t 2.0922063925132905e-06\n",
      "本所吾妻橋駅 :\t 2.0188269812212213e-06\n",
      "洗足駅 :\t 2.0036417223993673e-06\n",
      "向原駅 :\t 1.6529913868456734e-06\n",
      "荒川車庫前駅 :\t 1.638461161581298e-06\n",
      "国立競技場駅 :\t 1.6182623354492416e-06\n",
      "cleaning_shop_Null_to_Zero :\t 1.550782671448451e-06\n",
      "沼袋駅 :\t 1.366204119718561e-06\n",
      "都庁前駅 :\t 1.3524886177929775e-06\n",
      "栄町駅 :\t 1.3250610854924743e-06\n",
      "新高島平駅 :\t 1.2957848543456954e-06\n",
      "新御茶ノ水駅 :\t 1.2360154581420615e-06\n",
      "とうきょうスカイツリー駅 :\t 1.216737987573316e-06\n",
      "都電雑司ケ谷駅 :\t 1.0202375646365998e-06\n",
      "東中野駅 :\t 9.728008843000958e-07\n",
      "中野坂上駅 :\t 9.433504883881332e-07\n",
      "bath_style_1 :\t 9.327934587963512e-07\n",
      "東日本橋駅 :\t 9.320178047817922e-07\n",
      "牛込神楽坂駅 :\t 9.167277153454552e-07\n",
      "下井草駅 :\t 8.826611206912457e-07\n",
      "西荻窪駅 :\t 8.691013325775272e-07\n",
      "中野富士見町駅 :\t 7.959297652523748e-07\n",
      "三鷹駅 :\t 7.949294869533343e-07\n",
      "巣鴨新田駅 :\t 7.254607994225835e-07\n",
      "小伝馬町駅 :\t 6.251198936261295e-07\n",
      "荒川一中前駅 :\t 6.146910397422946e-07\n",
      "高津駅 :\t 5.870923033573592e-07\n",
      "朝霞駅 :\t 5.542491110344247e-07\n",
      "ひばりケ丘駅 :\t 5.503520883283598e-07\n",
      "新三河島駅 :\t 5.396035048060307e-07\n",
      "東向島駅 :\t 4.927228847179168e-07\n",
      "富士見ケ丘駅 :\t 4.575004618212693e-07\n",
      "宮ノ前駅 :\t 3.959441260402033e-07\n",
      "西早稲田駅 :\t 3.927731519118202e-07\n",
      "高井戸駅 :\t 3.683666571220169e-07\n",
      "isNull_male :\t 3.6746756949615677e-07\n",
      "北千束駅 :\t 3.3582293449498414e-07\n",
      "永福町駅 :\t 3.3569610152826794e-07\n",
      "西武柳沢駅 :\t 3.268006707123298e-07\n",
      "滝野川一丁目駅 :\t 3.0859835061005017e-07\n",
      "庚申塚駅 :\t 2.8584880907678153e-07\n",
      "浜田山駅 :\t 2.713260546402995e-07\n",
      "岩本町駅 :\t 2.535499219200062e-07\n",
      "三鷹台駅 :\t 2.1053700834256628e-07\n",
      "学習院下駅 :\t 2.0641971135153014e-07\n",
      "曳舟駅 :\t 2.0595641832787952e-07\n",
      "千住大橋駅 :\t 2.0474720286963233e-07\n",
      "京成上野駅 :\t 1.9885291233041674e-07\n",
      "structure_2 :\t 1.9737819889341926e-07\n",
      "中井駅 :\t 1.4724273100446518e-07\n",
      "快速三河島駅 :\t 1.4273332548263278e-07\n",
      "飛鳥山駅 :\t 9.953669972447922e-08\n",
      "五反田駅 :\t 9.455239233023492e-08\n",
      "面影橋駅 :\t 9.400824687614749e-08\n",
      "馬喰横山駅 :\t 6.326460807912004e-08\n",
      "小台駅 :\t 5.335899062616932e-08\n",
      "荒川遊園地前駅 :\t 4.7977011795770884e-08\n",
      "御嶽山駅 :\t 4.72343831988007e-08\n",
      "isNull_office :\t 4.0903494035293346e-08\n",
      "白金高輪駅 :\t 4.067725507444941e-08\n",
      "阿佐ケ谷駅 :\t 3.9837934775969346e-08\n",
      "西永福駅 :\t 3.212177610473593e-08\n",
      "熊野前駅 :\t 2.205712861724548e-08\n",
      "office_Null_to_Zero :\t 1.954810949540093e-08\n",
      "牛込柳町駅 :\t 1.9521165548989188e-08\n",
      "淡路町駅 :\t 1.4601229910678495e-08\n",
      "信濃町駅 :\t 1.3002451589401735e-08\n",
      "高円寺駅 :\t 9.199795587311914e-09\n",
      "井の頭公園駅 :\t 8.469611614764535e-09\n",
      "押上駅 :\t 8.269098409336306e-09\n",
      "西新宿駅 :\t 7.394065895088191e-09\n",
      "和泉多摩川駅 :\t 6.064979476142341e-09\n",
      "戸田公園駅 :\t 4.252231590432426e-09\n",
      "structure_6 :\t 3.7048317195064545e-09\n",
      "中野駅 :\t 1.689939579933087e-09\n",
      "浜町駅 :\t 1.10082348183043e-09\n",
      "北千住駅 :\t 3.520316494244343e-10\n",
      "新井薬師前駅 :\t 7.932996024842412e-11\n",
      "人形町駅 :\t 0.0\n",
      "isNull_the_number_of_rooms :\t 0.0\n",
      "structure_8 :\t 0.0\n",
      "西新井駅 :\t 0.0\n"
     ]
    }
   ],
   "source": [
    "importance = pd.Series(model_r.feature_importances_,index=X.columns)\n",
    "print(\"駅の重要度合計：\",importance[145:].sum())\n",
    "print(\"間取りの重要度合計：\",importance[50:55].sum())\n",
    "for index,value in importance.sort_values(ascending=False).iteritems():\n",
    "    print(index,\":\\t\",value)"
   ]
  },
  {
   "cell_type": "markdown",
   "metadata": {},
   "source": [
    "<h3>残差の可視化"
   ]
  },
  {
   "cell_type": "code",
   "execution_count": 46,
   "metadata": {
    "collapsed": true
   },
   "outputs": [],
   "source": [
    "model_r_20000 = RandomForestRegressor(n_estimators=100)\n",
    "model_r_20000.fit(X.iloc[:20000,:],y[:20000])\n",
    "y_pred_20000 = model_r_20000.predict(X.iloc[20000:,:])"
   ]
  },
  {
   "cell_type": "code",
   "execution_count": 47,
   "metadata": {
    "collapsed": false,
    "scrolled": false
   },
   "outputs": [
    {
     "data": {
      "image/png": "[encoded data removed]",
      "text/plain": [
       "<matplotlib.figure.Figure at 0x216bf25a9e8>"
      ]
     },
     "metadata": {},
     "output_type": "display_data"
    }
   ],
   "source": [
    "plt.figure(figsize=(15,5))\n",
    "plt.subplot(1,2,1)\n",
    "plt.scatter(x=y[20000:],y=y_pred_20000,s=0.1,alpha=0.2)\n",
    "plt.xlim(0,40)\n",
    "plt.ylim(0,40)\n",
    "plt.xlabel(\"rent\")\n",
    "plt.ylabel(\"predicted rent\")\n",
    "plt.plot([0,40],[0,40],c=\"black\",linewidth=0.3)\n",
    "plt.subplot(1,2,2)\n",
    "plt.hist((y_pred_20000/y[20000:]-1)*100, bins=range(-60,60))\n",
    "plt.xlim(-60,60)\n",
    "plt.xlabel(\"percentage of error\")\n",
    "plt.show()"
   ]
  },
  {
   "cell_type": "markdown",
   "metadata": {
    "collapsed": true
   },
   "source": [
    "<h3>お買い得物件の検索"
   ]
  },
  {
   "cell_type": "code",
   "execution_count": 48,
   "metadata": {
    "collapsed": false,
    "scrolled": true
   },
   "outputs": [
    {
     "name": "stdout",
     "output_type": "stream",
     "text": [
      "割高な物件の平均価格 10.984006599378922\n",
      "割安な物件の平均価格 9.37703720345083\n"
     ]
    }
   ],
   "source": [
    "print(\"割高な物件の平均価格\",y[20000:][(y[20000:]-y_pred_20000)>0].mean())\n",
    "print(\"割安な物件の平均価格\",y[20000:][(y[20000:]-y_pred_20000)<0].mean())"
   ]
  },
  {
   "cell_type": "code",
   "execution_count": 49,
   "metadata": {
    "collapsed": false
   },
   "outputs": [
    {
     "data": {
      "text/plain": [
       "2.1262158105960287"
      ]
     },
     "execution_count": 49,
     "metadata": {},
     "output_type": "execute_result"
    }
   ],
   "source": [
    "(y[20000:]-y_pred_20000).var()**(1/2)"
   ]
  },
  {
   "cell_type": "code",
   "execution_count": 50,
   "metadata": {
    "collapsed": true
   },
   "outputs": [],
   "source": [
    "percentage_price_pred = 100*(y_pred_20000/y[20000:]).sort_values(ascending=False)"
   ]
  },
  {
   "cell_type": "code",
   "execution_count": 58,
   "metadata": {
    "collapsed": true
   },
   "outputs": [],
   "source": [
    "index_bad_price = percentage_price_pred.sort_values(ascending=True).index\n",
    "index_good_price = percentage_price_pred.sort_values(ascending=False).index"
   ]
  },
  {
   "cell_type": "code",
   "execution_count": 59,
   "metadata": {
    "collapsed": false,
    "scrolled": false
   },
   "outputs": [
    {
     "name": "stdout",
     "output_type": "stream",
     "text": [
      "割高な物件\n",
      "https://chintai.mynavi.jp/tokyo/116/room2500008925.html 17.3 万円　相場の 170.65351418 ％の価格！\n",
      "https://chintai.mynavi.jp/tokyo/113/room22300007704.html 55.0 万円　相場の 167.427701674 ％の価格！\n",
      "https://chintai.mynavi.jp/tokyo/113/room109700008499.html 48.0 万円　相場の 166.216496987 ％の価格！\n",
      "https://chintai.mynavi.jp/tokyo/113/room3231600005354.html 90.0 万円　相場の 155.965146988 ％の価格！\n",
      "https://chintai.mynavi.jp/tokyo/106/room687600004143.html 12.0 万円　相場の 151.821862348 ％の価格！\n",
      "https://chintai.mynavi.jp/tokyo/116/room693000004190.html 26.4 万円　相場の 150.145026446 ％の価格！\n",
      "https://chintai.mynavi.jp/tokyo/113/room531400007095.html 12.3 万円　相場の 150.0 ％の価格！\n",
      "https://chintai.mynavi.jp/tokyo/112/room6100008863.html 39.0 万円　相場の 148.697183904 ％の価格！\n",
      "https://chintai.mynavi.jp/tokyo/113/room593300007095.html 11.5 万円　相場の 147.587268994 ％の価格！\n",
      "https://chintai.mynavi.jp/tokyo/112/room1186800004203.html 20.6 万円　相場の 147.543331901 ％の価格！\n",
      "https://chintai.mynavi.jp/tokyo/113/room565300000205.html 45.0 万円　相場の 145.583953413 ％の価格！\n",
      "https://chintai.mynavi.jp/tokyo/120/room143600004373.html 25.0 万円　相場の 145.201946868 ％の価格！\n",
      "https://chintai.mynavi.jp/tokyo/116/room715500004190.html 13.7 万円　相場の 145.178638606 ％の価格！\n",
      "https://chintai.mynavi.jp/tokyo/113/room33400007672.html 34.8 万円　相場の 142.877671258 ％の価格！\n",
      "https://chintai.mynavi.jp/tokyo/117/room29000007798.html 11.0 万円　相場の 141.304627084 ％の価格！\n",
      "https://chintai.mynavi.jp/tokyo/117/room11821600000523.html 7.15 万円　相場の 141.290386325 ％の価格！\n",
      "https://chintai.mynavi.jp/tokyo/120/room169400007258.html 27.0 万円　相場の 139.847462675 ％の価格！\n",
      "https://chintai.mynavi.jp/tokyo/110/room119700004285.html 9.7 万円　相場の 138.843164479 ％の価格！\n",
      "https://chintai.mynavi.jp/tokyo/112/room289200007095.html 9.6 万円　相場の 137.378362908 ％の価格！\n",
      "https://chintai.mynavi.jp/tokyo/112/room2900008162.html 15.0 万円　相場の 136.861313869 ％の価格！\n",
      "https://chintai.mynavi.jp/tokyo/120/room26200007687.html 20.0 万円　相場の 136.731568585 ％の価格！\n",
      "https://chintai.mynavi.jp/tokyo/117/room1687100000448.html 8.7 万円　相場の 136.706473916 ％の価格！\n",
      "https://chintai.mynavi.jp/tokyo/116/room3142400000332.html 16.0 万円　相場の 136.448916937 ％の価格！\n",
      "https://chintai.mynavi.jp/tokyo/120/room263200004373.html 27.0 万円　相場の 135.951661631 ％の価格！\n",
      "https://chintai.mynavi.jp/tokyo/117/room2084500000447.html 14.8 万円　相場の 135.233918129 ％の価格！\n",
      "https://chintai.mynavi.jp/tokyo/117/room2080900000447.html 9.18 万円　相場の 134.387351779 ％の価格！\n",
      "https://chintai.mynavi.jp/tokyo/120/room9748100000528.html 6.15 万円　相場の 133.841131665 ％の価格！\n",
      "https://chintai.mynavi.jp/tokyo/120/room2193900000331.html 12.8 万円　相場の 133.69542511 ％の価格！\n",
      "https://chintai.mynavi.jp/tokyo/113/room71500007744.html 15.66 万円　相場の 133.333333333 ％の価格！\n",
      "https://chintai.mynavi.jp/tokyo/113/room121700007311.html 11.3 万円　相場の 132.333996955 ％の価格！\n",
      "https://chintai.mynavi.jp/tokyo/112/room580200007095.html 7.55 万円　相場の 131.91229143 ％の価格！\n",
      "https://chintai.mynavi.jp/tokyo/120/room2167100000316.html 9.9 万円　相場の 131.526504583 ％の価格！\n",
      "https://chintai.mynavi.jp/tokyo/120/room126800007258.html 13.0 万円　相場の 131.002166574 ％の価格！\n",
      "https://chintai.mynavi.jp/tokyo/113/room3322100005354.html 11.88 万円　相場の 130.880246778 ％の価格！\n",
      "https://chintai.mynavi.jp/tokyo/112/room59500003812.html 6.8 万円　相場の 129.63294812 ％の価格！\n",
      "https://chintai.mynavi.jp/tokyo/116/room3400008925.html 15.0 万円　相場の 129.578438148 ％の価格！\n",
      "https://chintai.mynavi.jp/tokyo/105/room9522300000488.html 18.0 万円　相場の 129.310344828 ％の価格！\n",
      "https://chintai.mynavi.jp/tokyo/113/room6577400001322.html 12.8 万円　相場の 129.097327282 ％の価格！\n",
      "https://chintai.mynavi.jp/tokyo/120/room1165700005684.html 6.0 万円　相場の 128.907508862 ％の価格！\n",
      "https://chintai.mynavi.jp/tokyo/112/room1041800004171.html 29.1 万円　相場の 128.669968164 ％の価格！\n",
      "https://chintai.mynavi.jp/tokyo/112/room45400007857.html 25.0 万円　相場の 128.479877482 ％の価格！\n",
      "https://chintai.mynavi.jp/tokyo/112/room194000003812.html 9.8 万円　相場の 128.406708595 ％の価格！\n",
      "https://chintai.mynavi.jp/tokyo/120/room9400008483.html 15.8 万円　相場の 127.652010923 ％の価格！\n",
      "https://chintai.mynavi.jp/tokyo/113/room2994200001046.html 15.8 万円　相場の 127.596343315 ％の価格！\n",
      "https://chintai.mynavi.jp/tokyo/112/room237900000617.html 14.5 万円　相場の 127.595916931 ％の価格！\n",
      "https://chintai.mynavi.jp/tokyo/120/room1688200001065.html 6.05 万円　相場の 127.140905748 ％の価格！\n",
      "https://chintai.mynavi.jp/tokyo/113/room228100007905.html 13.8 万円　相場の 126.978284873 ％の価格！\n",
      "https://chintai.mynavi.jp/tokyo/105/room9412100000488.html 19.0 万円　相場の 126.954430041 ％の価格！\n",
      "お買い得物件\n",
      "https://chintai.mynavi.jp/tokyo/106/room21400008010.html 32.4 万円　相場の 31.0178448342 ％の価格！\n",
      "https://chintai.mynavi.jp/tokyo/120/room4700007974.html 24.5 万円　相場の 51.8134715026 ％の価格！\n",
      "https://chintai.mynavi.jp/tokyo/105/room708800007059.html 3.1 万円　相場の 53.6982504764 ％の価格！\n",
      "https://chintai.mynavi.jp/tokyo/112/room500007848.html 2.89 万円　相場の 57.0064699385 ％の価格！\n",
      "https://chintai.mynavi.jp/tokyo/117/room3770900000272.html 2.0 万円　相場の 57.4712643678 ％の価格！\n",
      "https://chintai.mynavi.jp/tokyo/112/room425800008043.html 12.5 万円　相場の 63.8700117521 ％の価格！\n",
      "https://chintai.mynavi.jp/tokyo/112/room100007848.html 2.89 万円　相場の 64.2493497254 ％の価格！\n",
      "https://chintai.mynavi.jp/tokyo/113/room198000007926.html 7.0 万円　相場の 64.3323223968 ％の価格！\n",
      "https://chintai.mynavi.jp/tokyo/120/room417900004268.html 33.0 万円　相場の 66.2238365676 ％の価格！\n",
      "https://chintai.mynavi.jp/tokyo/117/room65500008952.html 8.0 万円　相場の 67.9520937739 ％の価格！\n",
      "https://chintai.mynavi.jp/tokyo/113/room237400007928.html 9.8 万円　相場の 68.6130364769 ％の価格！\n",
      "https://chintai.mynavi.jp/tokyo/112/room441800000205.html 10.8 万円　相場の 70.0275571405 ％の価格！\n",
      "https://chintai.mynavi.jp/tokyo/116/room1716000005584.html 4.0 万円　相場の 70.1754385965 ％の価格！\n",
      "https://chintai.mynavi.jp/tokyo/119/room18300008949.html 7.0 万円　相場の 70.3058303621 ％の価格！\n",
      "https://chintai.mynavi.jp/tokyo/106/room14104800000495.html 24.0 万円　相場の 70.4705080924 ％の価格！\n",
      "https://chintai.mynavi.jp/tokyo/112/room748100006441.html 4.9 万円　相場の 71.7003219198 ％の価格！\n",
      "https://chintai.mynavi.jp/tokyo/116/room112800003782.html 3.7 万円　相場の 72.5063688027 ％の価格！\n",
      "https://chintai.mynavi.jp/tokyo/113/room493100007095.html 9.8 万円　相場の 73.540447246 ％の価格！\n",
      "https://chintai.mynavi.jp/tokyo/116/room2300002658.html 4.7 万円　相場の 73.7370567932 ％の価格！\n",
      "https://chintai.mynavi.jp/tokyo/116/room1800006918.html 6.95 万円　相場の 73.9290918955 ％の価格！\n",
      "https://chintai.mynavi.jp/tokyo/106/room67200008010.html 25.0 万円　相場の 74.2214173322 ％の価格！\n",
      "https://chintai.mynavi.jp/tokyo/120/room600006918.html 4.9 万円　相場の 74.4307566114 ％の価格！\n",
      "https://chintai.mynavi.jp/tokyo/117/room423900003588.html 16.0 万円　相場の 74.6181648595 ％の価格！\n",
      "https://chintai.mynavi.jp/tokyo/112/room2152300000355.html 4.3 万円　相場の 74.6570982117 ％の価格！\n",
      "https://chintai.mynavi.jp/tokyo/112/room485800006441.html 5.4 万円　相場の 75.208913649 ％の価格！\n",
      "https://chintai.mynavi.jp/tokyo/120/room153900007258.html 3.0 万円　相場の 75.5096904103 ％の価格！\n",
      "https://chintai.mynavi.jp/tokyo/105/room104800007322.html 4.2 万円　相場の 75.7712430092 ％の価格！\n",
      "https://chintai.mynavi.jp/tokyo/112/room26700007929.html 7.8 万円　相場の 75.9493670886 ％の価格！\n",
      "https://chintai.mynavi.jp/tokyo/112/room3481300002811.html 12.0 万円　相場の 75.9589821496 ％の価格！\n",
      "https://chintai.mynavi.jp/tokyo/112/room136000007305.html 7.8 万円　相場の 76.0085753264 ％の価格！\n",
      "https://chintai.mynavi.jp/tokyo/106/room99800008367.html 9.2 万円　相場の 76.1274306992 ％の価格！\n",
      "https://chintai.mynavi.jp/tokyo/105/room904600007811.html 11.5 万円　相場の 76.3662925825 ％の価格！\n",
      "https://chintai.mynavi.jp/tokyo/112/room42500008947.html 6.4 万円　相場の 76.3814297649 ％の価格！\n",
      "https://chintai.mynavi.jp/tokyo/116/room107600008944.html 6.5 万円　相場の 76.3906027806 ％の価格！\n",
      "https://chintai.mynavi.jp/tokyo/116/room78600008949.html 10.5 万円　相場の 76.4186577973 ％の価格！\n",
      "https://chintai.mynavi.jp/tokyo/112/room171900008105.html 9.9 万円　相場の 76.4242704956 ％の価格！\n",
      "https://chintai.mynavi.jp/tokyo/106/room118500008465.html 6.9 万円　相場の 76.4458231775 ％の価格！\n",
      "https://chintai.mynavi.jp/tokyo/112/room2145500000458.html 6.3 万円　相場の 76.4841568532 ％の価格！\n",
      "https://chintai.mynavi.jp/tokyo/106/room109300008367.html 9.9 万円　相場の 76.495132128 ％の価格！\n",
      "https://chintai.mynavi.jp/tokyo/117/room126900007257.html 5.3 万円　相場の 76.5398223698 ％の価格！\n",
      "https://chintai.mynavi.jp/tokyo/113/room5300007744.html 6.9 万円　相場の 76.863094575 ％の価格！\n",
      "https://chintai.mynavi.jp/tokyo/119/room1128900005684.html 5.2 万円　相場の 76.8775872265 ％の価格！\n",
      "https://chintai.mynavi.jp/tokyo/112/room5313200000526.html 9.9 万円　相場の 77.1689141788 ％の価格！\n"
     ]
    }
   ],
   "source": [
    "print(\"割高な物件\")\n",
    "for i in index_bad_price[0:100]:\n",
    "    if is_404(list(analytical_data.url[X.index==i])[0])==False:\n",
    "        print(list(analytical_data.url[X.index==i])[0]\n",
    "              ,list(analytical_data.rent[X.index==i])[0]\n",
    "              ,\"万円　相場の\"\n",
    "              ,(y[i]/model_r_20000.predict(X[X.index==i])[0])*100\n",
    "              ,\"％の価格！\")\n",
    "\n",
    "print(\"お買い得物件\")\n",
    "for i in index_good_price[0:100]:\n",
    "    if is_404(list(analytical_data.url[X.index==i])[0])==False:\n",
    "        print(list(analytical_data.url[X.index==i])[0]\n",
    "              ,list(analytical_data.rent[X.index==i])[0]\n",
    "              ,\"万円　相場の\"\n",
    "              ,(y[i]/model_r_20000.predict(X[X.index==i])[0])*100\n",
    "              ,\"％の価格！\")"
   ]
  },
  {
   "cell_type": "code",
   "execution_count": 52,
   "metadata": {
    "collapsed": false
   },
   "outputs": [
    {
     "data": {
      "text/plain": [
       "1999.5950598802394"
      ]
     },
     "execution_count": 52,
     "metadata": {},
     "output_type": "execute_result"
    }
   ],
   "source": [
    "analytical_data.year_built.mean()"
   ]
  },
  {
   "cell_type": "code",
   "execution_count": 22,
   "metadata": {
    "collapsed": true
   },
   "outputs": [],
   "source": [
    "import urllib\n",
    "import re\n",
    "import time\n",
    "\n",
    "def is_404(url):\n",
    "    time.sleep(3)\n",
    "    try:\n",
    "        uh = urllib.request.urlopen(url)\n",
    "        return False\n",
    "    except urllib.error.HTTPError as err:\n",
    "        if err.code == 404:\n",
    "            return True\n",
    "        else:\n",
    "            raise"
   ]
  },
  {
   "cell_type": "code",
   "execution_count": 23,
   "metadata": {
    "collapsed": true
   },
   "outputs": [],
   "source": [
    "good_404 = \"割安物件は、100件中{}件が、掲載終了\".format(analytical_data.url[index_good_price[:100]].apply(is_404).sum())\n",
    "bad_404 = \"割高物件は、100件中{}件が、掲載終了\".format(analytical_data.url[index_bad_price[:100]].apply(is_404).sum())"
   ]
  },
  {
   "cell_type": "code",
   "execution_count": 24,
   "metadata": {
    "collapsed": false,
    "scrolled": true
   },
   "outputs": [
    {
     "name": "stdout",
     "output_type": "stream",
     "text": [
      "割安物件は、100件中60件が、掲載終了\n",
      "割高物件は、100件中64件が、掲載終了\n"
     ]
    }
   ],
   "source": [
    "print(good_404)\n",
    "print(bad_404)"
   ]
  },
  {
   "cell_type": "markdown",
   "metadata": {},
   "source": [
    "<h3>実装用の予測モデルの作成"
   ]
  },
  {
   "cell_type": "code",
   "execution_count": 53,
   "metadata": {
    "collapsed": true
   },
   "outputs": [],
   "source": [
    "X_avoid_0_to_7682 = X.iloc[pd.Series(range(7682,30728)),:]\n",
    "X_avoid_7682_to_15364 = X.iloc[pd.Series(list(range(0,7682))+list(range(15364,30728))),:]\n",
    "X_avoid_15364_to_23046 = X.iloc[pd.Series(list(range(0,15364))+list(range(23046,30728))),:]\n",
    "X_avoid_23046_to_30728 = X.iloc[pd.Series(range(0,23046)),:]\n",
    "\n",
    "y_avoid_0_to_7682 = y[pd.Series(range(7682,30728))]\n",
    "y_avoid_7682_to_15364 = y[pd.Series(list(range(0,7682))+list(range(15364,30728)))]\n",
    "y_avoid_15364_to_23046 = y[pd.Series(list(range(0,15364))+list(range(23046,30728)))]\n",
    "y_avoid_23046_to_30728 = y[pd.Series(range(0,23046))]\n",
    "\n",
    "RF_avoid_0_to_7682 = RandomForestRegressor(n_estimators=100).fit(X_avoid_0_to_7682,y_avoid_0_to_7682)\n",
    "RF_avoid_7682_to_15364 = RandomForestRegressor(n_estimators=100).fit(X_avoid_7682_to_15364,y_avoid_7682_to_15364)\n",
    "RF_avoid_15364_to_23046 = RandomForestRegressor(n_estimators=100).fit(X_avoid_15364_to_23046,y_avoid_15364_to_23046)\n",
    "RF_avoid_23046_to_30728 = RandomForestRegressor(n_estimators=100).fit(X_avoid_23046_to_30728,y_avoid_23046_to_30728)\n",
    "RF_whole_data = RandomForestRegressor(n_estimators=100).fit(X,y)\n",
    "RF_models = {\n",
    "    \"RF_avoid_0_to_7682\":RF_avoid_0_to_7682\n",
    "    ,\"RF_avoid_7682_to_15364\":RF_avoid_7682_to_15364\n",
    "    ,\"RF_avoid_15364_to_23046\":RF_avoid_15364_to_23046\n",
    "    ,\"RF_avoid_23046_to_30728\":RF_avoid_23046_to_30728\n",
    "    ,\"RF_whole_data\":RF_whole_data\n",
    "}"
   ]
  },
  {
   "cell_type": "code",
   "execution_count": 54,
   "metadata": {
    "collapsed": true
   },
   "outputs": [],
   "source": [
    "with open('../../gci_project_storage/RF_models.pickle', mode='wb') as f:\n",
    "     pickle.dump(RF_models, f)"
   ]
  },
  {
   "cell_type": "code",
   "execution_count": 55,
   "metadata": {
    "collapsed": true
   },
   "outputs": [],
   "source": [
    "train_data_urls = analytical_data.url"
   ]
  },
  {
   "cell_type": "code",
   "execution_count": 56,
   "metadata": {
    "collapsed": true
   },
   "outputs": [],
   "source": [
    "with open('../../gci_project_storage/train_data_urls.pickle', mode='wb') as f:\n",
    "     pickle.dump(train_data_urls, f)"
   ]
  },
  {
   "cell_type": "code",
   "execution_count": 57,
   "metadata": {
    "collapsed": false
   },
   "outputs": [
    {
     "name": "stdout",
     "output_type": "stream",
     "text": [
      "fin.\n"
     ]
    }
   ],
   "source": [
    "print(\"fin.\")"
   ]
  },
  {
   "cell_type": "code",
   "execution_count": null,
   "metadata": {
    "collapsed": true
   },
   "outputs": [],
   "source": []
  }
 ],
 "metadata": {
  "kernelspec": {
   "display_name": "Python [Root]",
   "language": "python",
   "name": "Python [Root]"
  },
  "language_info": {
   "codemirror_mode": {
    "name": "ipython",
    "version": 3
   },
   "file_extension": ".py",
   "mimetype": "text/x-python",
   "name": "python",
   "nbconvert_exporter": "python",
   "pygments_lexer": "ipython3",
   "version": "3.5.2"
  }
 },
 "nbformat": 4,
 "nbformat_minor": 2
}
