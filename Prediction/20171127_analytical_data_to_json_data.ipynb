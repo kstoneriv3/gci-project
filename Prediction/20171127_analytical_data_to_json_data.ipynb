{
 "cells": [
  {
   "cell_type": "code",
   "execution_count": 1,
   "metadata": {
    "collapsed": true
   },
   "outputs": [],
   "source": [
    "import pandas as pd\n",
    "import numpy as np\n",
    "import math\n",
    "import pickle\n",
    "from sqlalchemy import create_engine\n",
    "from matplotlib import pyplot as plt\n",
    "from sklearn.ensemble import RandomForestRegressor"
   ]
  },
  {
   "cell_type": "code",
   "execution_count": 2,
   "metadata": {
    "collapsed": true
   },
   "outputs": [],
   "source": [
    "# データベースの情報\n",
    "server = 'gciteam16.database.windows.net'\n",
    "database = 'mynavi-database'\n",
    "username = 'gciteam16'\n",
    "password = 'Password0'\n",
    "port =1433"
   ]
  },
  {
   "cell_type": "code",
   "execution_count": 3,
   "metadata": {
    "collapsed": true
   },
   "outputs": [],
   "source": [
    "# 接続エンジンの作成\n",
    "engine_config = \"?driver=ODBC+Driver+13+for+SQL+Server?charset=shift-jis\"\n",
    "db_settings = {\n",
    "    \"host\": server,\n",
    "    \"database\": database,\n",
    "    \"user\": username,\n",
    "    \"password\": password,\n",
    "    \"port\":port,\n",
    "    \"config_query\":engine_config\n",
    "}\n",
    "engine = create_engine('mssql+pyodbc://{user}:{password}@{host}:{port}/{database}{config_query}'.format(**db_settings))"
   ]
  },
  {
   "cell_type": "code",
   "execution_count": 4,
   "metadata": {
    "collapsed": true
   },
   "outputs": [],
   "source": [
    "query = \"SELECT * FROM analytical_data_table\"\n",
    "analytical_data = pd.read_sql(query, con=engine)"
   ]
  },
  {
   "cell_type": "markdown",
   "metadata": {},
   "source": [
    "# 分析データの確認"
   ]
  },
  {
   "cell_type": "markdown",
   "metadata": {},
   "source": [
    "<h3>データ整形"
   ]
  },
  {
   "cell_type": "code",
   "execution_count": 5,
   "metadata": {
    "collapsed": true,
    "scrolled": true
   },
   "outputs": [],
   "source": [
    "X = analytical_data.iloc[:,3:]\n",
    "y = analytical_data.iloc[:,:3].rent\n",
    "X_col = X.columns"
   ]
  },
  {
   "cell_type": "markdown",
   "metadata": {},
   "source": [
    "<h3>予測モデルの読み込み"
   ]
  },
  {
   "cell_type": "code",
   "execution_count": 6,
   "metadata": {
    "collapsed": true
   },
   "outputs": [],
   "source": [
    "with open('../../gci_project_storage/RF_models.pickle', mode='rb') as f:\n",
    "     RF_models = pickle.load(f)"
   ]
  },
  {
   "cell_type": "code",
   "execution_count": 7,
   "metadata": {
    "collapsed": true
   },
   "outputs": [],
   "source": [
    "RF_avoid_0_to_7682 = RF_models[\"RF_avoid_0_to_7682\"]\n",
    "RF_avoid_7682_to_15364 = RF_models[\"RF_avoid_7682_to_15364\"]\n",
    "RF_avoid_15364_to_23046 = RF_models[\"RF_avoid_15364_to_23046\"]\n",
    "RF_avoid_23046_to_30728 = RF_models[\"RF_avoid_23046_to_30728\"]\n",
    "RF_whole_data = RF_models[\"RF_whole_data\"]"
   ]
  },
  {
   "cell_type": "code",
   "execution_count": 2,
   "metadata": {
    "collapsed": true
   },
   "outputs": [],
   "source": [
    "with open('../../gci_project_storage/train_data_urls.pickle', mode='rb') as f:\n",
    "    train_data_urls = pickle.load(f)"
   ]
  },
  {
   "cell_type": "code",
   "execution_count": 5,
   "metadata": {
    "collapsed": false
   },
   "outputs": [],
   "source": [
    "train_data_urls.to_csv(\"../Web_Server/storage/train_data_urls.csv\",encoding=\"utf-8\")"
   ]
  },
  {
   "cell_type": "code",
   "execution_count": 9,
   "metadata": {
    "collapsed": true
   },
   "outputs": [],
   "source": [
    "#予測値を出す関数\n",
    "def get_pred(DF_analytical_data):\n",
    "    if(list(DF_analytical_data.url)[0] in list(train_data_urls.iloc[pd.Series(range(0,7682))])):\n",
    "        #print(1)\n",
    "        return RF_avoid_0_to_7682.predict(DF_analytical_data.iloc[:,3:])[0]\n",
    "    if(list(DF_analytical_data.url)[0] in list(train_data_urls.iloc[pd.Series(range(7682,15364))])):\n",
    "        #print(2)\n",
    "        return RF_avoid_7682_to_15364.predict(DF_analytical_data.iloc[:,3:])[0]\n",
    "    if(list(DF_analytical_data.url)[0] in list(train_data_urls.iloc[pd.Series(range(15364,23046))])):\n",
    "        #print(3)\n",
    "        return RF_avoid_15364_to_23046.predict(DF_analytical_data.iloc[:,3:])[0]\n",
    "    if(list(DF_analytical_data.url)[0] in list(train_data_urls.iloc[pd.Series(range(23046,30728))])):\n",
    "        #print(4)\n",
    "        return RF_avoid_23046_to_30728.predict(DF_analytical_data.iloc[:,3:])[0]\n",
    "    else:\n",
    "        #print(5)\n",
    "        return RF_whole_data.predict(DF_analytical_data.iloc[:,3:])[0]"
   ]
  },
  {
   "cell_type": "code",
   "execution_count": 10,
   "metadata": {
    "collapsed": false
   },
   "outputs": [
    {
     "data": {
      "text/plain": [
       "5.2400000000000002"
      ]
     },
     "execution_count": 10,
     "metadata": {},
     "output_type": "execute_result"
    }
   ],
   "source": [
    "DF_analytical_data = analytical_data[analytical_data.index==3312]\n",
    "get_pred(DF_analytical_data)"
   ]
  },
  {
   "cell_type": "markdown",
   "metadata": {},
   "source": [
    "<h3>緯度経度で半径500mの物件を選択"
   ]
  },
  {
   "cell_type": "code",
   "execution_count": 11,
   "metadata": {
    "collapsed": true
   },
   "outputs": [],
   "source": [
    "#緯度・経度のスケール\n",
    "lat_mean = analytical_data.address_lat.mean()\n",
    "lat_500m = (90/10000)*(1/math.cos(math.pi*lat_mean/180))*0.500\n",
    "lng_500m = (90/10000)*0.500"
   ]
  },
  {
   "cell_type": "code",
   "execution_count": 12,
   "metadata": {
    "collapsed": true
   },
   "outputs": [],
   "source": [
    "arg_dict = {\n",
    "    \"lat_500m\" : lat_500m\n",
    "    ,\"lng_500m\" : lng_500m\n",
    "    ,\"sup_lat\" : list(DF_analytical_data.address_lat)[0] + lat_500m\n",
    "    ,\"inf_lat\" : list(DF_analytical_data.address_lat)[0] - lat_500m\n",
    "    ,\"sup_lng\" : list(DF_analytical_data.address_lng)[0] + lng_500m\n",
    "    ,\"inf_lng\" : list(DF_analytical_data.address_lng)[0] - lng_500m\n",
    "    ,\"DF_analytical_data_lat\" : list(DF_analytical_data.address_lat)[0]\n",
    "    ,\"DF_analytical_data_lng\" : list(DF_analytical_data.address_lng)[0]\n",
    "}\n",
    "\n",
    "\n",
    "query = \"\"\"\n",
    "    SELECT * FROM \n",
    "        (\n",
    "        SELECT * FROM analytical_data_table \n",
    "            WHERE \n",
    "                (address_lat < {sup_lat}) \n",
    "                and (address_lat > {inf_lat})\n",
    "                and (address_lng < {sup_lng})\n",
    "                and (address_lng > {inf_lng}) \n",
    "        ) as Sub_Table\n",
    "        WHERE \n",
    "            SQUARE((Sub_Table.address_lat-{DF_analytical_data_lat})/{lat_500m})\n",
    "            + SQUARE((Sub_Table.address_lng-{DF_analytical_data_lng})/{lng_500m}) \n",
    "            < 1\n",
    "    ;\n",
    "    \"\"\".format(**arg_dict)\n",
    "\n",
    "regional_data = pd.read_sql(query, con=engine)"
   ]
  },
  {
   "cell_type": "code",
   "execution_count": 13,
   "metadata": {
    "collapsed": false
   },
   "outputs": [
    {
     "data": {
      "text/plain": [
       "(136, 435)"
      ]
     },
     "execution_count": 13,
     "metadata": {},
     "output_type": "execute_result"
    }
   ],
   "source": [
    "regional_data.shape"
   ]
  },
  {
   "cell_type": "code",
   "execution_count": 14,
   "metadata": {
    "collapsed": false
   },
   "outputs": [
    {
     "data": {
      "image/png": "[encoded data removed]",
      "text/plain": [
       "<matplotlib.figure.Figure at 0x1adf5fd3da0>"
      ]
     },
     "metadata": {},
     "output_type": "display_data"
    }
   ],
   "source": [
    "plt.figure(figsize=(3,3))\n",
    "plt.scatter(regional_data.address_lat,regional_data.address_lng)\n",
    "plt.show()"
   ]
  },
  {
   "cell_type": "markdown",
   "metadata": {},
   "source": [
    "<h3>予測値を追加"
   ]
  },
  {
   "cell_type": "code",
   "execution_count": 15,
   "metadata": {
    "collapsed": true
   },
   "outputs": [],
   "source": [
    "df_new = regional_data[[\"rent\",\"area\",\"address_lat\",\"address_lng\",\"year_built\"]]\n",
    "df_new.columns = [\"価格(家賃)\",\"床面積\",\"緯度\",\"経度\",\"築年\"]"
   ]
  },
  {
   "cell_type": "code",
   "execution_count": 17,
   "metadata": {
    "collapsed": false
   },
   "outputs": [
    {
     "name": "stderr",
     "output_type": "stream",
     "text": [
      "C:\\Anaconda\\envs\\py35\\lib\\site-packages\\ipykernel\\__main__.py:2: SettingWithCopyWarning: \n",
      "A value is trying to be set on a copy of a slice from a DataFrame.\n",
      "Try using .loc[row_indexer,col_indexer] = value instead\n",
      "\n",
      "See the caveats in the documentation: http://pandas.pydata.org/pandas-docs/stable/indexing.html#indexing-view-versus-copy\n",
      "  from ipykernel import kernelapp as app\n"
     ]
    }
   ],
   "source": [
    "y_pred_regional=[get_pred(row.to_frame().T) for i,row in regional_data.iterrows()]\n",
    "df_new[\"予測価格\"] = y_pred_regional"
   ]
  },
  {
   "cell_type": "code",
   "execution_count": 18,
   "metadata": {
    "collapsed": false
   },
   "outputs": [
    {
     "name": "stderr",
     "output_type": "stream",
     "text": [
      "C:\\Anaconda\\envs\\py35\\lib\\site-packages\\ipykernel\\__main__.py:1: SettingWithCopyWarning: \n",
      "A value is trying to be set on a copy of a slice from a DataFrame.\n",
      "Try using .loc[row_indexer,col_indexer] = value instead\n",
      "\n",
      "See the caveats in the documentation: http://pandas.pydata.org/pandas-docs/stable/indexing.html#indexing-view-versus-copy\n",
      "  if __name__ == '__main__':\n"
     ]
    }
   ],
   "source": [
    "df_new[\"割引率(％)\"] = round((1-regional_data.rent/y_pred_regional)*1000)/10"
   ]
  },
  {
   "cell_type": "code",
   "execution_count": 19,
   "metadata": {
    "collapsed": false
   },
   "outputs": [
    {
     "data": {
      "text/plain": [
       "(136, 7)"
      ]
     },
     "execution_count": 19,
     "metadata": {},
     "output_type": "execute_result"
    }
   ],
   "source": [
    "df_new.shape"
   ]
  },
  {
   "cell_type": "markdown",
   "metadata": {},
   "source": [
    "<h3>最寄り駅を追加"
   ]
  },
  {
   "cell_type": "code",
   "execution_count": 2,
   "metadata": {
    "collapsed": false
   },
   "outputs": [
    {
     "ename": "NameError",
     "evalue": "name 'regional_data' is not defined",
     "output_type": "error",
     "traceback": [
      "\u001b[1;31m---------------------------------------------------------------------------\u001b[0m",
      "\u001b[1;31mNameError\u001b[0m                                 Traceback (most recent call last)",
      "\u001b[1;32m<ipython-input-2-b9dc4ce8ff18>\u001b[0m in \u001b[0;36m<module>\u001b[1;34m()\u001b[0m\n\u001b[1;32m----> 1\u001b[1;33m \u001b[0mstation_names\u001b[0m \u001b[1;33m=\u001b[0m \u001b[0mregional_data\u001b[0m\u001b[1;33m.\u001b[0m\u001b[0mcolumns\u001b[0m\u001b[1;33m[\u001b[0m\u001b[1;36m148\u001b[0m\u001b[1;33m:\u001b[0m\u001b[1;36m435\u001b[0m\u001b[1;33m]\u001b[0m\u001b[1;33m\u001b[0m\u001b[0m\n\u001b[0m\u001b[0;32m      2\u001b[0m \u001b[1;33m\u001b[0m\u001b[0m\n\u001b[0;32m      3\u001b[0m \u001b[0mget_min_inverse_to_station\u001b[0m \u001b[1;33m=\u001b[0m \u001b[1;32mlambda\u001b[0m \u001b[0mrow_of_regional_data\u001b[0m\u001b[1;33m:\u001b[0m \u001b[0mrow_of_regional_data\u001b[0m\u001b[1;33m[\u001b[0m\u001b[1;36m148\u001b[0m\u001b[1;33m:\u001b[0m\u001b[1;36m435\u001b[0m\u001b[1;33m]\u001b[0m\u001b[1;33m.\u001b[0m\u001b[0mmax\u001b[0m\u001b[1;33m(\u001b[0m\u001b[1;33m)\u001b[0m\u001b[1;33m\u001b[0m\u001b[0m\n\u001b[0;32m      4\u001b[0m \u001b[0mget_min_to_station\u001b[0m \u001b[1;33m=\u001b[0m \u001b[1;32mlambda\u001b[0m \u001b[0mrow_of_regional_data\u001b[0m\u001b[1;33m:\u001b[0m\u001b[0mround\u001b[0m\u001b[1;33m(\u001b[0m\u001b[1;36m1.0\u001b[0m\u001b[1;33m/\u001b[0m\u001b[0mget_min_inverse_to_station\u001b[0m\u001b[1;33m(\u001b[0m\u001b[0mrow_of_regional_data\u001b[0m\u001b[1;33m)\u001b[0m\u001b[1;33m)\u001b[0m \u001b[1;32mif\u001b[0m \u001b[0mget_min_inverse_to_station\u001b[0m\u001b[1;33m(\u001b[0m\u001b[0mrow_of_regional_data\u001b[0m\u001b[1;33m)\u001b[0m\u001b[1;33m<\u001b[0m\u001b[1;36m1\u001b[0m \u001b[1;32melse\u001b[0m \u001b[1;36m0\u001b[0m\u001b[1;33m\u001b[0m\u001b[0m\n\u001b[0;32m      5\u001b[0m \u001b[0mget_min_station\u001b[0m \u001b[1;33m=\u001b[0m \u001b[1;32mlambda\u001b[0m \u001b[0mrow_of_regional_data\u001b[0m\u001b[1;33m:\u001b[0m \u001b[0mlist\u001b[0m\u001b[1;33m(\u001b[0m\u001b[0mstation_names\u001b[0m\u001b[1;33m[\u001b[0m\u001b[0mget_min_inverse_to_station\u001b[0m\u001b[1;33m(\u001b[0m\u001b[0mrow_of_regional_data\u001b[0m\u001b[1;33m)\u001b[0m\u001b[1;33m==\u001b[0m\u001b[0mrow_of_regional_data\u001b[0m\u001b[1;33m[\u001b[0m\u001b[1;36m148\u001b[0m\u001b[1;33m:\u001b[0m\u001b[1;36m435\u001b[0m\u001b[1;33m]\u001b[0m\u001b[1;33m]\u001b[0m\u001b[1;33m)\u001b[0m\u001b[1;33m[\u001b[0m\u001b[1;36m0\u001b[0m\u001b[1;33m]\u001b[0m\u001b[1;33m\u001b[0m\u001b[0m\n",
      "\u001b[1;31mNameError\u001b[0m: name 'regional_data' is not defined"
     ]
    }
   ],
   "source": [
    "station_names = regional_data.columns[148:435]\n",
    "\n",
    "get_min_inverse_to_station = lambda row_of_regional_data: row_of_regional_data[148:435].max()\n",
    "get_min_to_station = lambda row_of_regional_data:round(1.0/get_min_inverse_to_station(row_of_regional_data)) if get_min_inverse_to_station(row_of_regional_data)<=1 else 0\n",
    "get_min_station = lambda row_of_regional_data: list(station_names[get_min_inverse_to_station(row_of_regional_data)==row_of_regional_data[148:435]])[0]"
   ]
  },
  {
   "cell_type": "code",
   "execution_count": 21,
   "metadata": {
    "collapsed": false,
    "scrolled": true
   },
   "outputs": [
    {
     "name": "stderr",
     "output_type": "stream",
     "text": [
      "C:\\Anaconda\\envs\\py35\\lib\\site-packages\\ipykernel\\__main__.py:1: SettingWithCopyWarning: \n",
      "A value is trying to be set on a copy of a slice from a DataFrame.\n",
      "Try using .loc[row_indexer,col_indexer] = value instead\n",
      "\n",
      "See the caveats in the documentation: http://pandas.pydata.org/pandas-docs/stable/indexing.html#indexing-view-versus-copy\n",
      "  if __name__ == '__main__':\n",
      "C:\\Anaconda\\envs\\py35\\lib\\site-packages\\ipykernel\\__main__.py:2: SettingWithCopyWarning: \n",
      "A value is trying to be set on a copy of a slice from a DataFrame.\n",
      "Try using .loc[row_indexer,col_indexer] = value instead\n",
      "\n",
      "See the caveats in the documentation: http://pandas.pydata.org/pandas-docs/stable/indexing.html#indexing-view-versus-copy\n",
      "  from ipykernel import kernelapp as app\n"
     ]
    }
   ],
   "source": [
    "df_new[\"最寄駅\"] = pd.Series([get_min_station(row) for i,row in regional_data.iterrows()])\n",
    "df_new[\"最寄駅への所要時間\"] = pd.Series([get_min_to_station(row) for i,row in regional_data.iterrows()])"
   ]
  },
  {
   "cell_type": "markdown",
   "metadata": {},
   "source": [
    "<h3>離散変数の処理"
   ]
  },
  {
   "cell_type": "code",
   "execution_count": 23,
   "metadata": {
    "collapsed": false
   },
   "outputs": [
    {
     "name": "stderr",
     "output_type": "stream",
     "text": [
      "C:\\Anaconda\\envs\\py35\\lib\\site-packages\\ipykernel\\__main__.py:11: SettingWithCopyWarning: \n",
      "A value is trying to be set on a copy of a slice from a DataFrame.\n",
      "Try using .loc[row_indexer,col_indexer] = value instead\n",
      "\n",
      "See the caveats in the documentation: http://pandas.pydata.org/pandas-docs/stable/indexing.html#indexing-view-versus-copy\n"
     ]
    }
   ],
   "source": [
    "#間取り…やり直し！\n",
    "def get_room_structure(row):\n",
    "    get_row_by = lambda colname:list(row[regional_data.columns==colname])[0]\n",
    "    txt = ''\n",
    "    txt += str(get_row_by(\"the_number_of_rooms\"))\n",
    "    txt += 'L' if get_row_by(\"has_L\") else ''\n",
    "    txt += 'D' if get_row_by(\"has_D\") else ''\n",
    "    txt += 'K' if get_row_by(\"has_K\") else ''\n",
    "    return txt\n",
    "\n",
    "df_new[\"間取り\"] = pd.Series([get_room_structure(row) for i,row in regional_data.iterrows()])"
   ]
  },
  {
   "cell_type": "code",
   "execution_count": 24,
   "metadata": {
    "collapsed": false
   },
   "outputs": [
    {
     "name": "stderr",
     "output_type": "stream",
     "text": [
      "C:\\Anaconda\\envs\\py35\\lib\\site-packages\\ipykernel\\__main__.py:13: SettingWithCopyWarning: \n",
      "A value is trying to be set on a copy of a slice from a DataFrame.\n",
      "Try using .loc[row_indexer,col_indexer] = value instead\n",
      "\n",
      "See the caveats in the documentation: http://pandas.pydata.org/pandas-docs/stable/indexing.html#indexing-view-versus-copy\n"
     ]
    }
   ],
   "source": [
    "def get_direction(row):\n",
    "    get_row_by = lambda colname:list(row[regional_data.columns==colname])[0]\n",
    "    if get_row_by(\"direction_1\"): return '北'\n",
    "    if get_row_by(\"direction_2\"): return '北東'\n",
    "    if get_row_by(\"direction_3\"): return '東'\n",
    "    if get_row_by(\"direction_4\"): return '南東'\n",
    "    if get_row_by(\"direction_5\"): return '南'\n",
    "    if get_row_by(\"direction_6\"): return '南西'\n",
    "    if get_row_by(\"direction_7\"): return '西'\n",
    "    if get_row_by(\"direction_8\"): return '北西'\n",
    "    else: return \"方角不明\"\n",
    "\n",
    "df_new[\"方角\"] = pd.Series([ get_direction(row) for i,row in regional_data.iterrows()])"
   ]
  },
  {
   "cell_type": "code",
   "execution_count": 25,
   "metadata": {
    "collapsed": false,
    "scrolled": true
   },
   "outputs": [
    {
     "name": "stderr",
     "output_type": "stream",
     "text": [
      "C:\\Anaconda\\envs\\py35\\lib\\site-packages\\ipykernel\\__main__.py:14: SettingWithCopyWarning: \n",
      "A value is trying to be set on a copy of a slice from a DataFrame.\n",
      "Try using .loc[row_indexer,col_indexer] = value instead\n",
      "\n",
      "See the caveats in the documentation: http://pandas.pydata.org/pandas-docs/stable/indexing.html#indexing-view-versus-copy\n"
     ]
    }
   ],
   "source": [
    "def get_structure(row):\n",
    "    get_row_by = lambda colname:list(row[regional_data.columns==colname])[0]\n",
    "    if get_row_by(\"structure_1\"): return 'コンクリート'\n",
    "    if get_row_by(\"structure_2\"): return 'コンクリート'\n",
    "    if get_row_by(\"structure_3\"): return 'コンクリート'\n",
    "    if get_row_by(\"structure_4\"): return 'コンクリート'\n",
    "    if get_row_by(\"structure_5\"): return 'コンクリート'\n",
    "    if get_row_by(\"structure_7\"): return '鉄骨'\n",
    "    if get_row_by(\"structure_8\"): return '鉄骨'\n",
    "    if get_row_by(\"structure_9\"): return '鉄骨'\n",
    "    if get_row_by(\"structure_10\"): return '木造'\n",
    "    else: return 'その他'\n",
    "\n",
    "df_new[\"建物構造\"] = pd.Series([ get_structure(row) for i,row in regional_data.iterrows()])"
   ]
  },
  {
   "cell_type": "code",
   "execution_count": 26,
   "metadata": {
    "collapsed": false
   },
   "outputs": [
    {
     "name": "stderr",
     "output_type": "stream",
     "text": [
      "C:\\Anaconda\\envs\\py35\\lib\\site-packages\\ipykernel\\__main__.py:6: SettingWithCopyWarning: \n",
      "A value is trying to be set on a copy of a slice from a DataFrame.\n",
      "Try using .loc[row_indexer,col_indexer] = value instead\n",
      "\n",
      "See the caveats in the documentation: http://pandas.pydata.org/pandas-docs/stable/indexing.html#indexing-view-versus-copy\n"
     ]
    }
   ],
   "source": [
    "def get_stove_num(row):\n",
    "    get_row_by = lambda colname:list(row[regional_data.columns==colname])[0]\n",
    "    if get_row_by(\"isNull_stove_num\"): return 'コンロ口数不明'\n",
    "    else: return get_row_by(\"stove_num_Null_to_Zero\")\n",
    "\n",
    "df_new[\"コンロ口数\"] = pd.Series([get_stove_num(row) for i,row in regional_data.iterrows()])"
   ]
  },
  {
   "cell_type": "code",
   "execution_count": 27,
   "metadata": {
    "collapsed": false
   },
   "outputs": [
    {
     "name": "stderr",
     "output_type": "stream",
     "text": [
      "C:\\Anaconda\\envs\\py35\\lib\\site-packages\\ipykernel\\__main__.py:1: SettingWithCopyWarning: \n",
      "A value is trying to be set on a copy of a slice from a DataFrame.\n",
      "Try using .loc[row_indexer,col_indexer] = value instead\n",
      "\n",
      "See the caveats in the documentation: http://pandas.pydata.org/pandas-docs/stable/indexing.html#indexing-view-versus-copy\n",
      "  if __name__ == '__main__':\n",
      "C:\\Anaconda\\envs\\py35\\lib\\site-packages\\ipykernel\\__main__.py:2: SettingWithCopyWarning: \n",
      "A value is trying to be set on a copy of a slice from a DataFrame.\n",
      "Try using .loc[row_indexer,col_indexer] = value instead\n",
      "\n",
      "See the caveats in the documentation: http://pandas.pydata.org/pandas-docs/stable/indexing.html#indexing-view-versus-copy\n",
      "  from ipykernel import kernelapp as app\n",
      "C:\\Anaconda\\envs\\py35\\lib\\site-packages\\ipykernel\\__main__.py:3: SettingWithCopyWarning: \n",
      "A value is trying to be set on a copy of a slice from a DataFrame.\n",
      "Try using .loc[row_indexer,col_indexer] = value instead\n",
      "\n",
      "See the caveats in the documentation: http://pandas.pydata.org/pandas-docs/stable/indexing.html#indexing-view-versus-copy\n",
      "  app.launch_new_instance()\n"
     ]
    }
   ],
   "source": [
    "df_new[\"浴室乾燥機\"] = regional_data.bath_drier_Null_to_Zero.apply(lambda TF:'浴室乾燥機あり' if TF else '浴室乾燥機なし')\n",
    "df_new[\"オートロック\"] = regional_data.auto_lock.apply(lambda TF:'オートロックあり' if TF else 'オートロックなし')\n",
    "df_new[\"フローリング\"] = regional_data.flooring.apply(lambda TF:'フローリング〇' if TF else 'フローリング×')\n"
   ]
  },
  {
   "cell_type": "code",
   "execution_count": 28,
   "metadata": {
    "collapsed": false,
    "scrolled": true
   },
   "outputs": [
    {
     "data": {
      "text/html": [
       "<div>\n",
       "<style scoped>\n",
       "    .dataframe tbody tr th:only-of-type {\n",
       "        vertical-align: middle;\n",
       "    }\n",
       "\n",
       "    .dataframe tbody tr th {\n",
       "        vertical-align: top;\n",
       "    }\n",
       "\n",
       "    .dataframe thead th {\n",
       "        text-align: right;\n",
       "    }\n",
       "</style>\n",
       "<table border=\"1\" class=\"dataframe\">\n",
       "  <thead>\n",
       "    <tr style=\"text-align: right;\">\n",
       "      <th></th>\n",
       "      <th>価格(家賃)</th>\n",
       "      <th>床面積</th>\n",
       "      <th>緯度</th>\n",
       "      <th>経度</th>\n",
       "      <th>築年</th>\n",
       "      <th>予測価格</th>\n",
       "      <th>割引率(％)</th>\n",
       "      <th>最寄駅</th>\n",
       "      <th>最寄駅への所要時間</th>\n",
       "      <th>間取り</th>\n",
       "      <th>方角</th>\n",
       "      <th>建物構造</th>\n",
       "      <th>コンロ口数</th>\n",
       "      <th>浴室乾燥機</th>\n",
       "      <th>オートロック</th>\n",
       "      <th>フローリング</th>\n",
       "    </tr>\n",
       "  </thead>\n",
       "  <tbody>\n",
       "    <tr>\n",
       "      <th>0</th>\n",
       "      <td>5.55</td>\n",
       "      <td>20.53</td>\n",
       "      <td>35.655598</td>\n",
       "      <td>139.610286</td>\n",
       "      <td>1992.0</td>\n",
       "      <td>6.443500</td>\n",
       "      <td>13.9</td>\n",
       "      <td>千歳烏山駅</td>\n",
       "      <td>16.0</td>\n",
       "      <td>1DK</td>\n",
       "      <td>南</td>\n",
       "      <td>鉄骨</td>\n",
       "      <td>2</td>\n",
       "      <td>浴室乾燥機なし</td>\n",
       "      <td>オートロックなし</td>\n",
       "      <td>フローリング〇</td>\n",
       "    </tr>\n",
       "    <tr>\n",
       "      <th>1</th>\n",
       "      <td>5.50</td>\n",
       "      <td>24.32</td>\n",
       "      <td>35.655598</td>\n",
       "      <td>139.610286</td>\n",
       "      <td>1991.0</td>\n",
       "      <td>6.707500</td>\n",
       "      <td>18.0</td>\n",
       "      <td>祖師ケ谷大蔵駅</td>\n",
       "      <td>17.0</td>\n",
       "      <td>1K</td>\n",
       "      <td>方角不明</td>\n",
       "      <td>鉄骨</td>\n",
       "      <td>1</td>\n",
       "      <td>浴室乾燥機なし</td>\n",
       "      <td>オートロックなし</td>\n",
       "      <td>フローリング〇</td>\n",
       "    </tr>\n",
       "    <tr>\n",
       "      <th>2</th>\n",
       "      <td>5.00</td>\n",
       "      <td>21.00</td>\n",
       "      <td>35.650482</td>\n",
       "      <td>139.609662</td>\n",
       "      <td>1980.0</td>\n",
       "      <td>5.215000</td>\n",
       "      <td>4.1</td>\n",
       "      <td>祖師ケ谷大蔵駅</td>\n",
       "      <td>8.0</td>\n",
       "      <td>1K</td>\n",
       "      <td>東</td>\n",
       "      <td>木造</td>\n",
       "      <td>0</td>\n",
       "      <td>浴室乾燥機なし</td>\n",
       "      <td>オートロックなし</td>\n",
       "      <td>フローリング〇</td>\n",
       "    </tr>\n",
       "    <tr>\n",
       "      <th>3</th>\n",
       "      <td>11.90</td>\n",
       "      <td>58.57</td>\n",
       "      <td>35.655598</td>\n",
       "      <td>139.610286</td>\n",
       "      <td>2013.0</td>\n",
       "      <td>14.201125</td>\n",
       "      <td>16.2</td>\n",
       "      <td>祖師ケ谷大蔵駅</td>\n",
       "      <td>21.0</td>\n",
       "      <td>2LDK</td>\n",
       "      <td>西</td>\n",
       "      <td>木造</td>\n",
       "      <td>2</td>\n",
       "      <td>浴室乾燥機あり</td>\n",
       "      <td>オートロックなし</td>\n",
       "      <td>フローリング〇</td>\n",
       "    </tr>\n",
       "    <tr>\n",
       "      <th>4</th>\n",
       "      <td>12.40</td>\n",
       "      <td>57.46</td>\n",
       "      <td>35.657267</td>\n",
       "      <td>139.613019</td>\n",
       "      <td>1994.0</td>\n",
       "      <td>12.405000</td>\n",
       "      <td>0.0</td>\n",
       "      <td>千歳烏山駅</td>\n",
       "      <td>20.0</td>\n",
       "      <td>2LDK</td>\n",
       "      <td>東</td>\n",
       "      <td>コンクリート</td>\n",
       "      <td>0</td>\n",
       "      <td>浴室乾燥機なし</td>\n",
       "      <td>オートロックあり</td>\n",
       "      <td>フローリング〇</td>\n",
       "    </tr>\n",
       "  </tbody>\n",
       "</table>\n",
       "</div>"
      ],
      "text/plain": [
       "   価格(家賃)    床面積         緯度          経度      築年       予測価格  割引率(％)      最寄駅  \\\n",
       "0    5.55  20.53  35.655598  139.610286  1992.0   6.443500    13.9    千歳烏山駅   \n",
       "1    5.50  24.32  35.655598  139.610286  1991.0   6.707500    18.0  祖師ケ谷大蔵駅   \n",
       "2    5.00  21.00  35.650482  139.609662  1980.0   5.215000     4.1  祖師ケ谷大蔵駅   \n",
       "3   11.90  58.57  35.655598  139.610286  2013.0  14.201125    16.2  祖師ケ谷大蔵駅   \n",
       "4   12.40  57.46  35.657267  139.613019  1994.0  12.405000     0.0    千歳烏山駅   \n",
       "\n",
       "   最寄駅への所要時間   間取り    方角    建物構造 コンロ口数    浴室乾燥機    オートロック   フローリング  \n",
       "0       16.0   1DK     南      鉄骨     2  浴室乾燥機なし  オートロックなし  フローリング〇  \n",
       "1       17.0    1K  方角不明      鉄骨     1  浴室乾燥機なし  オートロックなし  フローリング〇  \n",
       "2        8.0    1K     東      木造     0  浴室乾燥機なし  オートロックなし  フローリング〇  \n",
       "3       21.0  2LDK     西      木造     2  浴室乾燥機あり  オートロックなし  フローリング〇  \n",
       "4       20.0  2LDK     東  コンクリート     0  浴室乾燥機なし  オートロックあり  フローリング〇  "
      ]
     },
     "execution_count": 28,
     "metadata": {},
     "output_type": "execute_result"
    }
   ],
   "source": [
    "df_new.head()"
   ]
  },
  {
   "cell_type": "markdown",
   "metadata": {},
   "source": [
    "<h3>選択された物件にタグ付け"
   ]
  },
  {
   "cell_type": "code",
   "execution_count": 29,
   "metadata": {
    "collapsed": false
   },
   "outputs": [
    {
     "name": "stderr",
     "output_type": "stream",
     "text": [
      "C:\\Anaconda\\envs\\py35\\lib\\site-packages\\ipykernel\\__main__.py:2: SettingWithCopyWarning: \n",
      "A value is trying to be set on a copy of a slice from a DataFrame.\n",
      "Try using .loc[row_indexer,col_indexer] = value instead\n",
      "\n",
      "See the caveats in the documentation: http://pandas.pydata.org/pandas-docs/stable/indexing.html#indexing-view-versus-copy\n",
      "  from ipykernel import kernelapp as app\n"
     ]
    }
   ],
   "source": [
    "tag_property = lambda TF:\"選択された物件\" if TF else \"周囲の物件 (500m県内) \"\n",
    "df_new[\"選択物件\"] = (regional_data.url==list(DF_analytical_data.url)[0]).apply(tag_property)\n"
   ]
  },
  {
   "cell_type": "code",
   "execution_count": 30,
   "metadata": {
    "collapsed": true,
    "scrolled": true
   },
   "outputs": [],
   "source": [
    "txt_to_render = \"\"\n",
    "IF_start = True\n",
    "for i,row in df_new.iterrows():\n",
    "    get_row_by = lambda colname:list(row[df_new.columns==colname])[0]\n",
    "    if IF_start==False:\n",
    "        txt_to_render += \",\\n\"\n",
    "    txt_to_render += \"{\"\n",
    "    IF_start = False\n",
    "    if_start = True\n",
    "    for colname in df_new.columns:\n",
    "        if if_start==False:\n",
    "            txt_to_render += \",\"\n",
    "        if_start = False\n",
    "        txt_to_render += \"\\\"{colname}\\\":\\\"{value}\\\"\".format(colname=colname,value=get_row_by(colname))\n",
    "    txt_to_render += \"}\""
   ]
  },
  {
   "cell_type": "code",
   "execution_count": 31,
   "metadata": {
    "collapsed": true
   },
   "outputs": [],
   "source": [
    "txt_to_render = \"[\\n\" + txt_to_render + \"\\n]\""
   ]
  },
  {
   "cell_type": "code",
   "execution_count": 32,
   "metadata": {
    "collapsed": false
   },
   "outputs": [
    {
     "name": "stdout",
     "output_type": "stream",
     "text": [
      "[\n",
      "{\"価格(家賃)\":\"5.55\",\"床面積\":\"20.53\",\"緯度\":\"35.6555979\",\"経度\":\"139.6102864\",\"築年\":\"1992.0\",\"予測価格\":\"6.443500000000001\",\"割引率(％)\":\"13.9\",\"最寄駅\":\"千歳烏山駅\",\"最寄駅への所要時間\":\"16.0\",\"間取り\":\"1DK\",\"方角\":\"南\",\"建物構造\":\"鉄骨\",\"コンロ口数\":\"2.0\",\"浴室乾燥機\":\"浴室乾燥機なし\",\"オートロック\":\"オートロックなし\",\"フローリング\":\"フローリング〇\",\"選択物件\":\"周囲の物件 (500m県内) \"},\n",
      "{\"価格(家賃)\":\"5.5\",\"床面積\":\"24.32\",\"緯度\":\"35.6555979\",\"経度\":\"139.6102864\",\"築年\":\"1991.0\",\"予測価格\":\"6.707500000000002\",\"割引率(％)\":\"18.0\",\"最寄駅\":\"祖師ケ谷大蔵駅\",\"最寄駅への所要時間\":\"17.0\",\"間取り\":\"1K\",\"方角\":\"方角不明\",\"建物構造\":\"鉄骨\",\"コンロ口数\":\"1.0\",\"浴室乾燥機\":\"浴室乾燥機なし\",\"オートロック\":\"オートロックなし\",\"フローリング\":\"フローリング〇\",\"選択物件\":\"周囲の物件 (500m県内) \"},\n",
      "{\"価格(家賃)\":\"5.0\",\"床面積\":\"21.0\",\"緯度\":\"35.650482000000004\",\"経度\":\"139.6096618\",\"築年\":\"1980.0\",\"予測価格\":\"5.215\",\"割引率(％)\":\"4.1\",\"最寄駅\":\"祖師ケ谷大蔵駅\",\"最寄駅への所要時間\":\"8.0\",\"間取り\":\"1K\",\"方角\":\"東\",\"建物構造\":\"木造\",\"コンロ口数\":\"0.0\",\"浴室乾燥機\":\"浴室乾燥機なし\",\"オートロック\":\"オートロックなし\",\"フローリング\":\"フローリング〇\",\"選択物件\":\"周囲の物件 (500m県内) \"},\n",
      "{\"価格(家賃)\":\"11.9\",\"床面積\":\"58.57\",\"緯度\":\"35.6555979\",\"経度\":\"139.6102864\",\"築年\":\"2013.0\",\"予測価格\":\"14.201125000000008\",\"割引率(％)\":\"16.2\",\"最寄駅\":\"祖師ケ谷大蔵駅\",\"最寄駅への所要時間\":\"21.0\",\"間取り\":\"2LDK\",\"方角\":\"西\",\"建物構造\":\"木造\",\"コンロ口数\":\"2.0\",\"浴室乾燥機\":\"浴室乾燥機あり\",\"オートロック\":\"オートロックなし\",\"フローリング\":\"フローリング〇\",\"選択物件\":\"周囲の物件 (500m県内) \"},\n",
      "{\"価格(家賃)\":\"12.4\",\"床面積\":\"57.46\",\"緯度\":\"35.6572672\",\"経度\":\"139.6130194\",\"築年\":\"1994.0\",\"予測価格\":\"12.405000000000003\",\"割引率(％)\":\"0.0\",\"最寄駅\":\"千歳烏山駅\",\"最寄駅への所要時間\":\"20.0\",\"間取り\":\"2LDK\",\"方角\":\"東\",\"建物構造\":\"コンクリート\",\"コンロ口数\":\"0.0\",\"浴室乾燥機\":\"浴室乾燥機なし\",\"オートロック\":\"オートロックあり\",\"フローリング\":\"フローリング〇\",\"選択物件\":\"周囲の物件 (500m県内) \"},\n",
      "{\"価格(家賃)\":\"12.4\",\"床面積\":\"57.58\",\"緯度\":\"35.6572672\",\"経度\":\"139.6130194\",\"築年\":\"1994.0\",\"予測価格\":\"12.435800000000004\",\"割引率(％)\":\"0.3\",\"最寄駅\":\"八幡山駅\",\"最寄駅への所要時間\":\"19.0\",\"間取り\":\"2LDK\",\"方角\":\"東\",\"建物構造\":\"コンクリート\",\"コンロ口数\":\"コンロ口数不明\",\"浴室乾燥機\":\"浴室乾燥機なし\",\"オートロック\":\"オートロックあり\",\"フローリング\":\"フローリング〇\",\"選択物件\":\"周囲の物件 (500m県内) \"},\n",
      "{\"価格(家賃)\":\"12.4\",\"床面積\":\"54.27\",\"緯度\":\"35.6572672\",\"経度\":\"139.6130194\",\"築年\":\"1994.0\",\"予測価格\":\"12.502000000000004\",\"割引率(％)\":\"0.8\",\"最寄駅\":\"千歳烏山駅\",\"最寄駅への所要時間\":\"20.0\",\"間取り\":\"2LDK\",\"方角\":\"東\",\"建物構造\":\"コンクリート\",\"コンロ口数\":\"0.0\",\"浴室乾燥機\":\"浴室乾燥機なし\",\"オートロック\":\"オートロックあり\",\"フローリング\":\"フローリング〇\",\"選択物件\":\"周囲の物件 (500m県内) \"},\n",
      "{\"価格(家賃)\":\"12.4\",\"床面積\":\"57.6\",\"緯度\":\"35.6572672\",\"経度\":\"139.6130194\",\"築年\":\"1994.0\",\"予測価格\":\"12.381600000000002\",\"割引率(％)\":\"-0.1\",\"最寄駅\":\"八幡山駅\",\"最寄駅への所要時間\":\"19.0\",\"間取り\":\"2LDK\",\"方角\":\"南東\",\"建物構造\":\"コンクリート\",\"コンロ口数\":\"コンロ口数不明\",\"浴室乾燥機\":\"浴室乾燥機なし\",\"オートロック\":\"オートロックあり\",\"フローリング\":\"フローリング〇\",\"選択物件\":\"周囲の物件 (500m県内) \"},\n",
      "{\"価格(家賃)\":\"12.4\",\"床面積\":\"54.27\",\"緯度\":\"35.6572672\",\"経度\":\"139.6130194\",\"築年\":\"1994.0\",\"予測価格\":\"12.506000000000006\",\"割引率(％)\":\"0.8\",\"最寄駅\":\"千歳烏山駅\",\"最寄駅への所要時間\":\"20.0\",\"間取り\":\"2LDK\",\"方角\":\"東\",\"建物構造\":\"コンクリート\",\"コンロ口数\":\"0.0\",\"浴室乾燥機\":\"浴室乾燥機なし\",\"オートロック\":\"オートロックあり\",\"フローリング\":\"フローリング〇\",\"選択物件\":\"周囲の物件 (500m県内) \"},\n",
      "{\"価格(家賃)\":\"12.4\",\"床面積\":\"54.27\",\"緯度\":\"35.6572672\",\"経度\":\"139.6130194\",\"築年\":\"1994.0\",\"予測価格\":\"12.485400000000006\",\"割引率(％)\":\"0.7\",\"最寄駅\":\"千歳烏山駅\",\"最寄駅への所要時間\":\"20.0\",\"間取り\":\"2LDK\",\"方角\":\"東\",\"建物構造\":\"コンクリート\",\"コンロ口数\":\"0.0\",\"浴室乾燥機\":\"浴室乾燥機なし\",\"オートロック\":\"オートロックあり\",\"フローリング\":\"フローリング〇\",\"選択物件\":\"周囲の物件 (500m県内) \"},\n",
      "{\"価格(家賃)\":\"12.4\",\"床面積\":\"57.58\",\"緯度\":\"35.6572672\",\"経度\":\"139.6130194\",\"築年\":\"1994.0\",\"予測価格\":\"12.450000000000005\",\"割引率(％)\":\"0.4\",\"最寄駅\":\"八幡山駅\",\"最寄駅への所要時間\":\"19.0\",\"間取り\":\"2LDK\",\"方角\":\"東\",\"建物構造\":\"コンクリート\",\"コンロ口数\":\"コンロ口数不明\",\"浴室乾燥機\":\"浴室乾燥機なし\",\"オートロック\":\"オートロックあり\",\"フローリング\":\"フローリング〇\",\"選択物件\":\"周囲の物件 (500m県内) \"},\n",
      "{\"価格(家賃)\":\"12.4\",\"床面積\":\"57.6\",\"緯度\":\"35.6572672\",\"経度\":\"139.6130194\",\"築年\":\"1994.0\",\"予測価格\":\"12.536000000000007\",\"割引率(％)\":\"1.1\",\"最寄駅\":\"八幡山駅\",\"最寄駅への所要時間\":\"19.0\",\"間取り\":\"2LDK\",\"方角\":\"方角不明\",\"建物構造\":\"コンクリート\",\"コンロ口数\":\"コンロ口数不明\",\"浴室乾燥機\":\"浴室乾燥機なし\",\"オートロック\":\"オートロックあり\",\"フローリング\":\"フローリング〇\",\"選択物件\":\"周囲の物件 (500m県内) \"},\n",
      "{\"価格(家賃)\":\"13.4\",\"床面積\":\"56.0\",\"緯度\":\"35.6572672\",\"経度\":\"139.6130194\",\"築年\":\"1994.0\",\"予測価格\":\"12.968\",\"割引率(％)\":\"-3.3\",\"最寄駅\":\"千歳烏山駅\",\"最寄駅への所要時間\":\"20.0\",\"間取り\":\"2LDK\",\"方角\":\"南\",\"建物構造\":\"コンクリート\",\"コンロ口数\":\"0.0\",\"浴室乾燥機\":\"浴室乾燥機なし\",\"オートロック\":\"オートロックあり\",\"フローリング\":\"フローリング×\",\"選択物件\":\"周囲の物件 (500m県内) \"},\n",
      "{\"価格(家賃)\":\"13.0\",\"床面積\":\"58.32\",\"緯度\":\"35.6572672\",\"経度\":\"139.6130194\",\"築年\":\"1994.0\",\"予測価格\":\"13.174000000000005\",\"割引率(％)\":\"1.3\",\"最寄駅\":\"千歳烏山駅\",\"最寄駅への所要時間\":\"20.0\",\"間取り\":\"2LDK\",\"方角\":\"南\",\"建物構造\":\"コンクリート\",\"コンロ口数\":\"0.0\",\"浴室乾燥機\":\"浴室乾燥機なし\",\"オートロック\":\"オートロックあり\",\"フローリング\":\"フローリング〇\",\"選択物件\":\"周囲の物件 (500m県内) \"},\n",
      "{\"価格(家賃)\":\"13.0\",\"床面積\":\"56.79\",\"緯度\":\"35.6572672\",\"経度\":\"139.6130194\",\"築年\":\"1994.0\",\"予測価格\":\"13.173000000000007\",\"割引率(％)\":\"1.3\",\"最寄駅\":\"八幡山駅\",\"最寄駅への所要時間\":\"19.0\",\"間取り\":\"2LDK\",\"方角\":\"南\",\"建物構造\":\"コンクリート\",\"コンロ口数\":\"0.0\",\"浴室乾燥機\":\"浴室乾燥機なし\",\"オートロック\":\"オートロックあり\",\"フローリング\":\"フローリング〇\",\"選択物件\":\"周囲の物件 (500m県内) \"},\n",
      "{\"価格(家賃)\":\"13.4\",\"床面積\":\"56.99\",\"緯度\":\"35.6572672\",\"経度\":\"139.6130194\",\"築年\":\"1994.0\",\"予測価格\":\"13.199000000000005\",\"割引率(％)\":\"-1.5\",\"最寄駅\":\"八幡山駅\",\"最寄駅への所要時間\":\"19.0\",\"間取り\":\"2LDK\",\"方角\":\"南\",\"建物構造\":\"コンクリート\",\"コンロ口数\":\"コンロ口数不明\",\"浴室乾燥機\":\"浴室乾燥機なし\",\"オートロック\":\"オートロックあり\",\"フローリング\":\"フローリング〇\",\"選択物件\":\"周囲の物件 (500m県内) \"},\n",
      "{\"価格(家賃)\":\"9.0\",\"床面積\":\"35.45\",\"緯度\":\"35.6555979\",\"経度\":\"139.6102864\",\"築年\":\"2002.0\",\"予測価格\":\"10.180999999999997\",\"割引率(％)\":\"11.6\",\"最寄駅\":\"祖師ケ谷大蔵駅\",\"最寄駅への所要時間\":\"19.0\",\"間取り\":\"2DK\",\"方角\":\"南\",\"建物構造\":\"鉄骨\",\"コンロ口数\":\"0.0\",\"浴室乾燥機\":\"浴室乾燥機なし\",\"オートロック\":\"オートロックなし\",\"フローリング\":\"フローリング〇\",\"選択物件\":\"周囲の物件 (500m県内) \"},\n",
      "{\"価格(家賃)\":\"10.5\",\"床面積\":\"49.28\",\"緯度\":\"35.6555979\",\"経度\":\"139.6102864\",\"築年\":\"1992.0\",\"予測価格\":\"10.387999999999995\",\"割引率(％)\":\"-1.1\",\"最寄駅\":\"千歳船橋駅\",\"最寄駅への所要時間\":\"19.0\",\"間取り\":\"2DK\",\"方角\":\"南\",\"建物構造\":\"木造\",\"コンロ口数\":\"2.0\",\"浴室乾燥機\":\"浴室乾燥機なし\",\"オートロック\":\"オートロックなし\",\"フローリング\":\"フローリング〇\",\"選択物件\":\"周囲の物件 (500m県内) \"},\n",
      "{\"価格(家賃)\":\"5.6\",\"床面積\":\"19.44\",\"緯度\":\"35.650482000000004\",\"経度\":\"139.6096618\",\"築年\":\"1991.0\",\"予測価格\":\"5.5630000000000015\",\"割引率(％)\":\"-0.7\",\"最寄駅\":\"祖師ケ谷大蔵駅\",\"最寄駅への所要時間\":\"15.0\",\"間取り\":\"1\",\"方角\":\"南\",\"建物構造\":\"鉄骨\",\"コンロ口数\":\"1.0\",\"浴室乾燥機\":\"浴室乾燥機なし\",\"オートロック\":\"オートロックなし\",\"フローリング\":\"フローリング〇\",\"選択物件\":\"周囲の物件 (500m県内) \"},\n",
      "{\"価格(家賃)\":\"8.5\",\"床面積\":\"40.1\",\"緯度\":\"35.650482000000004\",\"経度\":\"139.6096618\",\"築年\":\"1984.0\",\"予測価格\":\"8.846000000000005\",\"割引率(％)\":\"3.9\",\"最寄駅\":\"祖師ケ谷大蔵駅\",\"最寄駅への所要時間\":\"17.0\",\"間取り\":\"2DK\",\"方角\":\"南\",\"建物構造\":\"木造\",\"コンロ口数\":\"0.0\",\"浴室乾燥機\":\"浴室乾燥機なし\",\"オートロック\":\"オートロックなし\",\"フローリング\":\"フローリング〇\",\"選択物件\":\"周囲の物件 (500m県内) \"},\n",
      "{\"価格(家賃)\":\"6.3\",\"床面積\":\"19.87\",\"緯度\":\"35.650931899999996\",\"経度\":\"139.60889790000002\",\"築年\":\"1989.0\",\"予測価格\":\"5.310000000000001\",\"割引率(％)\":\"-18.6\",\"最寄駅\":\"祖師ケ谷大蔵駅\",\"最寄駅への所要時間\":\"13.0\",\"間取り\":\"1K\",\"方角\":\"南\",\"建物構造\":\"木造\",\"コンロ口数\":\"2.0\",\"浴室乾燥機\":\"浴室乾燥機なし\",\"オートロック\":\"オートロックなし\",\"フローリング\":\"フローリング〇\",\"選択物件\":\"周囲の物件 (500m県内) \"},\n",
      "{\"価格(家賃)\":\"5.5\",\"床面積\":\"24.3\",\"緯度\":\"35.6555979\",\"経度\":\"139.6102864\",\"築年\":\"1996.0\",\"予測価格\":\"6.7494999999999985\",\"割引率(％)\":\"18.5\",\"最寄駅\":\"祖師ケ谷大蔵駅\",\"最寄駅への所要時間\":\"15.0\",\"間取り\":\"1\",\"方角\":\"方角不明\",\"建物構造\":\"コンクリート\",\"コンロ口数\":\"2.0\",\"浴室乾燥機\":\"浴室乾燥機なし\",\"オートロック\":\"オートロックなし\",\"フローリング\":\"フローリング〇\",\"選択物件\":\"周囲の物件 (500m県内) \"},\n",
      "{\"価格(家賃)\":\"12.5\",\"床面積\":\"65.45\",\"緯度\":\"35.6572672\",\"経度\":\"139.6130194\",\"築年\":\"1997.0\",\"予測価格\":\"12.788599999999997\",\"割引率(％)\":\"2.3\",\"最寄駅\":\"八幡山駅\",\"最寄駅への所要時間\":\"19.0\",\"間取り\":\"2LDK\",\"方角\":\"南\",\"建物構造\":\"コンクリート\",\"コンロ口数\":\"0.0\",\"浴室乾燥機\":\"浴室乾燥機なし\",\"オートロック\":\"オートロックなし\",\"フローリング\":\"フローリング〇\",\"選択物件\":\"周囲の物件 (500m県内) \"},\n",
      "{\"価格(家賃)\":\"11.9\",\"床面積\":\"55.45\",\"緯度\":\"35.6572672\",\"経度\":\"139.6130194\",\"築年\":\"1997.0\",\"予測価格\":\"11.842833333333335\",\"割引率(％)\":\"-0.5\",\"最寄駅\":\"八幡山駅\",\"最寄駅への所要時間\":\"19.0\",\"間取り\":\"2LDK\",\"方角\":\"南\",\"建物構造\":\"コンクリート\",\"コンロ口数\":\"0.0\",\"浴室乾燥機\":\"浴室乾燥機なし\",\"オートロック\":\"オートロックなし\",\"フローリング\":\"フローリング〇\",\"選択物件\":\"周囲の物件 (500m県内) \"},\n",
      "{\"価格(家賃)\":\"6.1\",\"床面積\":\"25.25\",\"緯度\":\"35.650482000000004\",\"経度\":\"139.6096618\",\"築年\":\"1987.0\",\"予測価格\":\"6.5139999999999985\",\"割引率(％)\":\"6.4\",\"最寄駅\":\"祖師ケ谷大蔵駅\",\"最寄駅への所要時間\":\"11.0\",\"間取り\":\"1K\",\"方角\":\"南\",\"建物構造\":\"鉄骨\",\"コンロ口数\":\"コンロ口数不明\",\"浴室乾燥機\":\"浴室乾燥機なし\",\"オートロック\":\"オートロックなし\",\"フローリング\":\"フローリング×\",\"選択物件\":\"周囲の物件 (500m県内) \"},\n",
      "{\"価格(家賃)\":\"7.0\",\"床面積\":\"28.32\",\"緯度\":\"35.650482000000004\",\"経度\":\"139.6096618\",\"築年\":\"1985.0\",\"予測価格\":\"6.559000000000002\",\"割引率(％)\":\"-6.7\",\"最寄駅\":\"祖師ケ谷大蔵駅\",\"最寄駅への所要時間\":\"15.0\",\"間取り\":\"2K\",\"方角\":\"南\",\"建物構造\":\"木造\",\"コンロ口数\":\"0.0\",\"浴室乾燥機\":\"浴室乾燥機なし\",\"オートロック\":\"オートロックなし\",\"フローリング\":\"フローリング×\",\"選択物件\":\"周囲の物件 (500m県内) \"},\n",
      "{\"価格(家賃)\":\"5.0\",\"床面積\":\"16.0\",\"緯度\":\"35.650482000000004\",\"経度\":\"139.6096618\",\"築年\":\"1990.0\",\"予測価格\":\"5.249499999999996\",\"割引率(％)\":\"4.8\",\"最寄駅\":\"祖師ケ谷大蔵駅\",\"最寄駅への所要時間\":\"13.0\",\"間取り\":\"1K\",\"方角\":\"南\",\"建物構造\":\"木造\",\"コンロ口数\":\"0.0\",\"浴室乾燥機\":\"浴室乾燥機なし\",\"オートロック\":\"オートロックなし\",\"フローリング\":\"フローリング〇\",\"選択物件\":\"周囲の物件 (500m県内) \"},\n",
      "{\"価格(家賃)\":\"10.6\",\"床面積\":\"50.01\",\"緯度\":\"35.6555979\",\"経度\":\"139.6102864\",\"築年\":\"1996.0\",\"予測価格\":\"10.571999999999992\",\"割引率(％)\":\"-0.3\",\"最寄駅\":\"祖師ケ谷大蔵駅\",\"最寄駅への所要時間\":\"18.0\",\"間取り\":\"2DK\",\"方角\":\"南\",\"建物構造\":\"鉄骨\",\"コンロ口数\":\"0.0\",\"浴室乾燥機\":\"浴室乾燥機なし\",\"オートロック\":\"オートロックなし\",\"フローリング\":\"フローリング〇\",\"選択物件\":\"周囲の物件 (500m県内) \"},\n",
      "{\"価格(家賃)\":\"12.8\",\"床面積\":\"54.7\",\"緯度\":\"35.6572672\",\"経度\":\"139.6130194\",\"築年\":\"1993.0\",\"予測価格\":\"13.309999999999995\",\"割引率(％)\":\"3.8\",\"最寄駅\":\"千歳船橋駅\",\"最寄駅への所要時間\":\"15.0\",\"間取り\":\"2DK\",\"方角\":\"方角不明\",\"建物構造\":\"コンクリート\",\"コンロ口数\":\"0.0\",\"浴室乾燥機\":\"浴室乾燥機なし\",\"オートロック\":\"オートロックあり\",\"フローリング\":\"フローリング〇\",\"選択物件\":\"周囲の物件 (500m県内) \"},\n",
      "{\"価格(家賃)\":\"11.5\",\"床面積\":\"63.25\",\"緯度\":\"35.6572672\",\"経度\":\"139.6130194\",\"築年\":\"1991.0\",\"予測価格\":\"12.956499999999997\",\"割引率(％)\":\"11.2\",\"最寄駅\":\"千歳烏山駅\",\"最寄駅への所要時間\":\"18.0\",\"間取り\":\"3LDK\",\"方角\":\"南\",\"建物構造\":\"コンクリート\",\"コンロ口数\":\"2.0\",\"浴室乾燥機\":\"浴室乾燥機なし\",\"オートロック\":\"オートロックなし\",\"フローリング\":\"フローリング〇\",\"選択物件\":\"周囲の物件 (500m県内) \"},\n",
      "{\"価格(家賃)\":\"3.2\",\"床面積\":\"16.0\",\"緯度\":\"35.6555979\",\"経度\":\"139.6102864\",\"築年\":\"1973.0\",\"予測価格\":\"3.406999999999997\",\"割引率(％)\":\"6.1\",\"最寄駅\":\"千歳烏山駅\",\"最寄駅への所要時間\":\"21.0\",\"間取り\":\"1K\",\"方角\":\"南\",\"建物構造\":\"木造\",\"コンロ口数\":\"2.0\",\"浴室乾燥機\":\"浴室乾燥機なし\",\"オートロック\":\"オートロックなし\",\"フローリング\":\"フローリング〇\",\"選択物件\":\"周囲の物件 (500m県内) \"},\n",
      "{\"価格(家賃)\":\"12.4\",\"床面積\":\"57.6\",\"緯度\":\"35.6572672\",\"経度\":\"139.6130194\",\"築年\":\"1994.0\",\"予測価格\":\"12.532999999999998\",\"割引率(％)\":\"1.1\",\"最寄駅\":\"芦花公園駅\",\"最寄駅への所要時間\":\"16.0\",\"間取り\":\"2LDK\",\"方角\":\"東\",\"建物構造\":\"コンクリート\",\"コンロ口数\":\"2.0\",\"浴室乾燥機\":\"浴室乾燥機なし\",\"オートロック\":\"オートロックあり\",\"フローリング\":\"フローリング〇\",\"選択物件\":\"周囲の物件 (500m県内) \"},\n",
      "{\"価格(家賃)\":\"12.4\",\"床面積\":\"57.6\",\"緯度\":\"35.6572672\",\"経度\":\"139.6130194\",\"築年\":\"1994.0\",\"予測価格\":\"12.458333333333337\",\"割引率(％)\":\"0.5\",\"最寄駅\":\"芦花公園駅\",\"最寄駅への所要時間\":\"16.0\",\"間取り\":\"2LDK\",\"方角\":\"東\",\"建物構造\":\"コンクリート\",\"コンロ口数\":\"2.0\",\"浴室乾燥機\":\"浴室乾燥機なし\",\"オートロック\":\"オートロックあり\",\"フローリング\":\"フローリング〇\",\"選択物件\":\"周囲の物件 (500m県内) \"},\n",
      "{\"価格(家賃)\":\"3.0\",\"床面積\":\"16.0\",\"緯度\":\"35.6555979\",\"経度\":\"139.6102864\",\"築年\":\"1973.0\",\"予測価格\":\"3.308499999999995\",\"割引率(％)\":\"9.3\",\"最寄駅\":\"千歳烏山駅\",\"最寄駅への所要時間\":\"21.0\",\"間取り\":\"1K\",\"方角\":\"南\",\"建物構造\":\"木造\",\"コンロ口数\":\"0.0\",\"浴室乾燥機\":\"浴室乾燥機なし\",\"オートロック\":\"オートロックなし\",\"フローリング\":\"フローリング〇\",\"選択物件\":\"周囲の物件 (500m県内) \"},\n",
      "{\"価格(家賃)\":\"5.5\",\"床面積\":\"22.68\",\"緯度\":\"35.650482000000004\",\"経度\":\"139.6096618\",\"築年\":\"1987.0\",\"予測価格\":\"5.786000000000002\",\"割引率(％)\":\"4.9\",\"最寄駅\":\"祖師ケ谷大蔵駅\",\"最寄駅への所要時間\":\"15.0\",\"間取り\":\"1K\",\"方角\":\"南\",\"建物構造\":\"木造\",\"コンロ口数\":\"0.0\",\"浴室乾燥機\":\"浴室乾燥機なし\",\"オートロック\":\"オートロックなし\",\"フローリング\":\"フローリング×\",\"選択物件\":\"周囲の物件 (500m県内) \"},\n",
      "{\"価格(家賃)\":\"5.5\",\"床面積\":\"24.3\",\"緯度\":\"35.650482000000004\",\"経度\":\"139.6096618\",\"築年\":\"1987.0\",\"予測価格\":\"5.8645\",\"割引率(％)\":\"6.2\",\"最寄駅\":\"祖師ケ谷大蔵駅\",\"最寄駅への所要時間\":\"15.0\",\"間取り\":\"1DK\",\"方角\":\"南\",\"建物構造\":\"木造\",\"コンロ口数\":\"2.0\",\"浴室乾燥機\":\"浴室乾燥機なし\",\"オートロック\":\"オートロックなし\",\"フローリング\":\"フローリング×\",\"選択物件\":\"周囲の物件 (500m県内) \"},\n",
      "{\"価格(家賃)\":\"6.5\",\"床面積\":\"26.4\",\"緯度\":\"35.650482000000004\",\"経度\":\"139.6096618\",\"築年\":\"1995.0\",\"予測価格\":\"15.513000000000009\",\"割引率(％)\":\"58.1\",\"最寄駅\":\"千歳烏山駅\",\"最寄駅への所要時間\":\"1.0\",\"間取り\":\"1\",\"方角\":\"南西\",\"建物構造\":\"鉄骨\",\"コンロ口数\":\"2.0\",\"浴室乾燥機\":\"浴室乾燥機なし\",\"オートロック\":\"オートロックなし\",\"フローリング\":\"フローリング〇\",\"選択物件\":\"周囲の物件 (500m県内) \"},\n",
      "{\"価格(家賃)\":\"10.9\",\"床面積\":\"44.5\",\"緯度\":\"35.659775\",\"経度\":\"139.6093918\",\"築年\":\"2009.0\",\"予測価格\":\"12.303999999999997\",\"割引率(％)\":\"11.4\",\"最寄駅\":\"千歳烏山駅\",\"最寄駅への所要時間\":\"15.0\",\"間取り\":\"1LDK\",\"方角\":\"南\",\"建物構造\":\"鉄骨\",\"コンロ口数\":\"コンロ口数不明\",\"浴室乾燥機\":\"浴室乾燥機なし\",\"オートロック\":\"オートロックあり\",\"フローリング\":\"フローリング〇\",\"選択物件\":\"周囲の物件 (500m県内) \"},\n",
      "{\"価格(家賃)\":\"5.3\",\"床面積\":\"19.87\",\"緯度\":\"35.6555979\",\"経度\":\"139.6102864\",\"築年\":\"1990.0\",\"予測価格\":\"5.757500000000002\",\"割引率(％)\":\"7.9\",\"最寄駅\":\"祖師ケ谷大蔵駅\",\"最寄駅への所要時間\":\"15.0\",\"間取り\":\"1\",\"方角\":\"西\",\"建物構造\":\"木造\",\"コンロ口数\":\"コンロ口数不明\",\"浴室乾燥機\":\"浴室乾燥機なし\",\"オートロック\":\"オートロックなし\",\"フローリング\":\"フローリング×\",\"選択物件\":\"周囲の物件 (500m県内) \"},\n",
      "{\"価格(家賃)\":\"7.0\",\"床面積\":\"31.59\",\"緯度\":\"35.650482000000004\",\"経度\":\"139.6096618\",\"築年\":\"1971.0\",\"予測価格\":\"6.797\",\"割引率(％)\":\"-3.0\",\"最寄駅\":\"祖師ケ谷大蔵駅\",\"最寄駅への所要時間\":\"16.0\",\"間取り\":\"2K\",\"方角\":\"南\",\"建物構造\":\"木造\",\"コンロ口数\":\"0.0\",\"浴室乾燥機\":\"浴室乾燥機なし\",\"オートロック\":\"オートロックなし\",\"フローリング\":\"フローリング×\",\"選択物件\":\"周囲の物件 (500m県内) \"},\n",
      "{\"価格(家賃)\":\"6.0\",\"床面積\":\"23.51\",\"緯度\":\"35.6555979\",\"経度\":\"139.6102864\",\"築年\":\"1990.0\",\"予測価格\":\"6.004999999999998\",\"割引率(％)\":\"0.1\",\"最寄駅\":\"祖師ケ谷大蔵駅\",\"最寄駅への所要時間\":\"20.0\",\"間取り\":\"1\",\"方角\":\"南\",\"建物構造\":\"木造\",\"コンロ口数\":\"0.0\",\"浴室乾燥機\":\"浴室乾燥機なし\",\"オートロック\":\"オートロックなし\",\"フローリング\":\"フローリング×\",\"選択物件\":\"周囲の物件 (500m県内) \"},\n",
      "{\"価格(家賃)\":\"13.0\",\"床面積\":\"61.6\",\"緯度\":\"35.6572672\",\"経度\":\"139.6130194\",\"築年\":\"1989.0\",\"予測価格\":\"12.49375\",\"割引率(％)\":\"-4.1\",\"最寄駅\":\"千歳船橋駅\",\"最寄駅への所要時間\":\"22.0\",\"間取り\":\"2LDK\",\"方角\":\"南\",\"建物構造\":\"コンクリート\",\"コンロ口数\":\"3.0\",\"浴室乾燥機\":\"浴室乾燥機なし\",\"オートロック\":\"オートロックなし\",\"フローリング\":\"フローリング〇\",\"選択物件\":\"周囲の物件 (500m県内) \"},\n",
      "{\"価格(家賃)\":\"12.0\",\"床面積\":\"50.76\",\"緯度\":\"35.650482000000004\",\"経度\":\"139.6096618\",\"築年\":\"1989.0\",\"予測価格\":\"12.61616666666667\",\"割引率(％)\":\"4.9\",\"最寄駅\":\"祖師ケ谷大蔵駅\",\"最寄駅への所要時間\":\"12.0\",\"間取り\":\"2LDK\",\"方角\":\"西\",\"建物構造\":\"鉄骨\",\"コンロ口数\":\"0.0\",\"浴室乾燥機\":\"浴室乾燥機あり\",\"オートロック\":\"オートロックなし\",\"フローリング\":\"フローリング〇\",\"選択物件\":\"周囲の物件 (500m県内) \"},\n",
      "{\"価格(家賃)\":\"5.3\",\"床面積\":\"16.4\",\"緯度\":\"35.650482000000004\",\"経度\":\"139.6096618\",\"築年\":\"1990.0\",\"予測価格\":\"5.250500000000001\",\"割引率(％)\":\"-0.9\",\"最寄駅\":\"祖師ケ谷大蔵駅\",\"最寄駅への所要時間\":\"11.0\",\"間取り\":\"1K\",\"方角\":\"南西\",\"建物構造\":\"木造\",\"コンロ口数\":\"1.0\",\"浴室乾燥機\":\"浴室乾燥機なし\",\"オートロック\":\"オートロックなし\",\"フローリング\":\"フローリング〇\",\"選択物件\":\"周囲の物件 (500m県内) \"},\n",
      "{\"価格(家賃)\":\"8.6\",\"床面積\":\"42.1\",\"緯度\":\"35.6572672\",\"経度\":\"139.6130194\",\"築年\":\"1988.0\",\"予測価格\":\"9.476999999999997\",\"割引率(％)\":\"9.3\",\"最寄駅\":\"千歳船橋駅\",\"最寄駅への所要時間\":\"20.0\",\"間取り\":\"2DK\",\"方角\":\"南\",\"建物構造\":\"木造\",\"コンロ口数\":\"0.0\",\"浴室乾燥機\":\"浴室乾燥機なし\",\"オートロック\":\"オートロックなし\",\"フローリング\":\"フローリング×\",\"選択物件\":\"周囲の物件 (500m県内) \"},\n",
      "{\"価格(家賃)\":\"5.8\",\"床面積\":\"24.75\",\"緯度\":\"35.6555979\",\"経度\":\"139.6102864\",\"築年\":\"1989.0\",\"予測価格\":\"5.910999999999999\",\"割引率(％)\":\"1.9\",\"最寄駅\":\"祖師ケ谷大蔵駅\",\"最寄駅への所要時間\":\"20.0\",\"間取り\":\"1\",\"方角\":\"南\",\"建物構造\":\"木造\",\"コンロ口数\":\"0.0\",\"浴室乾燥機\":\"浴室乾燥機なし\",\"オートロック\":\"オートロックなし\",\"フローリング\":\"フローリング〇\",\"選択物件\":\"周囲の物件 (500m県内) \"},\n",
      "{\"価格(家賃)\":\"9.8\",\"床面積\":\"48.76\",\"緯度\":\"35.6555979\",\"経度\":\"139.6102864\",\"築年\":\"1992.0\",\"予測価格\":\"10.074499999999986\",\"割引率(％)\":\"2.7\",\"最寄駅\":\"千歳船橋駅\",\"最寄駅への所要時間\":\"20.0\",\"間取り\":\"2DK\",\"方角\":\"南\",\"建物構造\":\"木造\",\"コンロ口数\":\"0.0\",\"浴室乾燥機\":\"浴室乾燥機なし\",\"オートロック\":\"オートロックなし\",\"フローリング\":\"フローリング〇\",\"選択物件\":\"周囲の物件 (500m県内) \"},\n",
      "{\"価格(家賃)\":\"11.8\",\"床面積\":\"57.55\",\"緯度\":\"35.650482000000004\",\"経度\":\"139.6096618\",\"築年\":\"1994.0\",\"予測価格\":\"13.558999999999996\",\"割引率(％)\":\"13.0\",\"最寄駅\":\"千歳船橋駅\",\"最寄駅への所要時間\":\"15.0\",\"間取り\":\"3DK\",\"方角\":\"西\",\"建物構造\":\"コンクリート\",\"コンロ口数\":\"0.0\",\"浴室乾燥機\":\"浴室乾燥機なし\",\"オートロック\":\"オートロックあり\",\"フローリング\":\"フローリング〇\",\"選択物件\":\"周囲の物件 (500m県内) \"},\n",
      "{\"価格(家賃)\":\"13.0\",\"床面積\":\"58.32\",\"緯度\":\"35.6572672\",\"経度\":\"139.6130194\",\"築年\":\"1989.0\",\"予測価格\":\"12.9777\",\"割引率(％)\":\"-0.2\",\"最寄駅\":\"祖師ケ谷大蔵駅\",\"最寄駅への所要時間\":\"22.0\",\"間取り\":\"2LDK\",\"方角\":\"南\",\"建物構造\":\"コンクリート\",\"コンロ口数\":\"3.0\",\"浴室乾燥機\":\"浴室乾燥機なし\",\"オートロック\":\"オートロックあり\",\"フローリング\":\"フローリング〇\",\"選択物件\":\"周囲の物件 (500m県内) \"},\n",
      "{\"価格(家賃)\":\"13.0\",\"床面積\":\"61.6\",\"緯度\":\"35.6572672\",\"経度\":\"139.6130194\",\"築年\":\"1989.0\",\"予測価格\":\"12.688500000000003\",\"割引率(％)\":\"-2.5\",\"最寄駅\":\"千歳船橋駅\",\"最寄駅への所要時間\":\"20.0\",\"間取り\":\"2LDK\",\"方角\":\"西\",\"建物構造\":\"コンクリート\",\"コンロ口数\":\"コンロ口数不明\",\"浴室乾燥機\":\"浴室乾燥機なし\",\"オートロック\":\"オートロックなし\",\"フローリング\":\"フローリング×\",\"選択物件\":\"周囲の物件 (500m県内) \"},\n",
      "{\"価格(家賃)\":\"5.7\",\"床面積\":\"21.5\",\"緯度\":\"35.650482000000004\",\"経度\":\"139.6096618\",\"築年\":\"1983.0\",\"予測価格\":\"5.847000000000001\",\"割引率(％)\":\"2.5\",\"最寄駅\":\"祖師ケ谷大蔵駅\",\"最寄駅への所要時間\":\"15.0\",\"間取り\":\"1K\",\"方角\":\"南\",\"建物構造\":\"木造\",\"コンロ口数\":\"0.0\",\"浴室乾燥機\":\"浴室乾燥機なし\",\"オートロック\":\"オートロックなし\",\"フローリング\":\"フローリング〇\",\"選択物件\":\"周囲の物件 (500m県内) \"},\n",
      "{\"価格(家賃)\":\"5.0\",\"床面積\":\"21.0\",\"緯度\":\"35.650482000000004\",\"経度\":\"139.6096618\",\"築年\":\"1962.0\",\"予測価格\":\"5.786999999999998\",\"割引率(％)\":\"13.6\",\"最寄駅\":\"祖師ケ谷大蔵駅\",\"最寄駅への所要時間\":\"8.0\",\"間取り\":\"1K\",\"方角\":\"東\",\"建物構造\":\"木造\",\"コンロ口数\":\"0.0\",\"浴室乾燥機\":\"浴室乾燥機なし\",\"オートロック\":\"オートロックなし\",\"フローリング\":\"フローリング〇\",\"選択物件\":\"周囲の物件 (500m県内) \"},\n",
      "{\"価格(家賃)\":\"3.0\",\"床面積\":\"16.0\",\"緯度\":\"35.6555979\",\"経度\":\"139.6102864\",\"築年\":\"1973.0\",\"予測価格\":\"3.5309999999999975\",\"割引率(％)\":\"15.0\",\"最寄駅\":\"千歳烏山駅\",\"最寄駅への所要時間\":\"21.0\",\"間取り\":\"1K\",\"方角\":\"東\",\"建物構造\":\"木造\",\"コンロ口数\":\"コンロ口数不明\",\"浴室乾燥機\":\"浴室乾燥機なし\",\"オートロック\":\"オートロックなし\",\"フローリング\":\"フローリング〇\",\"選択物件\":\"周囲の物件 (500m県内) \"},\n",
      "{\"価格(家賃)\":\"3.2\",\"床面積\":\"16.0\",\"緯度\":\"35.6555979\",\"経度\":\"139.6102864\",\"築年\":\"1973.0\",\"予測価格\":\"3.518999999999999\",\"割引率(％)\":\"9.1\",\"最寄駅\":\"千歳烏山駅\",\"最寄駅への所要時間\":\"21.0\",\"間取り\":\"1K\",\"方角\":\"東\",\"建物構造\":\"木造\",\"コンロ口数\":\"2.0\",\"浴室乾燥機\":\"浴室乾燥機なし\",\"オートロック\":\"オートロックなし\",\"フローリング\":\"フローリング×\",\"選択物件\":\"周囲の物件 (500m県内) \"},\n",
      "{\"価格(家賃)\":\"12.1\",\"床面積\":\"57.37\",\"緯度\":\"35.6572672\",\"経度\":\"139.6130194\",\"築年\":\"1993.0\",\"予測価格\":\"12.953600000000002\",\"割引率(％)\":\"6.6\",\"最寄駅\":\"千歳烏山駅\",\"最寄駅への所要時間\":\"20.0\",\"間取り\":\"3DK\",\"方角\":\"南\",\"建物構造\":\"コンクリート\",\"コンロ口数\":\"2.0\",\"浴室乾燥機\":\"浴室乾燥機なし\",\"オートロック\":\"オートロックなし\",\"フローリング\":\"フローリング〇\",\"選択物件\":\"周囲の物件 (500m県内) \"},\n",
      "{\"価格(家賃)\":\"11.9\",\"床面積\":\"56.46\",\"緯度\":\"35.6572672\",\"経度\":\"139.6130194\",\"築年\":\"1993.0\",\"予測価格\":\"12.10295\",\"割引率(％)\":\"1.7\",\"最寄駅\":\"千歳烏山駅\",\"最寄駅への所要時間\":\"20.0\",\"間取り\":\"1LDK\",\"方角\":\"西\",\"建物構造\":\"コンクリート\",\"コンロ口数\":\"2.0\",\"浴室乾燥機\":\"浴室乾燥機なし\",\"オートロック\":\"オートロックなし\",\"フローリング\":\"フローリング〇\",\"選択物件\":\"周囲の物件 (500m県内) \"},\n",
      "{\"価格(家賃)\":\"9.5\",\"床面積\":\"37.24\",\"緯度\":\"35.6572672\",\"経度\":\"139.6130194\",\"築年\":\"1998.0\",\"予測価格\":\"10.969999999999995\",\"割引率(％)\":\"13.4\",\"最寄駅\":\"八幡山駅\",\"最寄駅への所要時間\":\"16.0\",\"間取り\":\"1LDK\",\"方角\":\"北\",\"建物構造\":\"コンクリート\",\"コンロ口数\":\"2.0\",\"浴室乾燥機\":\"浴室乾燥機なし\",\"オートロック\":\"オートロックあり\",\"フローリング\":\"フローリング〇\",\"選択物件\":\"周囲の物件 (500m県内) \"},\n",
      "{\"価格(家賃)\":\"9.5\",\"床面積\":\"37.24\",\"緯度\":\"35.6572672\",\"経度\":\"139.6130194\",\"築年\":\"1998.0\",\"予測価格\":\"11.033999999999997\",\"割引率(％)\":\"13.9\",\"最寄駅\":\"八幡山駅\",\"最寄駅への所要時間\":\"16.0\",\"間取り\":\"1LDK\",\"方角\":\"北\",\"建物構造\":\"コンクリート\",\"コンロ口数\":\"2.0\",\"浴室乾燥機\":\"浴室乾燥機なし\",\"オートロック\":\"オートロックあり\",\"フローリング\":\"フローリング〇\",\"選択物件\":\"周囲の物件 (500m県内) \"},\n",
      "{\"価格(家賃)\":\"8.6\",\"床面積\":\"42.1\",\"緯度\":\"35.6572672\",\"経度\":\"139.6130194\",\"築年\":\"1988.0\",\"予測価格\":\"10.2568\",\"割引率(％)\":\"16.2\",\"最寄駅\":\"千歳船橋駅\",\"最寄駅への所要時間\":\"21.0\",\"間取り\":\"2LDK\",\"方角\":\"南\",\"建物構造\":\"木造\",\"コンロ口数\":\"0.0\",\"浴室乾燥機\":\"浴室乾燥機なし\",\"オートロック\":\"オートロックなし\",\"フローリング\":\"フローリング×\",\"選択物件\":\"周囲の物件 (500m県内) \"},\n",
      "{\"価格(家賃)\":\"11.9\",\"床面積\":\"56.46\",\"緯度\":\"35.6572672\",\"経度\":\"139.6130194\",\"築年\":\"1993.0\",\"予測価格\":\"12.231100000000003\",\"割引率(％)\":\"2.7\",\"最寄駅\":\"千歳烏山駅\",\"最寄駅への所要時間\":\"6.0\",\"間取り\":\"1LDK\",\"方角\":\"西\",\"建物構造\":\"コンクリート\",\"コンロ口数\":\"3.0\",\"浴室乾燥機\":\"浴室乾燥機なし\",\"オートロック\":\"オートロックなし\",\"フローリング\":\"フローリング〇\",\"選択物件\":\"周囲の物件 (500m県内) \"},\n",
      "{\"価格(家賃)\":\"12.1\",\"床面積\":\"57.37\",\"緯度\":\"35.6572672\",\"経度\":\"139.6130194\",\"築年\":\"1993.0\",\"予測価格\":\"12.767000000000005\",\"割引率(％)\":\"5.2\",\"最寄駅\":\"千歳烏山駅\",\"最寄駅への所要時間\":\"6.0\",\"間取り\":\"3DK\",\"方角\":\"西\",\"建物構造\":\"コンクリート\",\"コンロ口数\":\"0.0\",\"浴室乾燥機\":\"浴室乾燥機なし\",\"オートロック\":\"オートロックなし\",\"フローリング\":\"フローリング〇\",\"選択物件\":\"周囲の物件 (500m県内) \"},\n",
      "{\"価格(家賃)\":\"12.1\",\"床面積\":\"57.1\",\"緯度\":\"35.6572672\",\"経度\":\"139.6130194\",\"築年\":\"1993.0\",\"予測価格\":\"12.257200000000003\",\"割引率(％)\":\"1.3\",\"最寄駅\":\"千歳烏山駅\",\"最寄駅への所要時間\":\"6.0\",\"間取り\":\"2LDK\",\"方角\":\"西\",\"建物構造\":\"コンクリート\",\"コンロ口数\":\"0.0\",\"浴室乾燥機\":\"浴室乾燥機なし\",\"オートロック\":\"オートロックなし\",\"フローリング\":\"フローリング〇\",\"選択物件\":\"周囲の物件 (500m県内) \"},\n",
      "{\"価格(家賃)\":\"7.5\",\"床面積\":\"36.0\",\"緯度\":\"35.650482000000004\",\"経度\":\"139.6096618\",\"築年\":\"1975.0\",\"予測価格\":\"7.815\",\"割引率(％)\":\"4.0\",\"最寄駅\":\"祖師ケ谷大蔵駅\",\"最寄駅への所要時間\":\"13.0\",\"間取り\":\"2DK\",\"方角\":\"南\",\"建物構造\":\"木造\",\"コンロ口数\":\"2.0\",\"浴室乾燥機\":\"浴室乾燥機なし\",\"オートロック\":\"オートロックなし\",\"フローリング\":\"フローリング×\",\"選択物件\":\"周囲の物件 (500m県内) \"},\n",
      "{\"価格(家賃)\":\"7.8\",\"床面積\":\"38.7\",\"緯度\":\"35.6555979\",\"経度\":\"139.6102864\",\"築年\":\"1979.0\",\"予測価格\":\"8.244000000000002\",\"割引率(％)\":\"5.4\",\"最寄駅\":\"祖師ケ谷大蔵駅\",\"最寄駅への所要時間\":\"18.0\",\"間取り\":\"2DK\",\"方角\":\"南\",\"建物構造\":\"コンクリート\",\"コンロ口数\":\"2.0\",\"浴室乾燥機\":\"浴室乾燥機なし\",\"オートロック\":\"オートロックなし\",\"フローリング\":\"フローリング〇\",\"選択物件\":\"周囲の物件 (500m県内) \"},\n",
      "{\"価格(家賃)\":\"4.8\",\"床面積\":\"16.28\",\"緯度\":\"35.650482000000004\",\"経度\":\"139.6096618\",\"築年\":\"1991.0\",\"予測価格\":\"5.270999999999997\",\"割引率(％)\":\"8.9\",\"最寄駅\":\"千歳船橋駅\",\"最寄駅への所要時間\":\"17.0\",\"間取り\":\"1K\",\"方角\":\"南東\",\"建物構造\":\"コンクリート\",\"コンロ口数\":\"0.0\",\"浴室乾燥機\":\"浴室乾燥機なし\",\"オートロック\":\"オートロックあり\",\"フローリング\":\"フローリング×\",\"選択物件\":\"周囲の物件 (500m県内) \"},\n",
      "{\"価格(家賃)\":\"6.0\",\"床面積\":\"24.83\",\"緯度\":\"35.6555979\",\"経度\":\"139.6102864\",\"築年\":\"1986.0\",\"予測価格\":\"6.912500000000003\",\"割引率(％)\":\"13.2\",\"最寄駅\":\"千歳船橋駅\",\"最寄駅への所要時間\":\"4.0\",\"間取り\":\"1DK\",\"方角\":\"南\",\"建物構造\":\"鉄骨\",\"コンロ口数\":\"2.0\",\"浴室乾燥機\":\"浴室乾燥機なし\",\"オートロック\":\"オートロックなし\",\"フローリング\":\"フローリング〇\",\"選択物件\":\"周囲の物件 (500m県内) \"},\n",
      "{\"価格(家賃)\":\"5.0\",\"床面積\":\"22.56\",\"緯度\":\"35.6555979\",\"経度\":\"139.6102864\",\"築年\":\"1980.0\",\"予測価格\":\"5.908999999999999\",\"割引率(％)\":\"15.4\",\"最寄駅\":\"千歳烏山駅\",\"最寄駅への所要時間\":\"19.0\",\"間取り\":\"1K\",\"方角\":\"南\",\"建物構造\":\"木造\",\"コンロ口数\":\"0.0\",\"浴室乾燥機\":\"浴室乾燥機なし\",\"オートロック\":\"オートロックなし\",\"フローリング\":\"フローリング〇\",\"選択物件\":\"周囲の物件 (500m県内) \"},\n",
      "{\"価格(家賃)\":\"5.3\",\"床面積\":\"16.39\",\"緯度\":\"35.6555979\",\"経度\":\"139.6102864\",\"築年\":\"1986.0\",\"予測価格\":\"5.24\",\"割引率(％)\":\"-1.1\",\"最寄駅\":\"祖師ケ谷大蔵駅\",\"最寄駅への所要時間\":\"19.0\",\"間取り\":\"1K\",\"方角\":\"南\",\"建物構造\":\"鉄骨\",\"コンロ口数\":\"0.0\",\"浴室乾燥機\":\"浴室乾燥機なし\",\"オートロック\":\"オートロックなし\",\"フローリング\":\"フローリング〇\",\"選択物件\":\"選択された物件\"},\n",
      "{\"価格(家賃)\":\"10.5\",\"床面積\":\"48.8\",\"緯度\":\"35.6555979\",\"経度\":\"139.6102864\",\"築年\":\"1992.0\",\"予測価格\":\"11.024499999999998\",\"割引率(％)\":\"4.8\",\"最寄駅\":\"祖師ケ谷大蔵駅\",\"最寄駅への所要時間\":\"21.0\",\"間取り\":\"2DK\",\"方角\":\"南\",\"建物構造\":\"木造\",\"コンロ口数\":\"2.0\",\"浴室乾燥機\":\"浴室乾燥機なし\",\"オートロック\":\"オートロックなし\",\"フローリング\":\"フローリング〇\",\"選択物件\":\"周囲の物件 (500m県内) \"},\n",
      "{\"価格(家賃)\":\"11.8\",\"床面積\":\"61.25\",\"緯度\":\"35.6555979\",\"経度\":\"139.6102864\",\"築年\":\"1997.0\",\"予測価格\":\"11.889800000000005\",\"割引率(％)\":\"0.8\",\"最寄駅\":\"千歳烏山駅\",\"最寄駅への所要時間\":\"20.0\",\"間取り\":\"2LDK\",\"方角\":\"方角不明\",\"建物構造\":\"コンクリート\",\"コンロ口数\":\"0.0\",\"浴室乾燥機\":\"浴室乾燥機なし\",\"オートロック\":\"オートロックなし\",\"フローリング\":\"フローリング〇\",\"選択物件\":\"周囲の物件 (500m県内) \"},\n",
      "{\"価格(家賃)\":\"11.9\",\"床面積\":\"61.25\",\"緯度\":\"35.6555979\",\"経度\":\"139.6102864\",\"築年\":\"1997.0\",\"予測価格\":\"12.005399999999993\",\"割引率(％)\":\"0.9\",\"最寄駅\":\"千歳烏山駅\",\"最寄駅への所要時間\":\"20.0\",\"間取り\":\"2LDK\",\"方角\":\"方角不明\",\"建物構造\":\"コンクリート\",\"コンロ口数\":\"0.0\",\"浴室乾燥機\":\"浴室乾燥機なし\",\"オートロック\":\"オートロックなし\",\"フローリング\":\"フローリング〇\",\"選択物件\":\"周囲の物件 (500m県内) \"},\n",
      "{\"価格(家賃)\":\"11.8\",\"床面積\":\"60.0\",\"緯度\":\"35.6555979\",\"経度\":\"139.6102864\",\"築年\":\"1997.0\",\"予測価格\":\"11.948799999999997\",\"割引率(％)\":\"1.2\",\"最寄駅\":\"千歳烏山駅\",\"最寄駅への所要時間\":\"20.0\",\"間取り\":\"2LDK\",\"方角\":\"方角不明\",\"建物構造\":\"コンクリート\",\"コンロ口数\":\"0.0\",\"浴室乾燥機\":\"浴室乾燥機なし\",\"オートロック\":\"オートロックなし\",\"フローリング\":\"フローリング〇\",\"選択物件\":\"周囲の物件 (500m県内) \"},\n",
      "{\"価格(家賃)\":\"11.9\",\"床面積\":\"60.0\",\"緯度\":\"35.6555979\",\"経度\":\"139.6102864\",\"築年\":\"1997.0\",\"予測価格\":\"11.96699999999999\",\"割引率(％)\":\"0.6\",\"最寄駅\":\"千歳烏山駅\",\"最寄駅への所要時間\":\"20.0\",\"間取り\":\"2LDK\",\"方角\":\"方角不明\",\"建物構造\":\"コンクリート\",\"コンロ口数\":\"0.0\",\"浴室乾燥機\":\"浴室乾燥機なし\",\"オートロック\":\"オートロックなし\",\"フローリング\":\"フローリング〇\",\"選択物件\":\"周囲の物件 (500m県内) \"},\n",
      "{\"価格(家賃)\":\"12.1\",\"床面積\":\"63.3\",\"緯度\":\"35.6555979\",\"経度\":\"139.6102864\",\"築年\":\"1997.0\",\"予測価格\":\"12.268399999999993\",\"割引率(％)\":\"1.4\",\"最寄駅\":\"千歳烏山駅\",\"最寄駅への所要時間\":\"20.0\",\"間取り\":\"2LDK\",\"方角\":\"方角不明\",\"建物構造\":\"コンクリート\",\"コンロ口数\":\"0.0\",\"浴室乾燥機\":\"浴室乾燥機なし\",\"オートロック\":\"オートロックなし\",\"フローリング\":\"フローリング〇\",\"選択物件\":\"周囲の物件 (500m県内) \"},\n",
      "{\"価格(家賃)\":\"12.1\",\"床面積\":\"61.25\",\"緯度\":\"35.6555979\",\"経度\":\"139.6102864\",\"築年\":\"1997.0\",\"予測価格\":\"11.974800000000002\",\"割引率(％)\":\"-1.0\",\"最寄駅\":\"千歳烏山駅\",\"最寄駅への所要時間\":\"20.0\",\"間取り\":\"2LDK\",\"方角\":\"方角不明\",\"建物構造\":\"コンクリート\",\"コンロ口数\":\"0.0\",\"浴室乾燥機\":\"浴室乾燥機なし\",\"オートロック\":\"オートロックなし\",\"フローリング\":\"フローリング〇\",\"選択物件\":\"周囲の物件 (500m県内) \"},\n",
      "{\"価格(家賃)\":\"12.0\",\"床面積\":\"60.0\",\"緯度\":\"35.6555979\",\"経度\":\"139.6102864\",\"築年\":\"1997.0\",\"予測価格\":\"12.2138\",\"割引率(％)\":\"1.8\",\"最寄駅\":\"千歳烏山駅\",\"最寄駅への所要時間\":\"20.0\",\"間取り\":\"2LDK\",\"方角\":\"方角不明\",\"建物構造\":\"コンクリート\",\"コンロ口数\":\"0.0\",\"浴室乾燥機\":\"浴室乾燥機なし\",\"オートロック\":\"オートロックなし\",\"フローリング\":\"フローリング〇\",\"選択物件\":\"周囲の物件 (500m県内) \"},\n",
      "{\"価格(家賃)\":\"12.1\",\"床面積\":\"61.61\",\"緯度\":\"35.6555979\",\"経度\":\"139.6102864\",\"築年\":\"1997.0\",\"予測価格\":\"12.424799999999996\",\"割引率(％)\":\"2.6\",\"最寄駅\":\"千歳烏山駅\",\"最寄駅への所要時間\":\"20.0\",\"間取り\":\"2LDK\",\"方角\":\"方角不明\",\"建物構造\":\"コンクリート\",\"コンロ口数\":\"0.0\",\"浴室乾燥機\":\"浴室乾燥機なし\",\"オートロック\":\"オートロックなし\",\"フローリング\":\"フローリング〇\",\"選択物件\":\"周囲の物件 (500m県内) \"},\n",
      "{\"価格(家賃)\":\"5.6\",\"床面積\":\"20.0\",\"緯度\":\"35.650482000000004\",\"経度\":\"139.6096618\",\"築年\":\"1989.0\",\"予測価格\":\"5.687999999999997\",\"割引率(％)\":\"1.5\",\"最寄駅\":\"祖師ケ谷大蔵駅\",\"最寄駅への所要時間\":\"14.0\",\"間取り\":\"1K\",\"方角\":\"南\",\"建物構造\":\"鉄骨\",\"コンロ口数\":\"0.0\",\"浴室乾燥機\":\"浴室乾燥機なし\",\"オートロック\":\"オートロックなし\",\"フローリング\":\"フローリング〇\",\"選択物件\":\"周囲の物件 (500m県内) \"},\n",
      "{\"価格(家賃)\":\"7.2\",\"床面積\":\"25.47\",\"緯度\":\"35.6555979\",\"経度\":\"139.6102864\",\"築年\":\"2010.0\",\"予測価格\":\"7.730250000000002\",\"割引率(％)\":\"6.9\",\"最寄駅\":\"千歳烏山駅\",\"最寄駅への所要時間\":\"19.0\",\"間取り\":\"1K\",\"方角\":\"西\",\"建物構造\":\"鉄骨\",\"コンロ口数\":\"2.0\",\"浴室乾燥機\":\"浴室乾燥機なし\",\"オートロック\":\"オートロックあり\",\"フローリング\":\"フローリング〇\",\"選択物件\":\"周囲の物件 (500m県内) \"},\n",
      "{\"価格(家賃)\":\"6.5\",\"床面積\":\"20.02\",\"緯度\":\"35.650482000000004\",\"経度\":\"139.6096618\",\"築年\":\"1986.0\",\"予測価格\":\"6.324999999999999\",\"割引率(％)\":\"-2.8\",\"最寄駅\":\"祖師ケ谷大蔵駅\",\"最寄駅への所要時間\":\"15.0\",\"間取り\":\"1K\",\"方角\":\"南西\",\"建物構造\":\"鉄骨\",\"コンロ口数\":\"1.0\",\"浴室乾燥機\":\"浴室乾燥機なし\",\"オートロック\":\"オートロックあり\",\"フローリング\":\"フローリング〇\",\"選択物件\":\"周囲の物件 (500m県内) \"},\n",
      "{\"価格(家賃)\":\"6.6\",\"床面積\":\"19.85\",\"緯度\":\"35.650482000000004\",\"経度\":\"139.6096618\",\"築年\":\"1986.0\",\"予測価格\":\"6.3365\",\"割引率(％)\":\"-4.2\",\"最寄駅\":\"祖師ケ谷大蔵駅\",\"最寄駅への所要時間\":\"13.0\",\"間取り\":\"1K\",\"方角\":\"南\",\"建物構造\":\"鉄骨\",\"コンロ口数\":\"1.0\",\"浴室乾燥機\":\"浴室乾燥機なし\",\"オートロック\":\"オートロックあり\",\"フローリング\":\"フローリング〇\",\"選択物件\":\"周囲の物件 (500m県内) \"},\n",
      "{\"価格(家賃)\":\"6.5\",\"床面積\":\"20.02\",\"緯度\":\"35.650482000000004\",\"経度\":\"139.6096618\",\"築年\":\"1986.0\",\"予測価格\":\"6.3195\",\"割引率(％)\":\"-2.9\",\"最寄駅\":\"祖師ケ谷大蔵駅\",\"最寄駅への所要時間\":\"15.0\",\"間取り\":\"1K\",\"方角\":\"南西\",\"建物構造\":\"鉄骨\",\"コンロ口数\":\"コンロ口数不明\",\"浴室乾燥機\":\"浴室乾燥機なし\",\"オートロック\":\"オートロックあり\",\"フローリング\":\"フローリング〇\",\"選択物件\":\"周囲の物件 (500m県内) \"},\n",
      "{\"価格(家賃)\":\"8.5\",\"床面積\":\"53.6\",\"緯度\":\"35.6555979\",\"経度\":\"139.6102864\",\"築年\":\"1992.0\",\"予測価格\":\"12.179999999999998\",\"割引率(％)\":\"30.2\",\"最寄駅\":\"祖師ケ谷大蔵駅\",\"最寄駅への所要時間\":\"17.0\",\"間取り\":\"2DK\",\"方角\":\"南\",\"建物構造\":\"鉄骨\",\"コンロ口数\":\"0.0\",\"浴室乾燥機\":\"浴室乾燥機なし\",\"オートロック\":\"オートロックなし\",\"フローリング\":\"フローリング×\",\"選択物件\":\"周囲の物件 (500m県内) \"},\n",
      "{\"価格(家賃)\":\"10.5\",\"床面積\":\"48.2\",\"緯度\":\"35.6555979\",\"経度\":\"139.6102864\",\"築年\":\"1992.0\",\"予測価格\":\"10.648500000000002\",\"割引率(％)\":\"1.4\",\"最寄駅\":\"祖師ケ谷大蔵駅\",\"最寄駅への所要時間\":\"20.0\",\"間取り\":\"2LDK\",\"方角\":\"南\",\"建物構造\":\"木造\",\"コンロ口数\":\"2.0\",\"浴室乾燥機\":\"浴室乾燥機なし\",\"オートロック\":\"オートロックなし\",\"フローリング\":\"フローリング〇\",\"選択物件\":\"周囲の物件 (500m県内) \"},\n",
      "{\"価格(家賃)\":\"9.8\",\"床面積\":\"48.76\",\"緯度\":\"35.6555979\",\"経度\":\"139.6102864\",\"築年\":\"1992.0\",\"予測価格\":\"10.209999999999987\",\"割引率(％)\":\"4.0\",\"最寄駅\":\"千歳船橋駅\",\"最寄駅への所要時間\":\"20.0\",\"間取り\":\"2DK\",\"方角\":\"南\",\"建物構造\":\"木造\",\"コンロ口数\":\"0.0\",\"浴室乾燥機\":\"浴室乾燥機なし\",\"オートロック\":\"オートロックなし\",\"フローリング\":\"フローリング〇\",\"選択物件\":\"周囲の物件 (500m県内) \"},\n",
      "{\"価格(家賃)\":\"10.0\",\"床面積\":\"40.99\",\"緯度\":\"35.6555979\",\"経度\":\"139.6102864\",\"築年\":\"2012.0\",\"予測価格\":\"11.61999999999999\",\"割引率(％)\":\"13.9\",\"最寄駅\":\"千歳烏山駅\",\"最寄駅への所要時間\":\"19.0\",\"間取り\":\"1LDK\",\"方角\":\"西\",\"建物構造\":\"木造\",\"コンロ口数\":\"2.0\",\"浴室乾燥機\":\"浴室乾燥機あり\",\"オートロック\":\"オートロックあり\",\"フローリング\":\"フローリング〇\",\"選択物件\":\"周囲の物件 (500m県内) \"},\n",
      "{\"価格(家賃)\":\"6.7\",\"床面積\":\"23.4\",\"緯度\":\"35.650482000000004\",\"経度\":\"139.6096618\",\"築年\":\"1997.0\",\"予測価格\":\"6.591000000000001\",\"割引率(％)\":\"-1.7\",\"最寄駅\":\"成城学園前駅\",\"最寄駅への所要時間\":\"6.0\",\"間取り\":\"1K\",\"方角\":\"南西\",\"建物構造\":\"鉄骨\",\"コンロ口数\":\"1.0\",\"浴室乾燥機\":\"浴室乾燥機なし\",\"オートロック\":\"オートロックなし\",\"フローリング\":\"フローリング〇\",\"選択物件\":\"周囲の物件 (500m県内) \"},\n",
      "{\"価格(家賃)\":\"12.2\",\"床面積\":\"64.45\",\"緯度\":\"35.6572672\",\"経度\":\"139.6130194\",\"築年\":\"1997.0\",\"予測価格\":\"12.883100000000006\",\"割引率(％)\":\"5.3\",\"最寄駅\":\"八幡山駅\",\"最寄駅への所要時間\":\"20.0\",\"間取り\":\"2LDK\",\"方角\":\"南\",\"建物構造\":\"コンクリート\",\"コンロ口数\":\"コンロ口数不明\",\"浴室乾燥機\":\"浴室乾燥機なし\",\"オートロック\":\"オートロックなし\",\"フローリング\":\"フローリング〇\",\"選択物件\":\"周囲の物件 (500m県内) \"},\n",
      "{\"価格(家賃)\":\"11.4\",\"床面積\":\"55.01\",\"緯度\":\"35.6572672\",\"経度\":\"139.6130194\",\"築年\":\"1997.0\",\"予測価格\":\"11.574999999999994\",\"割引率(％)\":\"1.5\",\"最寄駅\":\"八幡山駅\",\"最寄駅への所要時間\":\"20.0\",\"間取り\":\"2LDK\",\"方角\":\"南\",\"建物構造\":\"コンクリート\",\"コンロ口数\":\"コンロ口数不明\",\"浴室乾燥機\":\"浴室乾燥機なし\",\"オートロック\":\"オートロックなし\",\"フローリング\":\"フローリング〇\",\"選択物件\":\"周囲の物件 (500m県内) \"},\n",
      "{\"価格(家賃)\":\"11.6\",\"床面積\":\"55.45\",\"緯度\":\"35.6572672\",\"経度\":\"139.6130194\",\"築年\":\"1997.0\",\"予測価格\":\"11.644200000000003\",\"割引率(％)\":\"0.4\",\"最寄駅\":\"八幡山駅\",\"最寄駅への所要時間\":\"20.0\",\"間取り\":\"2LDK\",\"方角\":\"南\",\"建物構造\":\"コンクリート\",\"コンロ口数\":\"コンロ口数不明\",\"浴室乾燥機\":\"浴室乾燥機なし\",\"オートロック\":\"オートロックなし\",\"フローリング\":\"フローリング〇\",\"選択物件\":\"周囲の物件 (500m県内) \"},\n",
      "{\"価格(家賃)\":\"11.6\",\"床面積\":\"55.01\",\"緯度\":\"35.6572672\",\"経度\":\"139.6130194\",\"築年\":\"1997.0\",\"予測価格\":\"11.654616666666671\",\"割引率(％)\":\"0.5\",\"最寄駅\":\"八幡山駅\",\"最寄駅への所要時間\":\"20.0\",\"間取り\":\"2LDK\",\"方角\":\"南\",\"建物構造\":\"コンクリート\",\"コンロ口数\":\"0.0\",\"浴室乾燥機\":\"浴室乾燥機なし\",\"オートロック\":\"オートロックなし\",\"フローリング\":\"フローリング〇\",\"選択物件\":\"周囲の物件 (500m県内) \"},\n",
      "{\"価格(家賃)\":\"11.6\",\"床面積\":\"55.45\",\"緯度\":\"35.6572672\",\"経度\":\"139.6130194\",\"築年\":\"1997.0\",\"予測価格\":\"11.760099999999996\",\"割引率(％)\":\"1.4\",\"最寄駅\":\"八幡山駅\",\"最寄駅への所要時間\":\"20.0\",\"間取り\":\"2LDK\",\"方角\":\"南\",\"建物構造\":\"コンクリート\",\"コンロ口数\":\"コンロ口数不明\",\"浴室乾燥機\":\"浴室乾燥機なし\",\"オートロック\":\"オートロックなし\",\"フローリング\":\"フローリング〇\",\"選択物件\":\"周囲の物件 (500m県内) \"},\n",
      "{\"価格(家賃)\":\"11.3\",\"床面積\":\"45.77\",\"緯度\":\"35.650482000000004\",\"経度\":\"139.6096618\",\"築年\":\"1992.0\",\"予測価格\":\"10.131299999999998\",\"割引率(％)\":\"-11.5\",\"最寄駅\":\"祖師ケ谷大蔵駅\",\"最寄駅への所要時間\":\"12.0\",\"間取り\":\"2DK\",\"方角\":\"南\",\"建物構造\":\"鉄骨\",\"コンロ口数\":\"0.0\",\"浴室乾燥機\":\"浴室乾燥機なし\",\"オートロック\":\"オートロックなし\",\"フローリング\":\"フローリング〇\",\"選択物件\":\"周囲の物件 (500m県内) \"},\n",
      "{\"価格(家賃)\":\"5.0\",\"床面積\":\"21.0\",\"緯度\":\"35.650482000000004\",\"経度\":\"139.6096618\",\"築年\":\"1980.0\",\"予測価格\":\"5.338000000000001\",\"割引率(％)\":\"6.3\",\"最寄駅\":\"祖師ケ谷大蔵駅\",\"最寄駅への所要時間\":\"14.0\",\"間取り\":\"1K\",\"方角\":\"東\",\"建物構造\":\"木造\",\"コンロ口数\":\"0.0\",\"浴室乾燥機\":\"浴室乾燥機なし\",\"オートロック\":\"オートロックなし\",\"フローリング\":\"フローリング〇\",\"選択物件\":\"周囲の物件 (500m県内) \"},\n",
      "{\"価格(家賃)\":\"5.0\",\"床面積\":\"21.0\",\"緯度\":\"35.650482000000004\",\"経度\":\"139.6096618\",\"築年\":\"1980.0\",\"予測価格\":\"5.359000000000002\",\"割引率(％)\":\"6.7\",\"最寄駅\":\"千歳烏山駅\",\"最寄駅への所要時間\":\"3.0\",\"間取り\":\"1K\",\"方角\":\"東\",\"建物構造\":\"木造\",\"コンロ口数\":\"2.0\",\"浴室乾燥機\":\"浴室乾燥機なし\",\"オートロック\":\"オートロックなし\",\"フローリング\":\"フローリング〇\",\"選択物件\":\"周囲の物件 (500m県内) \"},\n",
      "{\"価格(家賃)\":\"6.7\",\"床面積\":\"23.4\",\"緯度\":\"35.650482000000004\",\"経度\":\"139.6096618\",\"築年\":\"1997.0\",\"予測価格\":\"6.712500000000002\",\"割引率(％)\":\"0.2\",\"最寄駅\":\"祖師ケ谷大蔵駅\",\"最寄駅への所要時間\":\"14.0\",\"間取り\":\"1K\",\"方角\":\"南\",\"建物構造\":\"鉄骨\",\"コンロ口数\":\"0.0\",\"浴室乾燥機\":\"浴室乾燥機なし\",\"オートロック\":\"オートロックなし\",\"フローリング\":\"フローリング〇\",\"選択物件\":\"周囲の物件 (500m県内) \"},\n",
      "{\"価格(家賃)\":\"13.5\",\"床面積\":\"59.54\",\"緯度\":\"35.6572672\",\"経度\":\"139.6130194\",\"築年\":\"1991.0\",\"予測価格\":\"12.757566666666671\",\"割引率(％)\":\"-5.8\",\"最寄駅\":\"八幡山駅\",\"最寄駅への所要時間\":\"21.0\",\"間取り\":\"3LDK\",\"方角\":\"南\",\"建物構造\":\"コンクリート\",\"コンロ口数\":\"0.0\",\"浴室乾燥機\":\"浴室乾燥機なし\",\"オートロック\":\"オートロックなし\",\"フローリング\":\"フローリング〇\",\"選択物件\":\"周囲の物件 (500m県内) \"},\n",
      "{\"価格(家賃)\":\"13.5\",\"床面積\":\"60.5\",\"緯度\":\"35.6505709\",\"経度\":\"139.6105756\",\"築年\":\"1991.0\",\"予測価格\":\"12.692300000000003\",\"割引率(％)\":\"-6.4\",\"最寄駅\":\"千歳烏山駅\",\"最寄駅への所要時間\":\"18.0\",\"間取り\":\"3DK\",\"方角\":\"南\",\"建物構造\":\"コンクリート\",\"コンロ口数\":\"0.0\",\"浴室乾燥機\":\"浴室乾燥機なし\",\"オートロック\":\"オートロックなし\",\"フローリング\":\"フローリング〇\",\"選択物件\":\"周囲の物件 (500m県内) \"},\n",
      "{\"価格(家賃)\":\"12.4\",\"床面積\":\"57.6\",\"緯度\":\"35.6572672\",\"経度\":\"139.6130194\",\"築年\":\"1994.0\",\"予測価格\":\"12.635000000000005\",\"割引率(％)\":\"1.9\",\"最寄駅\":\"千歳烏山駅\",\"最寄駅への所要時間\":\"22.0\",\"間取り\":\"2LDK\",\"方角\":\"東\",\"建物構造\":\"コンクリート\",\"コンロ口数\":\"2.0\",\"浴室乾燥機\":\"浴室乾燥機なし\",\"オートロック\":\"オートロックあり\",\"フローリング\":\"フローリング〇\",\"選択物件\":\"周囲の物件 (500m県内) \"},\n",
      "{\"価格(家賃)\":\"13.0\",\"床面積\":\"56.79\",\"緯度\":\"35.6572672\",\"経度\":\"139.6130194\",\"築年\":\"1994.0\",\"予測価格\":\"13.092000000000002\",\"割引率(％)\":\"0.7\",\"最寄駅\":\"千歳烏山駅\",\"最寄駅への所要時間\":\"19.0\",\"間取り\":\"2LDK\",\"方角\":\"南\",\"建物構造\":\"コンクリート\",\"コンロ口数\":\"0.0\",\"浴室乾燥機\":\"浴室乾燥機なし\",\"オートロック\":\"オートロックあり\",\"フローリング\":\"フローリング〇\",\"選択物件\":\"周囲の物件 (500m県内) \"},\n",
      "{\"価格(家賃)\":\"13.4\",\"床面積\":\"56.9\",\"緯度\":\"35.6572672\",\"経度\":\"139.6130194\",\"築年\":\"1994.0\",\"予測価格\":\"13.131000000000004\",\"割引率(％)\":\"-2.0\",\"最寄駅\":\"千歳烏山駅\",\"最寄駅への所要時間\":\"19.0\",\"間取り\":\"2LDK\",\"方角\":\"南\",\"建物構造\":\"コンクリート\",\"コンロ口数\":\"0.0\",\"浴室乾燥機\":\"浴室乾燥機なし\",\"オートロック\":\"オートロックあり\",\"フローリング\":\"フローリング〇\",\"選択物件\":\"周囲の物件 (500m県内) \"},\n",
      "{\"価格(家賃)\":\"13.8\",\"床面積\":\"54.7\",\"緯度\":\"35.6572672\",\"経度\":\"139.6130194\",\"築年\":\"1993.0\",\"予測価格\":\"12.564733333333331\",\"割引率(％)\":\"-9.8\",\"最寄駅\":\"千歳船橋駅\",\"最寄駅への所要時間\":\"15.0\",\"間取り\":\"1LDK\",\"方角\":\"方角不明\",\"建物構造\":\"コンクリート\",\"コンロ口数\":\"0.0\",\"浴室乾燥機\":\"浴室乾燥機なし\",\"オートロック\":\"オートロックあり\",\"フローリング\":\"フローリング〇\",\"選択物件\":\"周囲の物件 (500m県内) \"},\n",
      "{\"価格(家賃)\":\"12.4\",\"床面積\":\"56.9\",\"緯度\":\"35.6572672\",\"経度\":\"139.6130194\",\"築年\":\"1994.0\",\"予測価格\":\"12.447000000000003\",\"割引率(％)\":\"0.4\",\"最寄駅\":\"千歳烏山駅\",\"最寄駅への所要時間\":\"19.0\",\"間取り\":\"2LDK\",\"方角\":\"東\",\"建物構造\":\"コンクリート\",\"コンロ口数\":\"0.0\",\"浴室乾燥機\":\"浴室乾燥機なし\",\"オートロック\":\"オートロックあり\",\"フローリング\":\"フローリング〇\",\"選択物件\":\"周囲の物件 (500m県内) \"},\n",
      "{\"価格(家賃)\":\"13.4\",\"床面積\":\"56.9\",\"緯度\":\"35.6572672\",\"経度\":\"139.6130194\",\"築年\":\"1994.0\",\"予測価格\":\"13.150000000000002\",\"割引率(％)\":\"-1.9\",\"最寄駅\":\"千歳烏山駅\",\"最寄駅への所要時間\":\"19.0\",\"間取り\":\"2LDK\",\"方角\":\"南\",\"建物構造\":\"コンクリート\",\"コンロ口数\":\"0.0\",\"浴室乾燥機\":\"浴室乾燥機なし\",\"オートロック\":\"オートロックあり\",\"フローリング\":\"フローリング〇\",\"選択物件\":\"周囲の物件 (500m県内) \"},\n",
      "{\"価格(家賃)\":\"5.0\",\"床面積\":\"19.83\",\"緯度\":\"35.650482000000004\",\"経度\":\"139.6096618\",\"築年\":\"1988.0\",\"予測価格\":\"5.159000000000001\",\"割引率(％)\":\"3.1\",\"最寄駅\":\"祖師ケ谷大蔵駅\",\"最寄駅への所要時間\":\"11.0\",\"間取り\":\"1K\",\"方角\":\"方角不明\",\"建物構造\":\"木造\",\"コンロ口数\":\"2.0\",\"浴室乾燥機\":\"浴室乾燥機なし\",\"オートロック\":\"オートロックなし\",\"フローリング\":\"フローリング〇\",\"選択物件\":\"周囲の物件 (500m県内) \"},\n",
      "{\"価格(家賃)\":\"7.3\",\"床面積\":\"36.5\",\"緯度\":\"35.659775\",\"経度\":\"139.6093918\",\"築年\":\"1986.0\",\"予測価格\":\"9.169999999999998\",\"割引率(％)\":\"20.4\",\"最寄駅\":\"千歳烏山駅\",\"最寄駅への所要時間\":\"15.0\",\"間取り\":\"2DK\",\"方角\":\"南\",\"建物構造\":\"コンクリート\",\"コンロ口数\":\"2.0\",\"浴室乾燥機\":\"浴室乾燥機なし\",\"オートロック\":\"オートロックなし\",\"フローリング\":\"フローリング〇\",\"選択物件\":\"周囲の物件 (500m県内) \"},\n",
      "{\"価格(家賃)\":\"9.7\",\"床面積\":\"39.17\",\"緯度\":\"35.6572672\",\"経度\":\"139.6130194\",\"築年\":\"1988.0\",\"予測価格\":\"9.53\",\"割引率(％)\":\"-1.8\",\"最寄駅\":\"千歳烏山駅\",\"最寄駅への所要時間\":\"5.0\",\"間取り\":\"2DK\",\"方角\":\"南\",\"建物構造\":\"コンクリート\",\"コンロ口数\":\"3.0\",\"浴室乾燥機\":\"浴室乾燥機なし\",\"オートロック\":\"オートロックなし\",\"フローリング\":\"フローリング〇\",\"選択物件\":\"周囲の物件 (500m県内) \"},\n",
      "{\"価格(家賃)\":\"11.5\",\"床面積\":\"60.5\",\"緯度\":\"35.6505709\",\"経度\":\"139.6105756\",\"築年\":\"1991.0\",\"予測価格\":\"13.031066666666668\",\"割引率(％)\":\"11.7\",\"最寄駅\":\"千歳烏山駅\",\"最寄駅への所要時間\":\"18.0\",\"間取り\":\"3DK\",\"方角\":\"南\",\"建物構造\":\"コンクリート\",\"コンロ口数\":\"0.0\",\"浴室乾燥機\":\"浴室乾燥機なし\",\"オートロック\":\"オートロックなし\",\"フローリング\":\"フローリング〇\",\"選択物件\":\"周囲の物件 (500m県内) \"},\n",
      "{\"価格(家賃)\":\"12.5\",\"床面積\":\"58.14\",\"緯度\":\"35.6505709\",\"経度\":\"139.6105756\",\"築年\":\"1991.0\",\"予測価格\":\"12.627833333333333\",\"割引率(％)\":\"1.0\",\"最寄駅\":\"千歳烏山駅\",\"最寄駅への所要時間\":\"18.0\",\"間取り\":\"2LDK\",\"方角\":\"南\",\"建物構造\":\"コンクリート\",\"コンロ口数\":\"0.0\",\"浴室乾燥機\":\"浴室乾燥機なし\",\"オートロック\":\"オートロックなし\",\"フローリング\":\"フローリング〇\",\"選択物件\":\"周囲の物件 (500m県内) \"},\n",
      "{\"価格(家賃)\":\"13.5\",\"床面積\":\"60.48\",\"緯度\":\"35.6572672\",\"経度\":\"139.6130194\",\"築年\":\"1991.0\",\"予測価格\":\"13.144000000000005\",\"割引率(％)\":\"-2.7\",\"最寄駅\":\"千歳烏山駅\",\"最寄駅への所要時間\":\"18.0\",\"間取り\":\"3DK\",\"方角\":\"南\",\"建物構造\":\"コンクリート\",\"コンロ口数\":\"0.0\",\"浴室乾燥機\":\"浴室乾燥機なし\",\"オートロック\":\"オートロックなし\",\"フローリング\":\"フローリング〇\",\"選択物件\":\"周囲の物件 (500m県内) \"},\n",
      "{\"価格(家賃)\":\"12.9\",\"床面積\":\"60.5\",\"緯度\":\"35.6505709\",\"経度\":\"139.6105756\",\"築年\":\"1991.0\",\"予測価格\":\"13.229000000000003\",\"割引率(％)\":\"2.5\",\"最寄駅\":\"千歳烏山駅\",\"最寄駅への所要時間\":\"18.0\",\"間取り\":\"3DK\",\"方角\":\"南\",\"建物構造\":\"コンクリート\",\"コンロ口数\":\"0.0\",\"浴室乾燥機\":\"浴室乾燥機なし\",\"オートロック\":\"オートロックなし\",\"フローリング\":\"フローリング〇\",\"選択物件\":\"周囲の物件 (500m県内) \"},\n",
      "{\"価格(家賃)\":\"13.5\",\"床面積\":\"59.54\",\"緯度\":\"35.6572672\",\"経度\":\"139.6130194\",\"築年\":\"1991.0\",\"予測価格\":\"12.757566666666671\",\"割引率(％)\":\"-5.8\",\"最寄駅\":\"八幡山駅\",\"最寄駅への所要時間\":\"21.0\",\"間取り\":\"3LDK\",\"方角\":\"南\",\"建物構造\":\"コンクリート\",\"コンロ口数\":\"0.0\",\"浴室乾燥機\":\"浴室乾燥機なし\",\"オートロック\":\"オートロックなし\",\"フローリング\":\"フローリング〇\",\"選択物件\":\"周囲の物件 (500m県内) \"},\n",
      "{\"価格(家賃)\":\"13.5\",\"床面積\":\"60.48\",\"緯度\":\"35.6572672\",\"経度\":\"139.6130194\",\"築年\":\"1991.0\",\"予測価格\":\"13.289266666666665\",\"割引率(％)\":\"-1.6\",\"最寄駅\":\"千歳烏山駅\",\"最寄駅への所要時間\":\"18.0\",\"間取り\":\"3DK\",\"方角\":\"南\",\"建物構造\":\"コンクリート\",\"コンロ口数\":\"0.0\",\"浴室乾燥機\":\"浴室乾燥機なし\",\"オートロック\":\"オートロックなし\",\"フローリング\":\"フローリング〇\",\"選択物件\":\"周囲の物件 (500m県内) \"},\n",
      "{\"価格(家賃)\":\"12.4\",\"床面積\":\"57.6\",\"緯度\":\"35.6505709\",\"経度\":\"139.6105756\",\"築年\":\"1994.0\",\"予測価格\":\"12.482000000000001\",\"割引率(％)\":\"0.7\",\"最寄駅\":\"千歳烏山駅\",\"最寄駅への所要時間\":\"18.0\",\"間取り\":\"2LDK\",\"方角\":\"東\",\"建物構造\":\"コンクリート\",\"コンロ口数\":\"0.0\",\"浴室乾燥機\":\"浴室乾燥機なし\",\"オートロック\":\"オートロックあり\",\"フローリング\":\"フローリング〇\",\"選択物件\":\"周囲の物件 (500m県内) \"},\n",
      "{\"価格(家賃)\":\"12.4\",\"床面積\":\"57.6\",\"緯度\":\"35.6572672\",\"経度\":\"139.6130194\",\"築年\":\"1994.0\",\"予測価格\":\"12.5654\",\"割引率(％)\":\"1.3\",\"最寄駅\":\"千歳烏山駅\",\"最寄駅への所要時間\":\"19.0\",\"間取り\":\"2LDK\",\"方角\":\"東\",\"建物構造\":\"コンクリート\",\"コンロ口数\":\"0.0\",\"浴室乾燥機\":\"浴室乾燥機なし\",\"オートロック\":\"オートロックあり\",\"フローリング\":\"フローリング〇\",\"選択物件\":\"周囲の物件 (500m県内) \"},\n",
      "{\"価格(家賃)\":\"12.4\",\"床面積\":\"57.6\",\"緯度\":\"35.6505709\",\"経度\":\"139.6105756\",\"築年\":\"1994.0\",\"予測価格\":\"12.520999999999999\",\"割引率(％)\":\"1.0\",\"最寄駅\":\"千歳烏山駅\",\"最寄駅への所要時間\":\"18.0\",\"間取り\":\"2LDK\",\"方角\":\"東\",\"建物構造\":\"コンクリート\",\"コンロ口数\":\"0.0\",\"浴室乾燥機\":\"浴室乾燥機なし\",\"オートロック\":\"オートロックあり\",\"フローリング\":\"フローリング〇\",\"選択物件\":\"周囲の物件 (500m県内) \"},\n",
      "{\"価格(家賃)\":\"12.4\",\"床面積\":\"57.6\",\"緯度\":\"35.6572672\",\"経度\":\"139.6130194\",\"築年\":\"1994.0\",\"予測価格\":\"12.598000000000003\",\"割引率(％)\":\"1.6\",\"最寄駅\":\"千歳船橋駅\",\"最寄駅への所要時間\":\"18.0\",\"間取り\":\"2LDK\",\"方角\":\"東\",\"建物構造\":\"コンクリート\",\"コンロ口数\":\"2.0\",\"浴室乾燥機\":\"浴室乾燥機なし\",\"オートロック\":\"オートロックあり\",\"フローリング\":\"フローリング〇\",\"選択物件\":\"周囲の物件 (500m県内) \"},\n",
      "{\"価格(家賃)\":\"11.4\",\"床面積\":\"55.01\",\"緯度\":\"35.6572672\",\"経度\":\"139.6130194\",\"築年\":\"1997.0\",\"予測価格\":\"11.986399999999998\",\"割引率(％)\":\"4.9\",\"最寄駅\":\"千歳烏山駅\",\"最寄駅への所要時間\":\"16.0\",\"間取り\":\"2LDK\",\"方角\":\"南\",\"建物構造\":\"コンクリート\",\"コンロ口数\":\"2.0\",\"浴室乾燥機\":\"浴室乾燥機なし\",\"オートロック\":\"オートロックなし\",\"フローリング\":\"フローリング〇\",\"選択物件\":\"周囲の物件 (500m県内) \"},\n",
      "{\"価格(家賃)\":\"12.5\",\"床面積\":\"65.45\",\"緯度\":\"35.6572672\",\"経度\":\"139.6130194\",\"築年\":\"1997.0\",\"予測価格\":\"13.089399999999994\",\"割引率(％)\":\"4.5\",\"最寄駅\":\"八幡山駅\",\"最寄駅への所要時間\":\"21.0\",\"間取り\":\"2LDK\",\"方角\":\"南\",\"建物構造\":\"コンクリート\",\"コンロ口数\":\"2.0\",\"浴室乾燥機\":\"浴室乾燥機なし\",\"オートロック\":\"オートロックなし\",\"フローリング\":\"フローリング〇\",\"選択物件\":\"周囲の物件 (500m県内) \"},\n",
      "{\"価格(家賃)\":\"12.2\",\"床面積\":\"65.45\",\"緯度\":\"35.6572672\",\"経度\":\"139.6130194\",\"築年\":\"1997.0\",\"予測価格\":\"13.089399999999994\",\"割引率(％)\":\"6.8\",\"最寄駅\":\"八幡山駅\",\"最寄駅への所要時間\":\"21.0\",\"間取り\":\"2LDK\",\"方角\":\"南\",\"建物構造\":\"コンクリート\",\"コンロ口数\":\"2.0\",\"浴室乾燥機\":\"浴室乾燥機なし\",\"オートロック\":\"オートロックなし\",\"フローリング\":\"フローリング〇\",\"選択物件\":\"周囲の物件 (500m県内) \"},\n",
      "{\"価格(家賃)\":\"11.4\",\"床面積\":\"55.01\",\"緯度\":\"35.6572672\",\"経度\":\"139.6130194\",\"築年\":\"1997.0\",\"予測価格\":\"11.689449999999999\",\"割引率(％)\":\"2.5\",\"最寄駅\":\"八幡山駅\",\"最寄駅への所要時間\":\"21.0\",\"間取り\":\"2LDK\",\"方角\":\"南\",\"建物構造\":\"コンクリート\",\"コンロ口数\":\"2.0\",\"浴室乾燥機\":\"浴室乾燥機なし\",\"オートロック\":\"オートロックなし\",\"フローリング\":\"フローリング〇\",\"選択物件\":\"周囲の物件 (500m県内) \"},\n",
      "{\"価格(家賃)\":\"11.9\",\"床面積\":\"55.45\",\"緯度\":\"35.6572672\",\"経度\":\"139.6130194\",\"築年\":\"1997.0\",\"予測価格\":\"11.735483333333336\",\"割引率(％)\":\"-1.4\",\"最寄駅\":\"八幡山駅\",\"最寄駅への所要時間\":\"21.0\",\"間取り\":\"2LDK\",\"方角\":\"南\",\"建物構造\":\"コンクリート\",\"コンロ口数\":\"2.0\",\"浴室乾燥機\":\"浴室乾燥機なし\",\"オートロック\":\"オートロックなし\",\"フローリング\":\"フローリング〇\",\"選択物件\":\"周囲の物件 (500m県内) \"},\n",
      "{\"価格(家賃)\":\"11.7\",\"床面積\":\"55.01\",\"緯度\":\"35.6572672\",\"経度\":\"139.6130194\",\"築年\":\"1997.0\",\"予測価格\":\"11.704099999999997\",\"割引率(％)\":\"0.0\",\"最寄駅\":\"八幡山駅\",\"最寄駅への所要時間\":\"21.0\",\"間取り\":\"2LDK\",\"方角\":\"南\",\"建物構造\":\"コンクリート\",\"コンロ口数\":\"2.0\",\"浴室乾燥機\":\"浴室乾燥機なし\",\"オートロック\":\"オートロックなし\",\"フローリング\":\"フローリング〇\",\"選択物件\":\"周囲の物件 (500m県内) \"},\n",
      "{\"価格(家賃)\":\"11.6\",\"床面積\":\"55.45\",\"緯度\":\"35.6572672\",\"経度\":\"139.6130194\",\"築年\":\"1997.0\",\"予測価格\":\"11.735483333333336\",\"割引率(％)\":\"1.2\",\"最寄駅\":\"八幡山駅\",\"最寄駅への所要時間\":\"21.0\",\"間取り\":\"2LDK\",\"方角\":\"南\",\"建物構造\":\"コンクリート\",\"コンロ口数\":\"2.0\",\"浴室乾燥機\":\"浴室乾燥機なし\",\"オートロック\":\"オートロックなし\",\"フローリング\":\"フローリング〇\",\"選択物件\":\"周囲の物件 (500m県内) \"},\n",
      "{\"価格(家賃)\":\"11.6\",\"床面積\":\"55.01\",\"緯度\":\"35.6572672\",\"経度\":\"139.6130194\",\"築年\":\"1997.0\",\"予測価格\":\"11.720750000000017\",\"割引率(％)\":\"1.0\",\"最寄駅\":\"八幡山駅\",\"最寄駅への所要時間\":\"21.0\",\"間取り\":\"2LDK\",\"方角\":\"南\",\"建物構造\":\"コンクリート\",\"コンロ口数\":\"2.0\",\"浴室乾燥機\":\"浴室乾燥機なし\",\"オートロック\":\"オートロックなし\",\"フローリング\":\"フローリング〇\",\"選択物件\":\"周囲の物件 (500m県内) \"},\n",
      "{\"価格(家賃)\":\"13.0\",\"床面積\":\"58.32\",\"緯度\":\"35.6572672\",\"経度\":\"139.6130194\",\"築年\":\"1989.0\",\"予測価格\":\"12.757\",\"割引率(％)\":\"-1.9\",\"最寄駅\":\"千歳烏山駅\",\"最寄駅への所要時間\":\"23.0\",\"間取り\":\"2LDK\",\"方角\":\"南\",\"建物構造\":\"コンクリート\",\"コンロ口数\":\"2.0\",\"浴室乾燥機\":\"浴室乾燥機なし\",\"オートロック\":\"オートロックあり\",\"フローリング\":\"フローリング〇\",\"選択物件\":\"周囲の物件 (500m県内) \"},\n",
      "{\"価格(家賃)\":\"12.0\",\"床面積\":\"52.55\",\"緯度\":\"35.6555979\",\"経度\":\"139.6102864\",\"築年\":\"2012.0\",\"予測価格\":\"13.192000000000002\",\"割引率(％)\":\"9.0\",\"最寄駅\":\"千歳烏山駅\",\"最寄駅への所要時間\":\"18.0\",\"間取り\":\"1LDK\",\"方角\":\"南\",\"建物構造\":\"鉄骨\",\"コンロ口数\":\"3.0\",\"浴室乾燥機\":\"浴室乾燥機なし\",\"オートロック\":\"オートロックあり\",\"フローリング\":\"フローリング〇\",\"選択物件\":\"周囲の物件 (500m県内) \"},\n",
      "{\"価格(家賃)\":\"7.2\",\"床面積\":\"25.47\",\"緯度\":\"35.6505709\",\"経度\":\"139.6105756\",\"築年\":\"2010.0\",\"予測価格\":\"7.709150000000002\",\"割引率(％)\":\"6.6\",\"最寄駅\":\"千歳烏山駅\",\"最寄駅への所要時間\":\"19.0\",\"間取り\":\"1K\",\"方角\":\"西\",\"建物構造\":\"鉄骨\",\"コンロ口数\":\"0.0\",\"浴室乾燥機\":\"浴室乾燥機なし\",\"オートロック\":\"オートロックあり\",\"フローリング\":\"フローリング〇\",\"選択物件\":\"周囲の物件 (500m県内) \"},\n",
      "{\"価格(家賃)\":\"6.7\",\"床面積\":\"24.02\",\"緯度\":\"35.650482000000004\",\"経度\":\"139.6096618\",\"築年\":\"2004.0\",\"予測価格\":\"7.156000000000003\",\"割引率(％)\":\"6.4\",\"最寄駅\":\"祖師ケ谷大蔵駅\",\"最寄駅への所要時間\":\"14.0\",\"間取り\":\"1K\",\"方角\":\"南\",\"建物構造\":\"鉄骨\",\"コンロ口数\":\"コンロ口数不明\",\"浴室乾燥機\":\"浴室乾燥機なし\",\"オートロック\":\"オートロックなし\",\"フローリング\":\"フローリング〇\",\"選択物件\":\"周囲の物件 (500m県内) \"},\n",
      "{\"価格(家賃)\":\"5.0\",\"床面積\":\"19.83\",\"緯度\":\"35.650482000000004\",\"経度\":\"139.6096618\",\"築年\":\"1988.0\",\"予測価格\":\"5.227\",\"割引率(％)\":\"4.3\",\"最寄駅\":\"祖師ケ谷大蔵駅\",\"最寄駅への所要時間\":\"11.0\",\"間取り\":\"1K\",\"方角\":\"方角不明\",\"建物構造\":\"木造\",\"コンロ口数\":\"2.0\",\"浴室乾燥機\":\"浴室乾燥機なし\",\"オートロック\":\"オートロックなし\",\"フローリング\":\"フローリング〇\",\"選択物件\":\"周囲の物件 (500m県内) \"},\n",
      "{\"価格(家賃)\":\"10.5\",\"床面積\":\"48.0\",\"緯度\":\"35.6555979\",\"経度\":\"139.6102864\",\"築年\":\"1995.0\",\"予測価格\":\"11.043666666666661\",\"割引率(％)\":\"4.9\",\"最寄駅\":\"祖師ケ谷大蔵駅\",\"最寄駅への所要時間\":\"19.0\",\"間取り\":\"2LDK\",\"方角\":\"南\",\"建物構造\":\"木造\",\"コンロ口数\":\"2.0\",\"浴室乾燥機\":\"浴室乾燥機なし\",\"オートロック\":\"オートロックなし\",\"フローリング\":\"フローリング〇\",\"選択物件\":\"周囲の物件 (500m県内) \"},\n",
      "{\"価格(家賃)\":\"7.8\",\"床面積\":\"41.73\",\"緯度\":\"35.6555979\",\"経度\":\"139.6102864\",\"築年\":\"1974.0\",\"予測価格\":\"8.972100000000003\",\"割引率(％)\":\"13.1\",\"最寄駅\":\"祖師ケ谷大蔵駅\",\"最寄駅への所要時間\":\"18.0\",\"間取り\":\"2DK\",\"方角\":\"南\",\"建物構造\":\"コンクリート\",\"コンロ口数\":\"0.0\",\"浴室乾燥機\":\"浴室乾燥機なし\",\"オートロック\":\"オートロックなし\",\"フローリング\":\"フローリング〇\",\"選択物件\":\"周囲の物件 (500m県内) \"},\n",
      "{\"価格(家賃)\":\"12.0\",\"床面積\":\"52.55\",\"緯度\":\"35.6555979\",\"経度\":\"139.6102864\",\"築年\":\"2012.0\",\"予測価格\":\"12.879800000000007\",\"割引率(％)\":\"6.8\",\"最寄駅\":\"千歳烏山駅\",\"最寄駅への所要時間\":\"5.0\",\"間取り\":\"1LDK\",\"方角\":\"南\",\"建物構造\":\"鉄骨\",\"コンロ口数\":\"コンロ口数不明\",\"浴室乾燥機\":\"浴室乾燥機なし\",\"オートロック\":\"オートロックあり\",\"フローリング\":\"フローリング〇\",\"選択物件\":\"周囲の物件 (500m県内) \"},\n",
      "{\"価格(家賃)\":\"6.5\",\"床面積\":\"20.02\",\"緯度\":\"35.650482000000004\",\"経度\":\"139.6096618\",\"築年\":\"1986.0\",\"予測価格\":\"6.182000000000003\",\"割引率(％)\":\"-5.1\",\"最寄駅\":\"祖師ケ谷大蔵駅\",\"最寄駅への所要時間\":\"17.0\",\"間取り\":\"1K\",\"方角\":\"南\",\"建物構造\":\"鉄骨\",\"コンロ口数\":\"1.0\",\"浴室乾燥機\":\"浴室乾燥機なし\",\"オートロック\":\"オートロックあり\",\"フローリング\":\"フローリング×\",\"選択物件\":\"周囲の物件 (500m県内) \"},\n",
      "{\"価格(家賃)\":\"12.4\",\"床面積\":\"57.58\",\"緯度\":\"35.6572672\",\"経度\":\"139.6130194\",\"築年\":\"1994.0\",\"予測価格\":\"12.557999999999998\",\"割引率(％)\":\"1.3\",\"最寄駅\":\"千歳烏山駅\",\"最寄駅への所要時間\":\"18.0\",\"間取り\":\"2LDK\",\"方角\":\"東\",\"建物構造\":\"コンクリート\",\"コンロ口数\":\"2.0\",\"浴室乾燥機\":\"浴室乾燥機なし\",\"オートロック\":\"オートロックあり\",\"フローリング\":\"フローリング〇\",\"選択物件\":\"周囲の物件 (500m県内) \"},\n",
      "{\"価格(家賃)\":\"12.4\",\"床面積\":\"57.64\",\"緯度\":\"35.6572672\",\"経度\":\"139.6130194\",\"築年\":\"1994.0\",\"予測価格\":\"12.443\",\"割引率(％)\":\"0.3\",\"最寄駅\":\"千歳烏山駅\",\"最寄駅への所要時間\":\"21.0\",\"間取り\":\"2LDK\",\"方角\":\"東\",\"建物構造\":\"コンクリート\",\"コンロ口数\":\"2.0\",\"浴室乾燥機\":\"浴室乾燥機なし\",\"オートロック\":\"オートロックあり\",\"フローリング\":\"フローリング〇\",\"選択物件\":\"周囲の物件 (500m県内) \"}\n",
      "]\n"
     ]
    }
   ],
   "source": [
    "print(txt_to_render)"
   ]
  },
  {
   "cell_type": "code",
   "execution_count": null,
   "metadata": {
    "collapsed": true
   },
   "outputs": [],
   "source": []
  },
  {
   "cell_type": "code",
   "execution_count": null,
   "metadata": {
    "collapsed": true
   },
   "outputs": [],
   "source": []
  }
 ],
 "metadata": {
  "kernelspec": {
   "display_name": "Python [Root]",
   "language": "python",
   "name": "Python [Root]"
  },
  "language_info": {
   "codemirror_mode": {
    "name": "ipython",
    "version": 3
   },
   "file_extension": ".py",
   "mimetype": "text/x-python",
   "name": "python",
   "nbconvert_exporter": "python",
   "pygments_lexer": "ipython3",
   "version": "3.5.2"
  }
 },
 "nbformat": 4,
 "nbformat_minor": 2
}
