{
 "cells": [
  {
   "cell_type": "code",
   "execution_count": 4,
   "metadata": {
    "collapsed": false,
    "scrolled": true
   },
   "outputs": [],
   "source": [
    "import pandas as pd\n",
    "import numpy as np\n",
    "import math\n",
    "import pickle\n",
    "from sqlalchemy import create_engine\n",
    "from matplotlib import pyplot as plt\n",
    "from sklearn.linear_model import Ridge\n",
    "from sklearn.linear_model import LinearRegression\n",
    "from sklearn.ensemble import RandomForestRegressor\n",
    "from sklearn.tree import DecisionTreeRegressor\n",
    "from sklearn.cross_validation import cross_val_score\n",
    "%matplotlib inline"
   ]
  },
  {
   "cell_type": "code",
   "execution_count": 5,
   "metadata": {
    "collapsed": true
   },
   "outputs": [],
   "source": [
    "# データベースの情報\n",
    "server = 'gciteam16.database.windows.net'\n",
    "database = 'mynavi-database'\n",
    "username = 'gciteam16'\n",
    "password = 'Password0'\n",
    "port =1433"
   ]
  },
  {
   "cell_type": "code",
   "execution_count": 6,
   "metadata": {
    "collapsed": true
   },
   "outputs": [],
   "source": [
    "# 接続エンジンの作成\n",
    "engine_config = \"?driver=ODBC+Driver+13+for+SQL+Server?charset=shift-jis\"\n",
    "db_settings = {\n",
    "    \"host\": server,\n",
    "    \"database\": database,\n",
    "    \"user\": username,\n",
    "    \"password\": password,\n",
    "    \"port\":port,\n",
    "    \"config_query\":engine_config\n",
    "}\n",
    "engine = create_engine('mssql+pyodbc://{user}:{password}@{host}:{port}/{database}{config_query}'.format(**db_settings))"
   ]
  },
  {
   "cell_type": "code",
   "execution_count": 7,
   "metadata": {
    "collapsed": true
   },
   "outputs": [],
   "source": [
    "query = \"SELECT * FROM analytical_data_table\"\n",
    "analytical_data = pd.read_sql(query, con=engine)"
   ]
  },
  {
   "cell_type": "code",
   "execution_count": 3,
   "metadata": {
    "collapsed": false,
    "scrolled": true
   },
   "outputs": [],
   "source": [
    "#with open('../../gci_project_storage/analytical_data.pickle', mode='rb') as f:\n",
    "#     analytical_data = pickle.load(f)"
   ]
  },
  {
   "cell_type": "markdown",
   "metadata": {},
   "source": [
    "<h3>データ整形"
   ]
  },
  {
   "cell_type": "code",
   "execution_count": 9,
   "metadata": {
    "collapsed": true
   },
   "outputs": [],
   "source": [
    "analytical_data = analytical_data.reindex(np.random.permutation(analytical_data.index)).reset_index().drop(\"index\", axis=1)"
   ]
  },
  {
   "cell_type": "code",
   "execution_count": 10,
   "metadata": {
    "collapsed": true,
    "scrolled": true
   },
   "outputs": [],
   "source": [
    "X = analytical_data.iloc[:,3:]\n",
    "y = analytical_data.iloc[:,:3].rent"
   ]
  },
  {
   "cell_type": "markdown",
   "metadata": {},
   "source": [
    "<h3>重要度を確認"
   ]
  },
  {
   "cell_type": "code",
   "execution_count": 11,
   "metadata": {
    "collapsed": false,
    "scrolled": true
   },
   "outputs": [
    {
     "data": {
      "text/plain": [
       "RandomForestRegressor(bootstrap=True, criterion='mse', max_depth=None,\n",
       "           max_features='auto', max_leaf_nodes=None,\n",
       "           min_impurity_decrease=0.0, min_impurity_split=None,\n",
       "           min_samples_leaf=1, min_samples_split=2,\n",
       "           min_weight_fraction_leaf=0.0, n_estimators=200, n_jobs=1,\n",
       "           oob_score=False, random_state=None, verbose=0, warm_start=False)"
      ]
     },
     "execution_count": 11,
     "metadata": {},
     "output_type": "execute_result"
    }
   ],
   "source": [
    "model_r = RandomForestRegressor(n_estimators=200)\n",
    "model_r.fit(X,y)"
   ]
  },
  {
   "cell_type": "code",
   "execution_count": 43,
   "metadata": {
    "collapsed": true
   },
   "outputs": [
    {
     "name": "stdout",
     "output_type": "stream",
     "text": [
      "駅の重要度合計： 0.0669732362887\n",
      "間取りの重要度合計： 0.311722132423\n",
      "area :\t 0.4261165283486308\n",
      "has_L :\t 0.30914701313633175\n",
      "address_lat :\t 0.04694327670973324\n",
      "year_built :\t 0.03750599009119652\n",
      "address_lng :\t 0.03320010484610684\n",
      "渋谷駅 :\t 0.01788831160728957\n",
      "auto_lock :\t 0.01390787638167863\n",
      "恵比寿駅 :\t 0.012327879331843221\n",
      "buildings_height_Null_to_Zero :\t 0.011029344149469586\n",
      "refrigerator_Null_to_Zero :\t 0.008806424857957821\n",
      "表参道駅 :\t 0.006439957537741597\n",
      "locality_Null_to_Zero :\t 0.004366138456783898\n",
      "total_units_Null_to_Zero :\t 0.004087091805645205\n",
      "代々木公園駅 :\t 0.0038177857091991237\n",
      "明治神宮前駅 :\t 0.0031288123502052696\n",
      "bath_drier_Null_to_Zero :\t 0.0027552054771722173\n",
      "原宿駅 :\t 0.002275854348493336\n",
      "代々木八幡駅 :\t 0.0015744508580821709\n",
      "the_number_of_rooms :\t 0.0014548916277310432\n",
      "the_number_of_rooms_Null_to_Zero :\t 0.001447474816480895\n",
      "top_floor :\t 0.001442319788134346\n",
      "代官山駅 :\t 0.0014172254686672337\n",
      "stove_num_Null_to_Zero :\t 0.0012953630288683076\n",
      "代々木駅 :\t 0.001188564317237567\n",
      "structure :\t 0.001184070268810826\n",
      "structure_4 :\t 0.001142566734592472\n",
      "flooring :\t 0.0011208648849664962\n",
      "千歳烏山駅 :\t 0.0010702972432084109\n",
      "北参道駅 :\t 0.000979522246809654\n",
      "参宮橋駅 :\t 0.0009165767280740324\n",
      "広尾駅 :\t 0.0008940669337925626\n",
      "wash_basin :\t 0.0008913623103992264\n",
      "super_market_Null_to_Zero :\t 0.0008746885755574153\n",
      "immediate :\t 0.000840094200167972\n",
      "has_S :\t 0.0008381533945281108\n",
      "transaction_type_1 :\t 0.0008136036586533878\n",
      "代々木上原駅 :\t 0.0007824372182819848\n",
      "counter_kitchen_Null_to_Zero :\t 0.000663036530954709\n",
      "reheating :\t 0.0006547321458939245\n",
      "transaction_type_6 :\t 0.0006464936116070343\n",
      "isNull_foreigner :\t 0.0006339842931122583\n",
      "convenient_store_Null_to_Zero :\t 0.0006247700152339343\n",
      "upper :\t 0.0006008371834764895\n",
      "駒沢大学駅 :\t 0.0005960416230864027\n",
      "electric_stove_Null_to_Zero :\t 0.0005812452982430015\n",
      "buildings_undergrand_Null_to_Zero :\t 0.0005787118590665061\n",
      "南新宿駅 :\t 0.0005623490241486432\n",
      "direction_5 :\t 0.000554581525065836\n",
      "isNull_total_units :\t 0.0005356293361735646\n",
      "system_kitchen_Null_to_Zero :\t 0.0005312321716398548\n",
      "direction_6 :\t 0.000528587799661305\n",
      "direction_4 :\t 0.0005242889038143232\n",
      "washing_machine :\t 0.0005031283441239405\n",
      "corner_room :\t 0.0005021804167971419\n",
      "bath_toilet :\t 0.00045053853225079097\n",
      "direction_2 :\t 0.00045053845281664047\n",
      "drug_store_Null_to_Zero :\t 0.00045042509867031217\n",
      "elementary_school_Null_to_Zero :\t 0.00044646463898610197\n",
      "isNull_togather :\t 0.00044229362626217397\n",
      "school_Null_to_Zero :\t 0.00042641136997615054\n",
      "parking :\t 0.0004254226161564519\n",
      "washlet_Null_to_Zero :\t 0.0004081559135113706\n",
      "balcony_Null_to_Zero :\t 0.0003933412446504125\n",
      "toilet_style_Null_to_Zero :\t 0.000389934244553071\n",
      "bathhouse_Null_to_Zero :\t 0.0003667093584701135\n",
      "isNull_buildings_undergrand :\t 0.000347626105781428\n",
      "foreigner_Null_to_Zero :\t 0.00034640654266413396\n",
      "池袋駅 :\t 0.0003322436826827116\n",
      "shower_Null_to_Zero :\t 0.0003304666817382868\n",
      "成城学園前駅 :\t 0.0003259035478726484\n",
      "飯田橋駅 :\t 0.00032408882795367246\n",
      "structure_10 :\t 0.00030855910174857736\n",
      "江戸川橋駅 :\t 0.00030061343483457213\n",
      "IH_stove_Null_to_Zero :\t 0.0002939514372207248\n",
      "water_heater_Null_to_Zero :\t 0.0002899910216402806\n",
      "御茶ノ水駅 :\t 0.0002886487375243251\n",
      "等々力駅 :\t 0.0002801315958425361\n",
      "三軒茶屋駅 :\t 0.00027977141911522565\n",
      "東北沢駅 :\t 0.0002703991824436494\n",
      "上野毛駅 :\t 0.0002693448491926012\n",
      "direction_1 :\t 0.00026594712154574845\n",
      "用賀駅 :\t 0.00026367965972798996\n",
      "gas_stove_Null_to_Zero :\t 0.00025926030046641855\n",
      "direction_7 :\t 0.0002544980508159223\n",
      "status_2 :\t 0.0002510178415816132\n",
      "togather_Null_to_Zero :\t 0.0002506980511736245\n",
      "茗荷谷駅 :\t 0.00024154989354281374\n",
      "direction_3 :\t 0.0002406606640616414\n",
      "park_Null_to_Zero :\t 0.00023856224131592164\n",
      "isNull_super_market :\t 0.00022292994967629314\n",
      "bath_style_2 :\t 0.0002222159967534186\n",
      "二子玉川駅 :\t 0.00021955985093520137\n",
      "status_1 :\t 0.000218533377868389\n",
      "transaction_type_3 :\t 0.00021483860309921544\n",
      "下北沢駅 :\t 0.00020132532877192695\n",
      "祖師ケ谷大蔵駅 :\t 0.00019565788797183187\n",
      "isNull_drug_store :\t 0.000192738981674207\n",
      "isNull_balcony :\t 0.0001891135631905606\n",
      "桜新町駅 :\t 0.00018807826426587096\n",
      "direction_8 :\t 0.00018735634961824967\n",
      "幡ケ谷駅 :\t 0.00017939835556460163\n",
      "神楽坂駅 :\t 0.0001786633881794786\n",
      "isNull_locality :\t 0.00016918524793971994\n",
      "structure_5 :\t 0.00016860928012670169\n",
      "後楽園駅 :\t 0.00016124502261434688\n",
      "air_conditioner :\t 0.00014888801600903266\n",
      "駒込駅 :\t 0.00014731300111580067\n",
      "kindergarten_Null_to_Zero :\t 0.0001434832744466463\n",
      "初台駅 :\t 0.00013541048060947356\n",
      "千石駅 :\t 0.00013428645381599044\n",
      "経堂駅 :\t 0.00013363919308189407\n",
      "本郷三丁目駅 :\t 0.00012510109862789515\n",
      "神泉駅 :\t 0.00012401634820188197\n",
      "hospital_Null_to_Zero :\t 0.00012346663551861717\n",
      "巣鴨駅 :\t 0.0001222780264681962\n",
      "入谷駅 :\t 0.00012189129200121576\n",
      "structure_9 :\t 0.00012078426320126795\n",
      "春日駅 :\t 0.00012017710726981479\n",
      "三ノ輪駅 :\t 0.00011979570763853402\n",
      "structure_11 :\t 0.00011831032721503135\n",
      "東池袋駅 :\t 0.0001181977677303983\n",
      "has_D :\t 0.00011288901690274179\n",
      "structure_7 :\t 0.00010845497248367005\n",
      "has_K :\t 0.00010773954898106697\n",
      "蔵前駅 :\t 0.00010710298393023223\n",
      "post_office_Null_to_Zero :\t 0.00010675106260448569\n",
      "isNull_pet :\t 0.00010598396219460979\n",
      "isNull_buildings_height :\t 0.00010468962394028163\n",
      "千歳船橋駅 :\t 0.00010058523635497936\n",
      "鶯谷駅 :\t 9.870889480767483e-05\n",
      "自由が丘駅 :\t 9.789714627955816e-05\n",
      "isNull_share :\t 9.694645736251532e-05\n",
      "isNull_instrument :\t 9.507915343174072e-05\n",
      "尾山台駅 :\t 9.130956714606263e-05\n",
      "喜多見駅 :\t 9.028854708702003e-05\n",
      "本駒込駅 :\t 9.020372679307695e-05\n",
      "池ノ上駅 :\t 8.903797858032163e-05\n",
      "学芸大学駅 :\t 8.848102765504791e-05\n",
      "status_3 :\t 8.579313335047005e-05\n",
      "isNull_convenient_store :\t 8.575716358812398e-05\n",
      "新御徒町駅 :\t 8.551571267582068e-05\n",
      "水道橋駅 :\t 8.512689869511768e-05\n",
      "石神井公園駅 :\t 8.484946304446448e-05\n",
      "赤羽駅 :\t 8.418851130085116e-05\n",
      "independent_kitchen_Null_to_Zero :\t 8.369634230229359e-05\n",
      "isNull_school :\t 8.20889389550721e-05\n",
      "目白駅 :\t 8.065111589163815e-05\n",
      "白山駅 :\t 8.051544591183114e-05\n",
      "大泉学園駅 :\t 7.815385188041074e-05\n",
      "isNull_elementary_school :\t 7.629013595535817e-05\n",
      "池尻大橋駅 :\t 7.612451578914659e-05\n",
      "椎名町駅 :\t 7.439696016373404e-05\n",
      "isNull_kindergarten :\t 7.31233606487586e-05\n",
      "大塚駅 :\t 7.130556834968266e-05\n",
      "新大塚駅 :\t 6.900356965627311e-05\n",
      "bank_Null_to_Zero :\t 6.760412370671719e-05\n",
      "上野駅 :\t 6.45397413299982e-05\n",
      "東十条駅 :\t 6.344796261769998e-05\n",
      "西太子堂駅 :\t 6.239231145913913e-05\n",
      "練馬駅 :\t 6.152877918221269e-05\n",
      "千駄木駅 :\t 6.038430838469506e-05\n",
      "isNull_park :\t 6.023318128445125e-05\n",
      "王子神谷駅 :\t 5.917985305352179e-05\n",
      "根津駅 :\t 5.8546228824585824e-05\n",
      "平和台駅 :\t 5.849627898841193e-05\n",
      "中目黒駅 :\t 5.8466456904511424e-05\n",
      "八幡山駅 :\t 5.6132229526831315e-05\n",
      "general_hospital_Null_to_Zero :\t 5.600784861930416e-05\n",
      "湯島駅 :\t 5.501003396798031e-05\n",
      "L_kitchen_Null_to_Zero :\t 5.4707298887788464e-05\n",
      "isNull_post_office :\t 5.357673359299713e-05\n",
      "restaurant_Null_to_Zero :\t 5.338507814223083e-05\n",
      "小竹向原駅 :\t 5.080832400317622e-05\n",
      "板橋駅 :\t 5.034487399876152e-05\n",
      "駒場東大前駅 :\t 5.002689446046419e-05\n",
      "東大前駅 :\t 4.8547719121904014e-05\n",
      "西ケ原駅 :\t 4.613409835886098e-05\n",
      "status_4 :\t 4.575919659912932e-05\n",
      "つつじケ丘駅 :\t 4.570104781765738e-05\n",
      "稲荷町駅 :\t 4.563374499934979e-05\n",
      "新宿駅 :\t 4.5121437606276266e-05\n",
      "isNull_hospital :\t 4.4735681222691244e-05\n",
      "笹塚駅 :\t 4.412498688262495e-05\n",
      "芦花公園駅 :\t 4.4086066034913666e-05\n",
      "浅草駅 :\t 4.401180014955509e-05\n",
      "桜台駅 :\t 4.314111183523299e-05\n",
      "西巣鴨駅 :\t 4.2902538821865425e-05\n",
      "護国寺駅 :\t 4.2547780760687986e-05\n",
      "田端駅 :\t 4.230894620082165e-05\n",
      "豪徳寺駅 :\t 4.2295594255541186e-05\n",
      "都立大学駅 :\t 4.092503609854863e-05\n",
      "若林駅 :\t 3.9454038969939735e-05\n",
      "要町駅 :\t 3.916655234204637e-05\n",
      "仲御徒町駅 :\t 3.8998233755241056e-05\n",
      "中村橋駅 :\t 3.86264955685623e-05\n",
      "田原町駅 :\t 3.794577752119198e-05\n",
      "西新宿五丁目駅 :\t 3.7787252496545735e-05\n",
      "祐天寺駅 :\t 3.767848606438482e-05\n",
      "松原駅 :\t 3.763234951223305e-05\n",
      "練馬春日町駅 :\t 3.7330622780395346e-05\n",
      "isNull_bath_drier :\t 3.690254496757522e-05\n",
      "十条駅 :\t 3.597161887695585e-05\n",
      "isNull_restaurant :\t 3.596364168857832e-05\n",
      "光が丘駅 :\t 3.576538723920654e-05\n",
      "isNull_general_hospital :\t 3.280798058361535e-05\n",
      "練馬高野台駅 :\t 3.267779719122511e-05\n",
      "university_Null_to_Zero :\t 3.214350889442416e-05\n",
      "北池袋駅 :\t 3.125974023091302e-05\n",
      "九品仏駅 :\t 3.0715620533189076e-05\n",
      "江古田駅 :\t 3.0231213379596174e-05\n",
      "代田橋駅 :\t 3.0202804207048767e-05\n",
      "新代田駅 :\t 3.0136575587751826e-05\n",
      "雑司が谷駅 :\t 2.9398523298180794e-05\n",
      "王子駅 :\t 2.9018467245123877e-05\n",
      "保谷駅 :\t 2.810281421892885e-05\n",
      "赤羽岩淵駅 :\t 2.7831479373254635e-05\n",
      "東武練馬駅 :\t 2.7134863762143944e-05\n",
      "isNull_bank :\t 2.7072276448997548e-05\n",
      "地下鉄成増駅 :\t 2.6738933237935657e-05\n",
      "isNull_library :\t 2.6554105900505792e-05\n",
      "宮の坂駅 :\t 2.6471718542967745e-05\n",
      "仙川駅 :\t 2.6271177296081905e-05\n",
      "新桜台駅 :\t 2.5999878512820866e-05\n",
      "上板橋駅 :\t 2.5858618805153784e-05\n",
      "浅草橋駅 :\t 2.5716702564973696e-05\n",
      "御徒町駅 :\t 2.5418590742029495e-05\n",
      "豊島園駅 :\t 2.5364922428513025e-05\n",
      "library_Null_to_Zero :\t 2.5034013242816994e-05\n",
      "上町駅 :\t 2.4917809222197357e-05\n",
      "目黒駅 :\t 2.4699336915013173e-05\n",
      "千川駅 :\t 2.469733071094604e-05\n",
      "高田馬場駅 :\t 2.4696332053310275e-05\n",
      "isNull_IH_stove :\t 2.4297902862876057e-05\n",
      "明大前駅 :\t 2.4180673608958416e-05\n",
      "日暮里駅 :\t 2.402408923754592e-05\n",
      "志茂駅 :\t 2.364787470244436e-05\n",
      "西日暮里駅 :\t 2.351235325678293e-05\n",
      "梅ケ丘駅 :\t 2.348292094302714e-05\n",
      "世田谷駅 :\t 2.3453835678341753e-05\n",
      "外苑前駅 :\t 2.3307241418667974e-05\n",
      "世田谷代田駅 :\t 2.3289589833318743e-05\n",
      "地下鉄赤塚駅 :\t 2.3199010337128064e-05\n",
      "富士見台駅 :\t 2.2782269039680843e-05\n",
      "氷川台駅 :\t 2.2715564960390904e-05\n",
      "武蔵関駅 :\t 2.2565587026340482e-05\n",
      "department_store_Null_to_Zero :\t 2.221785072175503e-05\n",
      "東長崎駅 :\t 2.2214765697164467e-05\n",
      "下高井戸駅 :\t 2.1412403017392287e-05\n",
      "成増駅 :\t 2.121829559902428e-05\n",
      "山下駅 :\t 2.097887705519257e-05\n",
      "松陰神社前駅 :\t 1.9728743077853885e-05\n",
      "千駄ケ谷駅 :\t 1.972319978735602e-05\n",
      "isNull_shower :\t 1.9112914068089688e-05\n",
      "上中里駅 :\t 1.8839000527765176e-05\n",
      "本蓮沼駅 :\t 1.8695915782698697e-05\n",
      "isNull_department_store :\t 1.8435304337252724e-05\n",
      "新江古田駅 :\t 1.8431086766460628e-05\n",
      "isNull_toilet_style :\t 1.8339721649757758e-05\n",
      "東松原駅 :\t 1.8023976687593052e-05\n",
      "pet_Null_to_Zero :\t 1.7927219881229262e-05\n",
      "奥沢駅 :\t 1.773931127159481e-05\n",
      "isNull_L_kitchen :\t 1.7439465236823215e-05\n",
      "板橋本町駅 :\t 1.6717290100725563e-05\n",
      "isNull_university :\t 1.65742893025583e-05\n",
      "緑が丘駅 :\t 1.6106799559755635e-05\n",
      "isNull_bathhouse :\t 1.6040558547994662e-05\n",
      "石川台駅 :\t 1.56838579187963e-05\n",
      "秋葉原駅 :\t 1.5630777637706667e-05\n",
      "上井草駅 :\t 1.56176736898594e-05\n",
      "isNull_system_kitchen :\t 1.5219255395317788e-05\n",
      "isNull_electric_stove :\t 1.5214541182502373e-05\n",
      "下板橋駅 :\t 1.5116285229209138e-05\n",
      "isNull_water_heater :\t 1.4964093208132116e-05\n",
      "二子新地駅 :\t 1.4882161068349954e-05\n",
      "isNull_stove_num :\t 1.4792428597469225e-05\n",
      "isNull_washlet :\t 1.468078966070142e-05\n",
      "transaction_type_4 :\t 1.4567828475910657e-05\n",
      "isNull_refrigerator :\t 1.456268652398728e-05\n",
      "isNull_gas_stove :\t 1.4399109532055018e-05\n",
      "下落合駅 :\t 1.3786408391030759e-05\n",
      "中野新橋駅 :\t 1.3762045632003138e-05\n",
      "尾久駅 :\t 1.347789501674449e-05\n",
      "isNull_counter_kitchen :\t 1.3392821846343963e-05\n",
      "雪が谷大塚駅 :\t 1.258001075333488e-05\n",
      "上石神井駅 :\t 1.242310365732076e-05\n",
      "rental_video_Null_to_Zero :\t 1.234680780707088e-05\n",
      "isNull_independent_kitchen :\t 1.1995983090449644e-05\n",
      "isNull_rental_video :\t 1.1931276808344966e-05\n",
      "落合南長崎駅 :\t 1.1917384935325363e-05\n",
      "末広町駅 :\t 1.1762258508392193e-05\n",
      "赤土小学校前駅 :\t 1.1704646702012052e-05\n",
      "share_Null_to_Zero :\t 1.0704461200576696e-05\n",
      "instrument_Null_to_Zero :\t 1.051358555271887e-05\n",
      "structure_1 :\t 1.0283847163207938e-05\n",
      "板橋区役所前駅 :\t 1.0278837916426633e-05\n",
      "吉祥寺駅 :\t 1.0192245735243033e-05\n",
      "桜上水駅 :\t 1.017044977233506e-05\n",
      "新板橋駅 :\t 9.80599834714565e-06\n",
      "大山駅 :\t 9.680534217752426e-06\n",
      "南千住駅 :\t 9.34304358883438e-06\n",
      "bath_style_0 :\t 9.165757822686781e-06\n",
      "蓮根駅 :\t 8.729885985724636e-06\n",
      "下赤塚駅 :\t 8.679503391267053e-06\n",
      "上野広小路駅 :\t 8.41191806477791e-06\n",
      "新庚申塚駅 :\t 8.241417402348892e-06\n",
      "三ノ輪橋駅 :\t 8.05815718666121e-06\n",
      "都立家政駅 :\t 7.434539223810182e-06\n",
      "久我山駅 :\t 7.074095422088557e-06\n",
      "白金台駅 :\t 6.983508315446444e-06\n",
      "ときわ台駅 :\t 6.859987993323905e-06\n",
      "transaction_type_2 :\t 6.8139848050464514e-06\n",
      "西高島平駅 :\t 6.801170574730637e-06\n",
      "鷺ノ宮駅 :\t 6.5018008910755495e-06\n",
      "志村三丁目駅 :\t 6.036213169894246e-06\n",
      "中板橋駅 :\t 5.840203084041559e-06\n",
      "東伏見駅 :\t 5.787451945693066e-06\n",
      "田園調布駅 :\t 5.736919753291197e-06\n",
      "東池袋四丁目駅 :\t 5.469568910600282e-06\n",
      "快速南千住駅 :\t 5.167737693177096e-06\n",
      "北赤羽駅 :\t 5.124010910709632e-06\n",
      "西台駅 :\t 5.117223803240519e-06\n",
      "transaction_type_5 :\t 5.059404726429444e-06\n",
      "上北沢駅 :\t 4.661882359862502e-06\n",
      "志村坂上駅 :\t 4.466464821415005e-06\n",
      "新宿三丁目駅 :\t 4.450503589128731e-06\n",
      "高島平駅 :\t 4.254024762026952e-06\n",
      "狛江駅 :\t 4.009728475289778e-06\n",
      "早稲田駅 :\t 3.729719956540729e-06\n",
      "浮間舟渡駅 :\t 3.7268181427297646e-06\n",
      "武蔵小山駅 :\t 3.725915135416845e-06\n",
      "isNull_female :\t 3.663066174861608e-06\n",
      "両国駅 :\t 3.5874952438029836e-06\n",
      "上野御徒町駅 :\t 3.3131006330374073e-06\n",
      "female_Null_to_Zero :\t 3.235809370194647e-06\n",
      "西ケ原四丁目駅 :\t 3.224232866499562e-06\n",
      "structure_3 :\t 3.212235243408518e-06\n",
      "方南町駅 :\t 3.143907143788883e-06\n",
      "大岡山駅 :\t 3.0889685677956604e-06\n",
      "野方駅 :\t 3.025356131722181e-06\n",
      "馬喰町駅 :\t 2.850897617526697e-06\n",
      "鬼子母神前駅 :\t 2.8137621987394195e-06\n",
      "多摩川駅 :\t 2.738439692768108e-06\n",
      "梶原駅 :\t 2.706178737887662e-06\n",
      "不動前駅 :\t 2.580737935244218e-06\n",
      "isNull_cleaning_shop :\t 2.5549367876247474e-06\n",
      "和光市駅 :\t 2.4653858913901657e-06\n",
      "荻窪駅 :\t 2.2866097959302704e-06\n",
      "快速上野駅 :\t 2.1584584112071264e-06\n",
      "快速日暮里駅 :\t 2.1535714617758146e-06\n",
      "井荻駅 :\t 2.108527554214232e-06\n",
      "西小山駅 :\t 2.0922063925132905e-06\n",
      "本所吾妻橋駅 :\t 2.0188269812212213e-06\n",
      "洗足駅 :\t 2.0036417223993673e-06\n",
      "向原駅 :\t 1.6529913868456734e-06\n",
      "荒川車庫前駅 :\t 1.638461161581298e-06\n",
      "国立競技場駅 :\t 1.6182623354492416e-06\n",
      "cleaning_shop_Null_to_Zero :\t 1.550782671448451e-06\n",
      "沼袋駅 :\t 1.366204119718561e-06\n",
      "都庁前駅 :\t 1.3524886177929775e-06\n",
      "栄町駅 :\t 1.3250610854924743e-06\n",
      "新高島平駅 :\t 1.2957848543456954e-06\n",
      "新御茶ノ水駅 :\t 1.2360154581420615e-06\n",
      "とうきょうスカイツリー駅 :\t 1.216737987573316e-06\n",
      "都電雑司ケ谷駅 :\t 1.0202375646365998e-06\n",
      "東中野駅 :\t 9.728008843000958e-07\n",
      "中野坂上駅 :\t 9.433504883881332e-07\n",
      "bath_style_1 :\t 9.327934587963512e-07\n",
      "東日本橋駅 :\t 9.320178047817922e-07\n",
      "牛込神楽坂駅 :\t 9.167277153454552e-07\n",
      "下井草駅 :\t 8.826611206912457e-07\n",
      "西荻窪駅 :\t 8.691013325775272e-07\n",
      "中野富士見町駅 :\t 7.959297652523748e-07\n",
      "三鷹駅 :\t 7.949294869533343e-07\n",
      "巣鴨新田駅 :\t 7.254607994225835e-07\n",
      "小伝馬町駅 :\t 6.251198936261295e-07\n",
      "荒川一中前駅 :\t 6.146910397422946e-07\n",
      "高津駅 :\t 5.870923033573592e-07\n",
      "朝霞駅 :\t 5.542491110344247e-07\n",
      "ひばりケ丘駅 :\t 5.503520883283598e-07\n",
      "新三河島駅 :\t 5.396035048060307e-07\n",
      "東向島駅 :\t 4.927228847179168e-07\n",
      "富士見ケ丘駅 :\t 4.575004618212693e-07\n",
      "宮ノ前駅 :\t 3.959441260402033e-07\n",
      "西早稲田駅 :\t 3.927731519118202e-07\n",
      "高井戸駅 :\t 3.683666571220169e-07\n",
      "isNull_male :\t 3.6746756949615677e-07\n",
      "北千束駅 :\t 3.3582293449498414e-07\n",
      "永福町駅 :\t 3.3569610152826794e-07\n",
      "西武柳沢駅 :\t 3.268006707123298e-07\n",
      "滝野川一丁目駅 :\t 3.0859835061005017e-07\n",
      "庚申塚駅 :\t 2.8584880907678153e-07\n",
      "浜田山駅 :\t 2.713260546402995e-07\n",
      "岩本町駅 :\t 2.535499219200062e-07\n",
      "三鷹台駅 :\t 2.1053700834256628e-07\n",
      "学習院下駅 :\t 2.0641971135153014e-07\n",
      "曳舟駅 :\t 2.0595641832787952e-07\n",
      "千住大橋駅 :\t 2.0474720286963233e-07\n",
      "京成上野駅 :\t 1.9885291233041674e-07\n",
      "structure_2 :\t 1.9737819889341926e-07\n",
      "中井駅 :\t 1.4724273100446518e-07\n",
      "快速三河島駅 :\t 1.4273332548263278e-07\n",
      "飛鳥山駅 :\t 9.953669972447922e-08\n",
      "五反田駅 :\t 9.455239233023492e-08\n",
      "面影橋駅 :\t 9.400824687614749e-08\n",
      "馬喰横山駅 :\t 6.326460807912004e-08\n",
      "小台駅 :\t 5.335899062616932e-08\n",
      "荒川遊園地前駅 :\t 4.7977011795770884e-08\n",
      "御嶽山駅 :\t 4.72343831988007e-08\n",
      "isNull_office :\t 4.0903494035293346e-08\n",
      "白金高輪駅 :\t 4.067725507444941e-08\n",
      "阿佐ケ谷駅 :\t 3.9837934775969346e-08\n",
      "西永福駅 :\t 3.212177610473593e-08\n",
      "熊野前駅 :\t 2.205712861724548e-08\n",
      "office_Null_to_Zero :\t 1.954810949540093e-08\n",
      "牛込柳町駅 :\t 1.9521165548989188e-08\n",
      "淡路町駅 :\t 1.4601229910678495e-08\n",
      "信濃町駅 :\t 1.3002451589401735e-08\n",
      "高円寺駅 :\t 9.199795587311914e-09\n",
      "井の頭公園駅 :\t 8.469611614764535e-09\n",
      "押上駅 :\t 8.269098409336306e-09\n",
      "西新宿駅 :\t 7.394065895088191e-09\n",
      "和泉多摩川駅 :\t 6.064979476142341e-09\n",
      "戸田公園駅 :\t 4.252231590432426e-09\n",
      "structure_6 :\t 3.7048317195064545e-09\n",
      "中野駅 :\t 1.689939579933087e-09\n",
      "浜町駅 :\t 1.10082348183043e-09\n",
      "北千住駅 :\t 3.520316494244343e-10\n",
      "新井薬師前駅 :\t 7.932996024842412e-11\n",
      "人形町駅 :\t 0.0\n",
      "isNull_the_number_of_rooms :\t 0.0\n",
      "structure_8 :\t 0.0\n",
      "西新井駅 :\t 0.0\n"
     ]
    }
   ],
   "source": [
    "importance = pd.Series(model_r.feature_importances_,index=X.columns)\n",
    "print(\"駅の重要度合計：\",importance[145:].sum())\n",
    "print(\"間取りの重要度合計：\",importance[50:55].sum())\n",
    "for index,value in importance.sort_values(ascending=False).iteritems():\n",
    "    print(index,\":\\t\",value)"
   ]
  },
  {
   "cell_type": "markdown",
   "metadata": {},
   "source": [
    "<h3>緯度経度で決定木どれだけ精度出せるか確認"
   ]
  },
  {
   "cell_type": "code",
   "execution_count": 12,
   "metadata": {
    "collapsed": false,
    "scrolled": true
   },
   "outputs": [
    {
     "name": "stdout",
     "output_type": "stream",
     "text": [
      "0.285730236105\n"
     ]
    }
   ],
   "source": [
    "X_place = analytical_data[[\"address_lat\",\"address_lng\"]]\n",
    "model_toy = DecisionTreeRegressor()\n",
    "model_toy.fit(X_place.iloc[:20000,:],y[:20000])\n",
    "print(model_toy.score(X_place.iloc[20000:,:],y[20000:]))"
   ]
  },
  {
   "cell_type": "markdown",
   "metadata": {},
   "source": [
    "<h3>緯度経度による予測値の表示"
   ]
  },
  {
   "cell_type": "code",
   "execution_count": 13,
   "metadata": {
    "collapsed": false
   },
   "outputs": [
    {
     "name": "stderr",
     "output_type": "stream",
     "text": [
      "C:\\Program Files (x86)\\Anaconda3\\lib\\site-packages\\ipykernel\\__main__.py:1: SettingWithCopyWarning: \n",
      "A value is trying to be set on a copy of a slice from a DataFrame.\n",
      "Try using .loc[row_indexer,col_indexer] = value instead\n",
      "\n",
      "See the caveats in the documentation: http://pandas.pydata.org/pandas-docs/stable/indexing.html#indexing-view-versus-copy\n",
      "  if __name__ == '__main__':\n"
     ]
    }
   ],
   "source": [
    "X_place[\"pred\"] = pd.Series([model_toy.predict(row.to_frame().T)[0] for i,row in X_place.iterrows()])\n",
    "X_place = X_place[X_place.duplicated()==False]\n",
    "X_place = X_place[X_place.pred<=40]\n",
    "lat = X_place.address_lat\n",
    "lng = X_place.address_lng\n",
    "pred = X_place.pred"
   ]
  },
  {
   "cell_type": "code",
   "execution_count": 14,
   "metadata": {
    "collapsed": false
   },
   "outputs": [],
   "source": [
    "f = np.vectorize(lambda x,y:model_toy.predict(pd.Series([x,y]).to_frame().T))"
   ]
  },
  {
   "cell_type": "code",
   "execution_count": 15,
   "metadata": {
    "collapsed": false
   },
   "outputs": [],
   "source": [
    "geo_tags = pd.DataFrame({\n",
    "        \"lng\":[139.701636,139.692101,139.7109,139.579809,139.759834,139.653912,139.799056,139.62667,139.650554,139.720918,139.645883,139.567597,139.607196]\n",
    "        ,\"lat\":[35.657406,35.689634 ,35.729503,35.703149,35.706722 ,35.737841 ,35.733319 ,35.611705,35.668349 ,35.777658 ,35.79189  ,35.748321 ,35.684818]\n",
    "        ,\"location_name\":[\"Sibuya\",\"Shinjuku\",\"Ikebukuro\",\"Kichijoji\",\"Hongo-Sanchome\",\"Nerima\",\"Minami-Senju\",\"Fatako-Tamagawa\",\"Meidai-Mae\",\"Akabane\",\"Nishi-Takashimadaira\",\"Hoya\",\"Hujimigaoka\"]})"
   ]
  },
  {
   "cell_type": "code",
   "execution_count": 19,
   "metadata": {
    "collapsed": false
   },
   "outputs": [
    {
     "data": {
      "image/png": "[encoded data removed]",
      "text/plain": [
       "<matplotlib.figure.Figure at 0xf216a1be0>"
      ]
     },
     "metadata": {},
     "output_type": "display_data"
    }
   ],
   "source": [
    "from matplotlib import pyplot as plt\n",
    "\n",
    "fig = plt.figure(figsize=(10,10))\n",
    "ax = fig.add_subplot(111)\n",
    "\n",
    "plt.scatter(\n",
    "    lng,lat\n",
    "    ,c=pred.apply(lambda x:min(x,30))\n",
    "    ,linewidths=\"0\"\n",
    "    ,cmap='Reds'\n",
    "    ,alpha=1\n",
    "    ,s=5\n",
    ")\n",
    "plt.colorbar()\n",
    "\n",
    "for x0,y0,location_name in zip(geo_tags.lng, geo_tags.lat,geo_tags.location_name):                                  \n",
    "    ax.annotate(location_name, xy=(x0,y0), textcoords='data')\n",
    "\n",
    "plt.grid()\n",
    "plt.show()"
   ]
  },
  {
   "cell_type": "markdown",
   "metadata": {},
   "source": [
    " データの範囲は、台東・文京・豊島・板橋・練馬・北・世田谷・渋谷・目黒<br>\n",
    " 画像引用元：Wikipedia<br>\n",
    "<img src=\"https://upload.wikimedia.org/wikipedia/commons/thumb/0/06/Tokyo_special_wards_map_ja.svg/400px-Tokyo_special_wards_map_ja.svg.png\"\n",
    "width=\"300\" height=\"300\" alt=\"\" align=\"left\">\n"
   ]
  },
  {
   "cell_type": "markdown",
   "metadata": {},
   "source": [
    "<h3>最も高い駅を見つける"
   ]
  },
  {
   "cell_type": "code",
   "execution_count": 187,
   "metadata": {
    "collapsed": false,
    "scrolled": true
   },
   "outputs": [
    {
     "name": "stdout",
     "output_type": "stream",
     "text": [
      "表参道駅      49.249988\n",
      "明治神宮前駅    32.503928\n",
      "代々木公園駅    29.974815\n",
      "広尾駅       25.449603\n",
      "恵比寿駅      16.641961\n",
      "渋谷駅       13.775564\n",
      "富士見ケ丘駅     9.305629\n",
      "飯田橋駅       8.969808\n",
      "参宮橋駅       8.080233\n",
      "代官山駅       7.853476\n",
      "dtype: float64\n"
     ]
    }
   ],
   "source": [
    "model_toy2 = Ridge(alpha=0.15)\n",
    "model_toy2.fit(X,y)\n",
    "coefficients_st = pd.Series(model_toy2.coef_,index=X.columns)[145:].sort_values(ascending=False)\n",
    "print(coefficients_st[:10])"
   ]
  },
  {
   "cell_type": "code",
   "execution_count": 188,
   "metadata": {
    "collapsed": false
   },
   "outputs": [
    {
     "name": "stdout",
     "output_type": "stream",
     "text": [
      "井荻駅             -7.498491\n",
      "本所吾妻橋駅          -7.864473\n",
      "三鷹台駅            -8.286306\n",
      "快速南千住駅          -9.901780\n",
      "雪が谷大塚駅         -10.505397\n",
      "とうきょうスカイツリー駅   -10.734838\n",
      "鷺ノ宮駅           -13.578558\n",
      "都立家政駅          -15.775831\n",
      "南千住駅           -18.104899\n",
      "東向島駅           -18.622062\n",
      "dtype: float64\n"
     ]
    }
   ],
   "source": [
    "print(coefficients_st[-10:])"
   ]
  },
  {
   "cell_type": "code",
   "execution_count": 190,
   "metadata": {
    "collapsed": false
   },
   "outputs": [],
   "source": [
    "coefficients = pd.Series(model_toy2.coef_,index=X.columns)\n",
    "coefficients.index = X.columns"
   ]
  },
  {
   "cell_type": "code",
   "execution_count": 193,
   "metadata": {
    "collapsed": true
   },
   "outputs": [
    {
     "name": "stdout",
     "output_type": "stream",
     "text": [
      "area \t 0.3344\n",
      "flooring \t 0.0789\n",
      "year_built \t 0.0552\n",
      "parking \t -0.0245\n",
      "structure \t 0.1051\n",
      "air_conditioner \t 0.5008\n",
      "auto_lock \t 0.3482\n",
      "bath_toilet \t -0.5105\n",
      "reheating \t -0.1454\n",
      "wash_basin \t -0.7138\n",
      "washing_machine \t -0.3317\n",
      "top_floor \t 0.0303\n",
      "corner_room \t -0.1324\n",
      "immediate \t 0.0629\n",
      "upper \t 0.0255\n",
      "direction_1 \t -0.0286\n",
      "direction_2 \t -0.0456\n",
      "direction_3 \t 0.1103\n",
      "direction_4 \t -0.1597\n",
      "direction_5 \t -0.0381\n",
      "direction_6 \t 0.0926\n",
      "direction_7 \t 0.088\n",
      "direction_8 \t 0.1252\n",
      "structure_1 \t -0.1277\n",
      "structure_2 \t 0.324\n",
      "structure_3 \t 0.4591\n",
      "structure_4 \t -0.0324\n",
      "structure_5 \t -0.8352\n",
      "structure_6 \t 0.5069\n",
      "structure_7 \t -0.3814\n",
      "structure_8 \t 0.0\n",
      "structure_9 \t -0.5101\n",
      "structure_10 \t -0.1681\n",
      "structure_11 \t 0.7648\n",
      "status_1 \t -0.1996\n",
      "status_2 \t 0.0388\n",
      "status_3 \t 0.2329\n",
      "status_4 \t -0.0412\n",
      "transaction_type_1 \t 0.3372\n",
      "transaction_type_2 \t -0.1052\n",
      "transaction_type_3 \t 0.2254\n",
      "transaction_type_4 \t -0.8445\n",
      "transaction_type_5 \t 0.0173\n",
      "transaction_type_6 \t 0.3698\n",
      "bath_style_0 \t 0.5818\n",
      "bath_style_1 \t -0.1164\n",
      "bath_style_2 \t 0.2223\n",
      "address_lat \t -18.4288\n",
      "address_lng \t 14.5335\n",
      "has_K \t -0.0448\n",
      "has_L \t -0.5169\n",
      "has_D \t -0.5563\n",
      "has_S \t -1.3107\n",
      "the_number_of_rooms \t -0.7737\n",
      "isNull_locality \t -2.1337\n",
      "isNull_buildings_height \t -0.0332\n",
      "isNull_buildings_undergrand \t -0.4538\n",
      "isNull_total_units \t -0.1977\n",
      "isNull_balcony \t 0.9391\n",
      "isNull_shower \t -0.0251\n",
      "isNull_bath_drier \t -0.0251\n",
      "isNull_washlet \t -0.0251\n",
      "isNull_toilet_style \t -0.0251\n",
      "isNull_bathhouse \t -0.0251\n",
      "isNull_water_heater \t -0.0251\n",
      "isNull_system_kitchen \t -0.0251\n",
      "isNull_counter_kitchen \t -0.0251\n",
      "isNull_independent_kitchen \t -0.0251\n",
      "isNull_L_kitchen \t -0.0251\n",
      "isNull_refrigerator \t -0.0251\n",
      "isNull_gas_stove \t -0.0251\n",
      "isNull_IH_stove \t -0.0251\n",
      "isNull_electric_stove \t -0.0251\n",
      "isNull_stove_num \t -0.0251\n",
      "isNull_office \t 0.2968\n",
      "isNull_instrument \t 0.4175\n",
      "isNull_togather \t -0.0445\n",
      "isNull_share \t -0.0303\n",
      "isNull_foreigner \t -0.3652\n",
      "isNull_pet \t -0.2235\n",
      "isNull_male \t 0.2324\n",
      "isNull_female \t -0.076\n",
      "isNull_kindergarten \t 0.1368\n",
      "isNull_elementary_school \t 0.2025\n",
      "isNull_school \t -0.3183\n",
      "isNull_convenient_store \t 0.0133\n",
      "isNull_super_market \t 0.0488\n",
      "isNull_post_office \t -0.0287\n",
      "isNull_library \t -0.1143\n",
      "isNull_drug_store \t 0.0773\n",
      "isNull_restaurant \t -0.2004\n",
      "isNull_bank \t -0.2669\n",
      "isNull_general_hospital \t 0.1469\n",
      "isNull_hospital \t 0.1522\n",
      "isNull_park \t -0.1442\n",
      "isNull_university \t 0.0607\n",
      "isNull_rental_video \t 0.111\n",
      "isNull_cleaning_shop \t 0.5117\n",
      "isNull_department_store \t 0.294\n",
      "isNull_the_number_of_rooms \t 0.0\n",
      "locality_Null_to_Zero \t 0.0916\n",
      "buildings_height_Null_to_Zero \t 0.0628\n",
      "buildings_undergrand_Null_to_Zero \t 0.0133\n",
      "total_units_Null_to_Zero \t 0.0018\n",
      "balcony_Null_to_Zero \t 0.1852\n",
      "shower_Null_to_Zero \t -0.4077\n",
      "bath_drier_Null_to_Zero \t 0.2163\n",
      "washlet_Null_to_Zero \t 0.3064\n",
      "toilet_style_Null_to_Zero \t -0.4158\n",
      "bathhouse_Null_to_Zero \t -0.1092\n",
      "water_heater_Null_to_Zero \t -0.0772\n",
      "system_kitchen_Null_to_Zero \t -0.0977\n",
      "counter_kitchen_Null_to_Zero \t 0.2445\n",
      "independent_kitchen_Null_to_Zero \t -0.582\n",
      "L_kitchen_Null_to_Zero \t -1.5904\n",
      "refrigerator_Null_to_Zero \t 1.6882\n",
      "gas_stove_Null_to_Zero \t 0.0812\n",
      "IH_stove_Null_to_Zero \t 0.26\n",
      "electric_stove_Null_to_Zero \t 0.329\n",
      "stove_num_Null_to_Zero \t 0.0834\n",
      "office_Null_to_Zero \t -0.5937\n",
      "instrument_Null_to_Zero \t 0.887\n",
      "togather_Null_to_Zero \t -0.174\n",
      "share_Null_to_Zero \t -0.1107\n",
      "foreigner_Null_to_Zero \t 2.1491\n",
      "pet_Null_to_Zero \t 0.0\n",
      "female_Null_to_Zero \t 0.076\n",
      "kindergarten_Null_to_Zero \t 0.0001\n",
      "elementary_school_Null_to_Zero \t 0.0\n",
      "school_Null_to_Zero \t -0.0003\n",
      "convenient_store_Null_to_Zero \t 0.0001\n",
      "super_market_Null_to_Zero \t 0.0\n",
      "post_office_Null_to_Zero \t -0.0002\n",
      "library_Null_to_Zero \t -0.0003\n",
      "drug_store_Null_to_Zero \t 0.0001\n",
      "restaurant_Null_to_Zero \t -0.0002\n",
      "bank_Null_to_Zero \t -0.0004\n",
      "general_hospital_Null_to_Zero \t 0.0\n",
      "hospital_Null_to_Zero \t 0.0001\n",
      "park_Null_to_Zero \t -0.0001\n",
      "university_Null_to_Zero \t 0.0001\n",
      "rental_video_Null_to_Zero \t 0.0\n",
      "cleaning_shop_Null_to_Zero \t 0.0009\n",
      "department_store_Null_to_Zero \t 0.0001\n",
      "the_number_of_rooms_Null_to_Zero \t -0.7737\n",
      "千歳船橋駅 \t -1.5807\n",
      "八幡山駅 \t -4.8417\n",
      "千歳烏山駅 \t 2.1233\n",
      "芦花公園駅 \t 1.2112\n",
      "桜新町駅 \t 0.1152\n",
      "駒沢大学駅 \t -0.3808\n",
      "世田谷駅 \t 0.4563\n",
      "用賀駅 \t 1.3357\n",
      "二子玉川駅 \t -2.6129\n",
      "祖師ケ谷大蔵駅 \t -0.181\n",
      "桜上水駅 \t 1.4448\n",
      "下高井戸駅 \t 0.7438\n",
      "上北沢駅 \t 1.0735\n",
      "松陰神社前駅 \t -2.0358\n",
      "若林駅 \t -0.9309\n",
      "久我山駅 \t 3.5246\n",
      "吉祥寺駅 \t -0.9401\n",
      "東松原駅 \t 1.1657\n",
      "新代田駅 \t -0.2375\n",
      "明大前駅 \t 2.4655\n",
      "等々力駅 \t -1.6821\n",
      "尾山台駅 \t -2.1405\n",
      "自由が丘駅 \t -0.709\n",
      "豪徳寺駅 \t 0.005\n",
      "山下駅 \t 0.3752\n",
      "宮の坂駅 \t -0.0597\n",
      "成城学園前駅 \t -0.7466\n",
      "三軒茶屋駅 \t 2.8366\n",
      "西太子堂駅 \t 1.2451\n",
      "笹塚駅 \t 2.042\n",
      "代田橋駅 \t -0.3448\n",
      "下北沢駅 \t 3.6501\n",
      "上町駅 \t -1.6469\n",
      "経堂駅 \t 0.2744\n",
      "松原駅 \t -0.4388\n",
      "仙川駅 \t 0.5124\n",
      "梅ケ丘駅 \t 0.6445\n",
      "世田谷代田駅 \t 0.027\n",
      "池ノ上駅 \t 0.3897\n",
      "上野毛駅 \t -1.0092\n",
      "喜多見駅 \t -1.4213\n",
      "学芸大学駅 \t -1.6155\n",
      "祐天寺駅 \t -1.0445\n",
      "池尻大橋駅 \t 3.8063\n",
      "九品仏駅 \t -1.0322\n",
      "春日駅 \t 0.3985\n",
      "後楽園駅 \t 4.0751\n",
      "本郷三丁目駅 \t 0.9105\n",
      "田端駅 \t -0.1989\n",
      "千駄木駅 \t 0.0001\n",
      "本駒込駅 \t 0.0734\n",
      "護国寺駅 \t 0.7447\n",
      "江戸川橋駅 \t 0.4986\n",
      "茗荷谷駅 \t 2.937\n",
      "千石駅 \t 0.478\n",
      "巣鴨駅 \t 2.5058\n",
      "神楽坂駅 \t 0.7004\n",
      "飯田橋駅 \t 8.9698\n",
      "駒込駅 \t 0.8595\n",
      "新大塚駅 \t 0.6077\n",
      "西日暮里駅 \t -1.9185\n",
      "御茶ノ水駅 \t 2.1312\n",
      "新御茶ノ水駅 \t 3.8886\n",
      "白山駅 \t -0.2239\n",
      "東大前駅 \t 1.4162\n",
      "根津駅 \t 0.0043\n",
      "水道橋駅 \t 0.2751\n",
      "湯島駅 \t 0.1071\n",
      "御徒町駅 \t 3.7149\n",
      "上野御徒町駅 \t 1.4655\n",
      "大塚駅 \t 0.9008\n",
      "向原駅 \t 1.0354\n",
      "東池袋駅 \t 1.3652\n",
      "日暮里駅 \t 2.1711\n",
      "早稲田駅 \t 3.9088\n",
      "秋葉原駅 \t 0.2674\n",
      "池袋駅 \t 5.6196\n",
      "末広町駅 \t -0.2778\n",
      "上野広小路駅 \t 0.8943\n",
      "快速日暮里駅 \t 2.6244\n",
      "牛込神楽坂駅 \t 4.7652\n",
      "雑司が谷駅 \t 0.0322\n",
      "鬼子母神前駅 \t 1.1771\n",
      "目白駅 \t 1.7098\n",
      "東池袋四丁目駅 \t 0.699\n",
      "上野駅 \t 1.2258\n",
      "都電雑司ケ谷駅 \t 0.7205\n",
      "鶯谷駅 \t -1.5076\n",
      "上中里駅 \t -1.3131\n",
      "京成上野駅 \t -0.734\n",
      "西ケ原駅 \t -0.1178\n",
      "高田馬場駅 \t 0.6697\n",
      "快速上野駅 \t 1.4637\n",
      "田園調布駅 \t -3.9744\n",
      "奥沢駅 \t -0.0172\n",
      "狛江駅 \t -5.7828\n",
      "緑が丘駅 \t -1.018\n",
      "大岡山駅 \t -2.7987\n",
      "雪が谷大塚駅 \t -10.5054\n",
      "牛込柳町駅 \t -0.528\n",
      "西巣鴨駅 \t -0.9627\n",
      "面影橋駅 \t -0.3685\n",
      "仲御徒町駅 \t -0.8085\n",
      "浅草橋駅 \t -1.6378\n",
      "蔵前駅 \t -1.1552\n",
      "新御徒町駅 \t -1.1496\n",
      "三ノ輪駅 \t -1.9929\n",
      "入谷駅 \t -5.2752\n",
      "馬喰町駅 \t 0.9985\n",
      "南千住駅 \t -18.1049\n",
      "三ノ輪橋駅 \t -3.3606\n",
      "淡路町駅 \t 2.0248\n",
      "小伝馬町駅 \t 2.7031\n",
      "稲荷町駅 \t 0.2463\n",
      "快速三河島駅 \t -3.4926\n",
      "浅草駅 \t -2.5631\n",
      "田原町駅 \t -2.055\n",
      "快速南千住駅 \t -9.9018\n",
      "東日本橋駅 \t 2.2033\n",
      "岩本町駅 \t 2.4249\n",
      "両国駅 \t -2.1861\n",
      "曳舟駅 \t -6.8038\n",
      "本所吾妻橋駅 \t -7.8645\n",
      "とうきょうスカイツリー駅 \t -10.7348\n",
      "馬喰横山駅 \t -2.4301\n",
      "東向島駅 \t -18.6221\n",
      "押上駅 \t -1.7494\n",
      "千住大橋駅 \t -1.2902\n",
      "荒川一中前駅 \t 0.5281\n",
      "北千住駅 \t 0.0245\n",
      "人形町駅 \t -2.3856\n",
      "浜町駅 \t -0.5307\n",
      "東北沢駅 \t 0.8709\n",
      "代々木上原駅 \t 5.9588\n",
      "二子新地駅 \t -1.3032\n",
      "目黒駅 \t 6.7366\n",
      "五反田駅 \t 0.5984\n",
      "恵比寿駅 \t 16.642\n",
      "不動前駅 \t -4.0375\n",
      "白金台駅 \t 4.5938\n",
      "洗足駅 \t -2.0571\n",
      "北千束駅 \t -0.7563\n",
      "西小山駅 \t -0.9939\n",
      "駒場東大前駅 \t 0.6782\n",
      "中目黒駅 \t 0.6903\n",
      "都立大学駅 \t -0.0933\n",
      "武蔵小山駅 \t -1.3631\n",
      "代官山駅 \t 7.8535\n",
      "渋谷駅 \t 13.7756\n",
      "神泉駅 \t 4.3148\n",
      "つつじケ丘駅 \t -4.1937\n",
      "多摩川駅 \t -2.9109\n",
      "石川台駅 \t -2.1141\n",
      "高津駅 \t -0.0895\n",
      "三鷹台駅 \t -8.2863\n",
      "富士見ケ丘駅 \t 9.3056\n",
      "幡ケ谷駅 \t 3.1841\n",
      "西永福駅 \t -0.2471\n",
      "高井戸駅 \t 0.8949\n",
      "永福町駅 \t 0.6959\n",
      "新宿駅 \t 1.1564\n",
      "御嶽山駅 \t 0.8203\n",
      "浜田山駅 \t -0.6515\n",
      "和泉多摩川駅 \t 0.7337\n",
      "代々木駅 \t 6.5872\n",
      "千駄ケ谷駅 \t -1.907\n",
      "北参道駅 \t 5.1829\n",
      "南新宿駅 \t 3.2838\n",
      "広尾駅 \t 25.4496\n",
      "新宿三丁目駅 \t -2.1768\n",
      "初台駅 \t 1.9426\n",
      "西新宿五丁目駅 \t 1.672\n",
      "原宿駅 \t -3.4894\n",
      "明治神宮前駅 \t 32.5039\n",
      "代々木公園駅 \t 29.9748\n",
      "代々木八幡駅 \t -4.684\n",
      "参宮橋駅 \t 8.0802\n",
      "中野新橋駅 \t 0.3526\n",
      "方南町駅 \t 0.4719\n",
      "表参道駅 \t 49.25\n",
      "中野坂上駅 \t 2.2798\n",
      "都庁前駅 \t -1.0907\n",
      "外苑前駅 \t -4.6131\n",
      "中野富士見町駅 \t -0.9562\n",
      "信濃町駅 \t -0.1939\n",
      "白金高輪駅 \t -3.626\n",
      "国立競技場駅 \t 5.7608\n",
      "西新宿駅 \t 0.6207\n",
      "椎名町駅 \t 0.701\n",
      "要町駅 \t 1.397\n",
      "北池袋駅 \t -0.797\n",
      "板橋駅 \t 0.6931\n",
      "東長崎駅 \t 0.075\n",
      "千川駅 \t 1.8247\n",
      "小竹向原駅 \t -0.179\n",
      "下板橋駅 \t -0.1763\n",
      "落合南長崎駅 \t -1.0065\n",
      "巣鴨新田駅 \t -0.0561\n",
      "大山駅 \t -0.6554\n",
      "庚申塚駅 \t 1.1621\n",
      "新板橋駅 \t -1.0071\n",
      "新江古田駅 \t 0.5677\n",
      "中井駅 \t -2.4956\n",
      "新庚申塚駅 \t -0.5159\n",
      "江古田駅 \t 1.7307\n",
      "下落合駅 \t -1.3949\n",
      "学習院下駅 \t 2.2827\n",
      "西ケ原四丁目駅 \t -2.0747\n",
      "板橋区役所前駅 \t 1.2063\n",
      "東中野駅 \t -0.9858\n",
      "王子駅 \t -1.8765\n",
      "蓮根駅 \t -0.2077\n",
      "浮間舟渡駅 \t 0.8533\n",
      "西台駅 \t -0.3546\n",
      "下赤塚駅 \t 1.6625\n",
      "地下鉄赤塚駅 \t 0.3757\n",
      "平和台駅 \t 1.9933\n",
      "志村坂上駅 \t -0.4078\n",
      "本蓮沼駅 \t -1.2623\n",
      "志村三丁目駅 \t 1.1492\n",
      "北赤羽駅 \t 0.5884\n",
      "西早稲田駅 \t -0.0615\n",
      "新井薬師前駅 \t 0.6024\n",
      "滝野川一丁目駅 \t -0.0099\n",
      "新三河島駅 \t -2.2899\n",
      "尾久駅 \t -2.397\n",
      "赤羽駅 \t 2.9386\n",
      "赤羽岩淵駅 \t 1.3174\n",
      "十条駅 \t 1.216\n",
      "板橋本町駅 \t -0.2396\n",
      "志茂駅 \t -1.501\n",
      "東十条駅 \t 0.4795\n",
      "王子神谷駅 \t -0.6752\n",
      "梶原駅 \t 0.4103\n",
      "栄町駅 \t -0.1239\n",
      "赤土小学校前駅 \t -2.4123\n",
      "小台駅 \t -0.9783\n",
      "宮ノ前駅 \t -0.6166\n",
      "荒川遊園地前駅 \t -6.9862\n",
      "飛鳥山駅 \t 0.8126\n",
      "荒川車庫前駅 \t 0.7068\n",
      "戸田公園駅 \t 0.1585\n",
      "西新井駅 \t 1.0737\n",
      "熊野前駅 \t -0.4975\n",
      "新桜台駅 \t 1.0052\n",
      "上板橋駅 \t 0.6771\n",
      "東武練馬駅 \t 0.7482\n",
      "氷川台駅 \t 1.0381\n",
      "高島平駅 \t 2.0693\n",
      "ときわ台駅 \t -0.8389\n",
      "成増駅 \t 1.038\n",
      "地下鉄成増駅 \t 4.2357\n",
      "新高島平駅 \t 0.189\n",
      "中板橋駅 \t 0.5915\n",
      "和光市駅 \t 0.0506\n",
      "西高島平駅 \t 0.9984\n",
      "光が丘駅 \t -3.7782\n",
      "練馬春日町駅 \t 0.7027\n",
      "豊島園駅 \t 0.0385\n",
      "上石神井駅 \t 4.6458\n",
      "西荻窪駅 \t -2.8109\n",
      "武蔵関駅 \t 1.0851\n",
      "練馬駅 \t 1.8382\n",
      "桜台駅 \t 0.2387\n",
      "練馬高野台駅 \t -0.349\n",
      "富士見台駅 \t 1.3449\n",
      "石神井公園駅 \t 1.842\n",
      "荻窪駅 \t -1.0416\n",
      "中村橋駅 \t 0.9702\n",
      "鷺ノ宮駅 \t -13.5786\n",
      "東伏見駅 \t 1.5255\n",
      "野方駅 \t 5.0811\n",
      "都立家政駅 \t -15.7758\n",
      "大泉学園駅 \t -1.5321\n",
      "井荻駅 \t -7.4985\n",
      "保谷駅 \t 1.0162\n",
      "西武柳沢駅 \t -5.8913\n",
      "上井草駅 \t 2.7056\n",
      "朝霞駅 \t -3.1211\n",
      "下井草駅 \t -6.7377\n",
      "沼袋駅 \t -3.7032\n",
      "高円寺駅 \t -2.035\n",
      "三鷹駅 \t -0.4215\n",
      "ひばりケ丘駅 \t 0.7418\n",
      "中野駅 \t 0.0496\n",
      "井の頭公園駅 \t 0.7617\n",
      "阿佐ケ谷駅 \t 0.1605\n"
     ]
    }
   ],
   "source": [
    "for i,value in coefficients.iteritems():\n",
    "    print(i,\"\\t\",round(value*10000)/10000.0)"
   ]
  },
  {
   "cell_type": "markdown",
   "metadata": {},
   "source": [
    "<h3>Ridge回帰とDecision Treeの合成"
   ]
  },
  {
   "cell_type": "code",
   "execution_count": 60,
   "metadata": {
    "collapsed": false
   },
   "outputs": [],
   "source": [
    "class model_R_and_DT:\n",
    "    \n",
    "    def __init__(self):\n",
    "        self.model_Ridge = Ridge(alpha=0.15)\n",
    "        self.model_DT    = DecisionTreeRegressor()\n",
    "        self.model_Linear_mix = LinearRegression(fit_intercept=False)\n",
    "    \n",
    "    def fit(self,X,y):\n",
    "        # カラムの指定\n",
    "        non_geo_col = X.columns[pd.Series(X.columns).apply(lambda col:(col!=\"address_lng\")and(col!=\"address_lat\"))]\n",
    "        geo_col = pd.Series([\"address_lat\",\"address_lng\"])\n",
    "        # 個別の予測器の作成\n",
    "        self.model_Ridge.fit(X[non_geo_col],y)\n",
    "        self.model_DT.fit(X[geo_col],y)\n",
    "        pred_Ridge = self.model_Ridge.predict(X[non_geo_col])\n",
    "        pred_DT = self.model_DT.predict(X[geo_col])\n",
    "        preds = pd.DataFrame({\"pred_DT\":pred_DT,\"pred_ridge\":pred_Ridge})\n",
    "        self.model_Linear_mix.fit(preds,y)\n",
    "\n",
    "    def predict(self,X):\n",
    "        # カラムの指定\n",
    "        non_geo_col = X.columns[pd.Series(X.columns).apply(lambda col:(col!=\"address_lng\")and(col!=\"address_lat\"))]\n",
    "        geo_col = pd.Series([\"address_lat\",\"address_lng\"])\n",
    "        # 個別の予測器の統合\n",
    "        pred_Ridge = self.model_Ridge.predict(X[non_geo_col])\n",
    "        pred_DT = self.model_DT.predict(X[geo_col])\n",
    "        preds = pd.DataFrame({\"pred_DT\":pred_DT,\"pred_ridge\":pred_Ridge})\n",
    "        return self.model_Linear_mix.predict(preds)\n",
    "\n",
    "    def score(self,X,y):\n",
    "        pred = self.predict(X)\n",
    "        mean = y.mean()\n",
    "        return 1-sum((y-pred)**2)/sum((y-mean)**2)"
   ]
  },
  {
   "cell_type": "code",
   "execution_count": 73,
   "metadata": {
    "collapsed": false
   },
   "outputs": [],
   "source": [
    "class model_R_and_DT:\n",
    "    \n",
    "    def __init__(self):\n",
    "        self.model_Ridge = Ridge(alpha=0.15)\n",
    "        self.model_DT    = DecisionTreeRegressor()\n",
    "        self.model_Linear_mix = LinearRegression(fit_intercept=False)\n",
    "    \n",
    "    def fit(self,X,y):\n",
    "        # カラムの指定\n",
    "        geo_col = pd.Series([\"address_lat\",\"address_lng\"])\n",
    "        non_geo_col = X.columns[pd.Series(X.columns).apply(lambda col:(col!=\"address_lng\")and(col!=\"address_lat\"))]\n",
    "        X_new = X[non_geo_col]\n",
    "        # 個別の予測器の作成\n",
    "        self.model_DT.fit(X[geo_col],y)\n",
    "        X_new[\"geo_effect\"] = self.model_DT.predict(X[geo_col])\n",
    "        self.model_Ridge.fit(X_new,y)\n",
    "        \n",
    "    def predict(self,X):\n",
    "        # カラムの指定\n",
    "        geo_col = pd.Series([\"address_lat\",\"address_lng\"])\n",
    "        non_geo_col = X.columns[pd.Series(X.columns).apply(lambda col:(col!=\"address_lng\")and(col!=\"address_lat\"))]\n",
    "        X_new = X[non_geo_col]\n",
    "        # 個別の予測器の作成\n",
    "        X_new[\"geo_effect\"] = self.model_DT.predict(X[geo_col])\n",
    "        return self.model_Ridge.predict(X_new)\n",
    "\n",
    "    def score(self,X,y):\n",
    "        # カラムの指定\n",
    "        geo_col = pd.Series([\"address_lat\",\"address_lng\"])\n",
    "        non_geo_col = X.columns[pd.Series(X.columns).apply(lambda col:(col!=\"address_lng\")and(col!=\"address_lat\"))]\n",
    "        X_new = X[non_geo_col]\n",
    "        # 個別の予測器の作成\n",
    "        X_new[\"geo_effect\"] = self.model_DT.predict(X[geo_col])\n",
    "        return self.model_Ridge.score(X_new,y)"
   ]
  },
  {
   "cell_type": "markdown",
   "metadata": {},
   "source": [
    "<h3>合成モデルの精度"
   ]
  },
  {
   "cell_type": "code",
   "execution_count": 74,
   "metadata": {
    "collapsed": false
   },
   "outputs": [
    {
     "name": "stderr",
     "output_type": "stream",
     "text": [
      "C:\\Program Files (x86)\\Anaconda3\\lib\\site-packages\\ipykernel\\__main__.py:15: SettingWithCopyWarning: \n",
      "A value is trying to be set on a copy of a slice from a DataFrame.\n",
      "Try using .loc[row_indexer,col_indexer] = value instead\n",
      "\n",
      "See the caveats in the documentation: http://pandas.pydata.org/pandas-docs/stable/indexing.html#indexing-view-versus-copy\n"
     ]
    }
   ],
   "source": [
    "model = model_R_and_DT()\n",
    "model.fit(X.iloc[:20000,:],y[:20000])"
   ]
  },
  {
   "cell_type": "code",
   "execution_count": 75,
   "metadata": {
    "collapsed": false,
    "scrolled": true
   },
   "outputs": [
    {
     "name": "stderr",
     "output_type": "stream",
     "text": [
      "C:\\Program Files (x86)\\Anaconda3\\lib\\site-packages\\ipykernel\\__main__.py:33: SettingWithCopyWarning: \n",
      "A value is trying to be set on a copy of a slice from a DataFrame.\n",
      "Try using .loc[row_indexer,col_indexer] = value instead\n",
      "\n",
      "See the caveats in the documentation: http://pandas.pydata.org/pandas-docs/stable/indexing.html#indexing-view-versus-copy\n"
     ]
    },
    {
     "data": {
      "text/plain": [
       "0.83920996485283239"
      ]
     },
     "execution_count": 75,
     "metadata": {},
     "output_type": "execute_result"
    }
   ],
   "source": [
    "model.score(X.iloc[20000:],y[20000:])"
   ]
  },
  {
   "cell_type": "code",
   "execution_count": 76,
   "metadata": {
    "collapsed": false
   },
   "outputs": [
    {
     "data": {
      "text/plain": [
       "Ridge(alpha=0.15, copy_X=True, fit_intercept=True, max_iter=None,\n",
       "   normalize=False, random_state=None, solver='auto', tol=0.001)"
      ]
     },
     "execution_count": 76,
     "metadata": {},
     "output_type": "execute_result"
    }
   ],
   "source": [
    "model_R = Ridge(alpha=0.15)\n",
    "model_R.fit(X.iloc[:20000,:],y[:20000])"
   ]
  },
  {
   "cell_type": "code",
   "execution_count": 77,
   "metadata": {
    "collapsed": false
   },
   "outputs": [
    {
     "data": {
      "text/plain": [
       "0.81076007900976266"
      ]
     },
     "execution_count": 77,
     "metadata": {},
     "output_type": "execute_result"
    }
   ],
   "source": [
    "model_R.score(X.iloc[20000:],y[20000:])"
   ]
  },
  {
   "cell_type": "markdown",
   "metadata": {},
   "source": [
    "∴ダメ。精度でない。"
   ]
  },
  {
   "cell_type": "markdown",
   "metadata": {},
   "source": [
    "<h3>残差の可視化"
   ]
  },
  {
   "cell_type": "code",
   "execution_count": 78,
   "metadata": {
    "collapsed": false
   },
   "outputs": [],
   "source": [
    "model_r_20000 = RandomForestRegressor(n_estimators=100)\n",
    "model_r_20000.fit(X.iloc[:20000,:],y[:20000])\n",
    "y_pred_20000 = model_r_20000.predict(X.iloc[20000:,:])"
   ]
  },
  {
   "cell_type": "code",
   "execution_count": 90,
   "metadata": {
    "collapsed": false,
    "scrolled": false
   },
   "outputs": [
    {
     "data": {
      "image/png": "[encoded data removed]",
      "text/plain": [
       "<matplotlib.figure.Figure at 0xf22daaa90>"
      ]
     },
     "metadata": {},
     "output_type": "display_data"
    }
   ],
   "source": [
    "plt.figure(figsize=(15,5))\n",
    "plt.subplot(1,2,1)\n",
    "plt.scatter(x=y[20000:],y=y_pred_20000,s=1,linewidth=0,alpha=0.2)\n",
    "plt.xlim(0,40)\n",
    "plt.ylim(0,40)\n",
    "plt.xlabel(\"rent\")\n",
    "plt.ylabel(\"predicted rent\")\n",
    "plt.plot([0,40],[0,40],c=\"black\",linewidth=0.3)\n",
    "plt.subplot(1,2,2)\n",
    "plt.hist((y_pred_20000/y[20000:]-1)*100, bins=range(-60,60),linewidth=0)\n",
    "plt.xlim(-60,60)\n",
    "plt.xlabel(\"percentage of error\")\n",
    "plt.show()"
   ]
  },
  {
   "cell_type": "code",
   "execution_count": 88,
   "metadata": {
    "collapsed": false,
    "scrolled": false
   },
   "outputs": [
    {
     "data": {
      "image/png": "[encoded data removed]",
      "text/plain": [
       "<matplotlib.figure.Figure at 0xf41079ef0>"
      ]
     },
     "metadata": {},
     "output_type": "display_data"
    }
   ],
   "source": [
    "plt.figure(figsize=(17,4))\n",
    "\n",
    "plt.subplot(1,3,1)\n",
    "plt.scatter(x=y[20000:],y=y_pred_20000,s=2,alpha=0.2,linewidth=0,c=\"steelblue\")\n",
    "plt.xlim(0,40)\n",
    "plt.ylim(0,40)\n",
    "plt.xlabel(\"rent\")\n",
    "plt.ylabel(\"predicted rent\")\n",
    "plt.plot([0,40],[0,40],c=\"black\",linewidth=0.3)\n",
    "\n",
    "plt.subplot(1,3,2)\n",
    "plt.scatter(x=y[20000:],y=y_pred_20000-y[20000:],s=2,alpha=0.2,linewidth=0,c=\"steelblue\")\n",
    "plt.xlim(0,40)\n",
    "plt.ylim(-20,20)\n",
    "plt.xlabel(\"rent\")\n",
    "plt.ylabel(\"residuals\")\n",
    "plt.plot([0,40],[0,0],c=\"black\",linewidth=0.3)\n",
    "\n",
    "plt.subplot(1,3,3)\n",
    "plt.hist((y_pred_20000/y[20000:]-1)*100, bins=range(-60,60),linewidth=0,color=\"steelblue\")\n",
    "plt.xlim(-60,60)\n",
    "plt.xlabel(\"percentage of error\")\n",
    "plt.show()"
   ]
  },
  {
   "cell_type": "markdown",
   "metadata": {
    "collapsed": true
   },
   "source": [
    "<h3>お買い得物件の検索"
   ]
  },
  {
   "cell_type": "code",
   "execution_count": 94,
   "metadata": {
    "collapsed": false,
    "scrolled": true
   },
   "outputs": [
    {
     "name": "stdout",
     "output_type": "stream",
     "text": [
      "割高な物件の平均価格 11.17964393217767\n",
      "割安な物件の平均価格 9.283456342668943\n"
     ]
    }
   ],
   "source": [
    "print(\"割高な物件の平均価格\",y[20000:][(y[20000:]-y_pred_20000)>0].mean())\n",
    "print(\"割安な物件の平均価格\",y[20000:][(y[20000:]-y_pred_20000)<0].mean())"
   ]
  },
  {
   "cell_type": "code",
   "execution_count": 95,
   "metadata": {
    "collapsed": false
   },
   "outputs": [
    {
     "data": {
      "text/plain": [
       "2.372638248144472"
      ]
     },
     "execution_count": 95,
     "metadata": {},
     "output_type": "execute_result"
    }
   ],
   "source": [
    "(y[20000:]-y_pred_20000).var()**(1/2)"
   ]
  },
  {
   "cell_type": "code",
   "execution_count": 96,
   "metadata": {
    "collapsed": true
   },
   "outputs": [],
   "source": [
    "percentage_price_pred = 100*(y_pred_20000/y[20000:]).sort_values(ascending=False)"
   ]
  },
  {
   "cell_type": "code",
   "execution_count": 97,
   "metadata": {
    "collapsed": true
   },
   "outputs": [],
   "source": [
    "index_bad_price = percentage_price_pred.sort_values(ascending=True).index\n",
    "index_good_price = percentage_price_pred.sort_values(ascending=False).index"
   ]
  },
  {
   "cell_type": "markdown",
   "metadata": {},
   "source": [
    "<h3>掲載停止の検査"
   ]
  },
  {
   "cell_type": "code",
   "execution_count": 98,
   "metadata": {
    "collapsed": true
   },
   "outputs": [],
   "source": [
    "import urllib\n",
    "import re\n",
    "import time\n",
    "\n",
    "def is_404(url):\n",
    "    time.sleep(3)\n",
    "    try:\n",
    "        uh = urllib.request.urlopen(url)\n",
    "        return False\n",
    "    except urllib.error.HTTPError as err:\n",
    "        if err.code == 404:\n",
    "            return True\n",
    "        else:\n",
    "            raise"
   ]
  },
  {
   "cell_type": "code",
   "execution_count": 99,
   "metadata": {
    "collapsed": false
   },
   "outputs": [],
   "source": [
    "good_404 = \"割安物件は、100件中{}件が、掲載終了\".format(analytical_data.url[index_good_price[:100]].apply(is_404).sum())\n",
    "bad_404 = \"割高物件は、100件中{}件が、掲載終了\".format(analytical_data.url[index_bad_price[:100]].apply(is_404).sum())"
   ]
  },
  {
   "cell_type": "code",
   "execution_count": 100,
   "metadata": {
    "collapsed": false,
    "scrolled": true
   },
   "outputs": [
    {
     "name": "stdout",
     "output_type": "stream",
     "text": [
      "割安物件は、100件中58件が、掲載終了\n",
      "割高物件は、100件中55件が、掲載終了\n"
     ]
    }
   ],
   "source": [
    "print(good_404)\n",
    "print(bad_404)"
   ]
  },
  {
   "cell_type": "code",
   "execution_count": 101,
   "metadata": {
    "collapsed": false,
    "scrolled": false
   },
   "outputs": [
    {
     "name": "stdout",
     "output_type": "stream",
     "text": [
      "割高な物件\n",
      "https://chintai.mynavi.jp/tokyo/113/room2385700005354.html 84.0 万円　相場の 245.54080362 ％の価格！\n",
      "https://chintai.mynavi.jp/tokyo/113/room3341500005354.html 42.0 万円　相場の 244.342311944 ％の価格！\n",
      "https://chintai.mynavi.jp/tokyo/113/room2128800001042.html 53.0 万円　相場の 184.720479576 ％の価格！\n",
      "https://chintai.mynavi.jp/tokyo/113/room6525800001322.html 135.0 万円　相場の 180.096051227 ％の価格！\n",
      "https://chintai.mynavi.jp/tokyo/113/room109700008499.html 48.0 万円　相場の 167.294019239 ％の価格！\n",
      "https://chintai.mynavi.jp/tokyo/113/room22300007704.html 55.0 万円　相場の 163.074094939 ％の価格！\n",
      "https://chintai.mynavi.jp/tokyo/120/room26200007687.html 20.0 万円　相場の 156.581512421 ％の価格！\n",
      "https://chintai.mynavi.jp/tokyo/120/room179100007258.html 8.0 万円　相場の 154.21686747 ％の価格！\n",
      "https://chintai.mynavi.jp/tokyo/117/room600008895.html 7.35 万円　相場の 148.369949198 ％の価格！\n",
      "https://chintai.mynavi.jp/tokyo/116/room693000004190.html 26.4 万円　相場の 146.13489801 ％の価格！\n",
      "https://chintai.mynavi.jp/tokyo/113/room2081700005354.html 11.0 万円　相場の 145.907945351 ％の価格！\n",
      "https://chintai.mynavi.jp/tokyo/113/room593300007095.html 11.5 万円　相場の 140.793339863 ％の価格！\n",
      "https://chintai.mynavi.jp/tokyo/106/room137500007267.html 22.5 万円　相場の 139.335277835 ％の価格！\n",
      "https://chintai.mynavi.jp/tokyo/120/room143600004373.html 25.0 万円　相場の 138.581699455 ％の価格！\n",
      "https://chintai.mynavi.jp/tokyo/105/room2335200000332.html 6.5 万円　相場の 138.377365721 ％の価格！\n",
      "https://chintai.mynavi.jp/tokyo/117/room87800007257.html 8.2 万円　相場の 138.186720593 ％の価格！\n",
      "https://chintai.mynavi.jp/tokyo/116/room200009059.html 7.5 万円　相場の 137.710697367 ％の価格！\n",
      "https://chintai.mynavi.jp/tokyo/117/room44600008039.html 9.8 万円　相場の 137.543859649 ％の価格！\n",
      "https://chintai.mynavi.jp/tokyo/112/room150100007928.html 7.9 万円　相場の 137.534818942 ％の価格！\n",
      "https://chintai.mynavi.jp/tokyo/120/room2193900000331.html 12.8 万円　相場の 136.759442278 ％の価格！\n",
      "https://chintai.mynavi.jp/tokyo/113/room3296500005354.html 18.0 万円　相場の 136.219161495 ％の価格！\n",
      "https://chintai.mynavi.jp/tokyo/113/room121700007311.html 11.3 万円　相場の 135.183634406 ％の価格！\n",
      "https://chintai.mynavi.jp/tokyo/112/room133900007293.html 6.0 万円　相場の 134.68013468 ％の価格！\n",
      "https://chintai.mynavi.jp/tokyo/117/room3646100000303.html 7.0 万円　相場の 134.511913912 ％の価格！\n",
      "https://chintai.mynavi.jp/tokyo/116/room3142400000332.html 16.0 万円　相場の 134.447755843 ％の価格！\n",
      "https://chintai.mynavi.jp/tokyo/112/room1239600004171.html 11.5 万円　相場の 134.032634033 ％の価格！\n",
      "https://chintai.mynavi.jp/tokyo/112/room1762200000307.html 16.3 万円　相場の 133.267925762 ％の価格！\n",
      "https://chintai.mynavi.jp/tokyo/116/room207500007318.html 16.0 万円　相場の 132.279506597 ％の価格！\n",
      "https://chintai.mynavi.jp/tokyo/113/room43100008966.html 8.4 万円　相場の 132.011126652 ％の価格！\n",
      "https://chintai.mynavi.jp/tokyo/106/room123400007267.html 7.6 万円　相場の 132.004029597 ％の価格！\n",
      "https://chintai.mynavi.jp/tokyo/113/room35000007962.html 14.1 万円　相場の 131.634224898 ％の価格！\n",
      "https://chintai.mynavi.jp/tokyo/113/room67900007826.html 18.3 万円　相場の 131.229831481 ％の価格！\n",
      "https://chintai.mynavi.jp/tokyo/112/room2084800000260.html 9.0 万円　相場の 130.630412695 ％の価格！\n",
      "https://chintai.mynavi.jp/tokyo/120/room178400007258.html 7.5 万円　相場の 129.97703739 ％の価格！\n",
      "https://chintai.mynavi.jp/tokyo/113/room6577400001322.html 12.8 万円　相場の 129.965071887 ％の価格！\n",
      "https://chintai.mynavi.jp/tokyo/117/room2027900000447.html 13.5 万円　相場の 129.78273409 ％の価格！\n",
      "https://chintai.mynavi.jp/tokyo/119/room709700004225.html 23.5 万円　相場の 129.723165245 ％の価格！\n",
      "https://chintai.mynavi.jp/tokyo/113/room471100007057.html 12.3 万円　相場の 129.317142407 ％の価格！\n",
      "https://chintai.mynavi.jp/tokyo/113/room3231600005354.html 90.0 万円　相場の 129.157805006 ％の価格！\n",
      "https://chintai.mynavi.jp/tokyo/105/room665000007812.html 12.5 万円　相場の 128.892555166 ％の価格！\n",
      "https://chintai.mynavi.jp/tokyo/112/room1592000002811.html 13.6 万円　相場の 128.611281857 ％の価格！\n",
      "https://chintai.mynavi.jp/tokyo/110/room108800007857.html 28.0 万円　相場の 127.844541038 ％の価格！\n",
      "https://chintai.mynavi.jp/tokyo/112/room19300007857.html 9.8 万円　相場の 126.860841424 ％の価格！\n",
      "https://chintai.mynavi.jp/tokyo/112/room5307900000526.html 23.0 万円　相場の 126.498735013 ％の価格！\n",
      "https://chintai.mynavi.jp/tokyo/120/room1165700005684.html 6.0 万円　相場の 126.09015446 ％の価格！\n",
      "お買い得物件\n",
      "https://chintai.mynavi.jp/tokyo/105/room708800007059.html 3.1 万円　相場の 49.6957338617 ％の価格！\n",
      "https://chintai.mynavi.jp/tokyo/110/room235400007905.html 3.0 万円　相場の 56.9536625002 ％の価格！\n",
      "https://chintai.mynavi.jp/tokyo/120/room659200000781.html 3.0 万円　相場の 62.8469676338 ％の価格！\n",
      "https://chintai.mynavi.jp/tokyo/120/room478500008387.html 2.5 万円　相場の 63.1313131313 ％の価格！\n",
      "https://chintai.mynavi.jp/tokyo/112/room441800000205.html 10.8 万円　相場の 67.2164306831 ％の価格！\n",
      "https://chintai.mynavi.jp/tokyo/112/room2782400000260.html 3.5 万円　相場の 67.9215990685 ％の価格！\n",
      "https://chintai.mynavi.jp/tokyo/112/room768500005661.html 3.0 万円　相場の 68.1047360033 ％の価格！\n",
      "https://chintai.mynavi.jp/tokyo/113/room443600000213.html 17.3 万円　相場の 68.3470290771 ％の価格！\n",
      "https://chintai.mynavi.jp/tokyo/116/room1149300005684.html 2.0 万円　相場の 68.7450589489 ％の価格！\n",
      "https://chintai.mynavi.jp/tokyo/116/room1716000005584.html 4.0 万円　相場の 69.1025308802 ％の価格！\n",
      "https://chintai.mynavi.jp/tokyo/120/room10400005684.html 3.3 万円　相場の 69.2840646651 ％の価格！\n",
      "https://chintai.mynavi.jp/tokyo/112/room1870200000356.html 6.5 万円　相場の 70.5601389492 ％の価格！\n",
      "https://chintai.mynavi.jp/tokyo/105/room123700007066.html 12.0 万円　相場の 71.946759398 ％の価格！\n",
      "https://chintai.mynavi.jp/tokyo/116/room112800003782.html 3.7 万円　相場の 72.0910295378 ％の価格！\n",
      "https://chintai.mynavi.jp/tokyo/120/room63700008940.html 9.0 万円　相場の 72.3594819061 ％の価格！\n",
      "https://chintai.mynavi.jp/tokyo/112/room5200900000526.html 14.0 万円　相場の 72.501294666 ％の価格！\n",
      "https://chintai.mynavi.jp/tokyo/112/room2304900000315.html 4.1 万円　相場の 73.1620271235 ％の価格！\n",
      "https://chintai.mynavi.jp/tokyo/106/room118500008465.html 6.9 万円　相場の 73.8520817724 ％の価格！\n",
      "https://chintai.mynavi.jp/tokyo/105/room104800007322.html 4.2 万円　相場の 73.9801310505 ％の価格！\n",
      "https://chintai.mynavi.jp/tokyo/120/room131600008387.html 3.0 万円　相場の 74.0020819252 ％の価格！\n",
      "https://chintai.mynavi.jp/tokyo/120/room715300007797.html 4.0 万円　相場の 74.2183876055 ％の価格！\n",
      "https://chintai.mynavi.jp/tokyo/120/room187200000870.html 11.0 万円　相場の 74.5611062157 ％の価格！\n",
      "https://chintai.mynavi.jp/tokyo/119/room14272800000495.html 6.7 万円　相場の 74.715912259 ％の価格！\n",
      "https://chintai.mynavi.jp/tokyo/120/room4700007974.html 24.5 万円　相場の 74.8091603053 ％の価格！\n",
      "https://chintai.mynavi.jp/tokyo/106/room96000008367.html 10.5 万円　相場の 75.0133952492 ％の価格！\n",
      "https://chintai.mynavi.jp/tokyo/106/room2475300000085.html 13.0 万円　相場の 75.0139929948 ％の価格！\n",
      "https://chintai.mynavi.jp/tokyo/113/room105400001484.html 21.9 万円　相場の 75.1363776718 ％の価格！\n",
      "https://chintai.mynavi.jp/tokyo/112/room42500008947.html 6.4 万円　相場の 75.2250875667 ％の価格！\n",
      "https://chintai.mynavi.jp/tokyo/120/room15200008958.html 6.5 万円　相場の 75.6209644581 ％の価格！\n",
      "https://chintai.mynavi.jp/tokyo/105/room177100007321.html 13.25 万円　相場の 76.0882048926 ％の価格！\n",
      "https://chintai.mynavi.jp/tokyo/112/room135300007301.html 7.5 万円　相場の 76.3903035241 ％の価格！\n",
      "https://chintai.mynavi.jp/tokyo/117/room6100000748.html 7.2 万円　相場の 76.5590940507 ％の価格！\n",
      "https://chintai.mynavi.jp/tokyo/119/room1729300000316.html 5.5 万円　相場の 76.7888307155 ％の価格！\n",
      "https://chintai.mynavi.jp/tokyo/119/room772700006441.html 6.0 万円　相場の 76.8363897142 ％の価格！\n",
      "https://chintai.mynavi.jp/tokyo/120/room54500008949.html 7.2 万円　相場の 76.8902178556 ％の価格！\n",
      "https://chintai.mynavi.jp/tokyo/112/room485800006441.html 5.4 万円　相場の 76.9121207805 ％の価格！\n",
      "https://chintai.mynavi.jp/tokyo/112/room2074900000355.html 2.9 万円　相場の 76.9639065817 ％の価格！\n",
      "https://chintai.mynavi.jp/tokyo/113/room12500007744.html 7.0 万円　相場の 77.0840215835 ％の価格！\n",
      "https://chintai.mynavi.jp/tokyo/112/room62500007143.html 4.7 万円　相場の 77.0997375328 ％の価格！\n",
      "https://chintai.mynavi.jp/tokyo/112/room16000008611.html?pr=1 15.0 万円　相場の 77.1541436919 ％の価格！\n",
      "https://chintai.mynavi.jp/tokyo/120/room42500008957.html 5.3 万円　相場の 77.4683914346 ％の価格！\n",
      "https://chintai.mynavi.jp/tokyo/113/room708400006441.html 5.9 万円　相場の 77.5703392059 ％の価格！\n"
     ]
    }
   ],
   "source": [
    "print(\"割高な物件\")\n",
    "for i in index_bad_price[0:100]:\n",
    "    if is_404(list(analytical_data.url[X.index==i])[0])==False:\n",
    "        print(list(analytical_data.url[X.index==i])[0]\n",
    "              ,list(analytical_data.rent[X.index==i])[0]\n",
    "              ,\"万円　相場の\"\n",
    "              ,(y[i]/model_r_20000.predict(X[X.index==i])[0])*100\n",
    "              ,\"％の価格！\")\n",
    "\n",
    "print(\"お買い得物件\")\n",
    "for i in index_good_price[0:100]:\n",
    "    if is_404(list(analytical_data.url[X.index==i])[0])==False:\n",
    "        print(list(analytical_data.url[X.index==i])[0]\n",
    "              ,list(analytical_data.rent[X.index==i])[0]\n",
    "              ,\"万円　相場の\"\n",
    "              ,(y[i]/model_r_20000.predict(X[X.index==i])[0])*100\n",
    "              ,\"％の価格！\")"
   ]
  },
  {
   "cell_type": "code",
   "execution_count": 102,
   "metadata": {
    "collapsed": false
   },
   "outputs": [
    {
     "data": {
      "text/plain": [
       "1999.5950598802394"
      ]
     },
     "execution_count": 102,
     "metadata": {},
     "output_type": "execute_result"
    }
   ],
   "source": [
    "analytical_data.year_built.mean()"
   ]
  },
  {
   "cell_type": "markdown",
   "metadata": {},
   "source": [
    "<h3>実装用の予測モデルの作成"
   ]
  },
  {
   "cell_type": "code",
   "execution_count": 53,
   "metadata": {
    "collapsed": true
   },
   "outputs": [],
   "source": [
    "X_avoid_0_to_7682 = X.iloc[pd.Series(range(7682,30728)),:]\n",
    "X_avoid_7682_to_15364 = X.iloc[pd.Series(list(range(0,7682))+list(range(15364,30728))),:]\n",
    "X_avoid_15364_to_23046 = X.iloc[pd.Series(list(range(0,15364))+list(range(23046,30728))),:]\n",
    "X_avoid_23046_to_30728 = X.iloc[pd.Series(range(0,23046)),:]\n",
    "\n",
    "y_avoid_0_to_7682 = y[pd.Series(range(7682,30728))]\n",
    "y_avoid_7682_to_15364 = y[pd.Series(list(range(0,7682))+list(range(15364,30728)))]\n",
    "y_avoid_15364_to_23046 = y[pd.Series(list(range(0,15364))+list(range(23046,30728)))]\n",
    "y_avoid_23046_to_30728 = y[pd.Series(range(0,23046))]\n",
    "\n",
    "RF_avoid_0_to_7682 = RandomForestRegressor(n_estimators=100).fit(X_avoid_0_to_7682,y_avoid_0_to_7682)\n",
    "RF_avoid_7682_to_15364 = RandomForestRegressor(n_estimators=100).fit(X_avoid_7682_to_15364,y_avoid_7682_to_15364)\n",
    "RF_avoid_15364_to_23046 = RandomForestRegressor(n_estimators=100).fit(X_avoid_15364_to_23046,y_avoid_15364_to_23046)\n",
    "RF_avoid_23046_to_30728 = RandomForestRegressor(n_estimators=100).fit(X_avoid_23046_to_30728,y_avoid_23046_to_30728)\n",
    "RF_whole_data = RandomForestRegressor(n_estimators=100).fit(X,y)\n",
    "RF_models = {\n",
    "    \"RF_avoid_0_to_7682\":RF_avoid_0_to_7682\n",
    "    ,\"RF_avoid_7682_to_15364\":RF_avoid_7682_to_15364\n",
    "    ,\"RF_avoid_15364_to_23046\":RF_avoid_15364_to_23046\n",
    "    ,\"RF_avoid_23046_to_30728\":RF_avoid_23046_to_30728\n",
    "    ,\"RF_whole_data\":RF_whole_data\n",
    "}"
   ]
  },
  {
   "cell_type": "code",
   "execution_count": 54,
   "metadata": {
    "collapsed": true
   },
   "outputs": [],
   "source": [
    "with open('../../gci_project_storage/RF_models.pickle', mode='wb') as f:\n",
    "     pickle.dump(RF_models, f)"
   ]
  },
  {
   "cell_type": "code",
   "execution_count": 55,
   "metadata": {
    "collapsed": true
   },
   "outputs": [],
   "source": [
    "train_data_urls = analytical_data.url"
   ]
  },
  {
   "cell_type": "code",
   "execution_count": 56,
   "metadata": {
    "collapsed": true
   },
   "outputs": [],
   "source": [
    "with open('../../gci_project_storage/train_data_urls.pickle', mode='wb') as f:\n",
    "     pickle.dump(train_data_urls, f)"
   ]
  },
  {
   "cell_type": "code",
   "execution_count": 57,
   "metadata": {
    "collapsed": false
   },
   "outputs": [
    {
     "name": "stdout",
     "output_type": "stream",
     "text": [
      "fin.\n"
     ]
    }
   ],
   "source": [
    "print(\"fin.\")"
   ]
  },
  {
   "cell_type": "markdown",
   "metadata": {},
   "source": [
    "<h3>最寄り駅関係のインサイト探し"
   ]
  },
  {
   "cell_type": "code",
   "execution_count": 30,
   "metadata": {
    "collapsed": true
   },
   "outputs": [],
   "source": [
    "station_names = analytical_data.columns[148:435]\n",
    "\n",
    "get_min_inverse_to_station = lambda row_of_analytical_data: row_of_analytical_data[148:435].max()\n",
    "get_min_to_station = lambda row_of_analytical_data:round((1.0/get_min_inverse_to_station(row_of_analytical_data))) if get_min_inverse_to_station(row_of_analytical_data)>0 else None\n",
    "get_min_station = lambda row_of_analytical_data: list(station_names[get_min_inverse_to_station(row_of_analytical_data)==row_of_analytical_data[148:435]])[0]"
   ]
  },
  {
   "cell_type": "code",
   "execution_count": 37,
   "metadata": {
    "collapsed": false,
    "scrolled": true
   },
   "outputs": [],
   "source": [
    "data_min_to_station = pd.Series([get_min_to_station(row) for i,row in analytical_data.iterrows()])\n",
    "data_min_stations = pd.Series([get_min_station(row) for i,row in analytical_data.iterrows()])"
   ]
  },
  {
   "cell_type": "code",
   "execution_count": 66,
   "metadata": {
    "collapsed": false,
    "scrolled": false
   },
   "outputs": [
    {
     "data": {
      "image/png": "[encoded data removed]",
      "text/plain": [
       "<matplotlib.figure.Figure at 0x1b351c6c50>"
      ]
     },
     "metadata": {},
     "output_type": "display_data"
    }
   ],
   "source": [
    "plt.hist(pd.Series(data_min_to_station).dropna(),bins=40,range=(0,40))\n",
    "plt.show()"
   ]
  },
  {
   "cell_type": "code",
   "execution_count": 63,
   "metadata": {
    "collapsed": false
   },
   "outputs": [],
   "source": [
    "st_inverse_min_matrix = analytical_data.iloc[:,148:435].as_matrix().reshape(-1,)\n",
    "st_min_matrix = np.vectorize(lambda x:1.0/x if x>0 else None)(st_min_matrix)\n",
    "st_min_matrix = pd.Series(st_min_matrix).dropna()"
   ]
  },
  {
   "cell_type": "code",
   "execution_count": 67,
   "metadata": {
    "collapsed": false
   },
   "outputs": [
    {
     "data": {
      "image/png": "[encoded data removed]",
      "text/plain": [
       "<matplotlib.figure.Figure at 0x1b35350518>"
      ]
     },
     "metadata": {},
     "output_type": "display_data"
    }
   ],
   "source": [
    "plt.hist(st_min_matrix,bins=40,range=(0,40))\n",
    "plt.xlim(0,40)\n",
    "plt.show()"
   ]
  },
  {
   "cell_type": "markdown",
   "metadata": {
    "collapsed": true
   },
   "source": [
    "∴そんなに面白い傾向はない"
   ]
  },
  {
   "cell_type": "code",
   "execution_count": null,
   "metadata": {
    "collapsed": true
   },
   "outputs": [],
   "source": []
  }
 ],
 "metadata": {
  "anaconda-cloud": {},
  "kernelspec": {
   "display_name": "Python [Root]",
   "language": "python",
   "name": "Python [Root]"
  },
  "language_info": {
   "codemirror_mode": {
    "name": "ipython",
    "version": 3
   },
   "file_extension": ".py",
   "mimetype": "text/x-python",
   "name": "python",
   "nbconvert_exporter": "python",
   "pygments_lexer": "ipython3",
   "version": "3.5.2"
  }
 },
 "nbformat": 4,
 "nbformat_minor": 2
}
