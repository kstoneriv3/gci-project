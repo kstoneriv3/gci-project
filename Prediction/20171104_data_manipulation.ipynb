{
 "cells": [
  {
   "cell_type": "code",
   "execution_count": 20,
   "metadata": {
    "collapsed": true
   },
   "outputs": [],
   "source": [
    "import numpy as np\n",
    "import pandas as pd\n",
    "import matplotlib.pyplot as plt\n",
    "import seaborn as sns"
   ]
  },
  {
   "cell_type": "code",
   "execution_count": 21,
   "metadata": {
    "collapsed": false,
    "scrolled": false
   },
   "outputs": [],
   "source": [
    "data = pd.read_csv(\"../../gci_project_storage/mynavi_data.csv\", encoding=\"SHIFT-JIS\")"
   ]
  },
  {
   "cell_type": "code",
   "execution_count": 22,
   "metadata": {
    "collapsed": false
   },
   "outputs": [
    {
     "data": {
      "text/plain": [
       "(46469, 110)"
      ]
     },
     "execution_count": 22,
     "metadata": {},
     "output_type": "execute_result"
    }
   ],
   "source": [
    "data.shape"
   ]
  },
  {
   "cell_type": "code",
   "execution_count": 23,
   "metadata": {
    "collapsed": false
   },
   "outputs": [
    {
     "data": {
      "text/plain": [
       "(31700, 80)"
      ]
     },
     "execution_count": 23,
     "metadata": {},
     "output_type": "execute_result"
    }
   ],
   "source": [
    "#文字列以外の変数でインスタントに分析を抽出\n",
    "non_str_cols = data.columns[data.dtypes!=\"object\"]\n",
    "data_instant = data[non_str_cols]\n",
    "\n",
    "#欠損値の回避\n",
    "data_instant = data_instant[data_instant.columns[data_instant.isnull().sum()<10000]]\n",
    "data_instant = data_instant.dropna()\n",
    "data_instant.shape"
   ]
  },
  {
   "cell_type": "code",
   "execution_count": 24,
   "metadata": {
    "collapsed": false
   },
   "outputs": [
    {
     "data": {
      "text/plain": [
       "Index(['rent', 'area', 'deposit', 'key_money', 'flooring', 'locality',\n",
       "       'buildings_height', 'parking', 'status', 'structure',\n",
       "       'transaction_type', 'air_conditioner', 'auto_lock', 'bath_toilet',\n",
       "       'reheating', 'wash_basin', 'washing_machine', 'top_floor',\n",
       "       'corner_room', 'immediate', 'upper', 'shower', 'bath_drier', 'washlet',\n",
       "       'toilet_style', 'bathhouse', 'water_heater', 'system_kitchen',\n",
       "       'counter_kitchen', 'independent_kitchen', 'L_kitchen', 'refrigerator',\n",
       "       'gas_stove', 'IH_stove', 'electric_stove', 'stove_num', 'elderly_0',\n",
       "       'elderly_1', 'elderly_2', 'company_0', 'company_1', 'company_2',\n",
       "       'single_0', 'single_1', 'single_2', 'student_0', 'student_1',\n",
       "       'student_2', 'direction_1', 'direction_2', 'direction_3', 'direction_4',\n",
       "       'direction_5', 'direction_6', 'direction_7', 'direction_8',\n",
       "       'structure_1', 'structure_2', 'structure_3', 'structure_4',\n",
       "       'structure_5', 'structure_6', 'structure_7', 'structure_8',\n",
       "       'structure_9', 'structure_10', 'structure_11', 'status_1', 'status_2',\n",
       "       'status_3', 'status_4', 'transaction_type_1', 'transaction_type_2',\n",
       "       'transaction_type_3', 'transaction_type_4', 'transaction_type_5',\n",
       "       'transaction_type_6', 'bath_style_0', 'bath_style_1', 'bath_style_2'],\n",
       "      dtype='object')"
      ]
     },
     "execution_count": 24,
     "metadata": {},
     "output_type": "execute_result"
    }
   ],
   "source": [
    "data_instant.columns"
   ]
  },
  {
   "cell_type": "markdown",
   "metadata": {},
   "source": [
    "<h3>回帰とランダムフォレストで交差検証でスコア(決定係数)を計算してみる<br>\n",
    "\n",
    "\\begin{eqnarray}\n",
    "R^2 = \n",
    "1-\\frac{RSS}{TSS} \n",
    "\\end{eqnarray}"
   ]
  },
  {
   "cell_type": "code",
   "execution_count": 25,
   "metadata": {
    "collapsed": false
   },
   "outputs": [
    {
     "name": "stdout",
     "output_type": "stream",
     "text": [
      "Before permutation:\n",
      "      area  deposit  key_money  flooring  locality\n",
      "0   19.87    77000      77000         0       2.0\n",
      "5   25.19    90000      90000         1       4.0\n",
      "9   27.54    94000      94000         1       4.0\n",
      "10  27.54    94000      94000         1       4.0 \n",
      "\n",
      "After permutation:\n",
      "         area  deposit  key_money  flooring  locality\n",
      "32995  25.81        0      88500         1       5.0\n",
      "23524  47.77   167000     334000         1       4.0\n",
      "20819  20.00    69000      69000         1       1.0\n",
      "44581  32.90        0      75000         1       1.0\n"
     ]
    }
   ],
   "source": [
    "#インスタントな回帰/ランダムフォレスト分析\n",
    "X = data_instant[data_instant.columns[data_instant.columns!=\"rent\"]]\n",
    "y = data_instant.rent\n",
    "\n",
    "# 交差検証に向けてインデックスをランダムに置換\n",
    "print(\"Before permutation:\\n\", X.head(4).iloc[:,:5] ,\"\\n\")\n",
    "X = X.reindex(np.random.permutation(X.index))\n",
    "print(\"After permutation:\\n\", X.head(4).iloc[:,:5])"
   ]
  },
  {
   "cell_type": "code",
   "execution_count": 26,
   "metadata": {
    "collapsed": false
   },
   "outputs": [],
   "source": [
    "from sklearn.linear_model import LinearRegression\n",
    "from sklearn.ensemble import RandomForestRegressor\n",
    "from sklearn.cross_validation import cross_val_score"
   ]
  },
  {
   "cell_type": "code",
   "execution_count": 27,
   "metadata": {
    "collapsed": false
   },
   "outputs": [
    {
     "name": "stdout",
     "output_type": "stream",
     "text": [
      "LinearRegression    \tMean_score:\t [ -9.50954460e-02  -2.47089623e-03  -1.55675045e-02  -2.24044512e+02]\n",
      "RandomForestRegressor    \tMean_score:\t [-0.28407181 -0.38385221 -0.09475329 -3.1607974 ]\n"
     ]
    }
   ],
   "source": [
    "#交差検証に向けて、model の List を作る\n",
    "models = [\n",
    "    LinearRegression(),\n",
    "    RandomForestRegressor() \n",
    "]\n",
    "#スコアの計算\n",
    "for model in models:\n",
    "    scores = cross_val_score(model, X, y,cv=4)\n",
    "    print(model.__class__.__name__, \"   \\tMean_score:\\t\", scores )"
   ]
  },
  {
   "cell_type": "code",
   "execution_count": 28,
   "metadata": {
    "collapsed": false
   },
   "outputs": [
    {
     "data": {
      "text/plain": [
       "-2.4209151477275719"
      ]
     },
     "execution_count": 28,
     "metadata": {},
     "output_type": "execute_result"
    }
   ],
   "source": [
    "model = models[1]\n",
    "model.fit(X.iloc[:30000,],y.iloc[:30000,])\n",
    "model.score(X.iloc[30000:,],y.iloc[30000:,])"
   ]
  },
  {
   "cell_type": "code",
   "execution_count": 29,
   "metadata": {
    "collapsed": false
   },
   "outputs": [
    {
     "data": {
      "text/plain": [
       "0.72621047643052028"
      ]
     },
     "execution_count": 29,
     "metadata": {},
     "output_type": "execute_result"
    }
   ],
   "source": [
    "model = models[1]\n",
    "model.fit(X,y)\n",
    "model.score(X,y)"
   ]
  },
  {
   "cell_type": "code",
   "execution_count": 30,
   "metadata": {
    "collapsed": false
   },
   "outputs": [
    {
     "data": {
      "text/html": [
       "<div>\n",
       "<table border=\"1\" class=\"dataframe\">\n",
       "  <thead>\n",
       "    <tr style=\"text-align: right;\">\n",
       "      <th></th>\n",
       "      <th>area</th>\n",
       "      <th>deposit</th>\n",
       "      <th>key_money</th>\n",
       "      <th>flooring</th>\n",
       "      <th>locality</th>\n",
       "      <th>buildings_height</th>\n",
       "      <th>parking</th>\n",
       "      <th>status</th>\n",
       "      <th>structure</th>\n",
       "      <th>transaction_type</th>\n",
       "      <th>...</th>\n",
       "      <th>status_4</th>\n",
       "      <th>transaction_type_1</th>\n",
       "      <th>transaction_type_2</th>\n",
       "      <th>transaction_type_3</th>\n",
       "      <th>transaction_type_4</th>\n",
       "      <th>transaction_type_5</th>\n",
       "      <th>transaction_type_6</th>\n",
       "      <th>bath_style_0</th>\n",
       "      <th>bath_style_1</th>\n",
       "      <th>bath_style_2</th>\n",
       "    </tr>\n",
       "  </thead>\n",
       "  <tbody>\n",
       "    <tr>\n",
       "      <th>32995</th>\n",
       "      <td>25.81</td>\n",
       "      <td>0</td>\n",
       "      <td>88500</td>\n",
       "      <td>1</td>\n",
       "      <td>5.0</td>\n",
       "      <td>10.0</td>\n",
       "      <td>0</td>\n",
       "      <td>4.0</td>\n",
       "      <td>4</td>\n",
       "      <td>1</td>\n",
       "      <td>...</td>\n",
       "      <td>1</td>\n",
       "      <td>1</td>\n",
       "      <td>0</td>\n",
       "      <td>0</td>\n",
       "      <td>0</td>\n",
       "      <td>0</td>\n",
       "      <td>0</td>\n",
       "      <td>0</td>\n",
       "      <td>0</td>\n",
       "      <td>1</td>\n",
       "    </tr>\n",
       "    <tr>\n",
       "      <th>23524</th>\n",
       "      <td>47.77</td>\n",
       "      <td>167000</td>\n",
       "      <td>334000</td>\n",
       "      <td>1</td>\n",
       "      <td>4.0</td>\n",
       "      <td>5.0</td>\n",
       "      <td>1</td>\n",
       "      <td>2.0</td>\n",
       "      <td>4</td>\n",
       "      <td>6</td>\n",
       "      <td>...</td>\n",
       "      <td>0</td>\n",
       "      <td>0</td>\n",
       "      <td>0</td>\n",
       "      <td>0</td>\n",
       "      <td>0</td>\n",
       "      <td>0</td>\n",
       "      <td>1</td>\n",
       "      <td>0</td>\n",
       "      <td>0</td>\n",
       "      <td>1</td>\n",
       "    </tr>\n",
       "    <tr>\n",
       "      <th>20819</th>\n",
       "      <td>20.00</td>\n",
       "      <td>69000</td>\n",
       "      <td>69000</td>\n",
       "      <td>1</td>\n",
       "      <td>1.0</td>\n",
       "      <td>3.0</td>\n",
       "      <td>0</td>\n",
       "      <td>2.0</td>\n",
       "      <td>10</td>\n",
       "      <td>6</td>\n",
       "      <td>...</td>\n",
       "      <td>0</td>\n",
       "      <td>0</td>\n",
       "      <td>0</td>\n",
       "      <td>0</td>\n",
       "      <td>0</td>\n",
       "      <td>0</td>\n",
       "      <td>1</td>\n",
       "      <td>0</td>\n",
       "      <td>0</td>\n",
       "      <td>1</td>\n",
       "    </tr>\n",
       "    <tr>\n",
       "      <th>44581</th>\n",
       "      <td>32.90</td>\n",
       "      <td>0</td>\n",
       "      <td>75000</td>\n",
       "      <td>1</td>\n",
       "      <td>1.0</td>\n",
       "      <td>2.0</td>\n",
       "      <td>1</td>\n",
       "      <td>4.0</td>\n",
       "      <td>10</td>\n",
       "      <td>6</td>\n",
       "      <td>...</td>\n",
       "      <td>1</td>\n",
       "      <td>0</td>\n",
       "      <td>0</td>\n",
       "      <td>0</td>\n",
       "      <td>0</td>\n",
       "      <td>0</td>\n",
       "      <td>1</td>\n",
       "      <td>0</td>\n",
       "      <td>0</td>\n",
       "      <td>0</td>\n",
       "    </tr>\n",
       "    <tr>\n",
       "      <th>22592</th>\n",
       "      <td>18.20</td>\n",
       "      <td>67000</td>\n",
       "      <td>0</td>\n",
       "      <td>1</td>\n",
       "      <td>2.0</td>\n",
       "      <td>4.0</td>\n",
       "      <td>0</td>\n",
       "      <td>2.0</td>\n",
       "      <td>4</td>\n",
       "      <td>3</td>\n",
       "      <td>...</td>\n",
       "      <td>0</td>\n",
       "      <td>0</td>\n",
       "      <td>0</td>\n",
       "      <td>1</td>\n",
       "      <td>0</td>\n",
       "      <td>0</td>\n",
       "      <td>0</td>\n",
       "      <td>0</td>\n",
       "      <td>0</td>\n",
       "      <td>1</td>\n",
       "    </tr>\n",
       "  </tbody>\n",
       "</table>\n",
       "<p>5 rows × 79 columns</p>\n",
       "</div>"
      ],
      "text/plain": [
       "        area  deposit  key_money  flooring  locality  buildings_height  \\\n",
       "32995  25.81        0      88500         1       5.0              10.0   \n",
       "23524  47.77   167000     334000         1       4.0               5.0   \n",
       "20819  20.00    69000      69000         1       1.0               3.0   \n",
       "44581  32.90        0      75000         1       1.0               2.0   \n",
       "22592  18.20    67000          0         1       2.0               4.0   \n",
       "\n",
       "       parking  status  structure  transaction_type      ...       status_4  \\\n",
       "32995        0     4.0          4                 1      ...              1   \n",
       "23524        1     2.0          4                 6      ...              0   \n",
       "20819        0     2.0         10                 6      ...              0   \n",
       "44581        1     4.0         10                 6      ...              1   \n",
       "22592        0     2.0          4                 3      ...              0   \n",
       "\n",
       "       transaction_type_1  transaction_type_2  transaction_type_3  \\\n",
       "32995                   1                   0                   0   \n",
       "23524                   0                   0                   0   \n",
       "20819                   0                   0                   0   \n",
       "44581                   0                   0                   0   \n",
       "22592                   0                   0                   1   \n",
       "\n",
       "       transaction_type_4  transaction_type_5  transaction_type_6  \\\n",
       "32995                   0                   0                   0   \n",
       "23524                   0                   0                   1   \n",
       "20819                   0                   0                   1   \n",
       "44581                   0                   0                   1   \n",
       "22592                   0                   0                   0   \n",
       "\n",
       "       bath_style_0  bath_style_1  bath_style_2  \n",
       "32995             0             0             1  \n",
       "23524             0             0             1  \n",
       "20819             0             0             1  \n",
       "44581             0             0             0  \n",
       "22592             0             0             1  \n",
       "\n",
       "[5 rows x 79 columns]"
      ]
     },
     "execution_count": 30,
     "metadata": {},
     "output_type": "execute_result"
    }
   ],
   "source": [
    "X.iloc[:20000,].head()"
   ]
  },
  {
   "cell_type": "code",
   "execution_count": null,
   "metadata": {
    "collapsed": true
   },
   "outputs": [],
   "source": []
  }
 ],
 "metadata": {
  "anaconda-cloud": {},
  "kernelspec": {
   "display_name": "Python [Root]",
   "language": "python",
   "name": "Python [Root]"
  },
  "language_info": {
   "codemirror_mode": {
    "name": "ipython",
    "version": 3
   },
   "file_extension": ".py",
   "mimetype": "text/x-python",
   "name": "python",
   "nbconvert_exporter": "python",
   "pygments_lexer": "ipython3",
   "version": "3.5.2"
  }
 },
 "nbformat": 4,
 "nbformat_minor": 0
}
