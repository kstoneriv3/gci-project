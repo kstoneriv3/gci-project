{
 "cells": [
  {
   "cell_type": "code",
   "execution_count": 46,
   "metadata": {},
   "outputs": [],
   "source": [
    "import pandas as pd\n",
    "import re\n",
    "from sqlalchemy import create_engine\n",
    "import pickle\n",
    "from xml.etree import ElementTree as ET"
   ]
  },
  {
   "cell_type": "code",
   "execution_count": 3,
   "metadata": {
    "collapsed": true
   },
   "outputs": [],
   "source": [
    "# データベースの情報\n",
    "server = 'gciteam16.database.windows.net'\n",
    "database = 'mynavi-database'\n",
    "username = 'gciteam16'\n",
    "password = 'Password0'\n",
    "port =1433"
   ]
  },
  {
   "cell_type": "code",
   "execution_count": 4,
   "metadata": {
    "collapsed": true
   },
   "outputs": [],
   "source": [
    "# 接続エンジンの作成\n",
    "engine_config = \"?driver=ODBC+Driver+13+for+SQL+Server?charset=shift-jis\"\n",
    "db_settings = {\n",
    "    \"host\": server,\n",
    "    \"database\": database,\n",
    "    \"user\": username,\n",
    "    \"password\": password,\n",
    "    \"port\":port,\n",
    "    \"config_query\":engine_config\n",
    "}\n",
    "engine = create_engine('mssql+pyodbc://{user}:{password}@{host}:{port}/{database}{config_query}'.format(**db_settings))"
   ]
  },
  {
   "cell_type": "code",
   "execution_count": 8,
   "metadata": {
    "scrolled": false
   },
   "outputs": [],
   "source": [
    "#data = pd.read_csv(\"../../gci_project_storage/mynavi_data.csv\", encoding=\"SHIFT-JIS\")\n",
    "query = \"SELECT * FROM raw_data_table\"\n",
    "#data = pd.read_sql_query(query,engine)\n",
    "\n",
    "query = \"SELECT * FROM address_master\"\n",
    "#address_master = pd.read_sql_query(query,engine)\n",
    "\n",
    "query = \"SELECT * FROM station_master\"\n",
    "#address_master = pd.read_sql_query(query,engine)\n"
   ]
  },
  {
   "cell_type": "code",
   "execution_count": 7,
   "metadata": {
    "scrolled": false
   },
   "outputs": [
    {
     "data": {
      "text/plain": [
       "(46469, 110)"
      ]
     },
     "execution_count": 7,
     "metadata": {},
     "output_type": "execute_result"
    }
   ],
   "source": [
    "data.shape"
   ]
  },
  {
   "cell_type": "markdown",
   "metadata": {},
   "source": [
    "# 目次：\n",
    "<br>\n",
    "・緯度経度の追加<br>\n",
    "・近所の施設⽬での距離を取得<br>\n",
    "・間取り情報の抽出<br>\n",
    "・⽋損値にフラグを⽴てて、使えるデータに変換<br>\n",
    "・CSVファイル(mynavi_data2.csv)に落とす<br>"
   ]
  },
  {
   "cell_type": "markdown",
   "metadata": {},
   "source": [
    "<h3>緯度経度の追加"
   ]
  },
  {
   "cell_type": "code",
   "execution_count": 56,
   "metadata": {
    "collapsed": true
   },
   "outputs": [],
   "source": [
    "get_lat_from_address = lambda address:list(address_master.latitude [address_master.address==address])[0]\n",
    "get_lng_from_address = lambda address:list(address_master.longitude[address_master.address==address])[0]"
   ]
  },
  {
   "cell_type": "code",
   "execution_count": 57,
   "metadata": {},
   "outputs": [],
   "source": [
    "data_lat = data.address.apply(get_lat_from_address)\n",
    "data_lng = data.address.apply(get_lng_from_address)"
   ]
  },
  {
   "cell_type": "code",
   "execution_count": 65,
   "metadata": {},
   "outputs": [],
   "source": [
    "import math\n",
    "with open('../../gci_project_storage/result_list_missed.pickle', mode='wb') as f:\n",
    "    pickle.dump(data.address[data_lat.apply(math.isnan)].unique(), f)"
   ]
  },
  {
   "cell_type": "code",
   "execution_count": 74,
   "metadata": {},
   "outputs": [
    {
     "name": "stdout",
     "output_type": "stream",
     "text": [
      "0\n",
      "711\n",
      "693\n",
      "439\n",
      "546\n"
     ]
    }
   ],
   "source": [
    "print(data_address.iloc[0:1000,2].apply(math.isnan).sum())\n",
    "print(data_address.iloc[1000:2000,2].apply(math.isnan).sum())\n",
    "print(data_address.iloc[2000:4000,2].apply(math.isnan).sum())\n",
    "print(data_address.iloc[5000:6400,2].apply(math.isnan).sum())\n",
    "print(data_address.iloc[6400:,2].apply(math.isnan).sum())"
   ]
  },
  {
   "cell_type": "code",
   "execution_count": 35,
   "metadata": {
    "collapsed": true
   },
   "outputs": [],
   "source": [
    "data_address = pd.read_csv('../../gci_project_storage/data_address.csv', encoding=\"SHIFT-JIS\")[[\"address\",\"longitude\",\"latitude\"]]"
   ]
  },
  {
   "cell_type": "code",
   "execution_count": 52,
   "metadata": {
    "scrolled": true
   },
   "outputs": [
    {
     "data": {
      "text/plain": [
       "b'<?xml version=\"1.0\" encoding=\"UTF-8\"?>\\n<GeocodeResponse>\\n <status>OVER_QUERY_LIMIT</status>\\n <error_message>You have exceeded your daily request quota for this API. We recommend registering for a key at the Google Developers Console: https://console.developers.google.com/apis/credentials?project=_</error_message>\\n</GeocodeResponse>\\n'"
      ]
     },
     "execution_count": 52,
     "metadata": {},
     "output_type": "execute_result"
    }
   ],
   "source": [
    "data.address[2858]\n",
    "whole_geocoding_data[2858]"
   ]
  },
  {
   "cell_type": "markdown",
   "metadata": {},
   "source": [
    "<h3>近所の施設⽬での距離を取得"
   ]
  },
  {
   "cell_type": "code",
   "execution_count": 4,
   "metadata": {
    "scrolled": false
   },
   "outputs": [
    {
     "data": {
      "text/plain": [
       "array(['幼稚園・保育園', '小学校', '学校', 'コンビニ', 'スーパー', '郵便局', '図書館', 'その他',\n",
       "       'ドラッグストア', '飲食店', '銀行', '総合病院', '病院', '公園', '大学', 'レンタルビデオ',\n",
       "       'クリーニング', 'デパート', 'コインパーキング', '駒込駅', '11', '6／19オープン', '1／30オープン',\n",
       "       '両国内科皮膚科整形外科', '5／17オープン', '4／7オープン', '7／23オープン', '9／30オープン',\n",
       "       '5／20オープン', '6／17オープン', '5／19オープン', '8／18オープン', '8／23オープン', '月極駐車場',\n",
       "       '4／22オープン', '3／31オープン', '3／29オープン', '6／9オープン', '5／15オープン',\n",
       "       '2／22オープン', '大泉学園駅', '3／25オープン'], dtype=object)"
      ]
     },
     "execution_count": 4,
     "metadata": {},
     "output_type": "execute_result"
    }
   ],
   "source": [
    "#近所の施設の一覧\n",
    "get_facilities = lambda x:re.findall(\"【(\\S+?)】\",x)\n",
    "all_facilities = []\n",
    "for facility in data.surroundings.dropna().apply(get_facilities):\n",
    "    all_facilities += facility\n",
    "pd.Series(all_facilities).unique()"
   ]
  },
  {
   "cell_type": "code",
   "execution_count": 5,
   "metadata": {
    "scrolled": true
   },
   "outputs": [
    {
     "data": {
      "text/plain": [
       "'【幼稚園・保育園】弓町本郷幼稚園(650m)【小学校】区立本郷小学校(750m)【学校】私立桜蔭中学校(870m)【コンビニ】ローソン(160m)【スーパー】グルメシティ(610m)【郵便局】春日郵便局(500m)【図書館】真砂図書館(810m)【その他】東京大学本郷キャンパス(1100m)'"
      ]
     },
     "execution_count": 5,
     "metadata": {},
     "output_type": "execute_result"
    }
   ],
   "source": [
    "facilities = ['幼稚園・保育園', '小学校', '学校', 'コンビニ', 'スーパー', '郵便局', '図書館',\n",
    "       'ドラッグストア', '飲食店', '銀行', '総合病院', '病院', '公園', '大学', 'レンタルビデオ',\n",
    "       'クリーニング', 'デパート']\n",
    "new_colnames = ['kindergarten', 'elementary_school', 'school', 'convenient_store', 'super_market', 'post_office', 'library',\n",
    "       'drug_store', 'restaurant', 'bank', 'general_hospital', 'hospital', 'park', 'university', 'rental_video',\n",
    "       'cleaning_shop', 'department_store']\n",
    "data.surroundings[0]"
   ]
  },
  {
   "cell_type": "code",
   "execution_count": 6,
   "metadata": {},
   "outputs": [
    {
     "data": {
      "text/plain": [
       "650"
      ]
     },
     "execution_count": 6,
     "metadata": {},
     "output_type": "execute_result"
    }
   ],
   "source": [
    "#施設までの距離を取得する関数\n",
    "get_distance = lambda facility, text: int(re.findall(\"【\"+facility+\"】\\S+?\\(([0-9]+)m\",text)[0]) if len(re.findall(\"【\"+facility+\"】\\S+?\\(([0-9]+)m\",text))==1 else None\n",
    "get_distance(facilities[0], data.surroundings[0])"
   ]
  },
  {
   "cell_type": "code",
   "execution_count": 7,
   "metadata": {},
   "outputs": [],
   "source": [
    "#施設までの距離を持った新しいデータフレーム作成\n",
    "df_new = pd.DataFrame(index=data.index, columns=new_colnames)\n",
    "\n",
    "#数字を実際に取得して埋める\n",
    "for facility,colname in zip(facilities, new_colnames):\n",
    "    get_distance_fac = lambda text: get_distance(facility, text)\n",
    "    df_new[colname][data.surroundings.isnull()==False] = data[data.surroundings.isnull()==False].surroundings.apply(get_distance_fac)"
   ]
  },
  {
   "cell_type": "code",
   "execution_count": 8,
   "metadata": {
    "scrolled": true
   },
   "outputs": [
    {
     "data": {
      "text/html": [
       "<div>\n",
       "<table border=\"1\" class=\"dataframe\">\n",
       "  <thead>\n",
       "    <tr style=\"text-align: right;\">\n",
       "      <th></th>\n",
       "      <th>kindergarten</th>\n",
       "      <th>elementary_school</th>\n",
       "      <th>school</th>\n",
       "      <th>convenient_store</th>\n",
       "      <th>super_market</th>\n",
       "      <th>post_office</th>\n",
       "      <th>library</th>\n",
       "      <th>drug_store</th>\n",
       "      <th>restaurant</th>\n",
       "      <th>bank</th>\n",
       "      <th>general_hospital</th>\n",
       "      <th>hospital</th>\n",
       "      <th>park</th>\n",
       "      <th>university</th>\n",
       "      <th>rental_video</th>\n",
       "      <th>cleaning_shop</th>\n",
       "      <th>department_store</th>\n",
       "    </tr>\n",
       "  </thead>\n",
       "  <tbody>\n",
       "    <tr>\n",
       "      <th>0</th>\n",
       "      <td>650</td>\n",
       "      <td>750</td>\n",
       "      <td>870</td>\n",
       "      <td>160</td>\n",
       "      <td>610</td>\n",
       "      <td>500</td>\n",
       "      <td>810</td>\n",
       "      <td>NaN</td>\n",
       "      <td>NaN</td>\n",
       "      <td>NaN</td>\n",
       "      <td>NaN</td>\n",
       "      <td>NaN</td>\n",
       "      <td>NaN</td>\n",
       "      <td>NaN</td>\n",
       "      <td>NaN</td>\n",
       "      <td>NaN</td>\n",
       "      <td>NaN</td>\n",
       "    </tr>\n",
       "    <tr>\n",
       "      <th>1</th>\n",
       "      <td>NaN</td>\n",
       "      <td>NaN</td>\n",
       "      <td>NaN</td>\n",
       "      <td>NaN</td>\n",
       "      <td>232</td>\n",
       "      <td>990</td>\n",
       "      <td>1333</td>\n",
       "      <td>NaN</td>\n",
       "      <td>1122</td>\n",
       "      <td>NaN</td>\n",
       "      <td>NaN</td>\n",
       "      <td>NaN</td>\n",
       "      <td>NaN</td>\n",
       "      <td>NaN</td>\n",
       "      <td>NaN</td>\n",
       "      <td>NaN</td>\n",
       "      <td>NaN</td>\n",
       "    </tr>\n",
       "    <tr>\n",
       "      <th>2</th>\n",
       "      <td>NaN</td>\n",
       "      <td>NaN</td>\n",
       "      <td>NaN</td>\n",
       "      <td>NaN</td>\n",
       "      <td>NaN</td>\n",
       "      <td>990</td>\n",
       "      <td>NaN</td>\n",
       "      <td>NaN</td>\n",
       "      <td>NaN</td>\n",
       "      <td>1039</td>\n",
       "      <td>NaN</td>\n",
       "      <td>539</td>\n",
       "      <td>NaN</td>\n",
       "      <td>NaN</td>\n",
       "      <td>NaN</td>\n",
       "      <td>NaN</td>\n",
       "      <td>NaN</td>\n",
       "    </tr>\n",
       "    <tr>\n",
       "      <th>3</th>\n",
       "      <td>NaN</td>\n",
       "      <td>NaN</td>\n",
       "      <td>NaN</td>\n",
       "      <td>NaN</td>\n",
       "      <td>NaN</td>\n",
       "      <td>830</td>\n",
       "      <td>NaN</td>\n",
       "      <td>NaN</td>\n",
       "      <td>1122</td>\n",
       "      <td>1039</td>\n",
       "      <td>NaN</td>\n",
       "      <td>NaN</td>\n",
       "      <td>NaN</td>\n",
       "      <td>NaN</td>\n",
       "      <td>NaN</td>\n",
       "      <td>NaN</td>\n",
       "      <td>NaN</td>\n",
       "    </tr>\n",
       "    <tr>\n",
       "      <th>4</th>\n",
       "      <td>NaN</td>\n",
       "      <td>407</td>\n",
       "      <td>223</td>\n",
       "      <td>265</td>\n",
       "      <td>509</td>\n",
       "      <td>NaN</td>\n",
       "      <td>NaN</td>\n",
       "      <td>NaN</td>\n",
       "      <td>NaN</td>\n",
       "      <td>NaN</td>\n",
       "      <td>NaN</td>\n",
       "      <td>NaN</td>\n",
       "      <td>NaN</td>\n",
       "      <td>NaN</td>\n",
       "      <td>NaN</td>\n",
       "      <td>NaN</td>\n",
       "      <td>NaN</td>\n",
       "    </tr>\n",
       "  </tbody>\n",
       "</table>\n",
       "</div>"
      ],
      "text/plain": [
       "  kindergarten elementary_school school convenient_store super_market  \\\n",
       "0          650               750    870              160          610   \n",
       "1          NaN               NaN    NaN              NaN          232   \n",
       "2          NaN               NaN    NaN              NaN          NaN   \n",
       "3          NaN               NaN    NaN              NaN          NaN   \n",
       "4          NaN               407    223              265          509   \n",
       "\n",
       "  post_office library drug_store restaurant  bank general_hospital hospital  \\\n",
       "0         500     810        NaN        NaN   NaN              NaN      NaN   \n",
       "1         990    1333        NaN       1122   NaN              NaN      NaN   \n",
       "2         990     NaN        NaN        NaN  1039              NaN      539   \n",
       "3         830     NaN        NaN       1122  1039              NaN      NaN   \n",
       "4         NaN     NaN        NaN        NaN   NaN              NaN      NaN   \n",
       "\n",
       "  park university rental_video cleaning_shop department_store  \n",
       "0  NaN        NaN          NaN           NaN              NaN  \n",
       "1  NaN        NaN          NaN           NaN              NaN  \n",
       "2  NaN        NaN          NaN           NaN              NaN  \n",
       "3  NaN        NaN          NaN           NaN              NaN  \n",
       "4  NaN        NaN          NaN           NaN              NaN  "
      ]
     },
     "execution_count": 8,
     "metadata": {},
     "output_type": "execute_result"
    }
   ],
   "source": [
    "df_new.head()"
   ]
  },
  {
   "cell_type": "code",
   "execution_count": 9,
   "metadata": {},
   "outputs": [
    {
     "data": {
      "text/plain": [
       "(46469, 127)"
      ]
     },
     "execution_count": 9,
     "metadata": {},
     "output_type": "execute_result"
    }
   ],
   "source": [
    "#横結合で、元のデータフレームを拡張\n",
    "data = pd.concat([data, df_new], axis=1)\n",
    "data.shape"
   ]
  },
  {
   "cell_type": "markdown",
   "metadata": {},
   "source": [
    "<h3>間取り情報の抽出"
   ]
  },
  {
   "cell_type": "code",
   "execution_count": 10,
   "metadata": {
    "scrolled": false
   },
   "outputs": [
    {
     "data": {
      "text/plain": [
       "array(['1K', '1LDK', '1R', '2DK', '2LDK', '2K', '1DK', '2LDK+S(納戸)',\n",
       "       '3LDK', '4LDK', '3DK', '1LDK+S(納戸)', '8K', '3DK+S(納戸)', '2DK+S(納戸)',\n",
       "       '3K+S(納戸)', '5LDK', '1K+S(納戸)', '1DK+S(納戸)', '3LDK+S(納戸)',\n",
       "       '4LDK+S(納戸)', '3K', '5LDK+S(納戸)', '6LDK+S(納戸)', '6DK', '4DK+S(納戸)',\n",
       "       '5DK', '4DK', '2K+S(納戸)', '6LDK', '36LK', '2R', '1LK', '5DK+S(納戸)',\n",
       "       '5K', '7LDK', '4K'], dtype=object)"
      ]
     },
     "execution_count": 10,
     "metadata": {},
     "output_type": "execute_result"
    }
   ],
   "source": [
    "data.layout.unique()"
   ]
  },
  {
   "cell_type": "code",
   "execution_count": 11,
   "metadata": {},
   "outputs": [
    {
     "data": {
      "text/plain": [
       "(True, 4)"
      ]
     },
     "execution_count": 11,
     "metadata": {},
     "output_type": "execute_result"
    }
   ],
   "source": [
    "#情報を抽出する関数\n",
    "has_K = lambda text: re.findall(\"K\",text)!=None\n",
    "has_L = lambda text: re.findall(\"L\",text)!=None\n",
    "has_D = lambda text: re.findall(\"D\",text)!=None\n",
    "has_S = lambda text: re.findall(\"S\",text)!=None\n",
    "get_Num_Rooms = lambda text: int(re.findall(\"[0-9]+\",text)[0])\n",
    "\n",
    "has_K('1K'),get_Num_Rooms('4LDK+S(納戸)')"
   ]
  },
  {
   "cell_type": "code",
   "execution_count": 12,
   "metadata": {},
   "outputs": [],
   "source": [
    "#追加したいカラム名\n",
    "new_colnames = [\"has_K\",\"has_L\",\"has_D\",\"has_S\",\"the_number_of_rooms\"]\n",
    "\n",
    "#間取りの情報を持った新しいデータフレーム作成\n",
    "df_new = pd.DataFrame(index=data.index, columns=new_colnames)\n",
    "\n",
    "#数字を実際に取得して埋める\n",
    "df_new[\"has_K\"][data.layout.isnull()==False] = data[data.layout.isnull()==False].layout.apply(has_K)\n",
    "df_new[\"has_L\"][data.layout.isnull()==False] = data[data.layout.isnull()==False].layout.apply(has_L)\n",
    "df_new[\"has_D\"][data.layout.isnull()==False] = data[data.layout.isnull()==False].layout.apply(has_D)\n",
    "df_new[\"has_S\"][data.layout.isnull()==False] = data[data.layout.isnull()==False].layout.apply(has_S)\n",
    "df_new[\"the_number_of_rooms\"][data.layout.isnull()==False] = data[data.layout.isnull()==False].layout.apply(get_Num_Rooms)\n"
   ]
  },
  {
   "cell_type": "code",
   "execution_count": 13,
   "metadata": {},
   "outputs": [
    {
     "data": {
      "text/plain": [
       "(46469, 132)"
      ]
     },
     "execution_count": 13,
     "metadata": {},
     "output_type": "execute_result"
    }
   ],
   "source": [
    "#横結合で、元のデータフレームを拡張\n",
    "data = pd.concat([data, df_new], axis=1)\n",
    "data.shape"
   ]
  },
  {
   "cell_type": "markdown",
   "metadata": {},
   "source": [
    "<h3>⽋損値にフラグを⽴てて、使えるデータに変換"
   ]
  },
  {
   "cell_type": "code",
   "execution_count": 14,
   "metadata": {},
   "outputs": [
    {
     "data": {
      "text/plain": [
       "46"
      ]
     },
     "execution_count": 14,
     "metadata": {},
     "output_type": "execute_result"
    }
   ],
   "source": [
    "#欠損してる説明変数一覧：\n",
    "null_colnames = pd.Series([\n",
    "     \"locality\"         ,\"buildings_height\"    ,\"buildings_undergrand\" ,\"total_units\"\n",
    "    ,\"balcony\"          ,\"shower\"              ,\"bath_drier\"           ,\"washlet\"\n",
    "    ,\"toilet_style\"     ,\"bathhouse\"           ,\"water_heater\"         ,\"system_kitchen\"\n",
    "    ,\"counter_kitchen\"  ,\"independent_kitchen\" ,\"L_kitchen\"            ,\"refrigerator\" \n",
    "    ,\"gas_stove\"        ,\"IH_stove\"            ,\"electric_stove\"       ,\"stove_num\"\n",
    "    ,\"office\"           ,\"instrument\"          ,\"togather\"             ,\"share\"\n",
    "    ,\"foreigner\"        ,\"pet\"                 ,\"male\"                 ,\"female\"\n",
    "    , \"kindergarten\"    ,\"elementary_school\"   ,\"school\"               ,\"convenient_store\"\n",
    "    ,\"super_market\"     ,\"post_office\"         ,\"library\"              ,\"drug_store\"\n",
    "    ,\"restaurant\"       ,\"bank\"                ,\"general_hospital\"     ,\"hospital\"\n",
    "    ,\"park\"             ,\"university\"          ,\"rental_video\"         ,\"cleaning_shop\"\n",
    "    ,\"department_store\" ,\"the_number_of_rooms\"\n",
    "])\n",
    "len(null_colnames)"
   ]
  },
  {
   "cell_type": "code",
   "execution_count": 15,
   "metadata": {},
   "outputs": [],
   "source": [
    "#欠損地にフラグを立ててカラムを追加\n",
    "data[\"isNull_\" + null_colnames] = data[null_colnames].isnull()"
   ]
  },
  {
   "cell_type": "code",
   "execution_count": 16,
   "metadata": {},
   "outputs": [
    {
     "data": {
      "text/plain": [
       "(46469, 178)"
      ]
     },
     "execution_count": 16,
     "metadata": {},
     "output_type": "execute_result"
    }
   ],
   "source": [
    "data.shape"
   ]
  },
  {
   "cell_type": "code",
   "execution_count": 17,
   "metadata": {},
   "outputs": [],
   "source": [
    "data[null_colnames + \"_Null_to_Zero\"] = data[null_colnames].fillna(0)"
   ]
  },
  {
   "cell_type": "code",
   "execution_count": 18,
   "metadata": {
    "scrolled": true
   },
   "outputs": [
    {
     "data": {
      "text/plain": [
       "(46469, 224)"
      ]
     },
     "execution_count": 18,
     "metadata": {},
     "output_type": "execute_result"
    }
   ],
   "source": [
    "data.shape"
   ]
  },
  {
   "cell_type": "markdown",
   "metadata": {},
   "source": [
    "<h3>最寄駅情報の抽出"
   ]
  },
  {
   "cell_type": "code",
   "execution_count": null,
   "metadata": {
    "collapsed": true
   },
   "outputs": [],
   "source": [
    "# 駅名と徒歩何分かを取得する関数\n",
    "remove_bracket = lambda text :re.sub(u'\\(.+?\\)','',re.sub(u'（.+?）', '',re.sub(u'「」', '',text))) \n",
    "remove_question_mark = lambda text :re.sub(u'\\?','',text)\n",
    "remove_noise = lambda text:remove_bracket(remove_question_mark(text))\n",
    "remove_dot = lambda text :re.sub(u'・.+?線','',text)#\"・中央線東京駅\"みたいなのを除く\n",
    "\n",
    "get_station_info_0 = lambda text: (\n",
    "    re.findall(u\"線(\\S+?駅).*?徒歩([0-9]+?)分\", remove_noise(text)) \n",
    "    + re.findall(u\"ライン(\\S+?駅).*?徒歩([0-9]+?)分\", remove_noise(text)) \n",
    "    + re.findall(u\"ライナー(\\S+?駅).*?徒歩([0-9]+?)分\", remove_noise(text))\n",
    ")\n",
    "get_station_info = lambda text:{remove_dot(t[0]):int(t[1]) for t in get_station_info_0(text)} if len(get_station_info_0(text)) > 0 else {}\n",
    "get_station_name = lambda text:[remove_dot(t[0]) for t in get_station_info_0(text)] if len(get_station_info_0(text)) > 0 else []\n",
    "station_names = []\n",
    "\n",
    "# 駅の総数を調べる\n",
    "count_no_st = 0\n",
    "for text in data.traffic:\n",
    "    station_names += get_station_name(text)\n",
    "    if(len(get_station_name(text))==0):\n",
    "        count_no_st += 1\n",
    "station_names = pd.Series(pd.Series(station_names).unique())\n",
    "\n",
    "print(\"# Station : {}\".format(len(station_names)))\n",
    "print(\"# Rental Without Station : {}\".format(count_no_st)) #＜-徒歩でなく、バスで移動の物件はNoneが返り値"
   ]
  },
  {
   "cell_type": "code",
   "execution_count": null,
   "metadata": {
    "collapsed": true
   },
   "outputs": [],
   "source": [
    "station_info = data.traffic.apply(get_station_info)"
   ]
  },
  {
   "cell_type": "code",
   "execution_count": null,
   "metadata": {
    "collapsed": true
   },
   "outputs": [],
   "source": [
    "# 近くの駅までの所要時間の逆数のデータフレーム（説明変数に使う）\n",
    "df_new = pd.DataFrame(index=data.index, columns=station_names).astype(np.float)\n",
    "\n",
    "# 駅ごとにそれらを求める関数(徒歩0分の場合は、inverse:=2とした)\n",
    "get_inverse_dist_to_st = lambda arg_dict, st_name : (1.0/arg_dict[st_name] if arg_dict[st_name]!=0 else 2) if st_name in arg_dict.keys() else 0"
   ]
  },
  {
   "cell_type": "code",
   "execution_count": null,
   "metadata": {
    "collapsed": true
   },
   "outputs": [],
   "source": [
    "for st_name in station_names:\n",
    "    this_st = st_name\n",
    "    get_inverse_dist_to_this_st = lambda arg_dict: get_inverse_dist_to_st(arg_dict ,this_st)\n",
    "    df_new[st_name] = station_info.apply(get_inverse_dist_to_this_st)"
   ]
  },
  {
   "cell_type": "markdown",
   "metadata": {},
   "source": [
    "<h3>CSVファイル(mynavi_data2.csv)に落とす"
   ]
  },
  {
   "cell_type": "code",
   "execution_count": 23,
   "metadata": {},
   "outputs": [],
   "source": [
    "# data.to_csv(\"../../gci_project_storage/mynavi_data2.csv\", sep=\",\", encoding=\"UTF-8\")\n",
    "# 上手くいかないのでpickle\n",
    "import pickle\n",
    "with open('../../gci_project_storage/data.pickle', mode='wb') as f:\n",
    "     pickle.dump(data, f)"
   ]
  },
  {
   "cell_type": "code",
   "execution_count": null,
   "metadata": {
    "collapsed": true
   },
   "outputs": [],
   "source": []
  }
 ],
 "metadata": {
  "anaconda-cloud": {},
  "kernelspec": {
   "display_name": "Python [conda env:py35]",
   "language": "python",
   "name": "conda-env-py35-py"
  },
  "language_info": {
   "codemirror_mode": {
    "name": "ipython",
    "version": 3
   },
   "file_extension": ".py",
   "mimetype": "text/x-python",
   "name": "python",
   "nbconvert_exporter": "python",
   "pygments_lexer": "ipython3",
   "version": "3.5.4"
  }
 },
 "nbformat": 4,
 "nbformat_minor": 1
}
