{
 "cells": [
  {
   "cell_type": "code",
   "execution_count": 29,
   "metadata": {
    "collapsed": true
   },
   "outputs": [],
   "source": [
    "import pandas as pd\n",
    "import numpy as np\n",
    "import math\n",
    "import re\n",
    "import urllib\n",
    "import xml.etree.ElementTree as ET\n",
    "from sqlalchemy import create_engine\n",
    "from xml.etree import ElementTree as ET\n",
    "import pickle\n",
    "import pyodbc"
   ]
  },
  {
   "cell_type": "code",
   "execution_count": 30,
   "metadata": {
    "collapsed": true
   },
   "outputs": [],
   "source": [
    "# データベースの情報\n",
    "server = 'gciteam16.database.windows.net'\n",
    "database = 'mynavi-database'\n",
    "username = 'gciteam16'\n",
    "password = 'Password0'\n",
    "port =1433"
   ]
  },
  {
   "cell_type": "code",
   "execution_count": 31,
   "metadata": {
    "collapsed": true
   },
   "outputs": [],
   "source": [
    "# 接続エンジンの作成\n",
    "engine_config = \"?driver=ODBC+Driver+13+for+SQL+Server?charset=shift-jis\"\n",
    "db_settings = {\n",
    "    \"host\": server,\n",
    "    \"database\": database,\n",
    "    \"user\": username,\n",
    "    \"password\": password,\n",
    "    \"port\":port,\n",
    "    \"config_query\":engine_config\n",
    "}\n",
    "engine = create_engine('mssql+pyodbc://{user}:{password}@{host}:{port}/{database}{config_query}'.format(**db_settings))"
   ]
  },
  {
   "cell_type": "code",
   "execution_count": 32,
   "metadata": {
    "collapsed": true,
    "scrolled": false
   },
   "outputs": [],
   "source": [
    "#data = pd.read_csv(\"../../gci_project_storage/mynavi_data.csv\", encoding=\"SHIFT-JIS\")\n",
    "query = \"SELECT TOP 1 * FROM raw_data_table\"\n",
    "data = pd.read_sql_query(query,engine)"
   ]
  },
  {
   "cell_type": "code",
   "execution_count": 33,
   "metadata": {
    "collapsed": false,
    "scrolled": false
   },
   "outputs": [
    {
     "data": {
      "text/plain": [
       "(1, 110)"
      ]
     },
     "execution_count": 33,
     "metadata": {},
     "output_type": "execute_result"
    }
   ],
   "source": [
    "data.shape"
   ]
  },
  {
   "cell_type": "markdown",
   "metadata": {},
   "source": [
    "# 目次：\n",
    "<br>\n",
    "・緯度経度の追加<br>\n",
    "・築年数（築年）の取得\n",
    "・近所の施設⽬での距離を取得<br>\n",
    "・間取り情報の抽出<br>\n",
    "・⽋損値にフラグを⽴てて、使えるデータに変換<br>\n",
    "・CSVファイル(mynavi_data2.csv)に落とす<br>"
   ]
  },
  {
   "cell_type": "markdown",
   "metadata": {},
   "source": [
    "<h3>緯度経度の追加"
   ]
  },
  {
   "cell_type": "code",
   "execution_count": 34,
   "metadata": {
    "collapsed": false
   },
   "outputs": [
    {
     "data": {
      "text/plain": [
       "0    東京都世田谷区千歳台４丁目\n",
       "Name: address, dtype: object"
      ]
     },
     "execution_count": 34,
     "metadata": {},
     "output_type": "execute_result"
    }
   ],
   "source": [
    "data.address"
   ]
  },
  {
   "cell_type": "code",
   "execution_count": 35,
   "metadata": {
    "collapsed": false
   },
   "outputs": [
    {
     "name": "stdout",
     "output_type": "stream",
     "text": [
      "Retrieving http://maps.googleapis.com/maps/api/geocode/xml?sensor=false&address=%E6%9D%B1%E4%BA%AC%E9%83%BD%E4%B8%96%E7%94%B0%E8%B0%B7%E5%8C%BA%E5%8D%83%E6%AD%B3%E5%8F%B0%EF%BC%94%E4%B8%81%E7%9B%AE\n",
      "139.6130194 35.6572672 4 Chome Chitosedai, Setagaya-ku, Tōkyō-to 157-0071, Japan\n"
     ]
    }
   ],
   "source": [
    "serviceurl = 'http://maps.googleapis.com/maps/api/geocode/xml?'\n",
    "\n",
    "address = data.address[0].encode(\"utf-8\")\n",
    "url = serviceurl + urllib.parse.urlencode({u'sensor':u'false', u'address': address})\n",
    "print ('Retrieving', url)\n",
    "uh = urllib.request.urlopen(url)\n",
    "text = uh.read()\n",
    "tree = ET.fromstring(text)\n",
    "\n",
    "if tree.findall(\"status\")[0].text!='OK':\n",
    "    print(\"Geocoding Failed.\")\n",
    "results = tree.findall('result')\n",
    "lat = float( results[0].find('geometry').find('location').find('lat').text )\n",
    "lng = float( results[0].find('geometry').find('location').find('lng').text )\n",
    "location = results[0].find('formatted_address').text\n",
    "\n",
    "print(lng,lat,location)"
   ]
  },
  {
   "cell_type": "code",
   "execution_count": 36,
   "metadata": {
    "collapsed": true
   },
   "outputs": [],
   "source": [
    "data[\"address_lat\"] = pd.Series([lat])\n",
    "data[\"address_lng\"] = pd.Series([lng])"
   ]
  },
  {
   "cell_type": "markdown",
   "metadata": {},
   "source": [
    "<h3>築年数（築年）の取得"
   ]
  },
  {
   "cell_type": "code",
   "execution_count": 37,
   "metadata": {
    "collapsed": true
   },
   "outputs": [],
   "source": [
    "get_year_build = lambda date:int(re.findall(\"([0-9]+)年[0-9]+月\",date)[0]) if len( re.findall(\"([0-9]+)年[0-9]+月\",date) )>0 else None"
   ]
  },
  {
   "cell_type": "code",
   "execution_count": 38,
   "metadata": {
    "collapsed": false
   },
   "outputs": [
    {
     "data": {
      "text/plain": [
       "0"
      ]
     },
     "execution_count": 38,
     "metadata": {},
     "output_type": "execute_result"
    }
   ],
   "source": [
    "data[\"year_built\"] = data.date.apply(get_year_build)\n",
    "sum( data.year_built.apply(math.isnan) )"
   ]
  },
  {
   "cell_type": "code",
   "execution_count": 39,
   "metadata": {
    "collapsed": false
   },
   "outputs": [],
   "source": [
    "# 築年のないログ（9個）を削除\n",
    "if data.year_built.apply(math.isnan)[0]:\n",
    "    print(\"built year not found\")"
   ]
  },
  {
   "cell_type": "markdown",
   "metadata": {},
   "source": [
    "<h3>近所の施設⽬での距離を取得"
   ]
  },
  {
   "cell_type": "code",
   "execution_count": 40,
   "metadata": {
    "collapsed": false,
    "scrolled": true
   },
   "outputs": [
    {
     "data": {
      "text/plain": [
       "'【小学校】船橋小学校(348m)【学校】船橋中学校(410m)【コンビニ】コンビニ(441m)【スーパー】スーパー(490m)'"
      ]
     },
     "execution_count": 40,
     "metadata": {},
     "output_type": "execute_result"
    }
   ],
   "source": [
    "facilities = ['幼稚園・保育園', '小学校', '学校', 'コンビニ', 'スーパー', '郵便局', '図書館',\n",
    "       'ドラッグストア', '飲食店', '銀行', '総合病院', '病院', '公園', '大学', 'レンタルビデオ',\n",
    "       'クリーニング', 'デパート']\n",
    "new_colnames = ['kindergarten', 'elementary_school', 'school', 'convenient_store', 'super_market', 'post_office', 'library',\n",
    "       'drug_store', 'restaurant', 'bank', 'general_hospital', 'hospital', 'park', 'university', 'rental_video',\n",
    "       'cleaning_shop', 'department_store']\n",
    "data.surroundings[0]"
   ]
  },
  {
   "cell_type": "code",
   "execution_count": 41,
   "metadata": {
    "collapsed": false
   },
   "outputs": [
    {
     "data": {
      "text/plain": [
       "348"
      ]
     },
     "execution_count": 41,
     "metadata": {},
     "output_type": "execute_result"
    }
   ],
   "source": [
    "#施設までの距離を取得する関数\n",
    "get_distance = lambda facility, text: int(re.findall(\"【\"+facility+\"】\\S+?\\(([0-9]+)m\",text)[0]) if len(re.findall(\"【\"+facility+\"】\\S+?\\(([0-9]+)m\",text))==1 else None\n",
    "get_distance(facilities[1], data.surroundings[0])"
   ]
  },
  {
   "cell_type": "code",
   "execution_count": 42,
   "metadata": {
    "collapsed": true
   },
   "outputs": [],
   "source": [
    "#施設までの距離を持った新しいデータフレーム作成\n",
    "df_new = pd.DataFrame(index=data.index, columns=new_colnames)\n",
    "\n",
    "#数字を実際に取得して埋める\n",
    "for facility,colname in zip(facilities, new_colnames):\n",
    "    get_distance_fac = lambda text: get_distance(facility, text)\n",
    "    df_new[colname][data.surroundings.isnull()==False] = data[data.surroundings.isnull()==False].surroundings.apply(get_distance_fac)"
   ]
  },
  {
   "cell_type": "code",
   "execution_count": 43,
   "metadata": {
    "collapsed": false,
    "scrolled": true
   },
   "outputs": [
    {
     "data": {
      "text/html": [
       "<div>\n",
       "<style scoped>\n",
       "    .dataframe tbody tr th:only-of-type {\n",
       "        vertical-align: middle;\n",
       "    }\n",
       "\n",
       "    .dataframe tbody tr th {\n",
       "        vertical-align: top;\n",
       "    }\n",
       "\n",
       "    .dataframe thead th {\n",
       "        text-align: right;\n",
       "    }\n",
       "</style>\n",
       "<table border=\"1\" class=\"dataframe\">\n",
       "  <thead>\n",
       "    <tr style=\"text-align: right;\">\n",
       "      <th></th>\n",
       "      <th>kindergarten</th>\n",
       "      <th>elementary_school</th>\n",
       "      <th>school</th>\n",
       "      <th>convenient_store</th>\n",
       "      <th>super_market</th>\n",
       "      <th>post_office</th>\n",
       "      <th>library</th>\n",
       "      <th>drug_store</th>\n",
       "      <th>restaurant</th>\n",
       "      <th>bank</th>\n",
       "      <th>general_hospital</th>\n",
       "      <th>hospital</th>\n",
       "      <th>park</th>\n",
       "      <th>university</th>\n",
       "      <th>rental_video</th>\n",
       "      <th>cleaning_shop</th>\n",
       "      <th>department_store</th>\n",
       "    </tr>\n",
       "  </thead>\n",
       "  <tbody>\n",
       "    <tr>\n",
       "      <th>0</th>\n",
       "      <td>None</td>\n",
       "      <td>348</td>\n",
       "      <td>410</td>\n",
       "      <td>441</td>\n",
       "      <td>490</td>\n",
       "      <td>None</td>\n",
       "      <td>None</td>\n",
       "      <td>None</td>\n",
       "      <td>None</td>\n",
       "      <td>None</td>\n",
       "      <td>None</td>\n",
       "      <td>None</td>\n",
       "      <td>None</td>\n",
       "      <td>None</td>\n",
       "      <td>None</td>\n",
       "      <td>None</td>\n",
       "      <td>None</td>\n",
       "    </tr>\n",
       "  </tbody>\n",
       "</table>\n",
       "</div>"
      ],
      "text/plain": [
       "  kindergarten elementary_school school convenient_store super_market  \\\n",
       "0         None               348    410              441          490   \n",
       "\n",
       "  post_office library drug_store restaurant  bank general_hospital hospital  \\\n",
       "0        None    None       None       None  None             None     None   \n",
       "\n",
       "   park university rental_video cleaning_shop department_store  \n",
       "0  None       None         None          None             None  "
      ]
     },
     "execution_count": 43,
     "metadata": {},
     "output_type": "execute_result"
    }
   ],
   "source": [
    "df_new.head()"
   ]
  },
  {
   "cell_type": "code",
   "execution_count": 44,
   "metadata": {
    "collapsed": false
   },
   "outputs": [
    {
     "data": {
      "text/plain": [
       "(1, 130)"
      ]
     },
     "execution_count": 44,
     "metadata": {},
     "output_type": "execute_result"
    }
   ],
   "source": [
    "#横結合で、元のデータフレームを拡張\n",
    "data = pd.concat([data, df_new], axis=1)\n",
    "data.shape"
   ]
  },
  {
   "cell_type": "markdown",
   "metadata": {},
   "source": [
    "<h3>間取り情報の抽出"
   ]
  },
  {
   "cell_type": "code",
   "execution_count": 45,
   "metadata": {
    "collapsed": false
   },
   "outputs": [],
   "source": [
    "#情報を抽出する関数\n",
    "has_K = lambda text: len(re.findall(\"K\",text))>0\n",
    "has_L = lambda text: len(re.findall(\"L\",text))>0\n",
    "has_D = lambda text: len(re.findall(\"D\",text))>0\n",
    "has_S = lambda text: len(re.findall(\"S\",text))>0\n",
    "get_Num_Rooms = lambda text: int(re.findall(\"[0-9]+\",text)[0])"
   ]
  },
  {
   "cell_type": "code",
   "execution_count": 46,
   "metadata": {
    "collapsed": true
   },
   "outputs": [],
   "source": [
    "#追加したいカラム名\n",
    "new_colnames = [\"has_K\",\"has_L\",\"has_D\",\"has_S\",\"the_number_of_rooms\"]\n",
    "\n",
    "#間取りの情報を持った新しいデータフレーム作成\n",
    "df_new = pd.DataFrame(index=data.index, columns=new_colnames)\n",
    "\n",
    "#数字を実際に取得して埋める\n",
    "df_new[\"has_K\"][data.layout.isnull()==False] = data[data.layout.isnull()==False].layout.apply(has_K)\n",
    "df_new[\"has_L\"][data.layout.isnull()==False] = data[data.layout.isnull()==False].layout.apply(has_L)\n",
    "df_new[\"has_D\"][data.layout.isnull()==False] = data[data.layout.isnull()==False].layout.apply(has_D)\n",
    "df_new[\"has_S\"][data.layout.isnull()==False] = data[data.layout.isnull()==False].layout.apply(has_S)\n",
    "df_new[\"the_number_of_rooms\"][data.layout.isnull()==False] = data[data.layout.isnull()==False].layout.apply(get_Num_Rooms)\n"
   ]
  },
  {
   "cell_type": "code",
   "execution_count": 47,
   "metadata": {
    "collapsed": false
   },
   "outputs": [
    {
     "data": {
      "text/plain": [
       "(1, 135)"
      ]
     },
     "execution_count": 47,
     "metadata": {},
     "output_type": "execute_result"
    }
   ],
   "source": [
    "#横結合で、元のデータフレームを拡張\n",
    "data = pd.concat([data, df_new], axis=1)\n",
    "data.shape"
   ]
  },
  {
   "cell_type": "markdown",
   "metadata": {},
   "source": [
    "<h3>⽋損値にフラグを⽴てて、使えるデータに変換"
   ]
  },
  {
   "cell_type": "code",
   "execution_count": 49,
   "metadata": {
    "collapsed": false
   },
   "outputs": [
    {
     "data": {
      "text/plain": [
       "47"
      ]
     },
     "execution_count": 49,
     "metadata": {},
     "output_type": "execute_result"
    }
   ],
   "source": [
    "#欠損してる説明変数一覧：\n",
    "null_colnames = pd.Series([\n",
    "     \"locality\"         ,\"buildings_height\"    ,\"buildings_undergrand\" ,\"total_units\"\n",
    "    ,\"balcony\"          ,\"shower\"              ,\"bath_drier\"           ,\"washlet\"\n",
    "    ,\"toilet_style\"     ,\"bathhouse\"           ,\"water_heater\"         ,\"system_kitchen\"\n",
    "    ,\"counter_kitchen\"  ,\"independent_kitchen\" ,\"L_kitchen\"            ,\"refrigerator\" \n",
    "    ,\"gas_stove\"        ,\"IH_stove\"            ,\"electric_stove\"       ,\"stove_num\"\n",
    "    ,\"office\"           ,\"instrument\"          ,\"togather\"             ,\"share\"\n",
    "    ,\"foreigner\"        ,\"pet\"                 ,\"male\"                 ,\"female\"\n",
    "    , \"kindergarten\"    ,\"elementary_school\"   ,\"school\"               ,\"convenient_store\"\n",
    "    ,\"super_market\"     ,\"post_office\"         ,\"library\"              ,\"drug_store\"\n",
    "    ,\"restaurant\"       ,\"bank\"                ,\"general_hospital\"     ,\"hospital\"\n",
    "    ,\"park\"             ,\"university\"          ,\"rental_video\"         ,\"cleaning_shop\"\n",
    "    ,\"department_store\" ,\"the_number_of_rooms\" ,\"year_built\"\n",
    "])\n",
    "len(null_colnames)"
   ]
  },
  {
   "cell_type": "code",
   "execution_count": 50,
   "metadata": {
    "collapsed": true
   },
   "outputs": [],
   "source": [
    "#欠損地にフラグを立ててカラムを追加\n",
    "data[\"isNull_\" + null_colnames] = data[null_colnames].isnull()"
   ]
  },
  {
   "cell_type": "code",
   "execution_count": 51,
   "metadata": {
    "collapsed": false
   },
   "outputs": [
    {
     "data": {
      "text/plain": [
       "(1, 182)"
      ]
     },
     "execution_count": 51,
     "metadata": {},
     "output_type": "execute_result"
    }
   ],
   "source": [
    "data.shape"
   ]
  },
  {
   "cell_type": "code",
   "execution_count": 52,
   "metadata": {
    "collapsed": true
   },
   "outputs": [],
   "source": [
    "data[null_colnames + \"_Null_to_Zero\"] = data[null_colnames].fillna(0)"
   ]
  },
  {
   "cell_type": "code",
   "execution_count": 53,
   "metadata": {
    "collapsed": false,
    "scrolled": true
   },
   "outputs": [
    {
     "data": {
      "text/plain": [
       "(1, 229)"
      ]
     },
     "execution_count": 53,
     "metadata": {},
     "output_type": "execute_result"
    }
   ],
   "source": [
    "data.shape"
   ]
  },
  {
   "cell_type": "markdown",
   "metadata": {},
   "source": [
    "<h3>最寄駅情報の抽出"
   ]
  },
  {
   "cell_type": "code",
   "execution_count": 61,
   "metadata": {
    "collapsed": false
   },
   "outputs": [],
   "source": [
    "# 駅名と徒歩何分かを取得する関数\n",
    "remove_bracket = lambda text :re.sub(u'\\(.+?\\)','',re.sub(u'（.+?）', '',re.sub(u'「」', '',text))) \n",
    "remove_question_mark = lambda text :re.sub(u'\\?','',text)\n",
    "remove_noise = lambda text:remove_bracket(remove_question_mark(text))\n",
    "remove_dot = lambda text :re.sub(u'・.+?線','',text)#\"・中央線東京駅\"みたいなのを除く\n",
    "\n",
    "get_station_info_0 = lambda text: (\n",
    "    re.findall(u\"線(\\S+?駅).*?徒歩([0-9]+?)分\", remove_noise(text)) \n",
    "    + re.findall(u\"ライン(\\S+?駅).*?徒歩([0-9]+?)分\", remove_noise(text)) \n",
    "    + re.findall(u\"ライナー(\\S+?駅).*?徒歩([0-9]+?)分\", remove_noise(text))\n",
    ")\n",
    "get_station_info_1 = lambda text:[(re.sub(u\"「\",u\"\",st_tuple[0]),st_tuple[1]) for st_tuple in get_station_info_0(text)]\n",
    "get_station_info = lambda text:{remove_dot(t[0]):int(t[1]) for t in get_station_info_1(text)} if len(get_station_info_1(text)) > 0 else {}\n",
    "get_station_name = lambda text:[remove_dot(t[0]) for t in get_station_info_1(text)] if len(get_station_info_1(text)) > 0 else []"
   ]
  },
  {
   "cell_type": "code",
   "execution_count": 60,
   "metadata": {
    "collapsed": true
   },
   "outputs": [],
   "source": [
    "station_info = data.traffic.apply(get_station_info)"
   ]
  },
  {
   "cell_type": "code",
   "execution_count": 56,
   "metadata": {
    "collapsed": true
   },
   "outputs": [],
   "source": [
    "station_names = pd.Series([\"千歳船橋駅\"     ,\"八幡山駅\"       ,\"千歳烏山駅\"     ,\"芦花公園駅\" \n",
    "    ,\"桜新町駅\"       ,\"駒沢大学駅\"     ,\"世田谷駅\"       ,\"用賀駅\"     \n",
    "    ,\"二子玉川駅\"     ,\"祖師ケ谷大蔵駅\"  ,\"桜上水駅\"       ,\"下高井戸駅\" \n",
    "    ,\"上北沢駅\"       ,\"松陰神社前駅\"   ,\"若林駅\"         ,\"久我山駅\"   \n",
    "    ,\"吉祥寺駅\"       ,\"東松原駅\"       ,\"新代田駅\"       ,\"明大前駅\"   \n",
    "    ,\"等々力駅\"       ,\"尾山台駅\"       ,\"自由が丘駅\"     ,\"豪徳寺駅\"       \n",
    "    ,\"山下駅\"         ,\"宮の坂駅\"       ,\"成城学園前駅\"    ,\"三軒茶屋駅\" \n",
    "    ,\"西太子堂駅\"      ,\"笹塚駅\"         ,\"代田橋駅\"       ,\"下北沢駅\"   \n",
    "    ,\"上町駅\"         ,\"経堂駅\"         ,\"松原駅\"         ,\"仙川駅\"     \n",
    "    ,\"梅ケ丘駅\"       ,\"世田谷代田駅\"    ,\"池ノ上駅\"       ,\"上野毛駅\"   \n",
    "    ,\"喜多見駅\"       ,\"学芸大学駅\"     ,\"祐天寺駅\"       ,\"池尻大橋駅\" \n",
    "    ,\"九品仏駅\"       ,\"春日駅\"         ,\"後楽園駅\"       ,\"本郷三丁目駅\"\n",
    "    ,\"田端駅\"         ,\"千駄木駅\"       ,\"本駒込駅\"       ,\"護国寺駅\"   \n",
    "    ,\"江戸川橋駅\"     ,\"茗荷谷駅\"       ,\"千石駅\"         ,\"巣鴨駅\"     \n",
    "    ,\"神楽坂駅\"       ,\"飯田橋駅\"       ,\"駒込駅\"         ,\"新大塚駅\"   \n",
    "    ,\"西日暮里駅\"     ,\"御茶ノ水駅\"     ,\"新御茶ノ水駅\"    ,\"白山駅\"     \n",
    "    ,\"東大前駅\"       ,\"根津駅\"         ,\"水道橋駅\"       ,\"湯島駅\"     \n",
    "    ,\"御徒町駅\"       ,\"上野御徒町駅\"    ,\"大塚駅\"         ,\"向原駅\"     \n",
    "    ,\"東池袋駅\"       ,\"日暮里駅\"       ,\"早稲田駅\"       ,\"秋葉原駅\"   \n",
    "    ,\"池袋駅\"         ,\"末広町駅\"       ,\"上野広小路駅\"    ,\"快速日暮里駅\"    \n",
    "    ,\"牛込神楽坂駅\"    ,\"雑司が谷駅\"     ,\"鬼子母神前駅\"    ,\"目白駅\"     \n",
    "    ,\"東池袋四丁目駅\"  ,\"上野駅\"         ,\"都電雑司ケ谷駅\"  ,\"鶯谷駅\"     \n",
    "    ,\"上中里駅\"       ,\"京成上野駅\"     ,\"西ケ原駅\"       ,\"高田馬場駅\" \n",
    "    ,\"快速上野駅\"     ,\"田園調布駅\"     ,\"奥沢駅\"         ,\"狛江駅\"     \n",
    "    ,\"緑が丘駅\"       ,\"大岡山駅\"       ,\"雪が谷大塚駅\"    ,\"牛込柳町駅\" \n",
    "    ,\"西巣鴨駅\"       ,\"面影橋駅\"       ,\"仲御徒町駅\"     ,\"浅草橋駅\"   \n",
    "    ,\"蔵前駅\"         ,\"新御徒町駅\"     ,\"三ノ輪駅\"       ,\"入谷駅\"     \n",
    "    ,\"馬喰町駅\"       ,\"南千住駅\"       ,\"三ノ輪橋駅\"     ,\"淡路町駅\"   \n",
    "    ,\"小伝馬町駅\"     ,\"稲荷町駅\"       ,\"快速三河島駅\"    ,\"浅草駅\"     \n",
    "    ,\"田原町駅\"       ,\"快速南千住駅\"    ,\"東日本橋駅\"     ,\"岩本町駅\"   \n",
    "    ,\"両国駅\"         ,\"曳舟駅\"         ,\"本所吾妻橋駅\"    ,\"とうきょうスカイツリー駅\"    \n",
    "    ,\"馬喰横山駅\"     ,\"東向島駅\"        ,\"押上駅\"        ,\"千住大橋駅\" \n",
    "    ,\"荒川一中前駅\"    ,\"北千住駅\"       ,\"人形町駅\"       ,\"浜町駅\"     \n",
    "    ,\"東北沢駅\"       ,\"代々木上原駅\"    ,\"二子新地駅\"     ,\"目黒駅\"      \n",
    "    ,\"五反田駅\"       ,\"恵比寿駅\"       ,\"不動前駅\"       ,\"白金台駅\" \n",
    "    ,\"洗足駅\"         ,\"北千束駅\"       ,\"西小山駅\"       ,\"駒場東大前駅\"\n",
    "    ,\"中目黒駅\"       ,\"都立大学駅\"     ,\"武蔵小山駅\"     ,\"代官山駅\"   \n",
    "    ,\"渋谷駅\"         ,\"神泉駅\"         ,\"つつじケ丘駅\"    ,\"多摩川駅\"   \n",
    "    ,\"石川台駅\"       ,\"高津駅\"         ,\"三鷹台駅\"       ,\"富士見ケ丘駅\"\n",
    "    ,\"幡ケ谷駅\"       ,\"西永福駅\"       ,\"高井戸駅\"       ,\"永福町駅\"   \n",
    "    ,\"新宿駅\"         ,\"御嶽山駅\"       ,\"浜田山駅\"       ,\"和泉多摩川駅\"\n",
    "    ,\"代々木駅\"       ,\"千駄ケ谷駅\"     ,\"北参道駅\"       ,\"南新宿駅\"   \n",
    "    ,\"広尾駅\"         ,\"新宿三丁目駅\"    ,\"初台駅\"         ,\"西新宿五丁目駅\"\n",
    "    ,\"原宿駅\"         ,\"明治神宮前駅\"    ,\"代々木公園駅\"    ,\"代々木八幡駅\"\n",
    "    ,\"参宮橋駅\"       ,\"中野新橋駅\"     ,\"方南町駅\"       ,\"表参道駅\"   \n",
    "    ,\"中野坂上駅\"     ,\"都庁前駅\"       ,\"外苑前駅\"       ,\"中野富士見町駅\"\n",
    "    ,\"信濃町駅\"       ,\"白金高輪駅\"     ,\"国立競技場駅\"    ,\"西新宿駅\"   \n",
    "    ,\"椎名町駅\"       ,\"要町駅\"         ,\"北池袋駅\"       ,\"板橋駅\"     \n",
    "    ,\"東長崎駅\"       ,\"千川駅\"         ,\"小竹向原駅\"     ,\"下板橋駅\"   \n",
    "    ,\"落合南長崎駅\"    ,\"巣鴨新田駅\"     ,\"大山駅\"         ,\"庚申塚駅\"   \n",
    "    ,\"新板橋駅\"       ,\"新江古田駅\"     ,\"中井駅\"         ,\"新庚申塚駅\" \n",
    "    ,\"江古田駅\"       ,\"下落合駅\"       ,\"学習院下駅\"     ,\"西ケ原四丁目駅\"\n",
    "    ,\"板橋区役所前駅\"    ,\"東中野駅\"      ,\"王子駅\"         ,\"蓮根駅\"     \n",
    "    ,\"浮間舟渡駅\"     ,\"西台駅\"         ,\"下赤塚駅\"       ,\"地下鉄赤塚駅\"\n",
    "    ,\"平和台駅\"       ,\"志村坂上駅\"     ,\"本蓮沼駅\"       ,\"志村三丁目駅\"\n",
    "    ,\"北赤羽駅\"   ,\"西早稲田駅\"         ,\"新井薬師前駅\"    ,\"滝野川一丁目駅\"\n",
    "    ,\"新三河島駅\"     ,\"尾久駅\"         ,\"赤羽駅\"         ,\"赤羽岩淵駅\" \n",
    "    ,\"十条駅\"         ,\"板橋本町駅\"     ,\"志茂駅\"         ,\"東十条駅\"   \n",
    "    ,\"王子神谷駅\"     ,\"梶原駅\"         ,\"栄町駅\"         ,\"赤土小学校前駅\"\n",
    "    ,\"小台駅\"         ,\"宮ノ前駅\"       ,\"荒川遊園地前駅\"    ,\"飛鳥山駅\"   \n",
    "    ,\"荒川車庫前駅\"    ,\"戸田公園駅\"     ,\"西新井駅\"       ,\"熊野前駅\"   \n",
    "    ,\"新桜台駅\"       ,\"上板橋駅\"       ,\"東武練馬駅\"     ,\"氷川台駅\"   \n",
    "    ,\"高島平駅\"       ,\"ときわ台駅\"     ,\"成増駅\"         ,\"地下鉄成増駅\"\n",
    "    ,\"新高島平駅\"     ,\"中板橋駅\"       ,\"和光市駅\"       ,\"西高島平駅\" \n",
    "    ,\"光が丘駅\"       ,\"練馬春日町駅\"    ,\"豊島園駅\"       ,\"上石神井駅\" \n",
    "    ,\"西荻窪駅\"       ,\"武蔵関駅\"       ,\"練馬駅\"         ,\"桜台駅\"     \n",
    "    ,\"練馬高野台駅\"    ,\"富士見台駅\"     ,\"石神井公園駅\"    ,\"荻窪駅\"     \n",
    "    ,\"中村橋駅\"       ,\"鷺ノ宮駅\"       ,\"東伏見駅\"       ,\"野方駅\"     \n",
    "    ,\"都立家政駅\"     ,\"大泉学園駅\"      ,\"井荻駅\"         ,\"保谷駅\"     \n",
    "    ,\"西武柳沢駅\"     ,\"上井草駅\"       ,\"朝霞駅\"         ,\"下井草駅\"   \n",
    "    ,\"沼袋駅\"         ,\"高円寺駅\"       ,\"三鷹駅\"         ,\"ひばりケ丘駅\"   \n",
    "    ,\"中野駅\"         ,\"井の頭公園駅\"    ,\"阿佐ケ谷駅\" ])"
   ]
  },
  {
   "cell_type": "code",
   "execution_count": 57,
   "metadata": {
    "collapsed": true
   },
   "outputs": [],
   "source": [
    "# 近くの駅までの所要時間の逆数のデータフレーム（説明変数に使う）\n",
    "df_new = pd.DataFrame(index=data.index, columns=station_names).astype(np.float)"
   ]
  },
  {
   "cell_type": "code",
   "execution_count": 58,
   "metadata": {
    "collapsed": true
   },
   "outputs": [],
   "source": [
    "# 駅ごとにそれらを求める関数(徒歩0分の場合は、inverse:=2とした)\n",
    "get_inverse_dist_to_st = lambda arg_dict, st_name : (1.0/arg_dict[st_name] if arg_dict[st_name]!=0 else 2) if st_name in arg_dict.keys() else 0"
   ]
  },
  {
   "cell_type": "code",
   "execution_count": 62,
   "metadata": {
    "collapsed": false
   },
   "outputs": [],
   "source": [
    "for st_name in station_names:\n",
    "    this_st = st_name\n",
    "    get_inverse_dist_to_this_st = lambda arg_dict: get_inverse_dist_to_st(arg_dict ,this_st)\n",
    "    df_new[st_name] = station_info.apply(get_inverse_dist_to_this_st)"
   ]
  },
  {
   "cell_type": "code",
   "execution_count": 63,
   "metadata": {
    "collapsed": false
   },
   "outputs": [
    {
     "data": {
      "text/plain": [
       "(1, 516)"
      ]
     },
     "execution_count": 63,
     "metadata": {},
     "output_type": "execute_result"
    }
   ],
   "source": [
    "#横結合で、元のデータフレームを拡張\n",
    "data = pd.concat([data, df_new], axis=1)\n",
    "data.shape"
   ]
  },
  {
   "cell_type": "markdown",
   "metadata": {},
   "source": [
    "<h3>DBとpickleファイル(mynavi_data2.pickle)に落とす"
   ]
  },
  {
   "cell_type": "markdown",
   "metadata": {},
   "source": [
    "<h3> 分析用データの作成"
   ]
  },
  {
   "cell_type": "code",
   "execution_count": 64,
   "metadata": {
    "collapsed": true
   },
   "outputs": [],
   "source": [
    "analytical_columns = pd.Series([\n",
    "    \"url\"         ,\"rent\"         ,\"area\"        ,\"flooring\"    ,\"year_built\"\n",
    "    ,\"parking\"     ,\"structure\"   ,\"air_conditioner\",\"auto_lock\"\n",
    "    ,\"bath_toilet\" ,\"reheating\"   ,\"wash_basin\"  ,\"washing_machine\"\n",
    "    ,\"top_floor\"   ,\"corner_room\" ,\"immediate\"   ,\"upper\"\n",
    "    ,\"direction_1\" ,\"direction_2\" ,\"direction_3\" ,\"direction_4\"\n",
    "    ,\"direction_5\" ,\"direction_6\" ,\"direction_7\" ,\"direction_8\"\n",
    "    ,\"structure_1\" ,\"structure_2\" ,\"structure_3\" ,\"structure_4\"\n",
    "    ,\"structure_5\" ,\"structure_6\" ,\"structure_7\" ,\"structure_8\"\n",
    "    ,\"structure_9\" ,\"structure_10\",\"structure_11\"\n",
    "    ,\"status_1\"    ,\"status_2\"    ,\"status_3\"    ,\"status_4\"    \n",
    "    ,\"transaction_type_1\",\"transaction_type_2\",\"transaction_type_3\"\n",
    "    ,\"transaction_type_4\",\"transaction_type_5\",\"transaction_type_6\"\n",
    "    ,\"bath_style_0\",\"bath_style_1\",\"bath_style_2\"\n",
    "    ,\"address_lat\" ,\"address_lng\"\n",
    "    ,\"has_K\"       ,\"has_L\"       ,\"has_D\"       ,\"has_S\"\n",
    "    ,\"the_number_of_rooms\"\n",
    "    \n",
    "    ,\"isNull_locality\"            ,\"isNull_buildings_height\"\n",
    "    ,\"isNull_buildings_undergrand\",\"isNull_total_units\"\n",
    "    ,\"isNull_balcony\"             ,\"isNull_shower\"\n",
    "    ,\"isNull_bath_drier\"          ,\"isNull_washlet\"\n",
    "    ,\"isNull_toilet_style\"        ,\"isNull_bathhouse\"\n",
    "    ,\"isNull_water_heater\"        ,\"isNull_system_kitchen\"\n",
    "    ,\"isNull_counter_kitchen\"     ,\"isNull_independent_kitchen\"\n",
    "    ,\"isNull_L_kitchen\"           ,\"isNull_refrigerator\"\n",
    "    ,\"isNull_gas_stove\"           ,\"isNull_IH_stove\"\n",
    "    ,\"isNull_electric_stove\"     ,\"isNull_stove_num\"\n",
    "    ,\"isNull_office\"              ,\"isNull_instrument\"\n",
    "    ,\"isNull_togather\"            ,\"isNull_share\"\n",
    "    ,\"isNull_foreigner\"           ,\"isNull_pet\"\n",
    "    ,\"isNull_male\"                ,\"isNull_female\"\n",
    "    ,\"isNull_kindergarten\"        ,\"isNull_elementary_school\"\n",
    "    ,\"isNull_school\"              ,\"isNull_convenient_store\"\n",
    "    ,\"isNull_super_market\"        ,\"isNull_post_office\"\n",
    "    ,\"isNull_library\"             ,\"isNull_drug_store\"\n",
    "    ,\"isNull_restaurant\"          ,\"isNull_bank\"\n",
    "    ,\"isNull_general_hospital\"    ,\"isNull_hospital\"\n",
    "    ,\"isNull_park\"                ,\"isNull_university\"\n",
    "    ,\"isNull_rental_video\"        ,\"isNull_cleaning_shop\"\n",
    "    ,\"isNull_department_store\"    ,\"isNull_the_number_of_rooms\"\n",
    "   \n",
    "    ,\"locality_Null_to_Zero\"      ,\"buildings_height_Null_to_Zero\"\n",
    "    ,\"buildings_undergrand_Null_to_Zero\"    ,\"total_units_Null_to_Zero\"\n",
    "    ,\"balcony_Null_to_Zero\"       ,\"shower_Null_to_Zero\"\n",
    "    ,\"bath_drier_Null_to_Zero\"    ,\"washlet_Null_to_Zero\"\n",
    "    ,\"toilet_style_Null_to_Zero\"  ,\"bathhouse_Null_to_Zero\"\n",
    "    ,\"water_heater_Null_to_Zero\"  ,\"system_kitchen_Null_to_Zero\"\n",
    "    ,\"counter_kitchen_Null_to_Zero\"    ,\"independent_kitchen_Null_to_Zero\"\n",
    "    ,\"L_kitchen_Null_to_Zero\"     ,\"refrigerator_Null_to_Zero\"\n",
    "    ,\"gas_stove_Null_to_Zero\"     ,\"IH_stove_Null_to_Zero\"\n",
    "    ,\"electric_stove_Null_to_Zero\",\"stove_num_Null_to_Zero\"\n",
    "    ,\"office_Null_to_Zero\"        ,\"instrument_Null_to_Zero\"\n",
    "    ,\"togather_Null_to_Zero\"      ,\"share_Null_to_Zero\"\n",
    "    ,\"foreigner_Null_to_Zero\"     ,\"pet_Null_to_Zero\"\n",
    "    ,\"female_Null_to_Zero\"        ,\"kindergarten_Null_to_Zero\"\n",
    "    ,\"elementary_school_Null_to_Zero\"    ,\"school_Null_to_Zero\"\n",
    "    ,\"convenient_store_Null_to_Zero\"    ,\"super_market_Null_to_Zero\"\n",
    "    ,\"post_office_Null_to_Zero\"   ,\"library_Null_to_Zero\"\n",
    "    ,\"drug_store_Null_to_Zero\"    ,\"restaurant_Null_to_Zero\"\n",
    "    ,\"bank_Null_to_Zero\"          ,\"general_hospital_Null_to_Zero\"\n",
    "    ,\"hospital_Null_to_Zero\"    ,\"park_Null_to_Zero\"\n",
    "    ,\"university_Null_to_Zero\"    ,\"rental_video_Null_to_Zero\"\n",
    "    ,\"cleaning_shop_Null_to_Zero\" ,\"department_store_Null_to_Zero\"\n",
    "    ,\"the_number_of_rooms_Null_to_Zero\"\n",
    "\n",
    "    ,\"千歳船橋駅\"     ,\"八幡山駅\"       ,\"千歳烏山駅\"     ,\"芦花公園駅\" \n",
    "    ,\"桜新町駅\"       ,\"駒沢大学駅\"     ,\"世田谷駅\"       ,\"用賀駅\"     \n",
    "    ,\"二子玉川駅\"     ,\"祖師ケ谷大蔵駅\"  ,\"桜上水駅\"       ,\"下高井戸駅\" \n",
    "    ,\"上北沢駅\"       ,\"松陰神社前駅\"   ,\"若林駅\"         ,\"久我山駅\"   \n",
    "    ,\"吉祥寺駅\"       ,\"東松原駅\"       ,\"新代田駅\"       ,\"明大前駅\"   \n",
    "    ,\"等々力駅\"       ,\"尾山台駅\"       ,\"自由が丘駅\"     ,\"豪徳寺駅\"       \n",
    "    ,\"山下駅\"         ,\"宮の坂駅\"       ,\"成城学園前駅\"    ,\"三軒茶屋駅\" \n",
    "    ,\"西太子堂駅\"      ,\"笹塚駅\"         ,\"代田橋駅\"       ,\"下北沢駅\"   \n",
    "    ,\"上町駅\"         ,\"経堂駅\"         ,\"松原駅\"         ,\"仙川駅\"     \n",
    "    ,\"梅ケ丘駅\"       ,\"世田谷代田駅\"    ,\"池ノ上駅\"       ,\"上野毛駅\"   \n",
    "    ,\"喜多見駅\"       ,\"学芸大学駅\"     ,\"祐天寺駅\"       ,\"池尻大橋駅\" \n",
    "    ,\"九品仏駅\"       ,\"春日駅\"         ,\"後楽園駅\"       ,\"本郷三丁目駅\"\n",
    "    ,\"田端駅\"         ,\"千駄木駅\"       ,\"本駒込駅\"       ,\"護国寺駅\"   \n",
    "    ,\"江戸川橋駅\"     ,\"茗荷谷駅\"       ,\"千石駅\"         ,\"巣鴨駅\"     \n",
    "    ,\"神楽坂駅\"       ,\"飯田橋駅\"       ,\"駒込駅\"         ,\"新大塚駅\"   \n",
    "    ,\"西日暮里駅\"     ,\"御茶ノ水駅\"     ,\"新御茶ノ水駅\"    ,\"白山駅\"     \n",
    "    ,\"東大前駅\"       ,\"根津駅\"         ,\"水道橋駅\"       ,\"湯島駅\"     \n",
    "    ,\"御徒町駅\"       ,\"上野御徒町駅\"    ,\"大塚駅\"         ,\"向原駅\"     \n",
    "    ,\"東池袋駅\"       ,\"日暮里駅\"       ,\"早稲田駅\"       ,\"秋葉原駅\"   \n",
    "    ,\"池袋駅\"         ,\"末広町駅\"       ,\"上野広小路駅\"    ,\"快速日暮里駅\"    \n",
    "    ,\"牛込神楽坂駅\"    ,\"雑司が谷駅\"     ,\"鬼子母神前駅\"    ,\"目白駅\"     \n",
    "    ,\"東池袋四丁目駅\"  ,\"上野駅\"         ,\"都電雑司ケ谷駅\"  ,\"鶯谷駅\"     \n",
    "    ,\"上中里駅\"       ,\"京成上野駅\"     ,\"西ケ原駅\"       ,\"高田馬場駅\" \n",
    "    ,\"快速上野駅\"     ,\"田園調布駅\"     ,\"奥沢駅\"         ,\"狛江駅\"     \n",
    "    ,\"緑が丘駅\"       ,\"大岡山駅\"       ,\"雪が谷大塚駅\"    ,\"牛込柳町駅\" \n",
    "    ,\"西巣鴨駅\"       ,\"面影橋駅\"       ,\"仲御徒町駅\"     ,\"浅草橋駅\"   \n",
    "    ,\"蔵前駅\"         ,\"新御徒町駅\"     ,\"三ノ輪駅\"       ,\"入谷駅\"     \n",
    "    ,\"馬喰町駅\"       ,\"南千住駅\"       ,\"三ノ輪橋駅\"     ,\"淡路町駅\"   \n",
    "    ,\"小伝馬町駅\"     ,\"稲荷町駅\"       ,\"快速三河島駅\"    ,\"浅草駅\"     \n",
    "    ,\"田原町駅\"       ,\"快速南千住駅\"    ,\"東日本橋駅\"     ,\"岩本町駅\"   \n",
    "    ,\"両国駅\"         ,\"曳舟駅\"         ,\"本所吾妻橋駅\"    ,\"とうきょうスカイツリー駅\"    \n",
    "    ,\"馬喰横山駅\"     ,\"東向島駅\"        ,\"押上駅\"        ,\"千住大橋駅\" \n",
    "    ,\"荒川一中前駅\"    ,\"北千住駅\"       ,\"人形町駅\"       ,\"浜町駅\"     \n",
    "    ,\"東北沢駅\"       ,\"代々木上原駅\"    ,\"二子新地駅\"     ,\"目黒駅\"      \n",
    "    ,\"五反田駅\"       ,\"恵比寿駅\"       ,\"不動前駅\"       ,\"白金台駅\" \n",
    "    ,\"洗足駅\"         ,\"北千束駅\"       ,\"西小山駅\"       ,\"駒場東大前駅\"\n",
    "    ,\"中目黒駅\"       ,\"都立大学駅\"     ,\"武蔵小山駅\"     ,\"代官山駅\"   \n",
    "    ,\"渋谷駅\"         ,\"神泉駅\"         ,\"つつじケ丘駅\"    ,\"多摩川駅\"   \n",
    "    ,\"石川台駅\"       ,\"高津駅\"         ,\"三鷹台駅\"       ,\"富士見ケ丘駅\"\n",
    "    ,\"幡ケ谷駅\"       ,\"西永福駅\"       ,\"高井戸駅\"       ,\"永福町駅\"   \n",
    "    ,\"新宿駅\"         ,\"御嶽山駅\"       ,\"浜田山駅\"       ,\"和泉多摩川駅\"\n",
    "    ,\"代々木駅\"       ,\"千駄ケ谷駅\"     ,\"北参道駅\"       ,\"南新宿駅\"   \n",
    "    ,\"広尾駅\"         ,\"新宿三丁目駅\"    ,\"初台駅\"         ,\"西新宿五丁目駅\"\n",
    "    ,\"原宿駅\"         ,\"明治神宮前駅\"    ,\"代々木公園駅\"    ,\"代々木八幡駅\"\n",
    "    ,\"参宮橋駅\"       ,\"中野新橋駅\"     ,\"方南町駅\"       ,\"表参道駅\"   \n",
    "    ,\"中野坂上駅\"     ,\"都庁前駅\"       ,\"外苑前駅\"       ,\"中野富士見町駅\"\n",
    "    ,\"信濃町駅\"       ,\"白金高輪駅\"     ,\"国立競技場駅\"    ,\"西新宿駅\"   \n",
    "    ,\"椎名町駅\"       ,\"要町駅\"         ,\"北池袋駅\"       ,\"板橋駅\"     \n",
    "    ,\"東長崎駅\"       ,\"千川駅\"         ,\"小竹向原駅\"     ,\"下板橋駅\"   \n",
    "    ,\"落合南長崎駅\"    ,\"巣鴨新田駅\"     ,\"大山駅\"         ,\"庚申塚駅\"   \n",
    "    ,\"新板橋駅\"       ,\"新江古田駅\"     ,\"中井駅\"         ,\"新庚申塚駅\" \n",
    "    ,\"江古田駅\"       ,\"下落合駅\"       ,\"学習院下駅\"     ,\"西ケ原四丁目駅\"\n",
    "    ,\"板橋区役所前駅\"    ,\"東中野駅\"      ,\"王子駅\"         ,\"蓮根駅\"     \n",
    "    ,\"浮間舟渡駅\"     ,\"西台駅\"         ,\"下赤塚駅\"       ,\"地下鉄赤塚駅\"\n",
    "    ,\"平和台駅\"       ,\"志村坂上駅\"     ,\"本蓮沼駅\"       ,\"志村三丁目駅\"\n",
    "    ,\"北赤羽駅\"   ,\"西早稲田駅\"         ,\"新井薬師前駅\"    ,\"滝野川一丁目駅\"\n",
    "    ,\"新三河島駅\"     ,\"尾久駅\"         ,\"赤羽駅\"         ,\"赤羽岩淵駅\" \n",
    "    ,\"十条駅\"         ,\"板橋本町駅\"     ,\"志茂駅\"         ,\"東十条駅\"   \n",
    "    ,\"王子神谷駅\"     ,\"梶原駅\"         ,\"栄町駅\"         ,\"赤土小学校前駅\"\n",
    "    ,\"小台駅\"         ,\"宮ノ前駅\"       ,\"荒川遊園地前駅\"    ,\"飛鳥山駅\"   \n",
    "    ,\"荒川車庫前駅\"    ,\"戸田公園駅\"     ,\"西新井駅\"       ,\"熊野前駅\"   \n",
    "    ,\"新桜台駅\"       ,\"上板橋駅\"       ,\"東武練馬駅\"     ,\"氷川台駅\"   \n",
    "    ,\"高島平駅\"       ,\"ときわ台駅\"     ,\"成増駅\"         ,\"地下鉄成増駅\"\n",
    "    ,\"新高島平駅\"     ,\"中板橋駅\"       ,\"和光市駅\"       ,\"西高島平駅\" \n",
    "    ,\"光が丘駅\"       ,\"練馬春日町駅\"    ,\"豊島園駅\"       ,\"上石神井駅\" \n",
    "    ,\"西荻窪駅\"       ,\"武蔵関駅\"       ,\"練馬駅\"         ,\"桜台駅\"     \n",
    "    ,\"練馬高野台駅\"    ,\"富士見台駅\"     ,\"石神井公園駅\"    ,\"荻窪駅\"     \n",
    "    ,\"中村橋駅\"       ,\"鷺ノ宮駅\"       ,\"東伏見駅\"       ,\"野方駅\"     \n",
    "    ,\"都立家政駅\"     ,\"大泉学園駅\"      ,\"井荻駅\"         ,\"保谷駅\"     \n",
    "    ,\"西武柳沢駅\"     ,\"上井草駅\"       ,\"朝霞駅\"         ,\"下井草駅\"   \n",
    "    ,\"沼袋駅\"         ,\"高円寺駅\"       ,\"三鷹駅\"         ,\"ひばりケ丘駅\"   \n",
    "    ,\"中野駅\"         ,\"井の頭公園駅\"    ,\"阿佐ケ谷駅\" \n",
    "])"
   ]
  },
  {
   "cell_type": "code",
   "execution_count": 65,
   "metadata": {
    "collapsed": true
   },
   "outputs": [],
   "source": [
    "analytical_data = data[analytical_columns]"
   ]
  },
  {
   "cell_type": "code",
   "execution_count": 66,
   "metadata": {
    "collapsed": false
   },
   "outputs": [
    {
     "data": {
      "text/plain": [
       "0"
      ]
     },
     "execution_count": 66,
     "metadata": {},
     "output_type": "execute_result"
    }
   ],
   "source": [
    "analytical_data.isna().sum().sum()"
   ]
  },
  {
   "cell_type": "code",
   "execution_count": 67,
   "metadata": {
    "collapsed": false
   },
   "outputs": [
    {
     "data": {
      "text/plain": [
       "(1, 434)"
      ]
     },
     "execution_count": 67,
     "metadata": {},
     "output_type": "execute_result"
    }
   ],
   "source": [
    "analytical_data.shape"
   ]
  },
  {
   "cell_type": "code",
   "execution_count": null,
   "metadata": {
    "collapsed": true
   },
   "outputs": [],
   "source": []
  }
 ],
 "metadata": {
  "anaconda-cloud": {},
  "kernelspec": {
   "display_name": "Python [Root]",
   "language": "python",
   "name": "Python [Root]"
  },
  "language_info": {
   "codemirror_mode": {
    "name": "ipython",
    "version": 3
   },
   "file_extension": ".py",
   "mimetype": "text/x-python",
   "name": "python",
   "nbconvert_exporter": "python",
   "pygments_lexer": "ipython3",
   "version": "3.5.2"
  }
 },
 "nbformat": 4,
 "nbformat_minor": 1
}
