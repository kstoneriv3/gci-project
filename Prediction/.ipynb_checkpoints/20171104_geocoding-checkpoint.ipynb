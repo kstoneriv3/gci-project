{
 "cells": [
  {
   "cell_type": "markdown",
   "metadata": {},
   "source": [
    "# Geo Coding (緯度経度取得)・最寄駅情報取得を行う"
   ]
  },
  {
   "cell_type": "code",
   "execution_count": 1,
   "metadata": {
    "collapsed": true
   },
   "outputs": [],
   "source": [
    "import pandas as pd\n",
    "import numpy as np\n",
    "import urllib\n",
    "import xml.etree.ElementTree as ET\n",
    "import re\n",
    "import pandas as pd\n",
    "import pyodbc\n",
    "from sqlalchemy import create_engine\n",
    "import time\n",
    "import pickle"
   ]
  },
  {
   "cell_type": "code",
   "execution_count": 2,
   "metadata": {
    "collapsed": true
   },
   "outputs": [],
   "source": [
    "# データベースの情報\n",
    "server = 'gciteam16.database.windows.net'\n",
    "database = 'mynavi-database'\n",
    "username = 'gciteam16'\n",
    "password = 'Password0'\n",
    "port =1433"
   ]
  },
  {
   "cell_type": "code",
   "execution_count": 3,
   "metadata": {
    "collapsed": true
   },
   "outputs": [],
   "source": [
    "# 接続エンジンの作成\n",
    "engine_config = \"?driver=ODBC+Driver+13+for+SQL+Server?charset=shift-jis\"\n",
    "db_settings = {\n",
    "    \"host\": server,\n",
    "    \"database\": database,\n",
    "    \"user\": username,\n",
    "    \"password\": password,\n",
    "    \"port\":port,\n",
    "    \"config_query\":engine_config\n",
    "}\n",
    "engine = create_engine('mssql+pyodbc://{user}:{password}@{host}:{port}/{database}{config_query}'.format(**db_settings))"
   ]
  },
  {
   "cell_type": "code",
   "execution_count": 4,
   "metadata": {},
   "outputs": [
    {
     "data": {
      "text/plain": [
       "'\\n# \\xe3\\x83\\x87\\xe3\\x83\\xbc\\xe3\\x82\\xbf\\xe3\\x81\\xae\\xe8\\xaa\\xad\\xe3\\x81\\xbf\\xe8\\xbe\\xbc\\xe3\\x81\\xbf\\nsql_query = \"SELECT * FROM main_table\"\\ndata = pd.read_sql_query(sql_query, con = engine)\\n'"
      ]
     },
     "execution_count": 4,
     "metadata": {},
     "output_type": "execute_result"
    }
   ],
   "source": [
    "\"\"\"\n",
    "# データの読み込み\n",
    "sql_query = \"SELECT * FROM main_table\"\n",
    "data = pd.read_sql_query(sql_query, con = engine)\n",
    "\"\"\""
   ]
  },
  {
   "cell_type": "code",
   "execution_count": 4,
   "metadata": {
    "collapsed": true
   },
   "outputs": [],
   "source": [
    "# コネクターの作成\n",
    "cnxn = pyodbc.connect('DRIVER={ODBC Driver 13 for SQL Server};SERVER='+server+';DATABASE='+database+';UID='+username+';PWD='+ password)\n",
    "cursor = cnxn.cursor()"
   ]
  },
  {
   "cell_type": "code",
   "execution_count": 5,
   "metadata": {
    "scrolled": true
   },
   "outputs": [
    {
     "name": "stdout",
     "output_type": "stream",
     "text": [
      "Microsoft SQL Azure (RTM) - 12.0.2000.8 \n",
      "\tAug 29 2017 13:06:11 \n",
      "\tCopyright (C) 2017 Microsoft Corporation\n",
      "\n"
     ]
    }
   ],
   "source": [
    "#Sample select query\n",
    "cursor.execute(\"SELECT @@version;\") \n",
    "row = cursor.fetchone() \n",
    "while row: \n",
    "    print(row[0]) \n",
    "    row = cursor.fetchone()"
   ]
  },
  {
   "cell_type": "code",
   "execution_count": 2,
   "metadata": {},
   "outputs": [
    {
     "data": {
      "text/plain": [
       "(46469, 110)"
      ]
     },
     "execution_count": 2,
     "metadata": {},
     "output_type": "execute_result"
    }
   ],
   "source": [
    "# https://drive.google.com/open?id=1lN_XnVuwtxGdZRGPFxnZTVgeG6ehmC8K に上がってるファイルは一発で読める\n",
    "data = pd.read_csv(\"../../gci_project_storage/mynavi_data.csv\", encoding=\"SHIFT-JIS\", sep=\",\")\n",
    "data.shape"
   ]
  },
  {
   "cell_type": "markdown",
   "metadata": {},
   "source": [
    "<h3>目次：</h3><br>\n",
    "・raw_data_table の作成<br>\n",
    "・物件の Master Table の作成<br>\n",
    "・最寄駅情報の抽出<br>\n",
    "・駅の Master Table の作成<br>\n",
    "・物件の Geo Coding<br>\n",
    "・駅の情報を main_table に追加<br>\n"
   ]
  },
  {
   "cell_type": "markdown",
   "metadata": {},
   "source": [
    "<h3>raw_data_table の作成"
   ]
  },
  {
   "cell_type": "code",
   "execution_count": 32,
   "metadata": {
    "collapsed": true
   },
   "outputs": [],
   "source": [
    "table_name = \"raw_data_table\"\n",
    "#data.to_sql(table_name, con=engine, if_exists=\"fail\", index=False)"
   ]
  },
  {
   "cell_type": "markdown",
   "metadata": {},
   "source": [
    "<h3>物件の Master Table の作成"
   ]
  },
  {
   "cell_type": "code",
   "execution_count": 19,
   "metadata": {
    "collapsed": true,
    "scrolled": true
   },
   "outputs": [],
   "source": [
    "addresses = pd.Series(data.address.unique())\n",
    "df_new = pd.DataFrame(index=addresses.index, columns=[\"longitude\",\"latitude\"])\n",
    "df_new = pd.concat([addresses, df_new], axis=1)\n",
    "df_new.columns = [\"address\",\"longitude\",\"latitude\"]\n",
    "df_new.shape\n",
    "data_address = df_new"
   ]
  },
  {
   "cell_type": "markdown",
   "metadata": {},
   "source": [
    "<h3>物件の Geo Coding"
   ]
  },
  {
   "cell_type": "code",
   "execution_count": 7,
   "metadata": {
    "collapsed": true
   },
   "outputs": [],
   "source": [
    "sql_query = \"SELECT * FROM address_master\"\n",
    "data = pd.read_sql_query(sql_query, con = engine)"
   ]
  },
  {
   "cell_type": "code",
   "execution_count": 5,
   "metadata": {
    "scrolled": true
   },
   "outputs": [
    {
     "data": {
      "text/plain": [
       "address      object\n",
       "longitude    object\n",
       "latitude     object\n",
       "dtype: object"
      ]
     },
     "execution_count": 5,
     "metadata": {},
     "output_type": "execute_result"
    }
   ],
   "source": [
    "data_address.dtypes"
   ]
  },
  {
   "cell_type": "code",
   "execution_count": 14,
   "metadata": {
    "scrolled": true
   },
   "outputs": [
    {
     "name": "stdout",
     "output_type": "stream",
     "text": [
      "b'\\xe6\\x9d\\xb1\\xe4\\xba\\xac\\xe9\\x83\\xbd\\xe6\\x96\\x87\\xe4\\xba\\xac\\xe5\\x8c\\xba\\xe6\\x9c\\xac\\xe9\\x83\\xb7\\xef\\xbc\\x94\\xe4\\xb8\\x81\\xe7\\x9b\\xae'\n",
      "http://maps.googleapis.com/maps/api/geocode/xml?sensor=false&address=%E6%9D%B1%E4%BA%AC%E9%83%BD%E6%96%87%E4%BA%AC%E5%8C%BA%E6%9C%AC%E9%83%B7%EF%BC%94%E4%B8%81%E7%9B%AE\n"
     ]
    }
   ],
   "source": [
    "address = data_address.address[0].encode(\"utf-8\")\n",
    "print(address)\n",
    "serviceurl = 'http://maps.googleapis.com/maps/api/geocode/xml?'\n",
    "url = serviceurl + urllib.parse.urlencode({'sensor':'false', 'address': address})\n",
    "print(url)"
   ]
  },
  {
   "cell_type": "markdown",
   "metadata": {},
   "source": [
    "<br><br><br>\n",
    "# 0~1000\n",
    "<br><br><br>"
   ]
  },
  {
   "cell_type": "code",
   "execution_count": 4,
   "metadata": {
    "collapsed": true
   },
   "outputs": [],
   "source": [
    "result_list_0_1000 = []"
   ]
  },
  {
   "cell_type": "code",
   "execution_count": null,
   "metadata": {
    "collapsed": true
   },
   "outputs": [],
   "source": [
    "serviceurl = 'http://maps.googleapis.com/maps/api/geocode/xml?'\n",
    "\n",
    "for i in range(0,1000):\n",
    "    \n",
    "    address = data_address.address[i].encode(\"utf-8\")\n",
    "\n",
    "    # Python3 系：urllib.parse.urlencode()\n",
    "    # Python2 系：urllib.urlencode()\n",
    "    url = serviceurl + urllib.parse.urlencode({u'sensor':u'false', u'address': address})\n",
    "    print ('Retrieving', url)\n",
    "    # Python3 系：urllib.request.urlopen()\n",
    "    uh = urllib.request.urlopen(url)\n",
    "    data = uh.read()\n",
    "    #print ('Retrieved',len(data),'characters')\n",
    "    #print (data)\n",
    "    #print ()\n",
    "    tree = ET.fromstring(data)\n",
    "\n",
    "    results = tree.findall('result')\n",
    "    #lat = float( results[0].find('geometry').find('location').find('lat').text )\n",
    "    #lng = float( results[0].find('geometry').find('location').find('lng').text )\n",
    "    #location = results[0].find('formatted_address').text\n",
    "    \n",
    "    result_list_0_1000.append(data)\n",
    "    time.sleep(3)\n",
    "    #print ('lat',lat,'lng',lng)\n",
    "    #print (location)\n",
    "\n",
    "    #data_address.longitude[i] = lng\n",
    "    #data_address.latitude[i] = lat"
   ]
  },
  {
   "cell_type": "code",
   "execution_count": 6,
   "metadata": {},
   "outputs": [
    {
     "data": {
      "text/plain": [
       "1000"
      ]
     },
     "execution_count": 6,
     "metadata": {},
     "output_type": "execute_result"
    }
   ],
   "source": [
    "len(result_list_0_1000)"
   ]
  },
  {
   "cell_type": "code",
   "execution_count": 7,
   "metadata": {
    "collapsed": true,
    "scrolled": true
   },
   "outputs": [],
   "source": [
    "with open('../../gci_project_storage/result_list_0_1000.pickle', mode='wb') as f:\n",
    "#    pickle.dump(result_list_0_1000, f)"
   ]
  },
  {
   "cell_type": "code",
   "execution_count": 4,
   "metadata": {
    "collapsed": true,
    "scrolled": true
   },
   "outputs": [],
   "source": [
    "with open('../../gci_project_storage/result_list_0_1000.pickle', mode='rb') as f:\n",
    "    result_list_0_1000 = pickle.load(f)"
   ]
  },
  {
   "cell_type": "code",
   "execution_count": 22,
   "metadata": {},
   "outputs": [
    {
     "data": {
      "text/plain": [
       "0"
      ]
     },
     "execution_count": 22,
     "metadata": {},
     "output_type": "execute_result"
    }
   ],
   "source": [
    "get_loc_json = lambda data: ET.fromstring(data).findall('result')[0].find('geometry').find('location') if len(ET.fromstring(data).findall('result'))>0 else None \n",
    "get_lat = lambda data: float(get_loc_json(data).find('lat').text) if get_loc_json(data) != None else None\n",
    "get_lng = lambda data: float(get_loc_json(data).find('lng').text) if get_loc_json(data) != None else None\n",
    "\n",
    "sum(pd.Series([get_lat(data) for data in result_list_0_1000[0:1000]]) == None)"
   ]
  },
  {
   "cell_type": "markdown",
   "metadata": {},
   "source": [
    "<br><br><br>\n",
    "# 1000~2000\n",
    "<br><br><br>"
   ]
  },
  {
   "cell_type": "code",
   "execution_count": 6,
   "metadata": {
    "collapsed": true
   },
   "outputs": [],
   "source": [
    "result_list_1000_2000 = []"
   ]
  },
  {
   "cell_type": "code",
   "execution_count": null,
   "metadata": {
    "collapsed": true
   },
   "outputs": [],
   "source": [
    "serviceurl = 'http://maps.googleapis.com/maps/api/geocode/xml?'\n",
    "\n",
    "for i in range(1000,2000):\n",
    "    \n",
    "    address = data_address.address[i].encode(\"utf-8\")\n",
    "\n",
    "    # Python3 系：urllib.parse.urlencode()\n",
    "    # Python2 系：urllib.urlencode()\n",
    "    url = serviceurl + urllib.parse.urlencode({u'sensor':u'false', u'address': address})\n",
    "    print ('Retrieving', url)\n",
    "    # Python3 系：urllib.request.urlopen()\n",
    "    uh = urllib.request.urlopen(url)\n",
    "    data = uh.read()\n",
    "    #print ('Retrieved',len(data),'characters')\n",
    "    #print (data)\n",
    "    #print ()\n",
    "    tree = ET.fromstring(data)\n",
    "\n",
    "    results = tree.findall('result')\n",
    "    #lat = float( results[0].find('geometry').find('location').find('lat').text )\n",
    "    #lng = float( results[0].find('geometry').find('location').find('lng').text )\n",
    "    #location = results[0].find('formatted_address').text\n",
    "    \n",
    "    result_list_1000_2000.append(data)\n",
    "    time.sleep(3)\n",
    "    #print ('lat',lat,'lng',lng)\n",
    "    #print (location)\n",
    "\n",
    "    #data_address.longitude[i] = lng\n",
    "    #data_address.latitude[i] = lat"
   ]
  },
  {
   "cell_type": "code",
   "execution_count": 8,
   "metadata": {
    "scrolled": true
   },
   "outputs": [
    {
     "data": {
      "text/plain": [
       "1000"
      ]
     },
     "execution_count": 8,
     "metadata": {},
     "output_type": "execute_result"
    }
   ],
   "source": [
    "len(result_list_1000_2000)"
   ]
  },
  {
   "cell_type": "code",
   "execution_count": 9,
   "metadata": {
    "collapsed": true,
    "scrolled": true
   },
   "outputs": [],
   "source": [
    "with open('../../gci_project_storage/result_list_1000_2000.pickle', mode='wb') as f:\n",
    "#    pickle.dump(result_list_1000_2000, f)"
   ]
  },
  {
   "cell_type": "code",
   "execution_count": 5,
   "metadata": {
    "collapsed": true,
    "scrolled": true
   },
   "outputs": [],
   "source": [
    "with open('../../gci_project_storage/result_list_1000_2000.pickle', mode='rb') as f:\n",
    "    result_list_1000_2000 = pickle.load(f)"
   ]
  },
  {
   "cell_type": "code",
   "execution_count": 20,
   "metadata": {},
   "outputs": [
    {
     "data": {
      "text/plain": [
       "0"
      ]
     },
     "execution_count": 20,
     "metadata": {},
     "output_type": "execute_result"
    }
   ],
   "source": [
    "get_loc_json = lambda data: ET.fromstring(data).findall('result')[0].find('geometry').find('location') if len(ET.fromstring(data).findall('result'))>0 else None \n",
    "get_lat = lambda data: float(get_loc_json(data).find('lat').text) if get_loc_json(data) != None else None\n",
    "get_lng = lambda data: float(get_loc_json(data).find('lng').text) if get_loc_json(data) != None else None\n",
    "\n",
    "sum(pd.Series([get_lat(data) for data in result_list_1000_2000[0:1000]]) == None)"
   ]
  },
  {
   "cell_type": "markdown",
   "metadata": {},
   "source": [
    "# 2000~4000"
   ]
  },
  {
   "cell_type": "code",
   "execution_count": 4,
   "metadata": {
    "collapsed": true
   },
   "outputs": [],
   "source": [
    "result_list_2000_4000 = []"
   ]
  },
  {
   "cell_type": "code",
   "execution_count": null,
   "metadata": {
    "collapsed": true
   },
   "outputs": [],
   "source": [
    "serviceurl = 'http://maps.googleapis.com/maps/api/geocode/xml?'\n",
    "\n",
    "for i in range(2000,4000):\n",
    "    \n",
    "    address = data_address.address[i].encode(\"utf-8\")\n",
    "\n",
    "    # Python3 系：urllib.parse.urlencode()\n",
    "    # Python2 系：urllib.urlencode()\n",
    "    url = serviceurl + urllib.parse.urlencode({u'sensor':u'false', u'address': address})\n",
    "    print ('Retrieving', url)\n",
    "    # Python3 系：urllib.request.urlopen()\n",
    "    uh = urllib.request.urlopen(url)\n",
    "    data = uh.read()\n",
    "    #print ('Retrieved',len(data),'characters')\n",
    "    #print (data)\n",
    "    #print ()\n",
    "    tree = ET.fromstring(data)\n",
    "\n",
    "    results = tree.findall('result')\n",
    "    #lat = float( results[0].find('geometry').find('location').find('lat').text )\n",
    "    #lng = float( results[0].find('geometry').find('location').find('lng').text )\n",
    "    #location = results[0].find('formatted_address').text\n",
    "    \n",
    "    result_list_2000_4000.append(data)\n",
    "    time.sleep(5)\n",
    "    #print ('lat',lat,'lng',lng)\n",
    "    #print (location)\n",
    "\n",
    "    #data_address.longitude[i] = lng\n",
    "    #data_address.latitude[i] = lat"
   ]
  },
  {
   "cell_type": "code",
   "execution_count": 6,
   "metadata": {},
   "outputs": [
    {
     "data": {
      "text/plain": [
       "2000"
      ]
     },
     "execution_count": 6,
     "metadata": {},
     "output_type": "execute_result"
    }
   ],
   "source": [
    "len(result_list_2000_4000)"
   ]
  },
  {
   "cell_type": "code",
   "execution_count": 7,
   "metadata": {
    "collapsed": true,
    "scrolled": true
   },
   "outputs": [],
   "source": [
    "with open('../../gci_project_storage/result_list_2000_4000.pickle', mode='wb') as f:\n",
    "#    pickle.dump(result_list_2000_4000, f)"
   ]
  },
  {
   "cell_type": "code",
   "execution_count": 6,
   "metadata": {
    "collapsed": true,
    "scrolled": true
   },
   "outputs": [],
   "source": [
    "with open('../../gci_project_storage/result_list_2000_4000.pickle', mode='rb') as f:\n",
    "    result_list_2000_4000 = pickle.load(f)"
   ]
  },
  {
   "cell_type": "code",
   "execution_count": 17,
   "metadata": {},
   "outputs": [
    {
     "data": {
      "text/plain": [
       "0"
      ]
     },
     "execution_count": 17,
     "metadata": {},
     "output_type": "execute_result"
    }
   ],
   "source": [
    "get_loc_json = lambda data: ET.fromstring(data).findall('result')[0].find('geometry').find('location') if len(ET.fromstring(data).findall('result'))>0 else None \n",
    "get_lat = lambda data: float(get_loc_json(data).find('lat').text) if get_loc_json(data) != None else None\n",
    "get_lng = lambda data: float(get_loc_json(data).find('lng').text) if get_loc_json(data) != None else None\n",
    "\n",
    "sum(pd.Series([get_lat(data) for data in result_list_2000_4000[0:2000]]) == None)"
   ]
  },
  {
   "cell_type": "markdown",
   "metadata": {},
   "source": [
    "# 4000~6400"
   ]
  },
  {
   "cell_type": "code",
   "execution_count": 5,
   "metadata": {
    "collapsed": true
   },
   "outputs": [],
   "source": [
    "result_list_4000_6400 = []"
   ]
  },
  {
   "cell_type": "code",
   "execution_count": 6,
   "metadata": {
    "collapsed": true
   },
   "outputs": [],
   "source": [
    "serviceurl = 'http://maps.googleapis.com/maps/api/geocode/xml?'\n",
    "\n",
    "for i in range(4000,6400):\n",
    "    \n",
    "    address = data_address.address[i].encode(\"utf-8\")\n",
    "\n",
    "    # Python3 系：urllib.parse.urlencode()\n",
    "    # Python2 系：urllib.urlencode()\n",
    "    url = serviceurl + urllib.parse.urlencode({u'sensor':u'false', u'address': address})\n",
    "    #print ('Retrieving', url)\n",
    "    # Python3 系：urllib.request.urlopen()\n",
    "    uh = urllib.request.urlopen(url)\n",
    "    data = uh.read()\n",
    "    #print ('Retrieved',len(data),'characters')\n",
    "    #print (data)\n",
    "    #print ()\n",
    "    tree = ET.fromstring(data)\n",
    "\n",
    "    results = tree.findall('result')\n",
    "    #lat = float( results[0].find('geometry').find('location').find('lat').text )\n",
    "    #lng = float( results[0].find('geometry').find('location').find('lng').text )\n",
    "    #location = results[0].find('formatted_address').text\n",
    "    \n",
    "    result_list_4000_6400.append(data)\n",
    "    time.sleep(6)\n",
    "    #print ('lat',lat,'lng',lng)\n",
    "    #print (location)\n",
    "\n",
    "    #data_address.longitude[i] = lng\n",
    "    #data_address.latitude[i] = lat"
   ]
  },
  {
   "cell_type": "code",
   "execution_count": 7,
   "metadata": {},
   "outputs": [
    {
     "data": {
      "text/plain": [
       "2400"
      ]
     },
     "execution_count": 7,
     "metadata": {},
     "output_type": "execute_result"
    }
   ],
   "source": [
    "len(result_list_4000_6400)"
   ]
  },
  {
   "cell_type": "code",
   "execution_count": 8,
   "metadata": {
    "collapsed": true,
    "scrolled": true
   },
   "outputs": [],
   "source": [
    "with open('../../gci_project_storage/result_list_4000_6400.pickle', mode='wb') as f:\n",
    "#    pickle.dump(result_list_4000_6400, f)"
   ]
  },
  {
   "cell_type": "code",
   "execution_count": 7,
   "metadata": {
    "collapsed": true,
    "scrolled": true
   },
   "outputs": [],
   "source": [
    "with open('../../gci_project_storage/result_list_4000_6400.pickle', mode='rb') as f:\n",
    "    result_list_4000_6400 = pickle.load(f)"
   ]
  },
  {
   "cell_type": "code",
   "execution_count": 14,
   "metadata": {},
   "outputs": [
    {
     "data": {
      "text/plain": [
       "0"
      ]
     },
     "execution_count": 14,
     "metadata": {},
     "output_type": "execute_result"
    }
   ],
   "source": [
    "get_loc_json = lambda data: ET.fromstring(data).findall('result')[0].find('geometry').find('location') if len(ET.fromstring(data).findall('result'))>0 else None \n",
    "get_lat = lambda data: float(get_loc_json(data).find('lat').text) if get_loc_json(data) != None else None\n",
    "get_lng = lambda data: float(get_loc_json(data).find('lng').text) if get_loc_json(data) != None else None\n",
    "\n",
    "sum(pd.Series([get_lat(data) for data in result_list_4000_6400[0:2400]]) == None)"
   ]
  },
  {
   "cell_type": "markdown",
   "metadata": {},
   "source": [
    "# 6400~8274"
   ]
  },
  {
   "cell_type": "code",
   "execution_count": 7,
   "metadata": {
    "collapsed": true
   },
   "outputs": [],
   "source": [
    "result_list_6400_8274 = []"
   ]
  },
  {
   "cell_type": "code",
   "execution_count": 8,
   "metadata": {
    "collapsed": true
   },
   "outputs": [],
   "source": [
    "serviceurl = 'http://maps.googleapis.com/maps/api/geocode/xml?'\n",
    "\n",
    "for i in range(6400,8274):\n",
    "    \n",
    "    address = data_address.address[i].encode(\"utf-8\")\n",
    "\n",
    "    # Python3 系：urllib.parse.urlencode()\n",
    "    # Python2 系：urllib.urlencode()\n",
    "    url = serviceurl + urllib.parse.urlencode({u'sensor':u'false', u'address': address})\n",
    "    #print ('Retrieving', url)\n",
    "    # Python3 系：urllib.request.urlopen()\n",
    "    uh = urllib.request.urlopen(url)\n",
    "    data = uh.read()\n",
    "    #print ('Retrieved',len(data),'characters')\n",
    "    #print (data)\n",
    "    #print ()\n",
    "    tree = ET.fromstring(data)\n",
    "\n",
    "    results = tree.findall('result')\n",
    "    #lat = float( results[0].find('geometry').find('location').find('lat').text )\n",
    "    #lng = float( results[0].find('geometry').find('location').find('lng').text )\n",
    "    #location = results[0].find('formatted_address').text\n",
    "    \n",
    "    result_list_6400_8274.append(data)\n",
    "    time.sleep(6)\n",
    "    #print ('lat',lat,'lng',lng)\n",
    "    #print (location)\n",
    "\n",
    "    #data_address.longitude[i] = lng\n",
    "    #data_address.latitude[i] = lat"
   ]
  },
  {
   "cell_type": "code",
   "execution_count": 9,
   "metadata": {},
   "outputs": [
    {
     "data": {
      "text/plain": [
       "1874"
      ]
     },
     "execution_count": 9,
     "metadata": {},
     "output_type": "execute_result"
    }
   ],
   "source": [
    "len(result_list_6400_8274)"
   ]
  },
  {
   "cell_type": "code",
   "execution_count": 10,
   "metadata": {
    "collapsed": true,
    "scrolled": true
   },
   "outputs": [],
   "source": [
    "with open('../../gci_project_storage/result_list_6400_8274.pickle', mode='wb') as f:\n",
    "#    pickle.dump(result_list_6400_8274, f)"
   ]
  },
  {
   "cell_type": "code",
   "execution_count": 8,
   "metadata": {
    "collapsed": true,
    "scrolled": true
   },
   "outputs": [],
   "source": [
    "with open('../../gci_project_storage/result_list_6400_8274.pickle', mode='rb') as f:\n",
    "    result_list_6400_8274 = pickle.load(f)"
   ]
  },
  {
   "cell_type": "code",
   "execution_count": 14,
   "metadata": {},
   "outputs": [
    {
     "data": {
      "text/plain": [
       "0"
      ]
     },
     "execution_count": 14,
     "metadata": {},
     "output_type": "execute_result"
    }
   ],
   "source": [
    "get_loc_json = lambda data: ET.fromstring(data).findall('result')[0].find('geometry').find('location') if len(ET.fromstring(data).findall('result'))>0 else None \n",
    "get_lat = lambda data: float(get_loc_json(data).find('lat').text) if get_loc_json(data) != None else None\n",
    "get_lng = lambda data: float(get_loc_json(data).find('lng').text) if get_loc_json(data) != None else None\n",
    "\n",
    "sum(pd.Series([get_lat(data) for data in result_list_4000_6400[0:2400]]) == None)"
   ]
  },
  {
   "cell_type": "markdown",
   "metadata": {},
   "source": [
    "# 1~8274"
   ]
  },
  {
   "cell_type": "code",
   "execution_count": 11,
   "metadata": {
    "collapsed": true,
    "scrolled": true
   },
   "outputs": [],
   "source": [
    "get_loc_json = lambda data: ET.fromstring(data).findall('result')[0].find('geometry').find('location') if len(ET.fromstring(data).findall('result'))>0 else None \n",
    "get_lat = lambda data: float(get_loc_json(data).find('lat').text) if get_loc_json(data) != None else None\n",
    "get_lng = lambda data: float(get_loc_json(data).find('lng').text) if get_loc_json(data) != None else None"
   ]
  },
  {
   "cell_type": "code",
   "execution_count": 20,
   "metadata": {
    "collapsed": true
   },
   "outputs": [],
   "source": [
    "with open('../../gci_project_storage/result_list_0_1000.pickle', mode='rb') as f:\n",
    "    result_list_0_1000 = pickle.load(f)\n",
    "with open('../../gci_project_storage/result_list_1000_2000.pickle', mode='rb') as f:\n",
    "    result_list_1000_2000 = pickle.load(f)\n",
    "with open('../../gci_project_storage/result_list_2000_4000.pickle', mode='rb') as f:\n",
    "    result_list_2000_4000 = pickle.load(f)\n",
    "with open('../../gci_project_storage/result_list_4000_6400.pickle', mode='rb') as f:\n",
    "    result_list_4000_6400 = pickle.load(f)\n",
    "with open('../../gci_project_storage/result_list_6400_8274.pickle', mode='rb') as f:\n",
    "    result_list_6400_8274 = pickle.load(f)\n",
    "\n",
    "whole_geocoding_data = (result_list_0_1000\n",
    "    +result_list_1000_2000\n",
    "    +result_list_2000_4000\n",
    "    +result_list_4000_6400\n",
    "    +result_list_6400_8274\n",
    "    )"
   ]
  },
  {
   "cell_type": "code",
   "execution_count": null,
   "metadata": {
    "collapsed": true
   },
   "outputs": [],
   "source": [
    "data_address.latitude  = pd.Series([get_lat(data) for data in whole_geocoding_data])\n",
    "data_address.longitude = pd.Series([get_lng(data) for data in whole_geocoding_data])"
   ]
  },
  {
   "cell_type": "code",
   "execution_count": null,
   "metadata": {
    "collapsed": true
   },
   "outputs": [],
   "source": [
    "with open('../../gci_project_storage/data_address.pickle', mode='wb') as f:\n",
    "#    pickle.dump(data_address, f)"
   ]
  },
  {
   "cell_type": "code",
   "execution_count": 10,
   "metadata": {},
   "outputs": [
    {
     "data": {
      "text/html": [
       "<div>\n",
       "<style scoped>\n",
       "    .dataframe tbody tr th:only-of-type {\n",
       "        vertical-align: middle;\n",
       "    }\n",
       "\n",
       "    .dataframe tbody tr th {\n",
       "        vertical-align: top;\n",
       "    }\n",
       "\n",
       "    .dataframe thead th {\n",
       "        text-align: right;\n",
       "    }\n",
       "</style>\n",
       "<table border=\"1\" class=\"dataframe\">\n",
       "  <thead>\n",
       "    <tr style=\"text-align: right;\">\n",
       "      <th></th>\n",
       "      <th>address</th>\n",
       "      <th>longitude</th>\n",
       "      <th>latitude</th>\n",
       "    </tr>\n",
       "  </thead>\n",
       "  <tbody>\n",
       "    <tr>\n",
       "      <th>0</th>\n",
       "      <td>東京都文京区本郷４丁目</td>\n",
       "      <td>139.755550</td>\n",
       "      <td>35.710017</td>\n",
       "    </tr>\n",
       "    <tr>\n",
       "      <th>1</th>\n",
       "      <td>東京都文京区本駒込４丁目</td>\n",
       "      <td>139.756541</td>\n",
       "      <td>35.731682</td>\n",
       "    </tr>\n",
       "    <tr>\n",
       "      <th>2</th>\n",
       "      <td>東京都文京区音羽１丁目</td>\n",
       "      <td>139.729890</td>\n",
       "      <td>35.714008</td>\n",
       "    </tr>\n",
       "    <tr>\n",
       "      <th>3</th>\n",
       "      <td>東京都文京区千石４丁目</td>\n",
       "      <td>139.741245</td>\n",
       "      <td>35.729040</td>\n",
       "    </tr>\n",
       "    <tr>\n",
       "      <th>4</th>\n",
       "      <td>東京都文京区本郷４丁目2609</td>\n",
       "      <td>139.755550</td>\n",
       "      <td>35.710017</td>\n",
       "    </tr>\n",
       "  </tbody>\n",
       "</table>\n",
       "</div>"
      ],
      "text/plain": [
       "           address   longitude   latitude\n",
       "0      東京都文京区本郷４丁目  139.755550  35.710017\n",
       "1     東京都文京区本駒込４丁目  139.756541  35.731682\n",
       "2      東京都文京区音羽１丁目  139.729890  35.714008\n",
       "3      東京都文京区千石４丁目  139.741245  35.729040\n",
       "4  東京都文京区本郷４丁目2609  139.755550  35.710017"
      ]
     },
     "execution_count": 10,
     "metadata": {},
     "output_type": "execute_result"
    }
   ],
   "source": [
    "data_address.head()"
   ]
  },
  {
   "cell_type": "markdown",
   "metadata": {},
   "source": [
    "<h3>物件の Master Table の作成"
   ]
  },
  {
   "cell_type": "code",
   "execution_count": 11,
   "metadata": {
    "collapsed": true
   },
   "outputs": [],
   "source": [
    "table_name = \"address_master\"\n",
    "#data_address.to_sql(table_name, con=engine, if_exists=\"replace\", index=False)"
   ]
  },
  {
   "cell_type": "markdown",
   "metadata": {},
   "source": [
    "<h3>最寄駅情報の抽出"
   ]
  },
  {
   "cell_type": "code",
   "execution_count": 3,
   "metadata": {
    "scrolled": true
   },
   "outputs": [
    {
     "name": "stdout",
     "output_type": "stream",
     "text": [
      "# Station : 307\n",
      "# Rental Without Station : 81\n"
     ]
    }
   ],
   "source": [
    "# 駅名と徒歩何分かを取得する関数\n",
    "remove_bracket = lambda text :re.sub(u'\\(.+?\\)','',re.sub(u'（.+?）', '',re.sub(u'「」', '',text))) \n",
    "remove_question_mark = lambda text :re.sub(u'\\?','',text)\n",
    "remove_noise = lambda text:remove_bracket(remove_question_mark(text))\n",
    "remove_dot = lambda text :re.sub(u'・.+?線','',text)#\"・中央線東京駅\"みたいなのを除く\n",
    "\n",
    "get_station_info_0 = lambda text: (\n",
    "    re.findall(u\"線(\\S+?駅).*?徒歩([0-9]+?)分\", remove_noise(text)) \n",
    "    + re.findall(u\"ライン(\\S+?駅).*?徒歩([0-9]+?)分\", remove_noise(text)) \n",
    "    + re.findall(u\"ライナー(\\S+?駅).*?徒歩([0-9]+?)分\", remove_noise(text))\n",
    ")\n",
    "get_station_info = lambda text:{remove_dot(t[0]):int(t[1]) for t in get_station_info_0(text)} if len(get_station_info_0(text)) > 0 else {}\n",
    "get_station_name = lambda text:[remove_dot(t[0]) for t in get_station_info_0(text)] if len(get_station_info_0(text)) > 0 else []\n",
    "station_names = []\n",
    "\n",
    "# 駅の総数を調べる\n",
    "count_no_st = 0\n",
    "for text in data.traffic:\n",
    "    station_names += get_station_name(text)\n",
    "    if(len(get_station_name(text))==0):\n",
    "        count_no_st += 1\n",
    "station_names = pd.Series(pd.Series(station_names).unique())\n",
    "\n",
    "print(\"# Station : {}\".format(len(station_names)))\n",
    "print(\"# Rental Without Station : {}\".format(count_no_st)) #＜-徒歩でなく、バスで移動の物件はNoneが返り値"
   ]
  },
  {
   "cell_type": "code",
   "execution_count": 4,
   "metadata": {},
   "outputs": [
    {
     "name": "stdout",
     "output_type": "stream",
     "text": [
      "都営三田線白山駅?徒歩10分丸ノ内線後楽園駅?徒歩15分都営大江戸線春日駅?徒歩13分\n",
      "白山駅\n"
     ]
    }
   ],
   "source": [
    "print(remove_bracket(data[\"traffic\"][1758]))\n",
    "print(get_station_name(data[\"traffic\"][1758])[0])"
   ]
  },
  {
   "cell_type": "code",
   "execution_count": 5,
   "metadata": {},
   "outputs": [
    {
     "data": {
      "text/plain": [
       "Series([], Name: traffic, dtype: object)"
      ]
     },
     "execution_count": 5,
     "metadata": {},
     "output_type": "execute_result"
    }
   ],
   "source": [
    "data.traffic[data.traffic.apply(lambda text: u\"イナー\" in get_station_name(text) )]"
   ]
  },
  {
   "cell_type": "code",
   "execution_count": null,
   "metadata": {
    "collapsed": true
   },
   "outputs": [],
   "source": [
    "text = data.traffic[245]\n",
    "print(text)\n",
    "for st_name in get_station_name(text):\n",
    "    print(st_name)\n",
    "# u\"[線(ライン)(ライナー)](\\S+?駅).*?徒歩([0-9]+?)分\"をfindall\n",
    "print(remove_noise(text))\n",
    "print(re.findall(u\"ライナー(.+?駅).*?徒歩([0-9]+?)分\",remove_noise(text))[0][0])"
   ]
  },
  {
   "cell_type": "code",
   "execution_count": 7,
   "metadata": {
    "collapsed": true
   },
   "outputs": [],
   "source": [
    "station_info = data.traffic.apply(get_station_info)"
   ]
  },
  {
   "cell_type": "code",
   "execution_count": null,
   "metadata": {
    "scrolled": false
   },
   "outputs": [],
   "source": [
    "station_info.head()"
   ]
  },
  {
   "cell_type": "markdown",
   "metadata": {},
   "source": [
    "# 駅のGeocoding"
   ]
  },
  {
   "cell_type": "code",
   "execution_count": 17,
   "metadata": {
    "collapsed": true
   },
   "outputs": [],
   "source": [
    "result_list_station = []"
   ]
  },
  {
   "cell_type": "code",
   "execution_count": 18,
   "metadata": {},
   "outputs": [
    {
     "ename": "KeyboardInterrupt",
     "evalue": "",
     "output_type": "error",
     "traceback": [
      "\u001b[1;31m---------------------------------------------------------------------------\u001b[0m",
      "\u001b[1;31mKeyboardInterrupt\u001b[0m                         Traceback (most recent call last)",
      "\u001b[1;32m<ipython-input-18-d85cd88b370d>\u001b[0m in \u001b[0;36m<module>\u001b[1;34m()\u001b[0m\n\u001b[0;32m     21\u001b[0m \u001b[1;33m\u001b[0m\u001b[0m\n\u001b[0;32m     22\u001b[0m     \u001b[0mresult_list_station\u001b[0m\u001b[1;33m.\u001b[0m\u001b[0mappend\u001b[0m\u001b[1;33m(\u001b[0m\u001b[0mdata\u001b[0m\u001b[1;33m)\u001b[0m\u001b[1;33m\u001b[0m\u001b[0m\n\u001b[1;32m---> 23\u001b[1;33m     \u001b[0mtime\u001b[0m\u001b[1;33m.\u001b[0m\u001b[0msleep\u001b[0m\u001b[1;33m(\u001b[0m\u001b[1;36m4\u001b[0m\u001b[1;33m)\u001b[0m\u001b[1;33m\u001b[0m\u001b[0m\n\u001b[0m\u001b[0;32m     24\u001b[0m     \u001b[1;31m#print ('lat',lat,'lng',lng)\u001b[0m\u001b[1;33m\u001b[0m\u001b[1;33m\u001b[0m\u001b[0m\n\u001b[0;32m     25\u001b[0m     \u001b[1;31m#print (location)\u001b[0m\u001b[1;33m\u001b[0m\u001b[1;33m\u001b[0m\u001b[0m\n",
      "\u001b[1;31mKeyboardInterrupt\u001b[0m: "
     ]
    }
   ],
   "source": [
    "serviceurl = 'http://maps.googleapis.com/maps/api/geocode/xml?'\n",
    "\n",
    "for address in data_address.address:\n",
    "    \n",
    "    # Python3 系：urllib.parse.urlencode()\n",
    "    # Python2 系：urllib.urlencode()\n",
    "    url = serviceurl + urllib.parse.urlencode({u'sensor':u'false', u'address': address})\n",
    "    #print ('Retrieving', url)\n",
    "    # Python3 系：urllib.request.urlopen()\n",
    "    uh = urllib.request.urlopen(url)\n",
    "    data = uh.read()\n",
    "    #print ('Retrieved',len(data),'characters')\n",
    "    #print (data)\n",
    "    #print ()\n",
    "    tree = ET.fromstring(data)\n",
    "\n",
    "    results = tree.findall('result')\n",
    "    #lat = float( results[0].find('geometry').find('location').find('lat').text )\n",
    "    #lng = float( results[0].find('geometry').find('location').find('lng').text )\n",
    "    #location = results[0].find('formatted_address').text\n",
    "    \n",
    "    result_list_station.append(data)\n",
    "    time.sleep(4)\n",
    "    #print ('lat',lat,'lng',lng)\n",
    "    #print (location)\n",
    "\n",
    "    #data_address.longitude[i] = lng\n",
    "    #data_address.latitude[i] = lat"
   ]
  },
  {
   "cell_type": "code",
   "execution_count": null,
   "metadata": {},
   "outputs": [],
   "source": [
    "len(result_list_station)"
   ]
  },
  {
   "cell_type": "markdown",
   "metadata": {},
   "source": [
    "<h3>駅の Master Table の作成"
   ]
  },
  {
   "cell_type": "code",
   "execution_count": 110,
   "metadata": {
    "collapsed": true
   },
   "outputs": [],
   "source": [
    "station_master = pd.DataFrame({ \n",
    "    'station_name' : station_names,\n",
    "    'longitude' : None,\n",
    "    'latitude' : None\n",
    "})"
   ]
  },
  {
   "cell_type": "code",
   "execution_count": 11,
   "metadata": {
    "collapsed": true,
    "scrolled": true
   },
   "outputs": [],
   "source": [
    "get_loc_json = lambda data: ET.fromstring(data).findall('result')[0].find('geometry').find('location') if len(ET.fromstring(data).findall('result'))>0 else None \n",
    "get_lat = lambda data: float(get_loc_json(data).find('lat').text) if get_loc_json(data) != None else None\n",
    "get_lng = lambda data: float(get_loc_json(data).find('lng').text) if get_loc_json(data) != None else None"
   ]
  },
  {
   "cell_type": "code",
   "execution_count": null,
   "metadata": {
    "collapsed": true
   },
   "outputs": [],
   "source": [
    "station_master.latitude  = [get_lat(data) for data in result_list_station]\n",
    "station_master.longitude = [get_lng(data) for data in result_list_station]"
   ]
  },
  {
   "cell_type": "code",
   "execution_count": 113,
   "metadata": {
    "collapsed": true,
    "scrolled": false
   },
   "outputs": [],
   "source": [
    "table_name = \"station_master\"\n",
    "station_master.to_sql(table_name, con=engine, if_exists=\"replace\", index=False)"
   ]
  }
 ],
 "metadata": {
  "anaconda-cloud": {},
  "kernelspec": {
   "display_name": "Python [conda env:py35]",
   "language": "python",
   "name": "conda-env-py35-py"
  },
  "language_info": {
   "codemirror_mode": {
    "name": "ipython",
    "version": 3
   },
   "file_extension": ".py",
   "mimetype": "text/x-python",
   "name": "python",
   "nbconvert_exporter": "python",
   "pygments_lexer": "ipython3",
   "version": "3.5.4"
  }
 },
 "nbformat": 4,
 "nbformat_minor": 1
}
