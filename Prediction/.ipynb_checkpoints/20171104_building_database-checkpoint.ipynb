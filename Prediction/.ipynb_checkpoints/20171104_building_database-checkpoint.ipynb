{
 "cells": [
  {
   "cell_type": "markdown",
   "metadata": {},
   "source": [
    "# データベースの作成"
   ]
  },
  {
   "cell_type": "code",
   "execution_count": 1,
   "metadata": {
    "collapsed": false
   },
   "outputs": [],
   "source": [
    "import pandas as pd\n",
    "import pyodbc\n",
    "from sqlalchemy import create_engine"
   ]
  },
  {
   "cell_type": "code",
   "execution_count": 2,
   "metadata": {
    "collapsed": false,
    "scrolled": true
   },
   "outputs": [],
   "source": [
    "# データの読み込み\n",
    "# data = pd.read_csv(\"../../gci_project_storage/mynavi_data2.csv\", sep=\",\", encoding=\"UTF-8\")\n",
    "# 上手くいかないので、pickle\n",
    "import pickle\n",
    "with open('../../gci_project_storage/data.pickle', mode='rb') as f:\n",
    "     data = pickle.load(f)"
   ]
  },
  {
   "cell_type": "code",
   "execution_count": 3,
   "metadata": {
    "collapsed": false,
    "scrolled": false
   },
   "outputs": [
    {
     "data": {
      "text/plain": [
       "(46469, 224)"
      ]
     },
     "execution_count": 3,
     "metadata": {},
     "output_type": "execute_result"
    }
   ],
   "source": [
    "data.shape"
   ]
  },
  {
   "cell_type": "markdown",
   "metadata": {},
   "source": [
    "<h3>目次：</h3><br>\n",
    "・Geo Coding用のカラムの追加<br>\n",
    "・データベースにぶち込む<br>"
   ]
  },
  {
   "cell_type": "markdown",
   "metadata": {},
   "source": [
    "<h3>Geo Coding用のカラムの追加"
   ]
  },
  {
   "cell_type": "code",
   "execution_count": 4,
   "metadata": {
    "collapsed": false
   },
   "outputs": [
    {
     "data": {
      "text/plain": [
       "(46469, 226)"
      ]
     },
     "execution_count": 4,
     "metadata": {},
     "output_type": "execute_result"
    }
   ],
   "source": [
    "new_colnames = [\"altitude\",\"latitude\"]\n",
    "df_new = pd.DataFrame(index=data.index, columns=new_colnames)\n",
    "data = pd.concat([data,df_new],axis=1)\n",
    "data.shape"
   ]
  },
  {
   "cell_type": "markdown",
   "metadata": {},
   "source": [
    "<h3>データベースにぶち込む"
   ]
  },
  {
   "cell_type": "code",
   "execution_count": 5,
   "metadata": {
    "collapsed": true
   },
   "outputs": [],
   "source": [
    "# データベースの情報\n",
    "server = 'gciteam16.database.windows.net'\n",
    "database = 'mynavi-database'\n",
    "username = 'gciteam16'\n",
    "password = 'Password0'\n",
    "port =1433\n",
    "cnxn = pyodbc.connect('DRIVER={ODBC Driver 13 for SQL Server};SERVER='+server+';DATABASE='+database+';UID='+username+';PWD='+ password)\n",
    "cursor = cnxn.cursor()"
   ]
  },
  {
   "cell_type": "code",
   "execution_count": 6,
   "metadata": {
    "collapsed": false
   },
   "outputs": [
    {
     "name": "stdout",
     "output_type": "stream",
     "text": [
      "Microsoft SQL Azure (RTM) - 12.0.2000.8 \n",
      "\tAug 29 2017 13:06:11 \n",
      "\tCopyright (C) 2017 Microsoft Corporation\n",
      "\n"
     ]
    }
   ],
   "source": [
    "#Sample select query\n",
    "cursor.execute(\"SELECT @@version;\") \n",
    "row = cursor.fetchone() \n",
    "while row: \n",
    "    print(row[0]) \n",
    "    row = cursor.fetchone()"
   ]
  },
  {
   "cell_type": "code",
   "execution_count": 9,
   "metadata": {
    "collapsed": false
   },
   "outputs": [],
   "source": [
    "# 接続エンジンの作成\n",
    "engine_config = \"?driver=ODBC+Driver+13+for+SQL+Server?charset=shift-jis\"\n",
    "db_settings = {\n",
    "    \"host\": server,\n",
    "    \"database\": database,\n",
    "    \"user\": username,\n",
    "    \"password\": password,\n",
    "    \"port\":port,\n",
    "    \"config_query\":engine_config\n",
    "}\n",
    "engine = create_engine('mssql+pyodbc://{user}:{password}@{host}:{port}/{database}{config_query}'.format(**db_settings))"
   ]
  },
  {
   "cell_type": "code",
   "execution_count": null,
   "metadata": {
    "collapsed": true
   },
   "outputs": [],
   "source": [
    "# DBにぶち込む\n",
    "table_name = \"main_table\"\n",
    "data.to_sql(table_name, con=engine, if_exists=\"fail\", index=False)"
   ]
  },
  {
   "cell_type": "code",
   "execution_count": 15,
   "metadata": {
    "collapsed": false
   },
   "outputs": [],
   "source": [
    "# DBにぶち込む\n",
    "table_name = \"test_table\"\n",
    "data.head().to_sql(table_name, con=engine, if_exists=\"replace\", index=False)"
   ]
  },
  {
   "cell_type": "code",
   "execution_count": 16,
   "metadata": {
    "collapsed": false
   },
   "outputs": [
    {
     "data": {
      "text/html": [
       "<div>\n",
       "<table border=\"1\" class=\"dataframe\">\n",
       "  <thead>\n",
       "    <tr style=\"text-align: right;\">\n",
       "      <th></th>\n",
       "      <th>traffic</th>\n",
       "      <th>address</th>\n",
       "      <th>rent</th>\n",
       "      <th>area</th>\n",
       "      <th>deposit</th>\n",
       "      <th>key_money</th>\n",
       "      <th>brokerage_fee</th>\n",
       "      <th>date</th>\n",
       "      <th>layout</th>\n",
       "      <th>layout_detail</th>\n",
       "      <th>...</th>\n",
       "      <th>general_hospital_Null_to_Zero</th>\n",
       "      <th>hospital_Null_to_Zero</th>\n",
       "      <th>park_Null_to_Zero</th>\n",
       "      <th>university_Null_to_Zero</th>\n",
       "      <th>rental_video_Null_to_Zero</th>\n",
       "      <th>cleaning_shop_Null_to_Zero</th>\n",
       "      <th>department_store_Null_to_Zero</th>\n",
       "      <th>the_number_of_rooms_Null_to_Zero</th>\n",
       "      <th>altitude</th>\n",
       "      <th>latitude</th>\n",
       "    </tr>\n",
       "  </thead>\n",
       "  <tbody>\n",
       "    <tr>\n",
       "      <th>0</th>\n",
       "      <td>都営三田線春日(東京都)駅?徒歩2分丸ノ内線(池袋0荻窪)後楽園駅?徒歩4分都営大江戸線本郷...</td>\n",
       "      <td>東京都文京区本郷４丁目</td>\n",
       "      <td>7.7</td>\n",
       "      <td>19.87</td>\n",
       "      <td>77000</td>\n",
       "      <td>77000</td>\n",
       "      <td>41,580</td>\n",
       "      <td>1985年3月</td>\n",
       "      <td>1K</td>\n",
       "      <td>None</td>\n",
       "      <td>...</td>\n",
       "      <td>0.0</td>\n",
       "      <td>0.0</td>\n",
       "      <td>0.0</td>\n",
       "      <td>0.0</td>\n",
       "      <td>0.0</td>\n",
       "      <td>0.0</td>\n",
       "      <td>0.0</td>\n",
       "      <td>1</td>\n",
       "      <td>None</td>\n",
       "      <td>None</td>\n",
       "    </tr>\n",
       "    <tr>\n",
       "      <th>1</th>\n",
       "      <td>山手線田端駅?徒歩10分千代田線千駄木駅?徒歩12分南北線本駒込駅?徒歩13分</td>\n",
       "      <td>東京都文京区本駒込４丁目</td>\n",
       "      <td>7.9</td>\n",
       "      <td>25.01</td>\n",
       "      <td>79000</td>\n",
       "      <td>0</td>\n",
       "      <td>None</td>\n",
       "      <td>1999年3月</td>\n",
       "      <td>1K</td>\n",
       "      <td>None</td>\n",
       "      <td>...</td>\n",
       "      <td>0.0</td>\n",
       "      <td>0.0</td>\n",
       "      <td>0.0</td>\n",
       "      <td>0.0</td>\n",
       "      <td>0.0</td>\n",
       "      <td>0.0</td>\n",
       "      <td>0.0</td>\n",
       "      <td>1</td>\n",
       "      <td>None</td>\n",
       "      <td>None</td>\n",
       "    </tr>\n",
       "    <tr>\n",
       "      <th>2</th>\n",
       "      <td>山手線田端駅?徒歩10分千代田線千駄木駅?徒歩12分南北線本駒込駅?徒歩13分千代田線　千駄木駅</td>\n",
       "      <td>東京都文京区本駒込４丁目</td>\n",
       "      <td>7.6</td>\n",
       "      <td>25.17</td>\n",
       "      <td>76000</td>\n",
       "      <td>0</td>\n",
       "      <td>None</td>\n",
       "      <td>1999年3月</td>\n",
       "      <td>1K</td>\n",
       "      <td>None</td>\n",
       "      <td>...</td>\n",
       "      <td>0.0</td>\n",
       "      <td>539.0</td>\n",
       "      <td>0.0</td>\n",
       "      <td>0.0</td>\n",
       "      <td>0.0</td>\n",
       "      <td>0.0</td>\n",
       "      <td>0.0</td>\n",
       "      <td>1</td>\n",
       "      <td>None</td>\n",
       "      <td>None</td>\n",
       "    </tr>\n",
       "    <tr>\n",
       "      <th>3</th>\n",
       "      <td>山手線田端駅?徒歩10分千代田線千駄木駅?徒歩12分南北線本駒込駅?徒歩13分</td>\n",
       "      <td>東京都文京区本駒込４丁目</td>\n",
       "      <td>9.0</td>\n",
       "      <td>21.68</td>\n",
       "      <td>90000</td>\n",
       "      <td>90000</td>\n",
       "      <td>None</td>\n",
       "      <td>1999年3月</td>\n",
       "      <td>1K</td>\n",
       "      <td>None</td>\n",
       "      <td>...</td>\n",
       "      <td>0.0</td>\n",
       "      <td>0.0</td>\n",
       "      <td>0.0</td>\n",
       "      <td>0.0</td>\n",
       "      <td>0.0</td>\n",
       "      <td>0.0</td>\n",
       "      <td>0.0</td>\n",
       "      <td>1</td>\n",
       "      <td>None</td>\n",
       "      <td>None</td>\n",
       "    </tr>\n",
       "    <tr>\n",
       "      <th>4</th>\n",
       "      <td>有楽町線護国寺駅?徒歩6分有楽町線江戸川橋駅?徒歩5分丸ノ内線(池袋0荻窪)茗荷谷駅?徒歩13分</td>\n",
       "      <td>東京都文京区音羽１丁目</td>\n",
       "      <td>8.7</td>\n",
       "      <td>25.01</td>\n",
       "      <td>87000</td>\n",
       "      <td>87000</td>\n",
       "      <td>None</td>\n",
       "      <td>2013年9月</td>\n",
       "      <td>1K</td>\n",
       "      <td>洋室 7.3畳</td>\n",
       "      <td>...</td>\n",
       "      <td>0.0</td>\n",
       "      <td>0.0</td>\n",
       "      <td>0.0</td>\n",
       "      <td>0.0</td>\n",
       "      <td>0.0</td>\n",
       "      <td>0.0</td>\n",
       "      <td>0.0</td>\n",
       "      <td>1</td>\n",
       "      <td>None</td>\n",
       "      <td>None</td>\n",
       "    </tr>\n",
       "  </tbody>\n",
       "</table>\n",
       "<p>5 rows × 226 columns</p>\n",
       "</div>"
      ],
      "text/plain": [
       "                                             traffic       address  rent  \\\n",
       "0  都営三田線春日(東京都)駅?徒歩2分丸ノ内線(池袋0荻窪)後楽園駅?徒歩4分都営大江戸線本郷...   東京都文京区本郷４丁目   7.7   \n",
       "1            山手線田端駅?徒歩10分千代田線千駄木駅?徒歩12分南北線本駒込駅?徒歩13分  東京都文京区本駒込４丁目   7.9   \n",
       "2   山手線田端駅?徒歩10分千代田線千駄木駅?徒歩12分南北線本駒込駅?徒歩13分千代田線　千駄木駅  東京都文京区本駒込４丁目   7.6   \n",
       "3            山手線田端駅?徒歩10分千代田線千駄木駅?徒歩12分南北線本駒込駅?徒歩13分  東京都文京区本駒込４丁目   9.0   \n",
       "4   有楽町線護国寺駅?徒歩6分有楽町線江戸川橋駅?徒歩5分丸ノ内線(池袋0荻窪)茗荷谷駅?徒歩13分   東京都文京区音羽１丁目   8.7   \n",
       "\n",
       "    area  deposit  key_money brokerage_fee     date layout layout_detail  \\\n",
       "0  19.87    77000      77000        41,580  1985年3月     1K          None   \n",
       "1  25.01    79000          0          None  1999年3月     1K          None   \n",
       "2  25.17    76000          0          None  1999年3月     1K          None   \n",
       "3  21.68    90000      90000          None  1999年3月     1K          None   \n",
       "4  25.01    87000      87000          None  2013年9月     1K       洋室 7.3畳   \n",
       "\n",
       "     ...    general_hospital_Null_to_Zero hospital_Null_to_Zero  \\\n",
       "0    ...                              0.0                   0.0   \n",
       "1    ...                              0.0                   0.0   \n",
       "2    ...                              0.0                 539.0   \n",
       "3    ...                              0.0                   0.0   \n",
       "4    ...                              0.0                   0.0   \n",
       "\n",
       "   park_Null_to_Zero university_Null_to_Zero rental_video_Null_to_Zero  \\\n",
       "0                0.0                     0.0                       0.0   \n",
       "1                0.0                     0.0                       0.0   \n",
       "2                0.0                     0.0                       0.0   \n",
       "3                0.0                     0.0                       0.0   \n",
       "4                0.0                     0.0                       0.0   \n",
       "\n",
       "  cleaning_shop_Null_to_Zero department_store_Null_to_Zero  \\\n",
       "0                        0.0                           0.0   \n",
       "1                        0.0                           0.0   \n",
       "2                        0.0                           0.0   \n",
       "3                        0.0                           0.0   \n",
       "4                        0.0                           0.0   \n",
       "\n",
       "  the_number_of_rooms_Null_to_Zero altitude  latitude  \n",
       "0                                1     None      None  \n",
       "1                                1     None      None  \n",
       "2                                1     None      None  \n",
       "3                                1     None      None  \n",
       "4                                1     None      None  \n",
       "\n",
       "[5 rows x 226 columns]"
      ]
     },
     "execution_count": 16,
     "metadata": {},
     "output_type": "execute_result"
    }
   ],
   "source": [
    "# DBの読み込み\n",
    "pd.read_sql_query(\"select * from test_table;\", con = engine)"
   ]
  },
  {
   "cell_type": "code",
   "execution_count": null,
   "metadata": {
    "collapsed": true
   },
   "outputs": [],
   "source": []
  }
 ],
 "metadata": {
  "anaconda-cloud": {},
  "kernelspec": {
   "display_name": "Python [Root]",
   "language": "python",
   "name": "Python [Root]"
  },
  "language_info": {
   "codemirror_mode": {
    "name": "ipython",
    "version": 3
   },
   "file_extension": ".py",
   "mimetype": "text/x-python",
   "name": "python",
   "nbconvert_exporter": "python",
   "pygments_lexer": "ipython3",
   "version": "3.5.2"
  }
 },
 "nbformat": 4,
 "nbformat_minor": 0
}
