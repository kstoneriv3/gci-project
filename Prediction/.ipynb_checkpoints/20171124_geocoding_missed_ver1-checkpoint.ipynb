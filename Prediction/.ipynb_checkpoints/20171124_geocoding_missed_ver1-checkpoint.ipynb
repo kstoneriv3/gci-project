{
 "cells": [
  {
   "cell_type": "markdown",
   "metadata": {},
   "source": [
    "# Geo Coding (緯度経度取得)・最寄駅情報取得を行う"
   ]
  },
  {
   "cell_type": "code",
   "execution_count": 4,
   "metadata": {
    "collapsed": true
   },
   "outputs": [],
   "source": [
    "import pandas as pd\n",
    "import numpy as np\n",
    "import urllib\n",
    "import xml.etree.ElementTree as ET\n",
    "import re\n",
    "import pandas as pd\n",
    "import time\n",
    "import pickle"
   ]
  },
  {
   "cell_type": "markdown",
   "metadata": {},
   "source": [
    "# 脱漏の補充_0~2000"
   ]
  },
  {
   "cell_type": "code",
   "execution_count": 5,
   "metadata": {
    "collapsed": true
   },
   "outputs": [],
   "source": [
    "with open('../../gci_project_storage/result_list_missed.pickle', mode='rb') as f:\n",
    "    addresses = pickle.load(f)"
   ]
  },
  {
   "cell_type": "code",
   "execution_count": 6,
   "metadata": {
    "collapsed": true
   },
   "outputs": [],
   "source": [
    "result_list_to_2000_missed = []"
   ]
  },
  {
   "cell_type": "code",
   "execution_count": null,
   "metadata": {
    "collapsed": false
   },
   "outputs": [
    {
     "name": "stdout",
     "output_type": "stream",
     "text": [
      "東京都世田谷区給田２丁目\n",
      "東京都世田谷区桜上水５丁目\n",
      "東京都世田谷区北沢１丁目\n",
      "東京都世田谷区千歳台３丁目\n",
      "東京都世田谷区代田２丁目\n",
      "東京都世田谷区宇奈根２丁目\n",
      "東京都世田谷区深沢３丁目\n",
      "東京都世田谷区松原２丁目\n",
      "東京都世田谷区南烏山６丁目\n",
      "東京都世田谷区用賀２丁目\n",
      "東京都世田谷区等々力４丁目6016\n",
      "東京都世田谷区上馬2丁目\n",
      "東京都世田谷区北烏山６丁目\n",
      "東京都世田谷区北沢２丁目３８0７\n",
      "東京都世田谷区砧３丁目\n",
      "東京都世田谷区用賀４丁目\n",
      "東京都世田谷区玉川田園調布２丁目\n",
      "東京都世田谷区桜１丁目\n",
      "東京都世田谷区若林１丁目\n",
      "東京都世田谷区北烏山７丁目10022\n",
      "東京都世田谷区代田１丁目4106\n",
      "東京都世田谷区太子堂2丁目\n",
      "東京都世田谷区弦巻4丁目\n",
      "東京都世田谷区砧４丁目10023\n",
      "東京都世田谷区北沢２丁目\n",
      "東京都世田谷区給田５丁目\n",
      "東京都台東区浅草橋５丁目12016\n",
      "東京都台東区根岸２丁目5017\n",
      "東京都台東区入谷２丁目2201\n",
      "東京都台東区浅草３丁目４１0１３\n",
      "東京都台東区元浅草２丁目7012\n",
      "東京都台東区西浅草２丁目501\n",
      "東京都台東区千束１丁目16013\n",
      "東京都台東区柳橋２丁目1601\n",
      "東京都台東区上野２丁目\n",
      "東京都台東区鳥越１丁目2702\n",
      "東京都台東区浅草１丁目３７0６\n",
      "東京都台東区池之端２丁目7018\n",
      "東京都台東区浅草橋４丁目１２0４\n",
      "東京都台東区元浅草３丁目804\n",
      "東京都台東区浅草４丁目28013\n",
      "東京都台東区今戸２丁目2001\n",
      "東京都台東区元浅草４丁目8010\n",
      "東京都台東区東上野１丁目11013\n",
      "東京都台東区元浅草１丁目8011\n",
      "東京都台東区東浅草１丁目603\n",
      "東京都台東区東浅草１丁目604\n",
      "東京都台東区池之端２丁目8018\n",
      "東京都台東区花川戸１丁目607\n",
      "東京都台東区西浅草２丁目205\n",
      "東京都台東区浅草橋１丁目2704\n",
      "東京都台東区上野２丁目１１0２０\n",
      "東京都台東区浅草橋５丁目404\n",
      "東京都台東区浅草６丁目21014\n",
      "東京都台東区東浅草１丁目402\n",
      "東京都台東区雷門１丁目1309\n",
      "東京都台東区鳥越２丁目904\n",
      "東京都台東区日本堤１丁目１0１１\n",
      "東京都台東区雷門２丁目2008\n",
      "東京都台東区台東２丁目2003\n",
      "東京都台東区台東２丁目２０0３\n",
      "東京都台東区入谷２丁目3307\n",
      "東京都台東区浅草６丁目13012\n",
      "東京都台東区千束１丁目101\n",
      "東京都台東区北上野１丁目707\n",
      "東京都台東区西浅草１丁目603\n",
      "東京都台東区元浅草３丁目18012\n",
      "東京都台東区元浅草３丁目１８0１２\n",
      "東京都台東区鳥越２丁目907\n",
      "東京都台東区上野７丁目１１0５\n",
      "東京都台東区千束４丁目5005\n",
      "東京都台東区千束３丁目３３0９\n",
      "東京都台東区日本堤２丁目1405\n",
      "東京都台東区浅草橋１丁目3109\n",
      "東京都台東区浅草橋３丁目２２0８\n",
      "東京都台東区千束１丁目209\n",
      "東京都台東区柳橋２丁目１５番３号\n",
      "東京都台東区柳橋２丁目１５0３\n",
      "東京都台東区寿２丁目408\n",
      "東京都台東区根岸４丁目807\n",
      "東京都台東区蔵前１丁目１0１\n",
      "東京都台東区蔵前１丁目101\n",
      "東京都台東区北上野１丁目1505\n",
      "東京都台東区北上野１丁目１５0５\n",
      "東京都台東区浅草３丁目4207\n",
      "東京都台東区蔵前４丁目2307\n",
      "東京都台東区竜泉３丁目３５0１４\n",
      "東京都台東区入谷２丁目22\n",
      "東京都台東区寿１丁目503\n",
      "東京都台東区台東３丁目５0３\n",
      "東京都台東区浅草２丁目1903\n",
      "東京都台東区三筋１丁目904\n",
      "東京都台東区清川２丁目1808\n",
      "東京都台東区元浅草４丁目2014\n",
      "東京都台東区浅草３丁目４0２\n",
      "東京都台東区下谷２丁目5026\n",
      "東京都台東区千束３丁目２６0２１\n",
      "東京都台東区根岸１丁目\n",
      "東京都台東区浅草橋３丁目３０0５\n",
      "東京都台東区浅草橋４丁目１５0４\n",
      "東京都台東区浅草３丁目2305\n",
      "東京都台東区浅草橋３丁目402\n",
      "東京都台東区根岸２丁目401\n",
      "東京都台東区浅草５丁目５０0１２\n",
      "東京都台東区竜泉１丁目８0１\n",
      "東京都台東区三ノ輪１丁目11010\n",
      "東京都台東区日本堤２丁目1703\n",
      "東京都台東区谷中３丁目11017\n",
      "東京都台東区谷中６丁目2023\n",
      "東京都台東区鳥越１丁目７0２\n",
      "東京都台東区元浅草２丁目２0１１\n",
      "東京都台東区元浅草４丁目603\n",
      "東京都台東区元浅草４丁目６0３\n",
      "東京都台東区上野５丁目1805\n"
     ]
    }
   ],
   "source": [
    "serviceurl = 'http://maps.googleapis.com/maps/api/geocode/xml?'\n",
    "if_NG = True\n",
    "count_tmp = 0 \n",
    "\n",
    "for address in addresses[:2000]:\n",
    "    time_to_wait = 0\n",
    "    while if_NG==True:\n",
    "        url = serviceurl + urllib.parse.urlencode({u'sensor':u'false', u'address': address})\n",
    "        uh = urllib.request.urlopen(url)\n",
    "        data = uh.read()\n",
    "        tree = ET.fromstring(data)\n",
    "        if_NG = tree.findall(\"status\")[0].text!='OK'\n",
    "        if if_NG:\n",
    "            time_to_wait += 10\n",
    "            time.sleep(time_to_wait)\n",
    "    results = tree.findall('result')\n",
    "    result_list_to_2000_missed.append(data)\n",
    "    print(address)\n",
    "    time.sleep(5)\n",
    "    if_NG = True\n",
    "    count_tmp += 1\n",
    "    if count_tmp==100:\n",
    "        count_tmp = 0\n",
    "        with open('../../gci_project_storage/result_list_to_2000_missed_tmp.pickle', mode='wb') as f:\n",
    "            pickle.dump(result_list_to_2000_missed, f)"
   ]
  },
  {
   "cell_type": "code",
   "execution_count": null,
   "metadata": {
    "collapsed": false
   },
   "outputs": [],
   "source": [
    "len(result_list_to_2000_missed)"
   ]
  },
  {
   "cell_type": "code",
   "execution_count": null,
   "metadata": {
    "collapsed": true,
    "scrolled": true
   },
   "outputs": [],
   "source": [
    "with open('../../gci_project_storage/result_list_to_2000_missed.pickle', mode='wb') as f:\n",
    "    pickle.dump(result_list_to_2000_missed, f)"
   ]
  },
  {
   "cell_type": "code",
   "execution_count": null,
   "metadata": {
    "collapsed": true,
    "scrolled": true
   },
   "outputs": [],
   "source": [
    "with open('../../gci_project_storage/result_list_to_2000_missed.pickle', mode='rb') as f:\n",
    "    result_list_to_2000_missed = pickle.load(f)"
   ]
  },
  {
   "cell_type": "code",
   "execution_count": null,
   "metadata": {
    "collapsed": true
   },
   "outputs": [],
   "source": [
    "get_loc_json = lambda data: ET.fromstring(data).findall('result')[0].find('geometry').find('location') if len(ET.fromstring(data).findall('result'))>0 else None \n",
    "get_lat = lambda data: float(get_loc_json(data).find('lat').text) if get_loc_json(data) != None else None\n",
    "get_lng = lambda data: float(get_loc_json(data).find('lng').text) if get_loc_json(data) != None else None\n",
    "\n",
    "import math\n",
    "sum(pd.Series([get_lat(data) for data in result_list_to_2000_missed]).apply(math.isnan))"
   ]
  },
  {
   "cell_type": "markdown",
   "metadata": {},
   "source": [
    "# 脱漏の補充_2000~"
   ]
  },
  {
   "cell_type": "code",
   "execution_count": 5,
   "metadata": {
    "collapsed": true
   },
   "outputs": [],
   "source": [
    "with open('result_list_missed.pickle', mode='rb') as f:\n",
    "    addresses = pickle.load(f)"
   ]
  },
  {
   "cell_type": "code",
   "execution_count": 35,
   "metadata": {
    "collapsed": true
   },
   "outputs": [],
   "source": [
    "result_list_from_2000_missed = []"
   ]
  },
  {
   "cell_type": "code",
   "execution_count": 36,
   "metadata": {
    "collapsed": true
   },
   "outputs": [],
   "source": [
    "serviceurl = 'http://maps.googleapis.com/maps/api/geocode/xml?'\n",
    "if_NG = True\n",
    "\n",
    "for address in addresses[2000:]:\n",
    "    time_to_wait = 10\n",
    "    while if_NG==True:\n",
    "        url = serviceurl + urllib.parse.urlencode({u'sensor':u'false', u'address': address})\n",
    "        uh = urllib.request.urlopen(url)\n",
    "        data = uh.read()\n",
    "        tree = ET.fromstring(data)\n",
    "        if_NG = tree.findall(\"status\")[0].text!='OK'\n",
    "        if if_NG:\n",
    "            time_to_wait += 30\n",
    "            time.sleep(time_to_wait)\n",
    "    results = tree.findall('result')\n",
    "    result_list_from_2000_missed.append(data)\n",
    "    time.sleep(10)\n",
    "    if_NG = True"
   ]
  },
  {
   "cell_type": "code",
   "execution_count": 7,
   "metadata": {
    "collapsed": true,
    "scrolled": true
   },
   "outputs": [],
   "source": [
    "with open('../../gci_project_storage/result_list_from_2000_missed.pickle', mode='wb') as f:\n",
    "    pickle.dump(result_list_from_2000_missed, f)"
   ]
  },
  {
   "cell_type": "code",
   "execution_count": 4,
   "metadata": {
    "collapsed": true,
    "scrolled": true
   },
   "outputs": [],
   "source": [
    "with open('../../gci_project_storage/result_list_from_2000_missed.pickle', mode='rb') as f:\n",
    "    result_list_from_2000_missed = pickle.load(f)"
   ]
  },
  {
   "cell_type": "code",
   "execution_count": 22,
   "metadata": {
    "collapsed": false
   },
   "outputs": [
    {
     "data": {
      "text/plain": [
       "0"
      ]
     },
     "execution_count": 22,
     "metadata": {},
     "output_type": "execute_result"
    }
   ],
   "source": [
    "get_loc_json = lambda data: ET.fromstring(data).findall('result')[0].find('geometry').find('location') if len(ET.fromstring(data).findall('result'))>0 else None \n",
    "get_lat = lambda data: float(get_loc_json(data).find('lat').text) if get_loc_json(data) != None else None\n",
    "get_lng = lambda data: float(get_loc_json(data).find('lng').text) if get_loc_json(data) != None else None\n",
    "\n",
    "import math\n",
    "sum(pd.Series([get_lat(data) for data in result_list_from_2000_missed]).apply(math.isnan))"
   ]
  }
 ],
 "metadata": {
  "anaconda-cloud": {},
  "kernelspec": {
   "display_name": "Python [Root]",
   "language": "python",
   "name": "Python [Root]"
  },
  "language_info": {
   "codemirror_mode": {
    "name": "ipython",
    "version": 3
   },
   "file_extension": ".py",
   "mimetype": "text/x-python",
   "name": "python",
   "nbconvert_exporter": "python",
   "pygments_lexer": "ipython3",
   "version": "3.5.2"
  }
 },
 "nbformat": 4,
 "nbformat_minor": 1
}
