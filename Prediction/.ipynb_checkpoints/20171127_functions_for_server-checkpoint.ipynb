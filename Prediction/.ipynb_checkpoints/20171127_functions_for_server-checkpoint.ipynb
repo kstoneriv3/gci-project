{
 "cells": [
  {
   "cell_type": "code",
   "execution_count": 1,
   "metadata": {
    "collapsed": true
   },
   "outputs": [],
   "source": [
    "import pandas as pd\n",
    "import numpy as np\n",
    "import math\n",
    "import pickle\n",
    "from sqlalchemy import create_engine\n",
    "from matplotlib import pyplot as plt"
   ]
  },
  {
   "cell_type": "code",
   "execution_count": 2,
   "metadata": {
    "collapsed": true
   },
   "outputs": [],
   "source": [
    "# データベースの情報\n",
    "server = 'gciteam16.database.windows.net'\n",
    "database = 'mynavi-database'\n",
    "username = 'gciteam16'\n",
    "password = 'Password0'\n",
    "port =1433"
   ]
  },
  {
   "cell_type": "code",
   "execution_count": 3,
   "metadata": {
    "collapsed": true
   },
   "outputs": [],
   "source": [
    "# 接続エンジンの作成\n",
    "engine_config = \"?driver=ODBC+Driver+13+for+SQL+Server?charset=shift-jis\"\n",
    "db_settings = {\n",
    "    \"host\": server,\n",
    "    \"database\": database,\n",
    "    \"user\": username,\n",
    "    \"password\": password,\n",
    "    \"port\":port,\n",
    "    \"config_query\":engine_config\n",
    "}\n",
    "engine = create_engine('mssql+pyodbc://{user}:{password}@{host}:{port}/{database}{config_query}'.format(**db_settings))"
   ]
  },
  {
   "cell_type": "code",
   "execution_count": 4,
   "metadata": {
    "collapsed": true
   },
   "outputs": [],
   "source": [
    "query = \"SELECT * FROM analytical_data_table\"\n",
    "analytical_data = pd.read_sql(query, con=engine)"
   ]
  },
  {
   "cell_type": "code",
   "execution_count": 5,
   "metadata": {
    "collapsed": true
   },
   "outputs": [],
   "source": [
    "#with open('../../gci_project_storage/analytical_data.pickle', mode='rb') as f:\n",
    "#     analytical_data = pickle.load(f)"
   ]
  },
  {
   "cell_type": "markdown",
   "metadata": {},
   "source": [
    "# 分析データの確認"
   ]
  },
  {
   "cell_type": "markdown",
   "metadata": {},
   "source": [
    "<h3>データ整形"
   ]
  },
  {
   "cell_type": "code",
   "execution_count": 6,
   "metadata": {
    "collapsed": true
   },
   "outputs": [],
   "source": [
    "analytical_data = analytical_data.reindex(np.random.permutation(analytical_data.index))"
   ]
  },
  {
   "cell_type": "code",
   "execution_count": 7,
   "metadata": {
    "collapsed": true,
    "scrolled": true
   },
   "outputs": [],
   "source": [
    "X = analytical_data.iloc[:,3:]\n",
    "y = analytical_data.iloc[:,:3].rent"
   ]
  },
  {
   "cell_type": "markdown",
   "metadata": {},
   "source": [
    "<h3>実装用の予測モデルの作成"
   ]
  },
  {
   "cell_type": "code",
   "execution_count": 21,
   "metadata": {
    "collapsed": true
   },
   "outputs": [],
   "source": [
    "X_avoid_0_to_7682 = X.iloc[pd.Series(range(7682,30728)),:]\n",
    "X_avoid_7682_to_15364 = X.iloc[pd.Series(list(range(0,7682))+list(range(15364,30728))),:]\n",
    "X_avoid_15364_to_23046 = X.iloc[pd.Series(list(range(0,15364))+list(range(23046,30728))),:]\n",
    "X_avoid_23046_to_30728 = X.iloc[pd.Series(range(0,23046)),:]\n",
    "\n",
    "y_avoid_0_to_7682 = y[pd.Series(range(7682,30728))]\n",
    "y_avoid_7682_to_15364 = y[pd.Series(list(range(0,7682))+list(range(15364,30728)))]\n",
    "y_avoid_15364_to_23046 = y[pd.Series(list(range(0,15364))+list(range(23046,30728)))]\n",
    "y_avoid_23046_to_30728 = y[pd.Series(range(0,23046))]\n",
    "\n",
    "RF_avoid_0_to_7682 = RandomForestRegressor(n_estimators=200).fit(X_avoid_0_to_7682,y_avoid_0_to_7682)\n",
    "RF_avoid_7682_to_15364 = RandomForestRegressor(n_estimators=200).fit(X_avoid_7682_to_15364,y_avoid_7682_to_15364)\n",
    "RF_avoid_15364_to_23046 = RandomForestRegressor(n_estimators=200).fit(X_avoid_15364_to_23046,y_avoid_15364_to_23046)\n",
    "RF_avoid_23046_to_30728 = RandomForestRegressor(n_estimators=200).fit(X_avoid_23046_to_30728,y_avoid_23046_to_30728)\n",
    "RF_whole_data = RandomForestRegressor(n_estimators=200).fit(X,y)\n",
    "RF_models = {\n",
    "    \"RF_avoid_0_to_7682\":RF_avoid_0_to_7682\n",
    "    ,\"RF_avoid_7682_to_15364\":RF_avoid_7682_to_15364\n",
    "    ,\"RF_avoid_15364_to_23046\":RF_avoid_15364_to_23046\n",
    "    ,\"RF_avoid_23046_to_30728\":RF_avoid_23046_to_30728\n",
    "    ,\"RF_whole_data\":RF_whole_data\n",
    "}"
   ]
  },
  {
   "cell_type": "code",
   "execution_count": 22,
   "metadata": {
    "collapsed": true
   },
   "outputs": [],
   "source": [
    "with open('../../gci_project_storage/RF_models.pickle', mode='wb') as f:\n",
    "     pickle.dump(RF_models, f)"
   ]
  },
  {
   "cell_type": "code",
   "execution_count": 23,
   "metadata": {
    "collapsed": true
   },
   "outputs": [],
   "source": [
    "train_data_urls = analytical_data.url"
   ]
  },
  {
   "cell_type": "code",
   "execution_count": 24,
   "metadata": {
    "collapsed": true
   },
   "outputs": [],
   "source": [
    "with open('../../gci_project_storage/train_data_urls.pickle', mode='wb') as f:\n",
    "     pickle.dump(train_data_urls, f)"
   ]
  },
  {
   "cell_type": "code",
   "execution_count": 25,
   "metadata": {},
   "outputs": [
    {
     "name": "stdout",
     "output_type": "stream",
     "text": [
      "fin.\n"
     ]
    }
   ],
   "source": [
    "print(\"fin.\")"
   ]
  },
  {
   "cell_type": "code",
   "execution_count": 28,
   "metadata": {
    "collapsed": true
   },
   "outputs": [],
   "source": [
    "#予測値を出す関数\n",
    "def get_pred(pd_series_analytical_data):\n",
    "    if(DF_analytical_data.url[0] in list(train_data_urls[pd.Series(range(0,7682))])):\n",
    "        return RF_avoid_0_to_7682.predict(DF_analytical_data)[0]\n",
    "    if(DF_analytical_data.url[0] in list(train_data_urls[pd.Series(range(7682,15364))])):\n",
    "        return RF_avoid_7682_to_15364.predict(DF_analytical_data)[0]\n",
    "    if(DF_analytical_data.url[0] in list(train_data_urls[pd.Series(range(15364,23046))])):\n",
    "        return RF_avoid_15364_to_23046.predict(DF_analytical_data)[0]\n",
    "    if(DF_analytical_data.url[0] in list(train_data_urls[pd.Series(range(23046,30728))])):\n",
    "        return RF_avoid_23046_to_30728.predict(DF_analytical_data)[0]\n",
    "    else:\n",
    "        return RF_whole_data.predict(DF_analytical_data)[0]\n"
   ]
  },
  {
   "cell_type": "markdown",
   "metadata": {},
   "source": [
    "<h3>緯度経度で選択"
   ]
  },
  {
   "cell_type": "code",
   "execution_count": 30,
   "metadata": {},
   "outputs": [
    {
     "data": {
      "text/html": [
       "<div>\n",
       "<style scoped>\n",
       "    .dataframe tbody tr th:only-of-type {\n",
       "        vertical-align: middle;\n",
       "    }\n",
       "\n",
       "    .dataframe tbody tr th {\n",
       "        vertical-align: top;\n",
       "    }\n",
       "\n",
       "    .dataframe thead th {\n",
       "        text-align: right;\n",
       "    }\n",
       "</style>\n",
       "<table border=\"1\" class=\"dataframe\">\n",
       "  <thead>\n",
       "    <tr style=\"text-align: right;\">\n",
       "      <th></th>\n",
       "      <th>address_lat</th>\n",
       "      <th>address_lng</th>\n",
       "    </tr>\n",
       "  </thead>\n",
       "  <tbody>\n",
       "    <tr>\n",
       "      <th>5129</th>\n",
       "      <td>35.680971</td>\n",
       "      <td>139.676530</td>\n",
       "    </tr>\n",
       "    <tr>\n",
       "      <th>21544</th>\n",
       "      <td>35.714008</td>\n",
       "      <td>139.729890</td>\n",
       "    </tr>\n",
       "    <tr>\n",
       "      <th>10229</th>\n",
       "      <td>35.765364</td>\n",
       "      <td>139.721262</td>\n",
       "    </tr>\n",
       "    <tr>\n",
       "      <th>3472</th>\n",
       "      <td>35.679222</td>\n",
       "      <td>139.691507</td>\n",
       "    </tr>\n",
       "    <tr>\n",
       "      <th>5758</th>\n",
       "      <td>35.733709</td>\n",
       "      <td>139.731043</td>\n",
       "    </tr>\n",
       "  </tbody>\n",
       "</table>\n",
       "</div>"
      ],
      "text/plain": [
       "       address_lat  address_lng\n",
       "5129     35.680971   139.676530\n",
       "21544    35.714008   139.729890\n",
       "10229    35.765364   139.721262\n",
       "3472     35.679222   139.691507\n",
       "5758     35.733709   139.731043"
      ]
     },
     "execution_count": 30,
     "metadata": {},
     "output_type": "execute_result"
    }
   ],
   "source": [
    "analytical_data.head()[[\"address_lat\",\"address_lng\"]]"
   ]
  },
  {
   "cell_type": "code",
   "execution_count": 35,
   "metadata": {
    "collapsed": true
   },
   "outputs": [],
   "source": [
    "query = \"SELECT * FROM analytical_data_table WHERE ((address_lat-35.680971)<0.0001) and ((address_lat-35.680971)>-0.0001);\"\n",
    "regional_data = pd.read_sql(query, con=engine)"
   ]
  },
  {
   "cell_type": "code",
   "execution_count": 36,
   "metadata": {},
   "outputs": [
    {
     "data": {
      "text/plain": [
       "(54, 435)"
      ]
     },
     "execution_count": 36,
     "metadata": {},
     "output_type": "execute_result"
    }
   ],
   "source": [
    "regional_data.shape"
   ]
  },
  {
   "cell_type": "code",
   "execution_count": 37,
   "metadata": {},
   "outputs": [
    {
     "data": {
      "image/png": "[encoded data removed]",
      "text/plain": [
       "<matplotlib.figure.Figure at 0x21d380c3240>"
      ]
     },
     "metadata": {},
     "output_type": "display_data"
    }
   ],
   "source": [
    "plt.scatter(regional_data.address_lat,regional_data.address_lng)\n",
    "plt.show()"
   ]
  },
  {
   "cell_type": "code",
   "execution_count": null,
   "metadata": {
    "collapsed": true
   },
   "outputs": [],
   "source": []
  }
 ],
 "metadata": {
  "kernelspec": {
   "display_name": "Python [conda env:py35]",
   "language": "python",
   "name": "conda-env-py35-py"
  },
  "language_info": {
   "codemirror_mode": {
    "name": "ipython",
    "version": 3
   },
   "file_extension": ".py",
   "mimetype": "text/x-python",
   "name": "python",
   "nbconvert_exporter": "python",
   "pygments_lexer": "ipython3",
   "version": "3.5.4"
  }
 },
 "nbformat": 4,
 "nbformat_minor": 2
}
