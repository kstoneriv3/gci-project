{
 "cells": [
  {
   "cell_type": "markdown",
   "metadata": {},
   "source": [
    "# データベースの作成"
   ]
  },
  {
   "cell_type": "code",
   "execution_count": 18,
   "metadata": {
    "collapsed": false
   },
   "outputs": [],
   "source": [
    "import pandas as pd\n",
    "import pyodbc\n",
    "from sqlalchemy import create_engine"
   ]
  },
  {
   "cell_type": "code",
   "execution_count": 20,
   "metadata": {
    "collapsed": false,
    "scrolled": false
   },
   "outputs": [
    {
     "data": {
      "text/plain": [
       "(46469, 224)"
      ]
     },
     "execution_count": 20,
     "metadata": {},
     "output_type": "execute_result"
    }
   ],
   "source": [
    "# データの読み込み\n",
    "# data = pd.read_csv(\"../../gci_project_storage/mynavi_data2.csv\", sep=\",\", encoding=\"UTF-8\")\n",
    "# 上手くいかないので、pickle\n",
    "import pickle\n",
    "with open('../../gci_project_storage/data.pickle', mode='rb') as f:\n",
    "     data = pickle.load(f)"
   ]
  },
  {
   "cell_type": "code",
   "execution_count": 20,
   "metadata": {
    "collapsed": false,
    "scrolled": false
   },
   "outputs": [
    {
     "data": {
      "text/plain": [
       "(46469, 224)"
      ]
     },
     "execution_count": 20,
     "metadata": {},
     "output_type": "execute_result"
    }
   ],
   "source": [
    "data.shape"
   ]
  },
  {
   "cell_type": "markdown",
   "metadata": {},
   "source": [
    "<h3>目次：</h3><br>\n",
    "・Geo Coding用のカラムの追加<br>\n",
    "・データベースにぶち込む<br>"
   ]
  },
  {
   "cell_type": "markdown",
   "metadata": {},
   "source": [
    "<h3>Geo Coding用のカラムの追加"
   ]
  },
  {
   "cell_type": "code",
   "execution_count": 21,
   "metadata": {
    "collapsed": false
   },
   "outputs": [
    {
     "data": {
      "text/plain": [
       "(46469, 226)"
      ]
     },
     "execution_count": 21,
     "metadata": {},
     "output_type": "execute_result"
    }
   ],
   "source": [
    "new_colnames = [\"altitude\",\"latitude\"]\n",
    "df_new = pd.DataFrame(index=data.index, columns=new_colnames)\n",
    "data = pd.concat([data,df_new],axis=1)\n",
    "data.shape"
   ]
  },
  {
   "cell_type": "markdown",
   "metadata": {},
   "source": [
    "<h3>データベースにぶち込む"
   ]
  },
  {
   "cell_type": "code",
   "execution_count": 22,
   "metadata": {
    "collapsed": true
   },
   "outputs": [],
   "source": [
    "# データベースの情報\n",
    "server = 'gciteam16.database.windows.net'\n",
    "database = 'mynavi-database'\n",
    "username = 'gciteam16'\n",
    "password = 'Password0'\n",
    "port =1433\n",
    "cnxn = pyodbc.connect('DRIVER={ODBC Driver 13 for SQL Server};SERVER='+server+';DATABASE='+database+';UID='+username+';PWD='+ password)\n",
    "cursor = cnxn.cursor()"
   ]
  },
  {
   "cell_type": "code",
   "execution_count": 23,
   "metadata": {
    "collapsed": false
   },
   "outputs": [
    {
     "name": "stdout",
     "output_type": "stream",
     "text": [
      "Microsoft SQL Azure (RTM) - 12.0.2000.8 \n",
      "\tAug 29 2017 13:06:11 \n",
      "\tCopyright (C) 2017 Microsoft Corporation\n",
      "\n"
     ]
    }
   ],
   "source": [
    "#Sample select query\n",
    "cursor.execute(\"SELECT @@version;\") \n",
    "row = cursor.fetchone() \n",
    "while row: \n",
    "    print(row[0]) \n",
    "    row = cursor.fetchone()"
   ]
  },
  {
   "cell_type": "code",
   "execution_count": 24,
   "metadata": {
    "collapsed": false
   },
   "outputs": [],
   "source": [
    "# 接続エンジンの作成\n",
    "engine_config = \"?driver=ODBC+Driver+13+for+SQL+Server?charset=shift-jis\"\n",
    "db_settings = {\n",
    "    \"host\": server,\n",
    "    \"database\": database,\n",
    "    \"user\": username,\n",
    "    \"password\": password,\n",
    "    \"port\":port,\n",
    "    \"config_query\":engine_config\n",
    "}\n",
    "engine = create_engine('mssql+pyodbc://{user}:{password}@{host}:{port}/{database}{config_query}'.format(**db_settings))"
   ]
  },
  {
   "cell_type": "code",
   "execution_count": 26,
   "metadata": {
    "collapsed": false
   },
   "outputs": [],
   "source": [
    "# DBにぶち込む\n",
    "table_name = \"main_table\"\n",
    "data.to_sql(table_name, con=engine, if_exists=\"fail\", index=False) # 8 h かかった笑"
   ]
  },
  {
   "cell_type": "code",
   "execution_count": null,
   "metadata": {
    "collapsed": false
   },
   "outputs": [],
   "source": [
    "# DBにぶち込む\n",
    "table_name = \"test_table\"\n",
    "data.head().to_sql(table_name, con=engine, if_exists=\"replace\", index=False)"
   ]
  },
  {
   "cell_type": "code",
   "execution_count": 33,
   "metadata": {
    "collapsed": false
   },
   "outputs": [
    {
     "data": {
      "text/html": [
       "<div>\n",
       "<table border=\"1\" class=\"dataframe\">\n",
       "  <thead>\n",
       "    <tr style=\"text-align: right;\">\n",
       "      <th></th>\n",
       "      <th>address</th>\n",
       "      <th>traffic</th>\n",
       "    </tr>\n",
       "  </thead>\n",
       "  <tbody>\n",
       "    <tr>\n",
       "      <th>0</th>\n",
       "      <td>東京都文京区本郷４丁目</td>\n",
       "      <td>都営三田線春日(東京都)駅?徒歩2分丸ノ内線(池袋0荻窪)後楽園駅?徒歩4分都営大江戸線本郷...</td>\n",
       "    </tr>\n",
       "    <tr>\n",
       "      <th>1</th>\n",
       "      <td>東京都文京区本駒込４丁目</td>\n",
       "      <td>山手線田端駅?徒歩10分千代田線千駄木駅?徒歩12分南北線本駒込駅?徒歩13分</td>\n",
       "    </tr>\n",
       "    <tr>\n",
       "      <th>2</th>\n",
       "      <td>東京都文京区本郷４丁目</td>\n",
       "      <td>都営三田線春日(東京都)駅?徒歩7分丸ノ内線(池袋0荻窪)本郷三丁目駅?徒歩8分</td>\n",
       "    </tr>\n",
       "    <tr>\n",
       "      <th>3</th>\n",
       "      <td>東京都台東区元浅草３丁目</td>\n",
       "      <td>銀座線田原町(東京都)駅?徒歩7分都営大江戸線新御徒町駅?徒歩9分</td>\n",
       "    </tr>\n",
       "    <tr>\n",
       "      <th>4</th>\n",
       "      <td>東京都文京区本駒込４丁目</td>\n",
       "      <td>山手線田端駅?徒歩10分千代田線千駄木駅?徒歩12分南北線本駒込駅?徒歩13分千代田線　千駄木駅</td>\n",
       "    </tr>\n",
       "    <tr>\n",
       "      <th>5</th>\n",
       "      <td>東京都文京区本駒込４丁目</td>\n",
       "      <td>山手線田端駅?徒歩10分千代田線千駄木駅?徒歩12分南北線本駒込駅?徒歩13分</td>\n",
       "    </tr>\n",
       "    <tr>\n",
       "      <th>6</th>\n",
       "      <td>東京都台東区元浅草３丁目</td>\n",
       "      <td>銀座線田原町(東京都)駅?徒歩7分都営大江戸線新御徒町駅?徒歩9分</td>\n",
       "    </tr>\n",
       "    <tr>\n",
       "      <th>7</th>\n",
       "      <td>東京都文京区音羽１丁目</td>\n",
       "      <td>有楽町線護国寺駅?徒歩6分有楽町線江戸川橋駅?徒歩5分丸ノ内線(池袋0荻窪)茗荷谷駅?徒歩13分</td>\n",
       "    </tr>\n",
       "    <tr>\n",
       "      <th>8</th>\n",
       "      <td>東京都文京区音羽１丁目</td>\n",
       "      <td>有楽町線江戸川橋駅?徒歩5分有楽町線護国寺駅?徒歩6分丸ノ内線(池袋0荻窪)茗荷谷駅?徒歩13分</td>\n",
       "    </tr>\n",
       "    <tr>\n",
       "      <th>9</th>\n",
       "      <td>東京都台東区台東３丁目</td>\n",
       "      <td>日比谷線仲御徒町駅?徒歩2分山手線御徒町駅?徒歩5分銀座線末広町(東京都)駅?徒歩8分</td>\n",
       "    </tr>\n",
       "  </tbody>\n",
       "</table>\n",
       "</div>"
      ],
      "text/plain": [
       "        address                                            traffic\n",
       "0   東京都文京区本郷４丁目  都営三田線春日(東京都)駅?徒歩2分丸ノ内線(池袋0荻窪)後楽園駅?徒歩4分都営大江戸線本郷...\n",
       "1  東京都文京区本駒込４丁目            山手線田端駅?徒歩10分千代田線千駄木駅?徒歩12分南北線本駒込駅?徒歩13分\n",
       "2   東京都文京区本郷４丁目           都営三田線春日(東京都)駅?徒歩7分丸ノ内線(池袋0荻窪)本郷三丁目駅?徒歩8分\n",
       "3  東京都台東区元浅草３丁目                  銀座線田原町(東京都)駅?徒歩7分都営大江戸線新御徒町駅?徒歩9分\n",
       "4  東京都文京区本駒込４丁目   山手線田端駅?徒歩10分千代田線千駄木駅?徒歩12分南北線本駒込駅?徒歩13分千代田線　千駄木駅\n",
       "5  東京都文京区本駒込４丁目            山手線田端駅?徒歩10分千代田線千駄木駅?徒歩12分南北線本駒込駅?徒歩13分\n",
       "6  東京都台東区元浅草３丁目                  銀座線田原町(東京都)駅?徒歩7分都営大江戸線新御徒町駅?徒歩9分\n",
       "7   東京都文京区音羽１丁目   有楽町線護国寺駅?徒歩6分有楽町線江戸川橋駅?徒歩5分丸ノ内線(池袋0荻窪)茗荷谷駅?徒歩13分\n",
       "8   東京都文京区音羽１丁目   有楽町線江戸川橋駅?徒歩5分有楽町線護国寺駅?徒歩6分丸ノ内線(池袋0荻窪)茗荷谷駅?徒歩13分\n",
       "9   東京都台東区台東３丁目        日比谷線仲御徒町駅?徒歩2分山手線御徒町駅?徒歩5分銀座線末広町(東京都)駅?徒歩8分"
      ]
     },
     "execution_count": 33,
     "metadata": {},
     "output_type": "execute_result"
    }
   ],
   "source": [
    "# DBの読み込み\n",
    "sql_query = \"SELECT TOP 10 address, traffic FROM main_table\"\n",
    "pd.read_sql_query(sql_query, con = engine)"
   ]
  },
  {
   "cell_type": "code",
   "execution_count": null,
   "metadata": {
    "collapsed": true
   },
   "outputs": [],
   "source": []
  }
 ],
 "metadata": {
  "anaconda-cloud": {},
  "kernelspec": {
   "display_name": "Python [Root]",
   "language": "python",
   "name": "Python [Root]"
  },
  "language_info": {
   "codemirror_mode": {
    "name": "ipython",
    "version": 3
   },
   "file_extension": ".py",
   "mimetype": "text/x-python",
   "name": "python",
   "nbconvert_exporter": "python",
   "pygments_lexer": "ipython3",
   "version": "3.5.2"
  }
 },
 "nbformat": 4,
 "nbformat_minor": 0
}
