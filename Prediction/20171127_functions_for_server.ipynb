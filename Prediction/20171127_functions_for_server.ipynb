{
 "cells": [
  {
   "cell_type": "code",
   "execution_count": 15,
   "metadata": {
    "collapsed": true
   },
   "outputs": [],
   "source": [
    "import pandas as pd\n",
    "import numpy as np\n",
    "import math\n",
    "import pickle\n",
    "from sqlalchemy import create_engine\n",
    "from matplotlib import pyplot as plt\n",
    "from sklearn.ensemble import RandomForestRegressor"
   ]
  },
  {
   "cell_type": "code",
   "execution_count": 3,
   "metadata": {
    "collapsed": true
   },
   "outputs": [],
   "source": [
    "# データベースの情報\n",
    "server = 'gciteam16.database.windows.net'\n",
    "database = 'mynavi-database'\n",
    "username = 'gciteam16'\n",
    "password = 'Password0'\n",
    "port =1433"
   ]
  },
  {
   "cell_type": "code",
   "execution_count": 4,
   "metadata": {
    "collapsed": true
   },
   "outputs": [],
   "source": [
    "# 接続エンジンの作成\n",
    "engine_config = \"?driver=ODBC+Driver+13+for+SQL+Server?charset=shift-jis\"\n",
    "db_settings = {\n",
    "    \"host\": server,\n",
    "    \"database\": database,\n",
    "    \"user\": username,\n",
    "    \"password\": password,\n",
    "    \"port\":port,\n",
    "    \"config_query\":engine_config\n",
    "}\n",
    "engine = create_engine('mssql+pyodbc://{user}:{password}@{host}:{port}/{database}{config_query}'.format(**db_settings))"
   ]
  },
  {
   "cell_type": "code",
   "execution_count": 5,
   "metadata": {
    "collapsed": true
   },
   "outputs": [],
   "source": [
    "query = \"SELECT * FROM analytical_data_table\"\n",
    "analytical_data = pd.read_sql(query, con=engine)"
   ]
  },
  {
   "cell_type": "markdown",
   "metadata": {},
   "source": [
    "# 分析データの確認"
   ]
  },
  {
   "cell_type": "markdown",
   "metadata": {},
   "source": [
    "<h3>データ整形"
   ]
  },
  {
   "cell_type": "code",
   "execution_count": 7,
   "metadata": {
    "collapsed": true,
    "scrolled": true
   },
   "outputs": [],
   "source": [
    "X = analytical_data.iloc[:,3:]\n",
    "y = analytical_data.iloc[:,:3].rent"
   ]
  },
  {
   "cell_type": "markdown",
   "metadata": {},
   "source": [
    "<h3>予測モデルの読み込み"
   ]
  },
  {
   "cell_type": "code",
   "execution_count": 6,
   "metadata": {
    "collapsed": true
   },
   "outputs": [],
   "source": [
    "with open('../../gci_project_storage/RF_models.pickle', mode='rb') as f:\n",
    "     RF_models = pickle.load(f)"
   ]
  },
  {
   "cell_type": "code",
   "execution_count": 7,
   "metadata": {
    "collapsed": true
   },
   "outputs": [],
   "source": [
    "RF_avoid_0_to_7682 = RF_models[\"RF_avoid_0_to_7682\"]\n",
    "RF_avoid_7682_to_15364 = RF_models[\"RF_avoid_7682_to_15364\"]\n",
    "RF_avoid_15364_to_23046 = RF_models[\"RF_avoid_15364_to_23046\"]\n",
    "RF_avoid_23046_to_30728 = RF_models[\"RF_avoid_23046_to_30728\"]\n",
    "RF_whole_data = RF_models[\"RF_whole_data\"]"
   ]
  },
  {
   "cell_type": "code",
   "execution_count": 8,
   "metadata": {
    "collapsed": true
   },
   "outputs": [],
   "source": [
    "with open('../../gci_project_storage/train_data_urls.pickle', mode='rb') as f:\n",
    "    train_data_urls = pickle.load(f)"
   ]
  },
  {
   "cell_type": "code",
   "execution_count": 9,
   "metadata": {
    "collapsed": true
   },
   "outputs": [],
   "source": [
    "#予測値を出す関数\n",
    "def get_pred(DF_analytical_data):\n",
    "    if(list(DF_analytical_data.url)[0] in list(train_data_urls.iloc[pd.Series(range(0,7682))])):\n",
    "        print(1)\n",
    "        return RF_avoid_0_to_7682.predict(DF_analytical_data.iloc[:,3:])[0]\n",
    "    if(list(DF_analytical_data.url)[0] in list(train_data_urls.iloc[pd.Series(range(7682,15364))])):\n",
    "        print(2)\n",
    "        return RF_avoid_7682_to_15364.predict(DF_analytical_data.iloc[:,3:])[0]\n",
    "    if(list(DF_analytical_data.url)[0] in list(train_data_urls.iloc[pd.Series(range(15364,23046))])):\n",
    "        print(3)\n",
    "        return RF_avoid_15364_to_23046.predict(DF_analytical_data.iloc[:,3:])[0]\n",
    "    if(list(DF_analytical_data.url)[0] in list(train_data_urls.iloc[pd.Series(range(23046,30728))])):\n",
    "        print(4)\n",
    "        return RF_avoid_23046_to_30728.predict(DF_analytical_data.iloc[:,3:])[0]\n",
    "    else:\n",
    "        print(5)\n",
    "        return RF_whole_data.predict(DF_analytical_data.iloc[:,3:])[0]"
   ]
  },
  {
   "cell_type": "code",
   "execution_count": 61,
   "metadata": {},
   "outputs": [
    {
     "name": "stdout",
     "output_type": "stream",
     "text": [
      "3\n"
     ]
    },
    {
     "data": {
      "text/plain": [
       "8.9034500000000012"
      ]
     },
     "execution_count": 61,
     "metadata": {},
     "output_type": "execute_result"
    }
   ],
   "source": [
    "DF_analytical_data = analytical_data[analytical_data.index==3312]\n",
    "get_pred(DF_analytical_data)"
   ]
  },
  {
   "cell_type": "markdown",
   "metadata": {},
   "source": [
    "<h3>緯度経度で選択"
   ]
  },
  {
   "cell_type": "code",
   "execution_count": 37,
   "metadata": {},
   "outputs": [],
   "source": [
    "#緯度・経度のスケール\n",
    "lat_mean = analytical_data.address_lat.mean()\n",
    "lat_500m = (90/10000)*(1/math.cos(math.pi*lat_mean/180))*0.500\n",
    "lng_500m = (90/10000)*0.500"
   ]
  },
  {
   "cell_type": "code",
   "execution_count": 62,
   "metadata": {},
   "outputs": [],
   "source": [
    "arg_dict = {\n",
    "    \"lat_500m\" : lat_500m\n",
    "    ,\"lng_500m\" : lng_500m\n",
    "    ,\"sup_lat\" : list(DF_analytical_data.address_lat)[0] + lat_500m\n",
    "    ,\"inf_lat\" : list(DF_analytical_data.address_lat)[0] - lat_500m\n",
    "    ,\"sup_lng\" : list(DF_analytical_data.address_lng)[0] + lng_500m\n",
    "    ,\"inf_lng\" : list(DF_analytical_data.address_lng)[0] - lng_500m\n",
    "    ,\"DF_analytical_data_lat\" : list(DF_analytical_data.address_lat)[0]\n",
    "    ,\"DF_analytical_data_lng\" : list(DF_analytical_data.address_lng)[0]\n",
    "}\n",
    "\n",
    "\n",
    "query = \"\"\"\n",
    "    SELECT * FROM \n",
    "        (\n",
    "        SELECT * FROM analytical_data_table \n",
    "            WHERE \n",
    "                (address_lat < {sup_lat}) \n",
    "                and (address_lat > {inf_lat})\n",
    "                and (address_lng < {sup_lng})\n",
    "                and (address_lng > {inf_lng}) \n",
    "        ) as Sub_Table\n",
    "        WHERE \n",
    "            SQUARE((Sub_Table.address_lat-{DF_analytical_data_lat})/{lat_500m})\n",
    "            + SQUARE((Sub_Table.address_lng-{DF_analytical_data_lng})/{lng_500m}) \n",
    "            < 1\n",
    "    ;\n",
    "    \"\"\".format(**arg_dict)\n",
    "\n",
    "regional_data = pd.read_sql(query, con=engine)"
   ]
  },
  {
   "cell_type": "code",
   "execution_count": 63,
   "metadata": {},
   "outputs": [
    {
     "data": {
      "text/plain": [
       "(7224, 435)"
      ]
     },
     "execution_count": 63,
     "metadata": {},
     "output_type": "execute_result"
    }
   ],
   "source": [
    "regional_data.shape"
   ]
  },
  {
   "cell_type": "code",
   "execution_count": 65,
   "metadata": {},
   "outputs": [
    {
     "data": {
      "image/png": "[encoded data removed]",
      "text/plain": [
       "<matplotlib.figure.Figure at 0x22ebe4fb8d0>"
      ]
     },
     "metadata": {},
     "output_type": "display_data"
    }
   ],
   "source": [
    "plt.figure(figsize=(6,6))\n",
    "plt.scatter(regional_data.address_lat,regional_data.address_lng)\n",
    "plt.show()"
   ]
  },
  {
   "cell_type": "code",
   "execution_count": null,
   "metadata": {
    "collapsed": true
   },
   "outputs": [],
   "source": []
  }
 ],
 "metadata": {
  "kernelspec": {
   "display_name": "Python [conda env:py35]",
   "language": "python",
   "name": "conda-env-py35-py"
  },
  "language_info": {
   "codemirror_mode": {
    "name": "ipython",
    "version": 3
   },
   "file_extension": ".py",
   "mimetype": "text/x-python",
   "name": "python",
   "nbconvert_exporter": "python",
   "pygments_lexer": "ipython3",
   "version": "3.5.4"
  }
 },
 "nbformat": 4,
 "nbformat_minor": 2
}
