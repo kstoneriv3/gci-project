{
 "cells": [
  {
   "cell_type": "code",
   "execution_count": 1,
   "metadata": {
    "collapsed": true
   },
   "outputs": [],
   "source": [
    "import pandas as pd\n",
    "import numpy as np\n",
    "import math\n",
    "import pickle\n",
    "from sqlalchemy import create_engine\n",
    "from matplotlib import pyplot as plt\n",
    "from sklearn.ensemble import RandomForestRegressor"
   ]
  },
  {
   "cell_type": "code",
   "execution_count": 2,
   "metadata": {
    "collapsed": true
   },
   "outputs": [],
   "source": [
    "# データベースの情報\n",
    "server = 'gciteam16.database.windows.net'\n",
    "database = 'mynavi-database'\n",
    "username = 'gciteam16'\n",
    "password = 'Password0'\n",
    "port =1433"
   ]
  },
  {
   "cell_type": "code",
   "execution_count": 3,
   "metadata": {
    "collapsed": true
   },
   "outputs": [],
   "source": [
    "# 接続エンジンの作成\n",
    "engine_config = \"?driver=ODBC+Driver+13+for+SQL+Server?charset=shift-jis\"\n",
    "db_settings = {\n",
    "    \"host\": server,\n",
    "    \"database\": database,\n",
    "    \"user\": username,\n",
    "    \"password\": password,\n",
    "    \"port\":port,\n",
    "    \"config_query\":engine_config\n",
    "}\n",
    "engine = create_engine('mssql+pyodbc://{user}:{password}@{host}:{port}/{database}{config_query}'.format(**db_settings))"
   ]
  },
  {
   "cell_type": "code",
   "execution_count": 4,
   "metadata": {
    "collapsed": true
   },
   "outputs": [],
   "source": [
    "query = \"SELECT * FROM analytical_data_table\"\n",
    "analytical_data = pd.read_sql(query, con=engine)"
   ]
  },
  {
   "cell_type": "markdown",
   "metadata": {},
   "source": [
    "# 分析データの確認"
   ]
  },
  {
   "cell_type": "markdown",
   "metadata": {},
   "source": [
    "<h3>データ整形"
   ]
  },
  {
   "cell_type": "code",
   "execution_count": 5,
   "metadata": {
    "collapsed": true,
    "scrolled": true
   },
   "outputs": [],
   "source": [
    "X = analytical_data.iloc[:,3:]\n",
    "y = analytical_data.iloc[:,:3].rent\n",
    "X_col = X.columns"
   ]
  },
  {
   "cell_type": "markdown",
   "metadata": {},
   "source": [
    "<h3>予測モデルの読み込み"
   ]
  },
  {
   "cell_type": "code",
   "execution_count": 6,
   "metadata": {
    "collapsed": true
   },
   "outputs": [],
   "source": [
    "with open('../../gci_project_storage/RF_models.pickle', mode='rb') as f:\n",
    "     RF_models = pickle.load(f)"
   ]
  },
  {
   "cell_type": "code",
   "execution_count": 7,
   "metadata": {
    "collapsed": true
   },
   "outputs": [],
   "source": [
    "RF_avoid_0_to_7682 = RF_models[\"RF_avoid_0_to_7682\"]\n",
    "RF_avoid_7682_to_15364 = RF_models[\"RF_avoid_7682_to_15364\"]\n",
    "RF_avoid_15364_to_23046 = RF_models[\"RF_avoid_15364_to_23046\"]\n",
    "RF_avoid_23046_to_30728 = RF_models[\"RF_avoid_23046_to_30728\"]\n",
    "RF_whole_data = RF_models[\"RF_whole_data\"]"
   ]
  },
  {
   "cell_type": "code",
   "execution_count": 8,
   "metadata": {
    "collapsed": true
   },
   "outputs": [],
   "source": [
    "with open('../../gci_project_storage/train_data_urls.pickle', mode='rb') as f:\n",
    "    train_data_urls = pickle.load(f)"
   ]
  },
  {
   "cell_type": "code",
   "execution_count": 9,
   "metadata": {
    "collapsed": true
   },
   "outputs": [],
   "source": [
    "#予測値を出す関数\n",
    "def get_pred(DF_analytical_data):\n",
    "    if(list(DF_analytical_data.url)[0] in list(train_data_urls.iloc[pd.Series(range(0,7682))])):\n",
    "        #print(1)\n",
    "        return RF_avoid_0_to_7682.predict(DF_analytical_data.iloc[:,3:])[0]\n",
    "    if(list(DF_analytical_data.url)[0] in list(train_data_urls.iloc[pd.Series(range(7682,15364))])):\n",
    "        #print(2)\n",
    "        return RF_avoid_7682_to_15364.predict(DF_analytical_data.iloc[:,3:])[0]\n",
    "    if(list(DF_analytical_data.url)[0] in list(train_data_urls.iloc[pd.Series(range(15364,23046))])):\n",
    "        #print(3)\n",
    "        return RF_avoid_15364_to_23046.predict(DF_analytical_data.iloc[:,3:])[0]\n",
    "    if(list(DF_analytical_data.url)[0] in list(train_data_urls.iloc[pd.Series(range(23046,30728))])):\n",
    "        #print(4)\n",
    "        return RF_avoid_23046_to_30728.predict(DF_analytical_data.iloc[:,3:])[0]\n",
    "    else:\n",
    "        #print(5)\n",
    "        return RF_whole_data.predict(DF_analytical_data.iloc[:,3:])[0]"
   ]
  },
  {
   "cell_type": "code",
   "execution_count": 10,
   "metadata": {},
   "outputs": [
    {
     "data": {
      "text/plain": [
       "8.9034500000000012"
      ]
     },
     "execution_count": 10,
     "metadata": {},
     "output_type": "execute_result"
    }
   ],
   "source": [
    "DF_analytical_data = analytical_data[analytical_data.index==3312]\n",
    "get_pred(DF_analytical_data)"
   ]
  },
  {
   "cell_type": "markdown",
   "metadata": {},
   "source": [
    "<h3>緯度経度で半径500mの物件を選択"
   ]
  },
  {
   "cell_type": "code",
   "execution_count": 11,
   "metadata": {
    "collapsed": true
   },
   "outputs": [],
   "source": [
    "#緯度・経度のスケール\n",
    "lat_mean = analytical_data.address_lat.mean()\n",
    "lat_500m = (90/10000)*(1/math.cos(math.pi*lat_mean/180))*0.500\n",
    "lng_500m = (90/10000)*0.500"
   ]
  },
  {
   "cell_type": "code",
   "execution_count": 12,
   "metadata": {
    "collapsed": true
   },
   "outputs": [],
   "source": [
    "arg_dict = {\n",
    "    \"lat_500m\" : lat_500m\n",
    "    ,\"lng_500m\" : lng_500m\n",
    "    ,\"sup_lat\" : list(DF_analytical_data.address_lat)[0] + lat_500m\n",
    "    ,\"inf_lat\" : list(DF_analytical_data.address_lat)[0] - lat_500m\n",
    "    ,\"sup_lng\" : list(DF_analytical_data.address_lng)[0] + lng_500m\n",
    "    ,\"inf_lng\" : list(DF_analytical_data.address_lng)[0] - lng_500m\n",
    "    ,\"DF_analytical_data_lat\" : list(DF_analytical_data.address_lat)[0]\n",
    "    ,\"DF_analytical_data_lng\" : list(DF_analytical_data.address_lng)[0]\n",
    "}\n",
    "\n",
    "\n",
    "query = \"\"\"\n",
    "    SELECT * FROM \n",
    "        (\n",
    "        SELECT * FROM analytical_data_table \n",
    "            WHERE \n",
    "                (address_lat < {sup_lat}) \n",
    "                and (address_lat > {inf_lat})\n",
    "                and (address_lng < {sup_lng})\n",
    "                and (address_lng > {inf_lng}) \n",
    "        ) as Sub_Table\n",
    "        WHERE \n",
    "            SQUARE((Sub_Table.address_lat-{DF_analytical_data_lat})/{lat_500m})\n",
    "            + SQUARE((Sub_Table.address_lng-{DF_analytical_data_lng})/{lng_500m}) \n",
    "            < 1\n",
    "    ;\n",
    "    \"\"\".format(**arg_dict)\n",
    "\n",
    "regional_data = pd.read_sql(query, con=engine)"
   ]
  },
  {
   "cell_type": "code",
   "execution_count": 13,
   "metadata": {},
   "outputs": [
    {
     "data": {
      "text/plain": [
       "(58, 435)"
      ]
     },
     "execution_count": 13,
     "metadata": {},
     "output_type": "execute_result"
    }
   ],
   "source": [
    "regional_data.shape"
   ]
  },
  {
   "cell_type": "code",
   "execution_count": 14,
   "metadata": {},
   "outputs": [
    {
     "data": {
      "image/png": "[encoded data removed]",
      "text/plain": [
       "<matplotlib.figure.Figure at 0x1d38f804668>"
      ]
     },
     "metadata": {},
     "output_type": "display_data"
    }
   ],
   "source": [
    "plt.figure(figsize=(3,3))\n",
    "plt.scatter(regional_data.address_lat,regional_data.address_lng)\n",
    "plt.show()"
   ]
  },
  {
   "cell_type": "markdown",
   "metadata": {},
   "source": [
    "<h3>予測値を追加"
   ]
  },
  {
   "cell_type": "code",
   "execution_count": 15,
   "metadata": {},
   "outputs": [],
   "source": [
    "df_new = regional_data[[\"rent\",\"area\",\"address_lat\",\"address_lng\",\"year_built\"]]\n",
    "df_new.columns = [\"価格(家賃)\",\"床面積\",\"緯度\",\"経度\",\"築年\"]"
   ]
  },
  {
   "cell_type": "code",
   "execution_count": 17,
   "metadata": {},
   "outputs": [
    {
     "name": "stderr",
     "output_type": "stream",
     "text": [
      "C:\\Anaconda\\envs\\py35\\lib\\site-packages\\ipykernel\\__main__.py:2: SettingWithCopyWarning: \n",
      "A value is trying to be set on a copy of a slice from a DataFrame.\n",
      "Try using .loc[row_indexer,col_indexer] = value instead\n",
      "\n",
      "See the caveats in the documentation: http://pandas.pydata.org/pandas-docs/stable/indexing.html#indexing-view-versus-copy\n",
      "  from ipykernel import kernelapp as app\n"
     ]
    }
   ],
   "source": [
    "#y_pred_regional=[get_pred(row.to_frame().T) for i,row in regional_data.iterrows()]\n",
    "df_new[\"予測価格\"] = y_pred_regional"
   ]
  },
  {
   "cell_type": "code",
   "execution_count": 18,
   "metadata": {},
   "outputs": [
    {
     "name": "stderr",
     "output_type": "stream",
     "text": [
      "C:\\Anaconda\\envs\\py35\\lib\\site-packages\\ipykernel\\__main__.py:1: SettingWithCopyWarning: \n",
      "A value is trying to be set on a copy of a slice from a DataFrame.\n",
      "Try using .loc[row_indexer,col_indexer] = value instead\n",
      "\n",
      "See the caveats in the documentation: http://pandas.pydata.org/pandas-docs/stable/indexing.html#indexing-view-versus-copy\n",
      "  if __name__ == '__main__':\n"
     ]
    }
   ],
   "source": [
    "df_new[\"割引率(％)\"] = round((1-regional_data.rent/y_pred_regional)*1000)/10"
   ]
  },
  {
   "cell_type": "code",
   "execution_count": 19,
   "metadata": {},
   "outputs": [
    {
     "data": {
      "text/plain": [
       "(58, 7)"
      ]
     },
     "execution_count": 19,
     "metadata": {},
     "output_type": "execute_result"
    }
   ],
   "source": [
    "df_new.shape"
   ]
  },
  {
   "cell_type": "markdown",
   "metadata": {},
   "source": [
    "<h3>最寄り駅を追加"
   ]
  },
  {
   "cell_type": "code",
   "execution_count": 20,
   "metadata": {
    "collapsed": true
   },
   "outputs": [],
   "source": [
    "station_names = regional_data.columns[148:435]\n",
    "\n",
    "get_min_inverse_to_station = lambda row_of_regional_data: row_of_regional_data[148:435].max()\n",
    "get_min_to_station = lambda row_of_regional_data:(1.0/get_min_inverse_to_station(row_of_regional_data))\n",
    "get_min_station = lambda row_of_regional_data: list(station_names[get_min_inverse_to_station(row_of_regional_data)==row_of_regional_data[148:435]])[0]"
   ]
  },
  {
   "cell_type": "code",
   "execution_count": 21,
   "metadata": {
    "scrolled": true
   },
   "outputs": [
    {
     "name": "stderr",
     "output_type": "stream",
     "text": [
      "C:\\Anaconda\\envs\\py35\\lib\\site-packages\\ipykernel\\__main__.py:1: SettingWithCopyWarning: \n",
      "A value is trying to be set on a copy of a slice from a DataFrame.\n",
      "Try using .loc[row_indexer,col_indexer] = value instead\n",
      "\n",
      "See the caveats in the documentation: http://pandas.pydata.org/pandas-docs/stable/indexing.html#indexing-view-versus-copy\n",
      "  if __name__ == '__main__':\n",
      "C:\\Anaconda\\envs\\py35\\lib\\site-packages\\ipykernel\\__main__.py:2: SettingWithCopyWarning: \n",
      "A value is trying to be set on a copy of a slice from a DataFrame.\n",
      "Try using .loc[row_indexer,col_indexer] = value instead\n",
      "\n",
      "See the caveats in the documentation: http://pandas.pydata.org/pandas-docs/stable/indexing.html#indexing-view-versus-copy\n",
      "  from ipykernel import kernelapp as app\n"
     ]
    }
   ],
   "source": [
    "df_new[\"最寄駅\"] = pd.Series([get_min_station(row) for i,row in regional_data.iterrows()])\n",
    "df_new[\"最寄駅への所要時間\"] = pd.Series([get_min_to_station(row) for i,row in regional_data.iterrows()])"
   ]
  },
  {
   "cell_type": "markdown",
   "metadata": {},
   "source": [
    "<h3>離散変数の処理"
   ]
  },
  {
   "cell_type": "code",
   "execution_count": 32,
   "metadata": {},
   "outputs": [
    {
     "data": {
      "text/plain": [
       "1.0"
      ]
     },
     "execution_count": 32,
     "metadata": {},
     "output_type": "execute_result"
    }
   ],
   "source": [
    "analytical_data.has_K.mean()"
   ]
  },
  {
   "cell_type": "code",
   "execution_count": 37,
   "metadata": {},
   "outputs": [
    {
     "name": "stdout",
     "output_type": "stream",
     "text": [
      "2LDK\n"
     ]
    }
   ],
   "source": [
    "#間取り…やり直し！\n",
    "def get_room_structure(row):\n",
    "    get_row_by = lambda colname:list(row[regional_data.columns==colname])[0]\n",
    "    txt = ''\n",
    "    txt += str(get_row_by(\"the_number_of_rooms\"))\n",
    "    txt += 'L' if get_row_by(\"has_L\") else ''\n",
    "    txt += 'D' if get_row_by(\"has_D\") else ''\n",
    "    txt += 'K' if get_row_by(\"has_K\") else ''\n",
    "    return txt"
   ]
  },
  {
   "cell_type": "code",
   "execution_count": 44,
   "metadata": {},
   "outputs": [
    {
     "name": "stderr",
     "output_type": "stream",
     "text": [
      "C:\\Anaconda\\envs\\py35\\lib\\site-packages\\ipykernel\\__main__.py:13: SettingWithCopyWarning: \n",
      "A value is trying to be set on a copy of a slice from a DataFrame.\n",
      "Try using .loc[row_indexer,col_indexer] = value instead\n",
      "\n",
      "See the caveats in the documentation: http://pandas.pydata.org/pandas-docs/stable/indexing.html#indexing-view-versus-copy\n"
     ]
    }
   ],
   "source": [
    "def get_direction(row):\n",
    "    get_row_by = lambda colname:list(row[regional_data.columns==colname])[0]\n",
    "    if get_row_by(\"direction_1\"): return '北'\n",
    "    if get_row_by(\"direction_2\"): return '北東'\n",
    "    if get_row_by(\"direction_3\"): return '東'\n",
    "    if get_row_by(\"direction_4\"): return '南東'\n",
    "    if get_row_by(\"direction_5\"): return '南'\n",
    "    if get_row_by(\"direction_6\"): return '南西'\n",
    "    if get_row_by(\"direction_7\"): return '西'\n",
    "    if get_row_by(\"direction_8\"): return '北西'\n",
    "    else: return \"方角不明\"\n",
    "\n",
    "df_new[\"方角\"] = pd.Series([ get_direction(row) for i,row in regional_data.iterrows()])"
   ]
  },
  {
   "cell_type": "code",
   "execution_count": 42,
   "metadata": {
    "scrolled": true
   },
   "outputs": [
    {
     "name": "stderr",
     "output_type": "stream",
     "text": [
      "C:\\Anaconda\\envs\\py35\\lib\\site-packages\\ipykernel\\__main__.py:14: SettingWithCopyWarning: \n",
      "A value is trying to be set on a copy of a slice from a DataFrame.\n",
      "Try using .loc[row_indexer,col_indexer] = value instead\n",
      "\n",
      "See the caveats in the documentation: http://pandas.pydata.org/pandas-docs/stable/indexing.html#indexing-view-versus-copy\n"
     ]
    }
   ],
   "source": [
    "def get_structure(row):\n",
    "    get_row_by = lambda colname:list(row[regional_data.columns==colname])[0]\n",
    "    if get_row_by(\"structure_1\"): return 'コンクリート'\n",
    "    if get_row_by(\"structure_2\"): return 'コンクリート'\n",
    "    if get_row_by(\"structure_3\"): return 'コンクリート'\n",
    "    if get_row_by(\"structure_4\"): return 'コンクリート'\n",
    "    if get_row_by(\"structure_5\"): return 'コンクリート'\n",
    "    if get_row_by(\"structure_7\"): return '鉄骨'\n",
    "    if get_row_by(\"structure_8\"): return '鉄骨'\n",
    "    if get_row_by(\"structure_9\"): return '鉄骨'\n",
    "    if get_row_by(\"structure_10\"): return '木造'\n",
    "    else: return 'その他'\n",
    "\n",
    "df_new[\"建物構造\"] = pd.Series([ get_structure(row) for i,row in regional_data.iterrows()])"
   ]
  },
  {
   "cell_type": "code",
   "execution_count": 51,
   "metadata": {},
   "outputs": [
    {
     "name": "stderr",
     "output_type": "stream",
     "text": [
      "C:\\Anaconda\\envs\\py35\\lib\\site-packages\\ipykernel\\__main__.py:6: SettingWithCopyWarning: \n",
      "A value is trying to be set on a copy of a slice from a DataFrame.\n",
      "Try using .loc[row_indexer,col_indexer] = value instead\n",
      "\n",
      "See the caveats in the documentation: http://pandas.pydata.org/pandas-docs/stable/indexing.html#indexing-view-versus-copy\n"
     ]
    }
   ],
   "source": [
    "def get_stove_num(row):\n",
    "    get_row_by = lambda colname:list(row[regional_data.columns==colname])[0]\n",
    "    if get_row_by(\"isNull_stove_num\"): return 'コンロ口数不明'\n",
    "    else: return get_row_by(\"stove_num_Null_to_Zero\")\n",
    "\n",
    "df_new[\"コンロ口数\"] = pd.Series([get_stove_num(row) for i,row in regional_data.iterrows()])"
   ]
  },
  {
   "cell_type": "code",
   "execution_count": 52,
   "metadata": {},
   "outputs": [
    {
     "name": "stderr",
     "output_type": "stream",
     "text": [
      "C:\\Anaconda\\envs\\py35\\lib\\site-packages\\ipykernel\\__main__.py:1: SettingWithCopyWarning: \n",
      "A value is trying to be set on a copy of a slice from a DataFrame.\n",
      "Try using .loc[row_indexer,col_indexer] = value instead\n",
      "\n",
      "See the caveats in the documentation: http://pandas.pydata.org/pandas-docs/stable/indexing.html#indexing-view-versus-copy\n",
      "  if __name__ == '__main__':\n",
      "C:\\Anaconda\\envs\\py35\\lib\\site-packages\\ipykernel\\__main__.py:2: SettingWithCopyWarning: \n",
      "A value is trying to be set on a copy of a slice from a DataFrame.\n",
      "Try using .loc[row_indexer,col_indexer] = value instead\n",
      "\n",
      "See the caveats in the documentation: http://pandas.pydata.org/pandas-docs/stable/indexing.html#indexing-view-versus-copy\n",
      "  from ipykernel import kernelapp as app\n",
      "C:\\Anaconda\\envs\\py35\\lib\\site-packages\\ipykernel\\__main__.py:3: SettingWithCopyWarning: \n",
      "A value is trying to be set on a copy of a slice from a DataFrame.\n",
      "Try using .loc[row_indexer,col_indexer] = value instead\n",
      "\n",
      "See the caveats in the documentation: http://pandas.pydata.org/pandas-docs/stable/indexing.html#indexing-view-versus-copy\n",
      "  app.launch_new_instance()\n"
     ]
    }
   ],
   "source": [
    "df_new[\"浴室乾燥機\"] = regional_data.bath_drier_Null_to_Zero.apply(lambda TF:'浴室乾燥機あり' if TF else '浴室乾燥機なし')\n",
    "df_new[\"オートロック\"] = regional_data.auto_lock.apply(lambda TF:'オートロックあり' if TF else 'オートロックなし')\n",
    "df_new[\"フローリング\"] = regional_data.flooring.apply(lambda TF:'フローリング〇' if TF else 'フローリング×')\n"
   ]
  },
  {
   "cell_type": "code",
   "execution_count": 53,
   "metadata": {
    "scrolled": true
   },
   "outputs": [
    {
     "data": {
      "text/html": [
       "<div>\n",
       "<style scoped>\n",
       "    .dataframe tbody tr th:only-of-type {\n",
       "        vertical-align: middle;\n",
       "    }\n",
       "\n",
       "    .dataframe tbody tr th {\n",
       "        vertical-align: top;\n",
       "    }\n",
       "\n",
       "    .dataframe thead th {\n",
       "        text-align: right;\n",
       "    }\n",
       "</style>\n",
       "<table border=\"1\" class=\"dataframe\">\n",
       "  <thead>\n",
       "    <tr style=\"text-align: right;\">\n",
       "      <th></th>\n",
       "      <th>価格(家賃)</th>\n",
       "      <th>床面積</th>\n",
       "      <th>緯度</th>\n",
       "      <th>経度</th>\n",
       "      <th>築年</th>\n",
       "      <th>予測価格</th>\n",
       "      <th>割引率(％),1-価格/予測価格</th>\n",
       "      <th>最寄駅</th>\n",
       "      <th>最寄駅への所要時間</th>\n",
       "      <th>方角</th>\n",
       "      <th>建物構造</th>\n",
       "      <th>コンロ口数</th>\n",
       "      <th>浴室乾燥機</th>\n",
       "      <th>オートロック</th>\n",
       "      <th>フローリング</th>\n",
       "    </tr>\n",
       "  </thead>\n",
       "  <tbody>\n",
       "    <tr>\n",
       "      <th>0</th>\n",
       "      <td>9.5</td>\n",
       "      <td>25.16</td>\n",
       "      <td>35.640232</td>\n",
       "      <td>139.683481</td>\n",
       "      <td>2005.0</td>\n",
       "      <td>12.847500</td>\n",
       "      <td>26.1</td>\n",
       "      <td>祐天寺駅</td>\n",
       "      <td>10</td>\n",
       "      <td>西</td>\n",
       "      <td>コンクリート</td>\n",
       "      <td>0</td>\n",
       "      <td>浴室乾燥機あり</td>\n",
       "      <td>オートロックあり</td>\n",
       "      <td>フローリング〇</td>\n",
       "    </tr>\n",
       "    <tr>\n",
       "      <th>1</th>\n",
       "      <td>10.7</td>\n",
       "      <td>32.36</td>\n",
       "      <td>35.640232</td>\n",
       "      <td>139.683481</td>\n",
       "      <td>2015.0</td>\n",
       "      <td>9.235310</td>\n",
       "      <td>-15.9</td>\n",
       "      <td>三軒茶屋駅</td>\n",
       "      <td>14</td>\n",
       "      <td>南東</td>\n",
       "      <td>木造</td>\n",
       "      <td>0</td>\n",
       "      <td>浴室乾燥機あり</td>\n",
       "      <td>オートロックなし</td>\n",
       "      <td>フローリング×</td>\n",
       "    </tr>\n",
       "    <tr>\n",
       "      <th>2</th>\n",
       "      <td>13.8</td>\n",
       "      <td>37.47</td>\n",
       "      <td>35.640232</td>\n",
       "      <td>139.683481</td>\n",
       "      <td>2014.0</td>\n",
       "      <td>9.673500</td>\n",
       "      <td>-42.7</td>\n",
       "      <td>祐天寺駅</td>\n",
       "      <td>12</td>\n",
       "      <td>南西</td>\n",
       "      <td>コンクリート</td>\n",
       "      <td>0</td>\n",
       "      <td>浴室乾燥機あり</td>\n",
       "      <td>オートロックあり</td>\n",
       "      <td>フローリング〇</td>\n",
       "    </tr>\n",
       "    <tr>\n",
       "      <th>3</th>\n",
       "      <td>18.7</td>\n",
       "      <td>67.29</td>\n",
       "      <td>35.640232</td>\n",
       "      <td>139.683481</td>\n",
       "      <td>1994.0</td>\n",
       "      <td>8.587500</td>\n",
       "      <td>-117.8</td>\n",
       "      <td>三軒茶屋駅</td>\n",
       "      <td>14</td>\n",
       "      <td>南</td>\n",
       "      <td>コンクリート</td>\n",
       "      <td>コンロ口数不明</td>\n",
       "      <td>浴室乾燥機なし</td>\n",
       "      <td>オートロックあり</td>\n",
       "      <td>フローリング〇</td>\n",
       "    </tr>\n",
       "    <tr>\n",
       "      <th>4</th>\n",
       "      <td>17.9</td>\n",
       "      <td>70.49</td>\n",
       "      <td>35.640232</td>\n",
       "      <td>139.683481</td>\n",
       "      <td>1994.0</td>\n",
       "      <td>11.131465</td>\n",
       "      <td>-60.8</td>\n",
       "      <td>三軒茶屋駅</td>\n",
       "      <td>14</td>\n",
       "      <td>南</td>\n",
       "      <td>コンクリート</td>\n",
       "      <td>コンロ口数不明</td>\n",
       "      <td>浴室乾燥機なし</td>\n",
       "      <td>オートロックあり</td>\n",
       "      <td>フローリング×</td>\n",
       "    </tr>\n",
       "  </tbody>\n",
       "</table>\n",
       "</div>"
      ],
      "text/plain": [
       "   価格(家賃)    床面積         緯度          経度      築年       予測価格  割引率(％),1-価格/予測価格  \\\n",
       "0     9.5  25.16  35.640232  139.683481  2005.0  12.847500              26.1   \n",
       "1    10.7  32.36  35.640232  139.683481  2015.0   9.235310             -15.9   \n",
       "2    13.8  37.47  35.640232  139.683481  2014.0   9.673500             -42.7   \n",
       "3    18.7  67.29  35.640232  139.683481  1994.0   8.587500            -117.8   \n",
       "4    17.9  70.49  35.640232  139.683481  1994.0  11.131465             -60.8   \n",
       "\n",
       "     最寄駅  最寄駅への所要時間  方角    建物構造    コンロ口数    浴室乾燥機    オートロック   フローリング  \n",
       "0   祐天寺駅         10   西  コンクリート        0  浴室乾燥機あり  オートロックあり  フローリング〇  \n",
       "1  三軒茶屋駅         14  南東      木造        0  浴室乾燥機あり  オートロックなし  フローリング×  \n",
       "2   祐天寺駅         12  南西  コンクリート        0  浴室乾燥機あり  オートロックあり  フローリング〇  \n",
       "3  三軒茶屋駅         14   南  コンクリート  コンロ口数不明  浴室乾燥機なし  オートロックあり  フローリング〇  \n",
       "4  三軒茶屋駅         14   南  コンクリート  コンロ口数不明  浴室乾燥機なし  オートロックあり  フローリング×  "
      ]
     },
     "execution_count": 53,
     "metadata": {},
     "output_type": "execute_result"
    }
   ],
   "source": [
    "df_new.head()"
   ]
  },
  {
   "cell_type": "markdown",
   "metadata": {},
   "source": [
    "<h3>選択された物件にタグ付け"
   ]
  },
  {
   "cell_type": "code",
   "execution_count": 54,
   "metadata": {},
   "outputs": [
    {
     "name": "stderr",
     "output_type": "stream",
     "text": [
      "C:\\Anaconda\\envs\\py35\\lib\\site-packages\\ipykernel\\__main__.py:2: SettingWithCopyWarning: \n",
      "A value is trying to be set on a copy of a slice from a DataFrame.\n",
      "Try using .loc[row_indexer,col_indexer] = value instead\n",
      "\n",
      "See the caveats in the documentation: http://pandas.pydata.org/pandas-docs/stable/indexing.html#indexing-view-versus-copy\n",
      "  from ipykernel import kernelapp as app\n"
     ]
    }
   ],
   "source": [
    "tag_property = lambda TF:\"選択された物件\" if TF else \"周囲の物件 (500m県内) \"\n",
    "df_new[\"選択物件\"] = (regional_data.url==list(DF_analytical_data.url)[0]).apply(tag_property)\n"
   ]
  },
  {
   "cell_type": "code",
   "execution_count": 76,
   "metadata": {
    "scrolled": true
   },
   "outputs": [],
   "source": [
    "txt_to_render = \"\"\n",
    "IF_start = True\n",
    "for i,row in df_new.iterrows():\n",
    "    get_row_by = lambda colname:list(row[df_new.columns==colname])[0]\n",
    "    if IF_start==False:\n",
    "        txt_to_render += \",\\n\"\n",
    "    txt_to_render += \"{\"\n",
    "    IF_start = False\n",
    "    if_start = True\n",
    "    for colname in df_new.columns:\n",
    "        if if_start==False:\n",
    "            txt_to_render += \",\"\n",
    "        if_start = False\n",
    "        txt_to_render += \"\\\"{colname}\\\":\\\"{value}\\\"\".format(colname=colname,value=get_row_by(colname))\n",
    "    txt_to_render += \"}\""
   ]
  },
  {
   "cell_type": "code",
   "execution_count": 79,
   "metadata": {},
   "outputs": [],
   "source": [
    "txt_to_render = \"[\\n\" + txt_to_render + \"\\n]\""
   ]
  },
  {
   "cell_type": "code",
   "execution_count": 81,
   "metadata": {},
   "outputs": [
    {
     "name": "stdout",
     "output_type": "stream",
     "text": [
      "[\n",
      "{\"価格(家賃)\":\"9.5\",\"床面積\":\"25.16\",\"緯度\":\"35.6402321\",\"経度\":\"139.6834809\",\"築年\":\"2005.0\",\"予測価格\":\"12.8475\",\"割引率(％),1-価格/予測価格\":\"26.1\",\"最寄駅\":\"祐天寺駅\",\"最寄駅への所要時間\":\"10\",\"方角\":\"西\",\"建物構造\":\"コンクリート\",\"コンロ口数\":\"0.0\",\"浴室乾燥機\":\"浴室乾燥機あり\",\"オートロック\":\"オートロックあり\",\"フローリング\":\"フローリング〇\",\"選択物件\":\"周囲の物件 (500m県内) \"},\n",
      "{\"価格(家賃)\":\"10.7\",\"床面積\":\"32.36\",\"緯度\":\"35.6402321\",\"経度\":\"139.6834809\",\"築年\":\"2015.0\",\"予測価格\":\"9.235310000000004\",\"割引率(％),1-価格/予測価格\":\"-15.9\",\"最寄駅\":\"三軒茶屋駅\",\"最寄駅への所要時間\":\"14\",\"方角\":\"南東\",\"建物構造\":\"木造\",\"コンロ口数\":\"0.0\",\"浴室乾燥機\":\"浴室乾燥機あり\",\"オートロック\":\"オートロックなし\",\"フローリング\":\"フローリング×\",\"選択物件\":\"周囲の物件 (500m県内) \"},\n",
      "{\"価格(家賃)\":\"13.8\",\"床面積\":\"37.47\",\"緯度\":\"35.6402321\",\"経度\":\"139.6834809\",\"築年\":\"2014.0\",\"予測価格\":\"9.673500000000004\",\"割引率(％),1-価格/予測価格\":\"-42.7\",\"最寄駅\":\"祐天寺駅\",\"最寄駅への所要時間\":\"12\",\"方角\":\"南西\",\"建物構造\":\"コンクリート\",\"コンロ口数\":\"0.0\",\"浴室乾燥機\":\"浴室乾燥機あり\",\"オートロック\":\"オートロックあり\",\"フローリング\":\"フローリング〇\",\"選択物件\":\"周囲の物件 (500m県内) \"},\n",
      "{\"価格(家賃)\":\"18.7\",\"床面積\":\"67.29\",\"緯度\":\"35.6402321\",\"経度\":\"139.6834809\",\"築年\":\"1994.0\",\"予測価格\":\"8.587500000000006\",\"割引率(％),1-価格/予測価格\":\"-117.8\",\"最寄駅\":\"三軒茶屋駅\",\"最寄駅への所要時間\":\"14\",\"方角\":\"南\",\"建物構造\":\"コンクリート\",\"コンロ口数\":\"コンロ口数不明\",\"浴室乾燥機\":\"浴室乾燥機なし\",\"オートロック\":\"オートロックあり\",\"フローリング\":\"フローリング〇\",\"選択物件\":\"周囲の物件 (500m県内) \"},\n",
      "{\"価格(家賃)\":\"17.9\",\"床面積\":\"70.49\",\"緯度\":\"35.6402321\",\"経度\":\"139.6834809\",\"築年\":\"1994.0\",\"予測価格\":\"11.131465476190474\",\"割引率(％),1-価格/予測価格\":\"-60.8\",\"最寄駅\":\"三軒茶屋駅\",\"最寄駅への所要時間\":\"14\",\"方角\":\"南\",\"建物構造\":\"コンクリート\",\"コンロ口数\":\"コンロ口数不明\",\"浴室乾燥機\":\"浴室乾燥機なし\",\"オートロック\":\"オートロックあり\",\"フローリング\":\"フローリング×\",\"選択物件\":\"周囲の物件 (500m県内) \"},\n",
      "{\"価格(家賃)\":\"8.3\",\"床面積\":\"26.38\",\"緯度\":\"35.6402321\",\"経度\":\"139.6834809\",\"築年\":\"1998.0\",\"予測価格\":\"9.62041\",\"割引率(％),1-価格/予測価格\":\"13.7\",\"最寄駅\":\"三軒茶屋駅\",\"最寄駅への所要時間\":\"10\",\"方角\":\"西\",\"建物構造\":\"鉄骨\",\"コンロ口数\":\"2.0\",\"浴室乾燥機\":\"浴室乾燥機なし\",\"オートロック\":\"オートロックあり\",\"フローリング\":\"フローリング〇\",\"選択物件\":\"周囲の物件 (500m県内) \"},\n",
      "{\"価格(家賃)\":\"9.0\",\"床面積\":\"25.0\",\"緯度\":\"35.6402321\",\"経度\":\"139.6834809\",\"築年\":\"1998.0\",\"予測価格\":\"9.798733333333338\",\"割引率(％),1-価格/予測価格\":\"8.2\",\"最寄駅\":\"祐天寺駅\",\"最寄駅への所要時間\":\"9\",\"方角\":\"南\",\"建物構造\":\"コンクリート\",\"コンロ口数\":\"0.0\",\"浴室乾燥機\":\"浴室乾燥機なし\",\"オートロック\":\"オートロックあり\",\"フローリング\":\"フローリング×\",\"選択物件\":\"周囲の物件 (500m県内) \"},\n",
      "{\"価格(家賃)\":\"6.5\",\"床面積\":\"19.0\",\"緯度\":\"35.6402321\",\"経度\":\"139.6834809\",\"築年\":\"1986.0\",\"予測価格\":\"9.932083333333333\",\"割引率(％),1-価格/予測価格\":\"34.6\",\"最寄駅\":\"祐天寺駅\",\"最寄駅への所要時間\":\"14\",\"方角\":\"西\",\"建物構造\":\"コンクリート\",\"コンロ口数\":\"2.0\",\"浴室乾燥機\":\"浴室乾燥機なし\",\"オートロック\":\"オートロックなし\",\"フローリング\":\"フローリング〇\",\"選択物件\":\"周囲の物件 (500m県内) \"},\n",
      "{\"価格(家賃)\":\"18.8\",\"床面積\":\"60.03\",\"緯度\":\"35.6402321\",\"経度\":\"139.6834809\",\"築年\":\"2002.0\",\"予測価格\":\"11.43754583333334\",\"割引率(％),1-価格/予測価格\":\"-64.4\",\"最寄駅\":\"祐天寺駅\",\"最寄駅への所要時間\":\"13\",\"方角\":\"東\",\"建物構造\":\"コンクリート\",\"コンロ口数\":\"3.0\",\"浴室乾燥機\":\"浴室乾燥機あり\",\"オートロック\":\"オートロックあり\",\"フローリング\":\"フローリング〇\",\"選択物件\":\"周囲の物件 (500m県内) \"},\n",
      "{\"価格(家賃)\":\"5.0\",\"床面積\":\"10.87\",\"緯度\":\"35.6402321\",\"経度\":\"139.6834809\",\"築年\":\"1970.0\",\"予測価格\":\"10.600616666666673\",\"割引率(％),1-価格/予測価格\":\"52.8\",\"最寄駅\":\"祐天寺駅\",\"最寄駅への所要時間\":\"10\",\"方角\":\"北東\",\"建物構造\":\"木造\",\"コンロ口数\":\"0.0\",\"浴室乾燥機\":\"浴室乾燥機なし\",\"オートロック\":\"オートロックなし\",\"フローリング\":\"フローリング〇\",\"選択物件\":\"周囲の物件 (500m県内) \"},\n",
      "{\"価格(家賃)\":\"9.4\",\"床面積\":\"23.63\",\"緯度\":\"35.6402321\",\"経度\":\"139.6834809\",\"築年\":\"2008.0\",\"予測価格\":\"8.67968333333333\",\"割引率(％),1-価格/予測価格\":\"-8.3\",\"最寄駅\":\"三軒茶屋駅\",\"最寄駅への所要時間\":\"10\",\"方角\":\"南\",\"建物構造\":\"コンクリート\",\"コンロ口数\":\"2.0\",\"浴室乾燥機\":\"浴室乾燥機なし\",\"オートロック\":\"オートロックあり\",\"フローリング\":\"フローリング〇\",\"選択物件\":\"周囲の物件 (500m県内) \"},\n",
      "{\"価格(家賃)\":\"9.0\",\"床面積\":\"27.31\",\"緯度\":\"35.6402321\",\"経度\":\"139.6834809\",\"築年\":\"2015.0\",\"予測価格\":\"12.024049999999999\",\"割引率(％),1-価格/予測価格\":\"25.2\",\"最寄駅\":\"祐天寺駅\",\"最寄駅への所要時間\":\"12\",\"方角\":\"南西\",\"建物構造\":\"鉄骨\",\"コンロ口数\":\"0.0\",\"浴室乾燥機\":\"浴室乾燥機なし\",\"オートロック\":\"オートロックなし\",\"フローリング\":\"フローリング〇\",\"選択物件\":\"周囲の物件 (500m県内) \"},\n",
      "{\"価格(家賃)\":\"8.7\",\"床面積\":\"33.67\",\"緯度\":\"35.6402321\",\"経度\":\"139.6834809\",\"築年\":\"1991.0\",\"予測価格\":\"10.289591666666668\",\"割引率(％),1-価格/予測価格\":\"15.4\",\"最寄駅\":\"祐天寺駅\",\"最寄駅への所要時間\":\"10\",\"方角\":\"南\",\"建物構造\":\"鉄骨\",\"コンロ口数\":\"2.0\",\"浴室乾燥機\":\"浴室乾燥機なし\",\"オートロック\":\"オートロックなし\",\"フローリング\":\"フローリング〇\",\"選択物件\":\"周囲の物件 (500m県内) \"},\n",
      "{\"価格(家賃)\":\"9.0\",\"床面積\":\"27.31\",\"緯度\":\"35.6402321\",\"経度\":\"139.6834809\",\"築年\":\"2015.0\",\"予測価格\":\"11.800416666666674\",\"割引率(％),1-価格/予測価格\":\"23.7\",\"最寄駅\":\"祐天寺駅\",\"最寄駅への所要時間\":\"12\",\"方角\":\"南西\",\"建物構造\":\"鉄骨\",\"コンロ口数\":\"コンロ口数不明\",\"浴室乾燥機\":\"浴室乾燥機なし\",\"オートロック\":\"オートロックなし\",\"フローリング\":\"フローリング〇\",\"選択物件\":\"周囲の物件 (500m県内) \"},\n",
      "{\"価格(家賃)\":\"18.7\",\"床面積\":\"67.29\",\"緯度\":\"35.6402321\",\"経度\":\"139.6834809\",\"築年\":\"1994.0\",\"予測価格\":\"13.47034999999997\",\"割引率(％),1-価格/予測価格\":\"-38.8\",\"最寄駅\":\"三軒茶屋駅\",\"最寄駅への所要時間\":\"14\",\"方角\":\"南\",\"建物構造\":\"コンクリート\",\"コンロ口数\":\"コンロ口数不明\",\"浴室乾燥機\":\"浴室乾燥機なし\",\"オートロック\":\"オートロックあり\",\"フローリング\":\"フローリング〇\",\"選択物件\":\"周囲の物件 (500m県内) \"},\n",
      "{\"価格(家賃)\":\"13.3\",\"床面積\":\"49.27\",\"緯度\":\"35.6402321\",\"経度\":\"139.6834809\",\"築年\":\"2015.0\",\"予測価格\":\"12.520700000000007\",\"割引率(％),1-価格/予測価格\":\"-6.2\",\"最寄駅\":\"祐天寺駅\",\"最寄駅への所要時間\":\"14\",\"方角\":\"南東\",\"建物構造\":\"木造\",\"コンロ口数\":\"コンロ口数不明\",\"浴室乾燥機\":\"浴室乾燥機なし\",\"オートロック\":\"オートロックなし\",\"フローリング\":\"フローリング×\",\"選択物件\":\"周囲の物件 (500m県内) \"},\n",
      "{\"価格(家賃)\":\"13.3\",\"床面積\":\"49.27\",\"緯度\":\"35.6402321\",\"経度\":\"139.6834809\",\"築年\":\"2015.0\",\"予測価格\":\"9.139933333333333\",\"割引率(％),1-価格/予測価格\":\"-45.5\",\"最寄駅\":\"祐天寺駅\",\"最寄駅への所要時間\":\"14\",\"方角\":\"南東\",\"建物構造\":\"木造\",\"コンロ口数\":\"2.0\",\"浴室乾燥機\":\"浴室乾燥機あり\",\"オートロック\":\"オートロックなし\",\"フローリング\":\"フローリング〇\",\"選択物件\":\"周囲の物件 (500m県内) \"},\n",
      "{\"価格(家賃)\":\"22.8\",\"床面積\":\"59.4\",\"緯度\":\"35.6402321\",\"経度\":\"139.6834809\",\"築年\":\"2006.0\",\"予測価格\":\"10.15421166666667\",\"割引率(％),1-価格/予測価格\":\"-124.5\",\"最寄駅\":\"渋谷駅\",\"最寄駅への所要時間\":\"1\",\"方角\":\"南\",\"建物構造\":\"コンクリート\",\"コンロ口数\":\"3.0\",\"浴室乾燥機\":\"浴室乾燥機あり\",\"オートロック\":\"オートロックあり\",\"フローリング\":\"フローリング〇\",\"選択物件\":\"周囲の物件 (500m県内) \"},\n",
      "{\"価格(家賃)\":\"20.6\",\"床面積\":\"59.4\",\"緯度\":\"35.6402321\",\"経度\":\"139.6834809\",\"築年\":\"2006.0\",\"予測価格\":\"8.411833333333336\",\"割引率(％),1-価格/予測価格\":\"-144.9\",\"最寄駅\":\"祐天寺駅\",\"最寄駅への所要時間\":\"10\",\"方角\":\"南東\",\"建物構造\":\"コンクリート\",\"コンロ口数\":\"3.0\",\"浴室乾燥機\":\"浴室乾燥機あり\",\"オートロック\":\"オートロックあり\",\"フローリング\":\"フローリング〇\",\"選択物件\":\"周囲の物件 (500m県内) \"},\n",
      "{\"価格(家賃)\":\"22.8\",\"床面積\":\"59.4\",\"緯度\":\"35.6402321\",\"経度\":\"139.6834809\",\"築年\":\"2006.0\",\"予測価格\":\"9.723416666666687\",\"割引率(％),1-価格/予測価格\":\"-134.5\",\"最寄駅\":\"祐天寺駅\",\"最寄駅への所要時間\":\"10\",\"方角\":\"南東\",\"建物構造\":\"コンクリート\",\"コンロ口数\":\"3.0\",\"浴室乾燥機\":\"浴室乾燥機あり\",\"オートロック\":\"オートロックあり\",\"フローリング\":\"フローリング〇\",\"選択物件\":\"周囲の物件 (500m県内) \"},\n",
      "{\"価格(家賃)\":\"8.9\",\"床面積\":\"34.78\",\"緯度\":\"35.6402321\",\"経度\":\"139.6834809\",\"築年\":\"1995.0\",\"予測価格\":\"8.254054761904763\",\"割引率(％),1-価格/予測価格\":\"-7.8\",\"最寄駅\":\"祐天寺駅\",\"最寄駅への所要時間\":\"12\",\"方角\":\"南\",\"建物構造\":\"木造\",\"コンロ口数\":\"0.0\",\"浴室乾燥機\":\"浴室乾燥機なし\",\"オートロック\":\"オートロックなし\",\"フローリング\":\"フローリング〇\",\"選択物件\":\"周囲の物件 (500m県内) \"},\n",
      "{\"価格(家賃)\":\"10.4\",\"床面積\":\"34.78\",\"緯度\":\"35.6402321\",\"経度\":\"139.6834809\",\"築年\":\"1995.0\",\"予測価格\":\"8.890250000000007\",\"割引率(％),1-価格/予測価格\":\"-17.0\",\"最寄駅\":\"祐天寺駅\",\"最寄駅への所要時間\":\"12\",\"方角\":\"南\",\"建物構造\":\"木造\",\"コンロ口数\":\"2.0\",\"浴室乾燥機\":\"浴室乾燥機なし\",\"オートロック\":\"オートロックなし\",\"フローリング\":\"フローリング〇\",\"選択物件\":\"周囲の物件 (500m県内) \"},\n",
      "{\"価格(家賃)\":\"10.4\",\"床面積\":\"34.78\",\"緯度\":\"35.6402321\",\"経度\":\"139.6834809\",\"築年\":\"1995.0\",\"予測価格\":\"8.903450000000001\",\"割引率(％),1-価格/予測価格\":\"-16.8\",\"最寄駅\":\"祐天寺駅\",\"最寄駅への所要時間\":\"12\",\"方角\":\"南\",\"建物構造\":\"木造\",\"コンロ口数\":\"0.0\",\"浴室乾燥機\":\"浴室乾燥機なし\",\"オートロック\":\"オートロックなし\",\"フローリング\":\"フローリング〇\",\"選択物件\":\"選択された物件\"},\n",
      "{\"価格(家賃)\":\"10.4\",\"床面積\":\"34.78\",\"緯度\":\"35.6402321\",\"経度\":\"139.6834809\",\"築年\":\"1995.0\",\"予測価格\":\"9.60055\",\"割引率(％),1-価格/予測価格\":\"-8.3\",\"最寄駅\":\"祐天寺駅\",\"最寄駅への所要時間\":\"12\",\"方角\":\"南\",\"建物構造\":\"木造\",\"コンロ口数\":\"0.0\",\"浴室乾燥機\":\"浴室乾燥機なし\",\"オートロック\":\"オートロックなし\",\"フローリング\":\"フローリング〇\",\"選択物件\":\"周囲の物件 (500m県内) \"},\n",
      "{\"価格(家賃)\":\"6.8\",\"床面積\":\"20.0\",\"緯度\":\"35.6416264\",\"経度\":\"139.6860362\",\"築年\":\"1980.0\",\"予測価格\":\"10.107933333333333\",\"割引率(％),1-価格/予測価格\":\"32.7\",\"最寄駅\":\"祐天寺駅\",\"最寄駅への所要時間\":\"10\",\"方角\":\"東\",\"建物構造\":\"コンクリート\",\"コンロ口数\":\"0.0\",\"浴室乾燥機\":\"浴室乾燥機なし\",\"オートロック\":\"オートロックなし\",\"フローリング\":\"フローリング〇\",\"選択物件\":\"周囲の物件 (500m県内) \"},\n",
      "{\"価格(家賃)\":\"8.3\",\"床面積\":\"25.67\",\"緯度\":\"35.6402321\",\"経度\":\"139.6834809\",\"築年\":\"2000.0\",\"予測価格\":\"8.076600000000004\",\"割引率(％),1-価格/予測価格\":\"-2.8\",\"最寄駅\":\"祐天寺駅\",\"最寄駅への所要時間\":\"16\",\"方角\":\"南西\",\"建物構造\":\"木造\",\"コンロ口数\":\"0.0\",\"浴室乾燥機\":\"浴室乾燥機なし\",\"オートロック\":\"オートロックなし\",\"フローリング\":\"フローリング〇\",\"選択物件\":\"周囲の物件 (500m県内) \"},\n",
      "{\"価格(家賃)\":\"22.0\",\"床面積\":\"72.92\",\"緯度\":\"35.6402321\",\"経度\":\"139.6834809\",\"築年\":\"1970.0\",\"予測価格\":\"10.723633333333341\",\"割引率(％),1-価格/予測価格\":\"-105.2\",\"最寄駅\":\"渋谷駅\",\"最寄駅への所要時間\":\"1\",\"方角\":\"南東\",\"建物構造\":\"コンクリート\",\"コンロ口数\":\"3.0\",\"浴室乾燥機\":\"浴室乾燥機あり\",\"オートロック\":\"オートロックなし\",\"フローリング\":\"フローリング〇\",\"選択物件\":\"周囲の物件 (500m県内) \"},\n",
      "{\"価格(家賃)\":\"13.9\",\"床面積\":\"40.91\",\"緯度\":\"35.6402321\",\"経度\":\"139.6834809\",\"築年\":\"2008.0\",\"予測価格\":\"11.006200000000028\",\"割引率(％),1-価格/予測価格\":\"-26.3\",\"最寄駅\":\"三軒茶屋駅\",\"最寄駅への所要時間\":\"10\",\"方角\":\"南東\",\"建物構造\":\"コンクリート\",\"コンロ口数\":\"3.0\",\"浴室乾燥機\":\"浴室乾燥機なし\",\"オートロック\":\"オートロックあり\",\"フローリング\":\"フローリング〇\",\"選択物件\":\"周囲の物件 (500m県内) \"},\n",
      "{\"価格(家賃)\":\"22.8\",\"床面積\":\"59.4\",\"緯度\":\"35.6402321\",\"経度\":\"139.6834809\",\"築年\":\"2006.0\",\"予測価格\":\"9.723416666666687\",\"割引率(％),1-価格/予測価格\":\"-134.5\",\"最寄駅\":\"祐天寺駅\",\"最寄駅への所要時間\":\"10\",\"方角\":\"南東\",\"建物構造\":\"コンクリート\",\"コンロ口数\":\"3.0\",\"浴室乾燥機\":\"浴室乾燥機あり\",\"オートロック\":\"オートロックあり\",\"フローリング\":\"フローリング〇\",\"選択物件\":\"周囲の物件 (500m県内) \"},\n",
      "{\"価格(家賃)\":\"5.0\",\"床面積\":\"10.87\",\"緯度\":\"35.6402321\",\"経度\":\"139.6834809\",\"築年\":\"1970.0\",\"予測価格\":\"9.828783333333341\",\"割引率(％),1-価格/予測価格\":\"49.1\",\"最寄駅\":\"祐天寺駅\",\"最寄駅への所要時間\":\"10\",\"方角\":\"西\",\"建物構造\":\"木造\",\"コンロ口数\":\"0.0\",\"浴室乾燥機\":\"浴室乾燥機なし\",\"オートロック\":\"オートロックなし\",\"フローリング\":\"フローリング×\",\"選択物件\":\"周囲の物件 (500m県内) \"},\n",
      "{\"価格(家賃)\":\"5.0\",\"床面積\":\"10.87\",\"緯度\":\"35.6402321\",\"経度\":\"139.6834809\",\"築年\":\"1970.0\",\"予測価格\":\"9.601333333333331\",\"割引率(％),1-価格/予測価格\":\"47.9\",\"最寄駅\":\"祐天寺駅\",\"最寄駅への所要時間\":\"10\",\"方角\":\"南\",\"建物構造\":\"木造\",\"コンロ口数\":\"0.0\",\"浴室乾燥機\":\"浴室乾燥機なし\",\"オートロック\":\"オートロックなし\",\"フローリング\":\"フローリング×\",\"選択物件\":\"周囲の物件 (500m県内) \"},\n",
      "{\"価格(家賃)\":\"7.1\",\"床面積\":\"25.61\",\"緯度\":\"35.6402321\",\"経度\":\"139.6834809\",\"築年\":\"1990.0\",\"予測価格\":\"10.295766666666673\",\"割引率(％),1-価格/予測価格\":\"31.0\",\"最寄駅\":\"祐天寺駅\",\"最寄駅への所要時間\":\"15\",\"方角\":\"南\",\"建物構造\":\"鉄骨\",\"コンロ口数\":\"2.0\",\"浴室乾燥機\":\"浴室乾燥機なし\",\"オートロック\":\"オートロックなし\",\"フローリング\":\"フローリング〇\",\"選択物件\":\"周囲の物件 (500m県内) \"},\n",
      "{\"価格(家賃)\":\"7.1\",\"床面積\":\"24.2\",\"緯度\":\"35.6402321\",\"経度\":\"139.6834809\",\"築年\":\"1990.0\",\"予測価格\":\"8.899483333333334\",\"割引率(％),1-価格/予測価格\":\"20.2\",\"最寄駅\":\"祐天寺駅\",\"最寄駅への所要時間\":\"14\",\"方角\":\"南東\",\"建物構造\":\"鉄骨\",\"コンロ口数\":\"2.0\",\"浴室乾燥機\":\"浴室乾燥機なし\",\"オートロック\":\"オートロックなし\",\"フローリング\":\"フローリング〇\",\"選択物件\":\"周囲の物件 (500m県内) \"},\n",
      "{\"価格(家賃)\":\"10.5\",\"床面積\":\"34.03\",\"緯度\":\"35.6402321\",\"経度\":\"139.6834809\",\"築年\":\"2006.0\",\"予測価格\":\"7.978200000000004\",\"割引率(％),1-価格/予測価格\":\"-31.6\",\"最寄駅\":\"三軒茶屋駅\",\"最寄駅への所要時間\":\"12\",\"方角\":\"南\",\"建物構造\":\"コンクリート\",\"コンロ口数\":\"0.0\",\"浴室乾燥機\":\"浴室乾燥機あり\",\"オートロック\":\"オートロックあり\",\"フローリング\":\"フローリング〇\",\"選択物件\":\"周囲の物件 (500m県内) \"},\n",
      "{\"価格(家賃)\":\"9.5\",\"床面積\":\"35.0\",\"緯度\":\"35.6402321\",\"経度\":\"139.6834809\",\"築年\":\"2000.0\",\"予測価格\":\"13.347250000000008\",\"割引率(％),1-価格/予測価格\":\"28.8\",\"最寄駅\":\"三軒茶屋駅\",\"最寄駅への所要時間\":\"12\",\"方角\":\"北東\",\"建物構造\":\"木造\",\"コンロ口数\":\"0.0\",\"浴室乾燥機\":\"浴室乾燥機なし\",\"オートロック\":\"オートロックなし\",\"フローリング\":\"フローリング〇\",\"選択物件\":\"周囲の物件 (500m県内) \"},\n",
      "{\"価格(家賃)\":\"16.7\",\"床面積\":\"51.75\",\"緯度\":\"35.6402321\",\"経度\":\"139.6834809\",\"築年\":\"2006.0\",\"予測価格\":\"9.42988333333334\",\"割引率(％),1-価格/予測価格\":\"-77.1\",\"最寄駅\":\"三軒茶屋駅\",\"最寄駅への所要時間\":\"12\",\"方角\":\"南\",\"建物構造\":\"コンクリート\",\"コンロ口数\":\"0.0\",\"浴室乾燥機\":\"浴室乾燥機あり\",\"オートロック\":\"オートロックあり\",\"フローリング\":\"フローリング〇\",\"選択物件\":\"周囲の物件 (500m県内) \"},\n",
      "{\"価格(家賃)\":\"8.3\",\"床面積\":\"25.67\",\"緯度\":\"35.6402321\",\"経度\":\"139.6834809\",\"築年\":\"2000.0\",\"予測価格\":\"9.590374999999998\",\"割引率(％),1-価格/予測価格\":\"13.5\",\"最寄駅\":\"祐天寺駅\",\"最寄駅への所要時間\":\"16\",\"方角\":\"南西\",\"建物構造\":\"木造\",\"コンロ口数\":\"2.0\",\"浴室乾燥機\":\"浴室乾燥機なし\",\"オートロック\":\"オートロックなし\",\"フローリング\":\"フローリング〇\",\"選択物件\":\"周囲の物件 (500m県内) \"},\n",
      "{\"価格(家賃)\":\"9.5\",\"床面積\":\"35.0\",\"緯度\":\"35.6402321\",\"経度\":\"139.6834809\",\"築年\":\"1998.0\",\"予測価格\":\"8.278733333333335\",\"割引率(％),1-価格/予測価格\":\"-14.8\",\"最寄駅\":\"三軒茶屋駅\",\"最寄駅への所要時間\":\"10\",\"方角\":\"南東\",\"建物構造\":\"木造\",\"コンロ口数\":\"2.0\",\"浴室乾燥機\":\"浴室乾燥機なし\",\"オートロック\":\"オートロックなし\",\"フローリング\":\"フローリング〇\",\"選択物件\":\"周囲の物件 (500m県内) \"},\n",
      "{\"価格(家賃)\":\"13.9\",\"床面積\":\"40.91\",\"緯度\":\"35.6402321\",\"経度\":\"139.6834809\",\"築年\":\"2008.0\",\"予測価格\":\"7.765650000000002\",\"割引率(％),1-価格/予測価格\":\"-79.0\",\"最寄駅\":\"三軒茶屋駅\",\"最寄駅への所要時間\":\"10\",\"方角\":\"南東\",\"建物構造\":\"コンクリート\",\"コンロ口数\":\"3.0\",\"浴室乾燥機\":\"浴室乾燥機なし\",\"オートロック\":\"オートロックあり\",\"フローリング\":\"フローリング〇\",\"選択物件\":\"周囲の物件 (500m県内) \"},\n",
      "{\"価格(家賃)\":\"9.3\",\"床面積\":\"23.63\",\"緯度\":\"35.6402321\",\"経度\":\"139.6834809\",\"築年\":\"2008.0\",\"予測価格\":\"9.65427738095238\",\"割引率(％),1-価格/予測価格\":\"3.7\",\"最寄駅\":\"三軒茶屋駅\",\"最寄駅への所要時間\":\"10\",\"方角\":\"南東\",\"建物構造\":\"コンクリート\",\"コンロ口数\":\"2.0\",\"浴室乾燥機\":\"浴室乾燥機なし\",\"オートロック\":\"オートロックあり\",\"フローリング\":\"フローリング〇\",\"選択物件\":\"周囲の物件 (500m県内) \"},\n",
      "{\"価格(家賃)\":\"9.5\",\"床面積\":\"29.8\",\"緯度\":\"35.6402321\",\"経度\":\"139.6834809\",\"築年\":\"1997.0\",\"予測価格\":\"8.922799999999997\",\"割引率(％),1-価格/予測価格\":\"-6.5\",\"最寄駅\":\"祐天寺駅\",\"最寄駅への所要時間\":\"12\",\"方角\":\"南西\",\"建物構造\":\"コンクリート\",\"コンロ口数\":\"0.0\",\"浴室乾燥機\":\"浴室乾燥機なし\",\"オートロック\":\"オートロックなし\",\"フローリング\":\"フローリング〇\",\"選択物件\":\"周囲の物件 (500m県内) \"},\n",
      "{\"価格(家賃)\":\"9.5\",\"床面積\":\"33.2\",\"緯度\":\"35.6402321\",\"経度\":\"139.6834809\",\"築年\":\"1978.0\",\"予測価格\":\"8.884699999999988\",\"割引率(％),1-価格/予測価格\":\"-6.9\",\"最寄駅\":\"祐天寺駅\",\"最寄駅への所要時間\":\"9\",\"方角\":\"南\",\"建物構造\":\"コンクリート\",\"コンロ口数\":\"2.0\",\"浴室乾燥機\":\"浴室乾燥機なし\",\"オートロック\":\"オートロックなし\",\"フローリング\":\"フローリング〇\",\"選択物件\":\"周囲の物件 (500m県内) \"},\n",
      "{\"価格(家賃)\":\"8.9\",\"床面積\":\"34.78\",\"緯度\":\"35.6402321\",\"経度\":\"139.6834809\",\"築年\":\"1995.0\",\"予測価格\":\"9.171319999999998\",\"割引率(％),1-価格/予測価格\":\"3.0\",\"最寄駅\":\"渋谷駅\",\"最寄駅への所要時間\":\"2\",\"方角\":\"南\",\"建物構造\":\"木造\",\"コンロ口数\":\"0.0\",\"浴室乾燥機\":\"浴室乾燥機なし\",\"オートロック\":\"オートロックなし\",\"フローリング\":\"フローリング〇\",\"選択物件\":\"周囲の物件 (500m県内) \"},\n",
      "{\"価格(家賃)\":\"8.3\",\"床面積\":\"25.67\",\"緯度\":\"35.6402321\",\"経度\":\"139.6834809\",\"築年\":\"2000.0\",\"予測価格\":\"8.787174999999998\",\"割引率(％),1-価格/予測価格\":\"5.5\",\"最寄駅\":\"三軒茶屋駅\",\"最寄駅への所要時間\":\"13\",\"方角\":\"方角不明\",\"建物構造\":\"木造\",\"コンロ口数\":\"0.0\",\"浴室乾燥機\":\"浴室乾燥機なし\",\"オートロック\":\"オートロックなし\",\"フローリング\":\"フローリング〇\",\"選択物件\":\"周囲の物件 (500m県内) \"},\n",
      "{\"価格(家賃)\":\"9.5\",\"床面積\":\"31.78\",\"緯度\":\"35.6402321\",\"経度\":\"139.6834809\",\"築年\":\"1978.0\",\"予測価格\":\"10.289479761904765\",\"割引率(％),1-価格/予測価格\":\"7.7\",\"最寄駅\":\"祐天寺駅\",\"最寄駅への所要時間\":\"9\",\"方角\":\"西\",\"建物構造\":\"コンクリート\",\"コンロ口数\":\"2.0\",\"浴室乾燥機\":\"浴室乾燥機なし\",\"オートロック\":\"オートロックなし\",\"フローリング\":\"フローリング〇\",\"選択物件\":\"周囲の物件 (500m県内) \"},\n",
      "{\"価格(家賃)\":\"7.5\",\"床面積\":\"21.25\",\"緯度\":\"35.6402321\",\"経度\":\"139.6834809\",\"築年\":\"1997.0\",\"予測価格\":\"11.394033333333335\",\"割引率(％),1-価格/予測価格\":\"34.2\",\"最寄駅\":\"祐天寺駅\",\"最寄駅への所要時間\":\"12\",\"方角\":\"南西\",\"建物構造\":\"コンクリート\",\"コンロ口数\":\"0.0\",\"浴室乾燥機\":\"浴室乾燥機なし\",\"オートロック\":\"オートロックあり\",\"フローリング\":\"フローリング×\",\"選択物件\":\"周囲の物件 (500m県内) \"},\n",
      "{\"価格(家賃)\":\"6.5\",\"床面積\":\"19.2\",\"緯度\":\"35.6402321\",\"経度\":\"139.6834809\",\"築年\":\"1988.0\",\"予測価格\":\"8.795149999999996\",\"割引率(％),1-価格/予測価格\":\"26.1\",\"最寄駅\":\"祐天寺駅\",\"最寄駅への所要時間\":\"15\",\"方角\":\"南\",\"建物構造\":\"コンクリート\",\"コンロ口数\":\"2.0\",\"浴室乾燥機\":\"浴室乾燥機なし\",\"オートロック\":\"オートロックなし\",\"フローリング\":\"フローリング〇\",\"選択物件\":\"周囲の物件 (500m県内) \"},\n",
      "{\"価格(家賃)\":\"6.2\",\"床面積\":\"16.0\",\"緯度\":\"35.6402321\",\"経度\":\"139.6834809\",\"築年\":\"1988.0\",\"予測価格\":\"9.075200000000004\",\"割引率(％),1-価格/予測価格\":\"31.7\",\"最寄駅\":\"祐天寺駅\",\"最寄駅への所要時間\":\"15\",\"方角\":\"南\",\"建物構造\":\"コンクリート\",\"コンロ口数\":\"2.0\",\"浴室乾燥機\":\"浴室乾燥機なし\",\"オートロック\":\"オートロックなし\",\"フローリング\":\"フローリング〇\",\"選択物件\":\"周囲の物件 (500m県内) \"},\n",
      "{\"価格(家賃)\":\"9.5\",\"床面積\":\"33.0\",\"緯度\":\"35.6402321\",\"経度\":\"139.6834809\",\"築年\":\"1978.0\",\"予測価格\":\"9.935149999999995\",\"割引率(％),1-価格/予測価格\":\"4.4\",\"最寄駅\":\"祐天寺駅\",\"最寄駅への所要時間\":\"10\",\"方角\":\"南\",\"建物構造\":\"コンクリート\",\"コンロ口数\":\"2.0\",\"浴室乾燥機\":\"浴室乾燥機なし\",\"オートロック\":\"オートロックなし\",\"フローリング\":\"フローリング〇\",\"選択物件\":\"周囲の物件 (500m県内) \"},\n",
      "{\"価格(家賃)\":\"22.8\",\"床面積\":\"59.4\",\"緯度\":\"35.6402321\",\"経度\":\"139.6834809\",\"築年\":\"2006.0\",\"予測価格\":\"9.430950000000003\",\"割引率(％),1-価格/予測価格\":\"-141.8\",\"最寄駅\":\"祐天寺駅\",\"最寄駅への所要時間\":\"10\",\"方角\":\"南東\",\"建物構造\":\"コンクリート\",\"コンロ口数\":\"3.0\",\"浴室乾燥機\":\"浴室乾燥機あり\",\"オートロック\":\"オートロックあり\",\"フローリング\":\"フローリング〇\",\"選択物件\":\"周囲の物件 (500m県内) \"},\n",
      "{\"価格(家賃)\":\"7.5\",\"床面積\":\"21.25\",\"緯度\":\"35.6402321\",\"経度\":\"139.6834809\",\"築年\":\"1997.0\",\"予測価格\":\"9.983691666666669\",\"割引率(％),1-価格/予測価格\":\"24.9\",\"最寄駅\":\"祐天寺駅\",\"最寄駅への所要時間\":\"12\",\"方角\":\"南西\",\"建物構造\":\"コンクリート\",\"コンロ口数\":\"1.0\",\"浴室乾燥機\":\"浴室乾燥機なし\",\"オートロック\":\"オートロックあり\",\"フローリング\":\"フローリング〇\",\"選択物件\":\"周囲の物件 (500m県内) \"},\n",
      "{\"価格(家賃)\":\"24.0\",\"床面積\":\"74.0\",\"緯度\":\"35.6437705\",\"経度\":\"139.6813448\",\"築年\":\"2000.0\",\"予測価格\":\"9.43356666666667\",\"割引率(％),1-価格/予測価格\":\"-154.4\",\"最寄駅\":\"三軒茶屋駅\",\"最寄駅への所要時間\":\"15\",\"方角\":\"北東\",\"建物構造\":\"コンクリート\",\"コンロ口数\":\"3.0\",\"浴室乾燥機\":\"浴室乾燥機なし\",\"オートロック\":\"オートロックなし\",\"フローリング\":\"フローリング〇\",\"選択物件\":\"周囲の物件 (500m県内) \"},\n",
      "{\"価格(家賃)\":\"28.0\",\"床面積\":\"99.25\",\"緯度\":\"35.6402321\",\"経度\":\"139.6834809\",\"築年\":\"1997.0\",\"予測価格\":\"9.210900000000004\",\"割引率(％),1-価格/予測価格\":\"-204.0\",\"最寄駅\":\"祐天寺駅\",\"最寄駅への所要時間\":\"7\",\"方角\":\"南東\",\"建物構造\":\"木造\",\"コンロ口数\":\"0.0\",\"浴室乾燥機\":\"浴室乾燥機なし\",\"オートロック\":\"オートロックなし\",\"フローリング\":\"フローリング〇\",\"選択物件\":\"周囲の物件 (500m県内) \"},\n",
      "{\"価格(家賃)\":\"6.5\",\"床面積\":\"16.49\",\"緯度\":\"35.6402321\",\"経度\":\"139.6834809\",\"築年\":\"1990.0\",\"予測価格\":\"11.738149999999997\",\"割引率(％),1-価格/予測価格\":\"44.6\",\"最寄駅\":\"祐天寺駅\",\"最寄駅への所要時間\":\"8\",\"方角\":\"方角不明\",\"建物構造\":\"コンクリート\",\"コンロ口数\":\"1.0\",\"浴室乾燥機\":\"浴室乾燥機なし\",\"オートロック\":\"オートロックあり\",\"フローリング\":\"フローリング〇\",\"選択物件\":\"周囲の物件 (500m県内) \"},\n",
      "{\"価格(家賃)\":\"9.5\",\"床面積\":\"33.2\",\"緯度\":\"35.6402321\",\"経度\":\"139.6834809\",\"築年\":\"1978.0\",\"予測価格\":\"9.898041666666668\",\"割引率(％),1-価格/予測価格\":\"4.0\",\"最寄駅\":\"祐天寺駅\",\"最寄駅への所要時間\":\"9\",\"方角\":\"南\",\"建物構造\":\"コンクリート\",\"コンロ口数\":\"2.0\",\"浴室乾燥機\":\"浴室乾燥機なし\",\"オートロック\":\"オートロックなし\",\"フローリング\":\"フローリング〇\",\"選択物件\":\"周囲の物件 (500m県内) \"},\n",
      "{\"価格(家賃)\":\"8.8\",\"床面積\":\"22.42\",\"緯度\":\"35.6402321\",\"経度\":\"139.6834809\",\"築年\":\"2012.0\",\"予測価格\":\"8.642566666666669\",\"割引率(％),1-価格/予測価格\":\"-1.8\",\"最寄駅\":\"祐天寺駅\",\"最寄駅への所要時間\":\"13\",\"方角\":\"方角不明\",\"建物構造\":\"コンクリート\",\"コンロ口数\":\"0.0\",\"浴室乾燥機\":\"浴室乾燥機なし\",\"オートロック\":\"オートロックなし\",\"フローリング\":\"フローリング〇\",\"選択物件\":\"周囲の物件 (500m県内) \"},\n",
      "{\"価格(家賃)\":\"22.8\",\"床面積\":\"59.4\",\"緯度\":\"35.6402321\",\"経度\":\"139.6834809\",\"築年\":\"2006.0\",\"予測価格\":\"9.784933333333349\",\"割引率(％),1-価格/予測価格\":\"-133.0\",\"最寄駅\":\"祐天寺駅\",\"最寄駅への所要時間\":\"10\",\"方角\":\"南東\",\"建物構造\":\"コンクリート\",\"コンロ口数\":\"3.0\",\"浴室乾燥機\":\"浴室乾燥機あり\",\"オートロック\":\"オートロックあり\",\"フローリング\":\"フローリング〇\",\"選択物件\":\"周囲の物件 (500m県内) \"},\n",
      "{\"価格(家賃)\":\"6.6\",\"床面積\":\"22.65\",\"緯度\":\"35.6402321\",\"経度\":\"139.6834809\",\"築年\":\"1980.0\",\"予測価格\":\"9.39011666666667\",\"割引率(％),1-価格/予測価格\":\"29.7\",\"最寄駅\":\"三軒茶屋駅\",\"最寄駅への所要時間\":\"12\",\"方角\":\"北\",\"建物構造\":\"コンクリート\",\"コンロ口数\":\"コンロ口数不明\",\"浴室乾燥機\":\"浴室乾燥機なし\",\"オートロック\":\"オートロックなし\",\"フローリング\":\"フローリング〇\",\"選択物件\":\"周囲の物件 (500m県内) \"}\n",
      "]\n"
     ]
    }
   ],
   "source": [
    "print(txt_to_render)"
   ]
  },
  {
   "cell_type": "code",
   "execution_count": null,
   "metadata": {
    "collapsed": true
   },
   "outputs": [],
   "source": []
  }
 ],
 "metadata": {
  "kernelspec": {
   "display_name": "Python [conda env:py35]",
   "language": "python",
   "name": "conda-env-py35-py"
  },
  "language_info": {
   "codemirror_mode": {
    "name": "ipython",
    "version": 3
   },
   "file_extension": ".py",
   "mimetype": "text/x-python",
   "name": "python",
   "nbconvert_exporter": "python",
   "pygments_lexer": "ipython3",
   "version": "3.5.4"
  }
 },
 "nbformat": 4,
 "nbformat_minor": 2
}
